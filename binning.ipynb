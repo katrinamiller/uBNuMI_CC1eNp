{
 "cells": [
  {
   "cell_type": "code",
   "execution_count": null,
   "metadata": {},
   "outputs": [],
   "source": [
    "import sys\n",
    "sys.path.insert(0, 'backend_functions')\n",
    "from scipy.stats import norm\n",
    "from matplotlib.colors import LogNorm\n",
    "import xsec_functions\n",
    "\n",
    "import importlib\n",
    "import uproot\n",
    "import numpy as np\n",
    "import math\n",
    "import matplotlib.pyplot as plt\n",
    "import pandas as pd\n",
    "\n",
    "importlib.reload(xsec_functions)\n",
    "from xsec_functions import *\n",
    "\n",
    "import selection_functions\n",
    "import awkward\n",
    "\n",
    "import ROOT\n",
    "\n",
    "from ROOT import TH2D, TH1D, TH1F\n",
    "\n",
    "import top \n",
    "from top import *"
   ]
  },
  {
   "cell_type": "code",
   "execution_count": null,
   "metadata": {},
   "outputs": [],
   "source": [
    "importlib.reload(selection_functions)\n",
    "from selection_functions import *"
   ]
  },
  {
   "cell_type": "code",
   "execution_count": null,
   "metadata": {},
   "outputs": [],
   "source": [
    "fhc_data_pot = parameters(ISRUN3=False)['beamon_pot']\n",
    "rhc_data_pot = parameters(ISRUN3=True)['beamon_pot']"
   ]
  },
  {
   "cell_type": "code",
   "execution_count": null,
   "metadata": {},
   "outputs": [],
   "source": [
    "fold = \"nuselection\"\n",
    "tree = \"NeutrinoSelectionFilter\"\n",
    "\n",
    "fhc_nue = uproot.open(parameters(ISRUN3=False)['full_ntuple_path']+parameters(ISRUN3=False)['NUE']+\".root\")[fold][tree]\n",
    "rhc_nue = uproot.open(parameters(ISRUN3=True)['full_ntuple_path']+parameters(ISRUN3=True)['NUE']+\".root\")[fold][tree]\n",
    "\n",
    "uproot_nue = [fhc_nue, rhc_nue]\n",
    "              "
   ]
  },
  {
   "cell_type": "code",
   "execution_count": null,
   "metadata": {},
   "outputs": [],
   "source": [
    "variables = [\n",
    "    \"selected\", \"nu_pdg\", \n",
    "    \"trk_score_v\", \n",
    "    \"shr_tkfit_dedx_Y\",\n",
    "    \"ccnc\", \n",
    "    \"n_tracks_contained\", \n",
    "    \"NeutrinoEnergy2\",\n",
    "    \"reco_nu_vtx_sce_x\",\"reco_nu_vtx_sce_y\",\"reco_nu_vtx_sce_z\",\n",
    "    \"true_nu_vtx_x\", \"true_nu_vtx_y\" , \"true_nu_vtx_z\", \n",
    "    \"nproton\", \"nu_e\", \"n_showers_contained\",\n",
    "    \"shr_score\", \n",
    "    \"trk_energy\", \"tksh_distance\", \"tksh_angle\",\n",
    "    \"npi0\", \n",
    "    \"shr_energy_tot_cali\", \"shr_energy_cali\", \n",
    "    \"nslice\",\n",
    "    \"contained_fraction\",\n",
    "    \"npion\", \"run\", \n",
    "    \"shrmoliereavg\", \n",
    "    \"shrsubclusters0\",\"shrsubclusters1\",\"shrsubclusters2\", \n",
    "    \"shr_tkfit_npointsvalid\",\"shr_tkfit_npoints\", \"true_e_visible\", \"trkshrhitdist2\", \n",
    "    \"weightSplineTimesTune\", \"weightTune\", \"true_nu_px\", \"true_nu_py\", \"true_nu_pz\", \n",
    "    \"elec_e\", \"proton_e\", \"mc_px\", \"mc_py\", \"mc_pz\", \"elec_px\", \"elec_py\", \"elec_pz\", \n",
    "    \"swtrig_pre\", \"ppfx_cv\", \"mc_pdg\", 'opening_angle']"
   ]
  },
  {
   "cell_type": "code",
   "execution_count": null,
   "metadata": {},
   "outputs": [],
   "source": [
    "fhc_nue = fhc_nue.pandas.df(variables, flatten=False)"
   ]
  },
  {
   "cell_type": "code",
   "execution_count": null,
   "metadata": {},
   "outputs": [],
   "source": [
    "rhc_nue = rhc_nue.pandas.df(variables, flatten=False)"
   ]
  },
  {
   "cell_type": "code",
   "execution_count": null,
   "metadata": {},
   "outputs": [],
   "source": [
    "fhc_nue = addAngles(fhc_nue)\n",
    "rhc_nue = addAngles(rhc_nue)"
   ]
  },
  {
   "cell_type": "code",
   "execution_count": null,
   "metadata": {},
   "outputs": [],
   "source": [
    "\n",
    "df_v = [fhc_nue, rhc_nue]\n",
    "    \n",
    "for i,df in enumerate(df_v):\n",
    "    up = uproot_nue[i]\n",
    "    trk_llr_pid_v = up.array('trk_llr_pid_score_v')\n",
    "    trk_id = up.array('trk_id')-1 # I think we need this -1 to get the right result\n",
    "    trk_llr_pid_v_sel = awkward.fromiter([pidv[tid] if tid<len(pidv) else 9999. for pidv,tid in zip(trk_llr_pid_v,trk_id)])\n",
    "    df['trkpid'] = trk_llr_pid_v_sel\n",
    "    df['subcluster'] = df['shrsubclusters0'] + df['shrsubclusters1'] + df['shrsubclusters2']\n",
    "\n",
    "    df['NeutrinoEnergy2_GeV'] = df['NeutrinoEnergy2']/1000\n",
    "    df['is_signal'] = np.where((df.swtrig_pre == 1) \n",
    "                             & (df.nu_pdg==12) & (df.ccnc==0) & (df.nproton>0) & (df.npion==0) & (df.npi0==0)\n",
    "                             & (10 <= df.true_nu_vtx_x) & (df.true_nu_vtx_x <= 246)\n",
    "                             & (-106 <= df.true_nu_vtx_y) & (df.true_nu_vtx_y <= 106)\n",
    "                             & (10 <= df.true_nu_vtx_z) & (df.true_nu_vtx_z <= 1026), True, False)\n",
    "    \n",
    "    "
   ]
  },
  {
   "cell_type": "code",
   "execution_count": null,
   "metadata": {},
   "outputs": [],
   "source": [
    "# all we care about is signal \n",
    "\n",
    "fhc_signal = fhc_nue.query('swtrig_pre==1 and is_signal==True')\n",
    "rhc_signal = rhc_nue.query('swtrig_pre==1 and is_signal==True')\n",
    "\n",
    "df_v = [fhc_signal, rhc_signal]"
   ]
  },
  {
   "cell_type": "code",
   "execution_count": null,
   "metadata": {},
   "outputs": [],
   "source": [
    "# cuts applied for bad weights \n",
    "\n",
    "for i,df in enumerate(df_v):\n",
    "\n",
    "    df.loc[ df['weightSplineTimesTune'] <= 0, 'weightSplineTimesTune' ] = 1.\n",
    "    df.loc[ df['weightSplineTimesTune'] == np.inf, 'weightSplineTimesTune' ] = 1.\n",
    "    df.loc[ df['weightSplineTimesTune'] > 100, 'weightSplineTimesTune' ] = 1.\n",
    "    df.loc[ np.isnan(df['weightSplineTimesTune']) == True, 'weightSplineTimesTune' ] = 1.\n",
    "\n",
    "    df.loc[ df['weightTune'] <= 0, 'weightTune' ] = 1.\n",
    "    df.loc[ df['weightTune'] == np.inf, 'weightTune' ] = 1.\n",
    "    df.loc[ df['weightTune'] > 100, 'weightTune' ] = 1.\n",
    "    df.loc[ np.isnan(df['weightTune']) == True, 'weightTune' ] = 1.  \n",
    "    \n",
    "    df['totweight_intrinsic'] = df['ppfx_cv']*df['weightSplineTimesTune']\n",
    "    "
   ]
  },
  {
   "cell_type": "code",
   "execution_count": null,
   "metadata": {},
   "outputs": [],
   "source": [
    "fhc_signal = pot_scale(fhc_signal, 'intrinsic', False)\n",
    "rhc_signal = pot_scale(rhc_signal, 'intrinsic', True)"
   ]
  },
  {
   "cell_type": "code",
   "execution_count": null,
   "metadata": {},
   "outputs": [],
   "source": [
    "fhc_signal['totweight_data'] = fhc_signal['ppfx_cv']*fhc_signal['weightSplineTimesTune']*fhc_signal['pot_scale']\n",
    "rhc_signal['totweight_data'] = rhc_signal['ppfx_cv']*rhc_signal['weightSplineTimesTune']*rhc_signal['pot_scale']"
   ]
  },
  {
   "cell_type": "code",
   "execution_count": null,
   "metadata": {},
   "outputs": [],
   "source": []
  },
  {
   "cell_type": "markdown",
   "metadata": {},
   "source": [
    "### apply bdt model"
   ]
  },
  {
   "cell_type": "code",
   "execution_count": null,
   "metadata": {},
   "outputs": [],
   "source": [
    "fhc_signal = fhc_signal.query(BDT_LOOSE_CUTS)\n",
    "rhc_signal = rhc_signal.query(BDT_LOOSE_CUTS)"
   ]
  },
  {
   "cell_type": "code",
   "execution_count": null,
   "metadata": {},
   "outputs": [],
   "source": [
    "print(parameters(ISRUN3=False)['bdt_score_cut'])\n",
    "print(parameters(ISRUN3=True)['bdt_score_cut'])"
   ]
  },
  {
   "cell_type": "code",
   "execution_count": null,
   "metadata": {},
   "outputs": [],
   "source": [
    "# FHC FIRST\n",
    "\n",
    "bdt_model = xgb.Booster({'nthread': 4})\n",
    "bdt_model.load_model(parameters(ISRUN3=False)['bdt_model'])\n",
    "\n",
    "# clean datasets \n",
    "for column in training_parameters:\n",
    "    fhc_signal.loc[(fhc_signal[column] < -1.0e37) | (fhc_signal[column] > 1.0e37), column] = np.nan\n",
    "    \n",
    "# create testing dmatrix \n",
    "fhc_signal_test = xgb.DMatrix(data=fhc_signal[training_parameters])\n",
    "    \n",
    "# apply the bdt selection\n",
    "preds = bdt_model.predict(fhc_signal_test)\n",
    "\n",
    "# add columns for plotting \n",
    "fhc_signal['BDT_score'] = preds"
   ]
  },
  {
   "cell_type": "code",
   "execution_count": null,
   "metadata": {},
   "outputs": [],
   "source": [
    "np.sum(fhc_signal.query(BDT_LOOSE_CUTS+' and BDT_score>'+str(parameters(ISRUN3=False)['bdt_score_cut'])).totweight_data)"
   ]
  },
  {
   "cell_type": "code",
   "execution_count": null,
   "metadata": {},
   "outputs": [],
   "source": [
    "# NOW DO RHC \n",
    "\n",
    "bdt_model = xgb.Booster({'nthread': 4})\n",
    "bdt_model.load_model(parameters(ISRUN3=False)['bdt_model'])\n",
    "\n",
    "# clean datasets \n",
    "for column in training_parameters:\n",
    "    rhc_signal.loc[(rhc_signal[column] < -1.0e37) | (rhc_signal[column] > 1.0e37), column] = np.nan\n",
    "    \n",
    "# create testing dmatrix \n",
    "rhc_signal_test = xgb.DMatrix(data=rhc_signal[training_parameters])\n",
    "    \n",
    "# apply the bdt selection\n",
    "preds = bdt_model.predict(rhc_signal_test)\n",
    "\n",
    "# add columns for plotting \n",
    "rhc_signal['BDT_score'] = preds\n",
    "\n",
    "sum(rhc_signal.query(BDT_LOOSE_CUTS+' and BDT_score>'+str(parameters(ISRUN3=True)['bdt_score_cut'])).totweight_data)"
   ]
  },
  {
   "cell_type": "markdown",
   "metadata": {},
   "source": [
    "### Play with binning"
   ]
  },
  {
   "cell_type": "code",
   "execution_count": null,
   "metadata": {},
   "outputs": [],
   "source": [
    "fhc_selected_signal = fhc_signal.query(BDT_LOOSE_CUTS+' and BDT_score>'+str(parameters(ISRUN3=False)['bdt_score_cut']))\n",
    "rhc_selected_signal = rhc_signal.query(BDT_LOOSE_CUTS+' and BDT_score>'+str(parameters(ISRUN3=True)['bdt_score_cut']))"
   ]
  },
  {
   "cell_type": "code",
   "execution_count": null,
   "metadata": {},
   "outputs": [],
   "source": [
    "importlib.reload(xsec_functions)\n",
    "from xsec_functions import *"
   ]
  },
  {
   "cell_type": "code",
   "execution_count": null,
   "metadata": {},
   "outputs": [],
   "source": [
    "xvar = 'tksh_angle'\n",
    "true_var = 'opening_angle'"
   ]
  },
  {
   "cell_type": "code",
   "execution_count": null,
   "metadata": {},
   "outputs": [],
   "source": []
  },
  {
   "cell_type": "code",
   "execution_count": null,
   "metadata": {},
   "outputs": [],
   "source": [
    "## detector resolution \n",
    "\n",
    "# fhc \n",
    "true_reco_res(true_var, xvar, fhc_selected_signal, ISRUN3=False, ymax=None, save=False)\n",
    "\n",
    "# rhc \n",
    "true_reco_res(true_var, xvar, rhc_selected_signal, ISRUN3=True, ymax=None, save=False)\n"
   ]
  },
  {
   "cell_type": "code",
   "execution_count": null,
   "metadata": {},
   "outputs": [],
   "source": [
    "#shower energy\n",
    "#[0.07, 0.26, 0.45, 0.64, 0.83, 1.02, 1.4, 4.60] # update to even out the last bin (go as far as truth level?)\n",
    "\n",
    "# visible energy \n",
    "#bins = [0.09, 0.36, 0.56, 0.76, 0.96, 1.16, 1.36, 1.65, 2.25, 6.5]\n",
    "\n",
    "# tksh_angle\n",
    "\n"
   ]
  },
  {
   "cell_type": "code",
   "execution_count": null,
   "metadata": {},
   "outputs": [],
   "source": []
  },
  {
   "cell_type": "code",
   "execution_count": null,
   "metadata": {},
   "outputs": [],
   "source": [
    "# min & max reco/truth values \n",
    "\n",
    "bins = [-1, np.cos(3*np.pi/4), np.cos(5*np.pi/8), 0, np.cos(3*np.pi/8), np.cos(np.pi/4), 1]\n",
    "\n",
    "fig = plt.figure(figsize=(8, 5))\n",
    "\n",
    "\n",
    "\n",
    "x = plt.hist([fhc_selected_signal[xvar], rhc_selected_signal[xvar]], bins, color=['orange', 'peru'], \n",
    "         weights=[fhc_selected_signal['totweight_data'], rhc_selected_signal['totweight_data']], \n",
    "                  label=['FHC ($2\\\\times10^{20}$ POT)', 'RHC ($5\\\\times10^{20}$ POT)'], stacked=True)\n",
    "\n",
    "plt.legend(fontsize=14, loc='upper left')\n",
    "#plt.title(\"FHC RUN 1 (\"+str(fhc_data_pot)+' POT)', fontsize=15)\n",
    "\n",
    "plt.xlabel(\"$cos$ $\\\\theta_{ep}$\", fontsize=15)\n",
    "plt.ylabel(\"Signal event rate\", fontsize=15)\n",
    "\n",
    "plt.xticks(bins)\n",
    "plt.ylim(0, 50)\n",
    "\n",
    "plt.show()"
   ]
  },
  {
   "cell_type": "code",
   "execution_count": null,
   "metadata": {},
   "outputs": [],
   "source": [
    "[-1, -0.5, np.cos(95*np.pi/180), np.cos(85*np.pi/180), 0.5, 1]"
   ]
  },
  {
   "cell_type": "code",
   "execution_count": null,
   "metadata": {},
   "outputs": [],
   "source": [
    "# min & max reco/truth values \n",
    "\n",
    "bins = [-1, -0.5, np.cos(95*np.pi/180), np.cos(85*np.pi/180), 0.5, 1]\n",
    "\n",
    "fig = plt.figure(figsize=(8, 5))\n",
    "\n",
    "\n",
    "\n",
    "x = plt.hist([fhc_selected_signal[xvar], rhc_selected_signal[xvar]], bins, color=['orange', 'peru'], \n",
    "         weights=[fhc_selected_signal['totweight_data'], rhc_selected_signal['totweight_data']], \n",
    "                  label=['FHC ($2\\\\times10^{20}$ POT)', 'RHC ($5\\\\times10^{20}$ POT)'], stacked=True)\n",
    "\n",
    "plt.legend(fontsize=14, loc='upper left')\n",
    "#plt.title(\"FHC RUN 1 (\"+str(fhc_data_pot)+' POT)', fontsize=15)\n",
    "\n",
    "plt.xlabel(\"$cos$ $\\\\theta_{ep}$\", fontsize=15)\n",
    "plt.ylabel(\"Signal event rate\", fontsize=15)\n",
    "\n",
    "plt.xticks(bins)\n",
    "plt.ylim(0, 50)\n",
    "\n",
    "plt.show()"
   ]
  },
  {
   "cell_type": "code",
   "execution_count": null,
   "metadata": {},
   "outputs": [],
   "source": [
    "# min & max reco/truth values \n",
    "\n",
    "#bins = [-1, -0.7, -0.42, -0.14, 0.14, 0.42, 0.7, 1]\n",
    "bins = [-1, -0.5, np.cos(100 * np.pi/180), np.cos(80 * np.pi/180), 0.5, 1]\n",
    "\n",
    "fig = plt.figure(figsize=(8, 5))\n",
    "\n",
    "\n",
    "\n",
    "x = plt.hist([fhc_selected_signal[xvar], rhc_selected_signal[xvar]], bins, color=['orange', 'peru'], \n",
    "         weights=[fhc_selected_signal['totweight_data'], rhc_selected_signal['totweight_data']], \n",
    "                  label=['FHC ($2\\\\times10^{20}$ POT)', 'RHC ($5\\\\times10^{20}$ POT)'], stacked=True)\n",
    "\n",
    "plt.legend(fontsize=14, loc='upper left')\n",
    "#plt.title(\"FHC RUN 1 (\"+str(fhc_data_pot)+' POT)', fontsize=15)\n",
    "\n",
    "plt.xlabel(\"$cos$ $\\\\theta_{ep}$\", fontsize=15)\n",
    "plt.ylabel(\"Signal event rate\", fontsize=15)\n",
    "\n",
    "plt.xticks(bins)\n",
    "plt.ylim(0, 50)\n",
    "\n",
    "plt.show()\n",
    "\n"
   ]
  },
  {
   "cell_type": "code",
   "execution_count": null,
   "metadata": {},
   "outputs": [],
   "source": [
    "bins"
   ]
  },
  {
   "cell_type": "code",
   "execution_count": null,
   "metadata": {
    "jupyter": {
     "source_hidden": true
    }
   },
   "outputs": [],
   "source": [
    "xvar='NeutrinoEnergy2_GeV'\n",
    "#bins = [0.05, 0.45, 0.65, 0.85, 1.05, 1.25, 1.65, 2.25, 7]\n",
    "bins = [0.05, 0.45, 0.65, 0.85, 1.05, 1.35, 1.85, 7]\n",
    "\n",
    "fig = plt.figure(figsize=(8, 5))\n",
    "\n",
    "fhc_reco = plt.hist(fhc_selected_signal[xvar], bins, color='orange', \n",
    "         weights=fhc_selected_signal['totweight_data'], label='reco FHC')[0]\n",
    "\n",
    "#fhc_true = plt.hist(fhc_selected_signal[true_var], bins, \n",
    "#         weights=fhc_selected_signal['totweight_data'], \n",
    "#         color='saddlebrown', label='true FHC', histtype='step', linewidth=2, linestyle='--')[0]\n",
    "\n",
    "plt.legend(fontsize=14)\n",
    "\n",
    "\n",
    "#plt.xlabel(\"$cos$ $\\\\theta_{ep}$\", fontsize=15)\n",
    "plt.ylabel(\"Signal event rate\", fontsize=15)\n",
    "#plt.xticks(bins)\n",
    "\n",
    "plt.show()\n",
    "\n",
    "fig = plt.figure(figsize=(8, 5))\n",
    "\n",
    "rhc_reco = plt.hist(rhc_selected_signal[xvar], bins, color='orange', \n",
    "         weights=rhc_selected_signal['totweight_data'], label='reco RHC')[0]\n",
    "\n",
    "#rhc_true = plt.hist(rhc_selected_signal[true_var], bins, \n",
    "#         weights=rhc_selected_signal['totweight_data'], \n",
    "#         color='saddlebrown', label='true RHC', histtype='step', linewidth=2, linestyle='--')[0]\n",
    "\n",
    "plt.legend(fontsize=14)\n",
    "\n",
    "#plt.xlabel(\"$cos$ $\\\\theta_{ep}$\", fontsize=15)\n",
    "plt.ylabel(\"Signal event rate\", fontsize=15)\n",
    "#plt.xticks(bins)\n",
    "\n",
    "\n",
    "plt.show()\n",
    "\n",
    "fhc_reco+rhc_reco"
   ]
  },
  {
   "cell_type": "code",
   "execution_count": null,
   "metadata": {
    "jupyter": {
     "source_hidden": true
    }
   },
   "outputs": [],
   "source": [
    "rhc_reco\n",
    "\n"
   ]
  },
  {
   "cell_type": "code",
   "execution_count": null,
   "metadata": {},
   "outputs": [],
   "source": []
  },
  {
   "cell_type": "code",
   "execution_count": null,
   "metadata": {},
   "outputs": [],
   "source": [
    "## smearing matrix \n",
    "fig = plt.figure(figsize=(11, 8))\n",
    "\n",
    "hout = plt.hist2d(fhc_selected_signal[true_var], fhc_selected_signal[xvar], [0.07, 0.26, 0.45, 0.64, 0.83, 1.02, 1.4, 4.5], \n",
    "                              weights=fhc_selected_signal.totweight_data, cmap='OrRd', cmin=0.01)\n",
    "\n",
    "smear_array = hout[0].T\n",
    "\n",
    "for i in range(len(bins)-1): # reco bins i (y axis)\n",
    "        for j in range(len(bins)-1): # true bins j (x axis)\n",
    "            if smear_array[i][j]>7: \n",
    "                col='white'\n",
    "            else: \n",
    "                col='black'\n",
    "\n",
    "            binx_centers = hout[1][j]+(hout[1][j+1]-hout[1][j])/2\n",
    "            biny_centers = hout[2][i]+(hout[2][i+1]-hout[2][i])/2\n",
    "\n",
    "            if not np.isnan(smear_array[i][j]):\n",
    "                plt.text(binx_centers, biny_centers, round(smear_array[i][j], 1), \n",
    "                            color=col, ha=\"center\", va=\"center\", fontsize=12)\n",
    "                \n",
    "                \n",
    "plt.xticks(fontsize=14)\n",
    "plt.yticks(fontsize=14)\n",
    "\n",
    "cbar = plt.colorbar()\n",
    "#cbar.set_label('$\\\\nu$ / '+pot+' POT', fontsize=15)\n",
    "\n",
    "plt.xlabel('True Electron Energy [GeV]', fontsize=15)\n",
    "plt.ylabel('Reco Electron Energy [GeV]', fontsize=15)\n",
    "\n",
    "#plt.title(title+' - Smearing '+str(parameters(isrun3)['beamon_pot'])+' POT', fontsize=15)\n",
    "\n",
    "cbar.ax.tick_params(labelsize=14)\n",
    "plt.show()\n"
   ]
  },
  {
   "cell_type": "code",
   "execution_count": null,
   "metadata": {},
   "outputs": [],
   "source": [
    "print('min reco', min(fhc_selected_signal[xvar]))\n",
    "print('max reco', max(fhc_selected_signal[xvar]))\n",
    "\n",
    "print('min true', min(fhc_selected_signal[true_var]))\n",
    "print('max true', max(fhc_selected_signal[true_var]))"
   ]
  },
  {
   "cell_type": "code",
   "execution_count": null,
   "metadata": {},
   "outputs": [],
   "source": [
    "\n",
    "print('min reco', min(rhc_selected_signal[xvar]))\n",
    "print('max reco', max(rhc_selected_signal[xvar]))\n",
    "\n",
    "print('min true', min(rhc_selected_signal[true_var]))\n",
    "print('max true', max(rhc_selected_signal[true_var]))\n"
   ]
  },
  {
   "cell_type": "code",
   "execution_count": null,
   "metadata": {},
   "outputs": [],
   "source": []
  }
 ],
 "metadata": {
  "kernelspec": {
   "display_name": "Python 3",
   "language": "python",
   "name": "python3"
  },
  "language_info": {
   "codemirror_mode": {
    "name": "ipython",
    "version": 3
   },
   "file_extension": ".py",
   "mimetype": "text/x-python",
   "name": "python",
   "nbconvert_exporter": "python",
   "pygments_lexer": "ipython3",
   "version": "3.7.3"
  }
 },
 "nbformat": 4,
 "nbformat_minor": 4
}
