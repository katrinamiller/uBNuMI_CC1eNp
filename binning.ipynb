{
 "cells": [
  {
   "cell_type": "code",
   "execution_count": 1,
   "metadata": {},
   "outputs": [
    {
     "name": "stdout",
     "output_type": "stream",
     "text": [
      "Welcome to JupyROOT 6.18/00\n"
     ]
    }
   ],
   "source": [
    "import sys\n",
    "sys.path.insert(0, 'backend_functions')\n",
    "from scipy.stats import norm\n",
    "from matplotlib.colors import LogNorm\n",
    "import xsec_functions\n",
    "\n",
    "import importlib\n",
    "import uproot\n",
    "import numpy as np\n",
    "import math\n",
    "import matplotlib.pyplot as plt\n",
    "import pandas as pd\n",
    "\n",
    "importlib.reload(xsec_functions)\n",
    "from xsec_functions import *\n",
    "\n",
    "import selection_functions\n",
    "import awkward\n",
    "\n",
    "import ROOT\n",
    "\n",
    "from ROOT import TH2D, TH1D, TH1F\n",
    "\n",
    "import top \n",
    "from top import *"
   ]
  },
  {
   "cell_type": "code",
   "execution_count": 2,
   "metadata": {},
   "outputs": [],
   "source": [
    "importlib.reload(selection_functions)\n",
    "from selection_functions import *"
   ]
  },
  {
   "cell_type": "code",
   "execution_count": 3,
   "metadata": {},
   "outputs": [],
   "source": [
    "fhc_data_pot = parameters(ISRUN3=False)['beamon_pot']\n",
    "rhc_data_pot = parameters(ISRUN3=True)['beamon_pot']"
   ]
  },
  {
   "cell_type": "code",
   "execution_count": 4,
   "metadata": {},
   "outputs": [],
   "source": [
    "fold = \"nuselection\"\n",
    "tree = \"NeutrinoSelectionFilter\"\n",
    "\n",
    "fhc_nue = uproot.open(parameters(ISRUN3=False)['full_ntuple_path']+parameters(ISRUN3=False)['NUE']+\".root\")[fold][tree]\n",
    "rhc_nue = uproot.open(parameters(ISRUN3=True)['full_ntuple_path']+parameters(ISRUN3=True)['NUE']+\".root\")[fold][tree]\n",
    "\n",
    "uproot_nue = [fhc_nue, rhc_nue]\n",
    "              "
   ]
  },
  {
   "cell_type": "code",
   "execution_count": 5,
   "metadata": {},
   "outputs": [],
   "source": [
    "variables = [\n",
    "    \"selected\", \"nu_pdg\", \n",
    "    \"trk_score_v\", \n",
    "    \"shr_tkfit_dedx_Y\",\n",
    "    \"ccnc\", \n",
    "    \"n_tracks_contained\", \n",
    "    \"NeutrinoEnergy2\",\n",
    "    \"reco_nu_vtx_sce_x\",\"reco_nu_vtx_sce_y\",\"reco_nu_vtx_sce_z\",\n",
    "    \"true_nu_vtx_x\", \"true_nu_vtx_y\" , \"true_nu_vtx_z\", \n",
    "    \"nproton\", \"nu_e\", \"n_showers_contained\",\n",
    "    \"shr_score\", \n",
    "    \"trk_energy\", \"tksh_distance\", \"tksh_angle\",\n",
    "    \"npi0\", \n",
    "    \"shr_energy_tot_cali\", \"shr_energy_cali\", \n",
    "    \"nslice\",\n",
    "    \"contained_fraction\",\n",
    "    \"npion\", \"run\", \n",
    "    \"shrmoliereavg\", \n",
    "    \"shrsubclusters0\",\"shrsubclusters1\",\"shrsubclusters2\", \n",
    "    \"shr_tkfit_npointsvalid\",\"shr_tkfit_npoints\", \"true_e_visible\", \"trkshrhitdist2\", \n",
    "    \"weightSplineTimesTune\", \"weightTune\", \"true_nu_px\", \"true_nu_py\", \"true_nu_pz\", \n",
    "    \"elec_e\", \"proton_e\", \"mc_px\", \"mc_py\", \"mc_pz\", \"elec_px\", \"elec_py\", \"elec_pz\", \n",
    "    \"swtrig_pre\", \"ppfx_cv\", \"mc_pdg\", 'opening_angle']"
   ]
  },
  {
   "cell_type": "code",
   "execution_count": 6,
   "metadata": {},
   "outputs": [],
   "source": [
    "fhc_nue = fhc_nue.pandas.df(variables, flatten=False)"
   ]
  },
  {
   "cell_type": "code",
   "execution_count": 7,
   "metadata": {},
   "outputs": [],
   "source": [
    "rhc_nue = rhc_nue.pandas.df(variables, flatten=False)"
   ]
  },
  {
   "cell_type": "code",
   "execution_count": 8,
   "metadata": {},
   "outputs": [],
   "source": [
    "fhc_nue = addAngles(fhc_nue)\n",
    "rhc_nue = addAngles(rhc_nue)"
   ]
  },
  {
   "cell_type": "code",
   "execution_count": 9,
   "metadata": {},
   "outputs": [],
   "source": [
    "\n",
    "df_v = [fhc_nue, rhc_nue]\n",
    "    \n",
    "for i,df in enumerate(df_v):\n",
    "    up = uproot_nue[i]\n",
    "    trk_llr_pid_v = up.array('trk_llr_pid_score_v')\n",
    "    trk_id = up.array('trk_id')-1 # I think we need this -1 to get the right result\n",
    "    trk_llr_pid_v_sel = awkward.fromiter([pidv[tid] if tid<len(pidv) else 9999. for pidv,tid in zip(trk_llr_pid_v,trk_id)])\n",
    "    df['trkpid'] = trk_llr_pid_v_sel\n",
    "    df['subcluster'] = df['shrsubclusters0'] + df['shrsubclusters1'] + df['shrsubclusters2']\n",
    "\n",
    "    df['NeutrinoEnergy2_GeV'] = df['NeutrinoEnergy2']/1000\n",
    "    df['is_signal'] = np.where((df.swtrig_pre == 1) \n",
    "                             & (df.nu_pdg==12) & (df.ccnc==0) & (df.nproton>0) & (df.npion==0) & (df.npi0==0)\n",
    "                             & (10 <= df.true_nu_vtx_x) & (df.true_nu_vtx_x <= 246)\n",
    "                             & (-106 <= df.true_nu_vtx_y) & (df.true_nu_vtx_y <= 106)\n",
    "                             & (10 <= df.true_nu_vtx_z) & (df.true_nu_vtx_z <= 1026), True, False)\n",
    "    \n",
    "    "
   ]
  },
  {
   "cell_type": "code",
   "execution_count": 10,
   "metadata": {},
   "outputs": [],
   "source": [
    "# all we care about is signal \n",
    "\n",
    "fhc_signal = fhc_nue.query('swtrig_pre==1 and is_signal==True')\n",
    "rhc_signal = rhc_nue.query('swtrig_pre==1 and is_signal==True')\n",
    "\n",
    "df_v = [fhc_signal, rhc_signal]"
   ]
  },
  {
   "cell_type": "code",
   "execution_count": 11,
   "metadata": {},
   "outputs": [
    {
     "name": "stderr",
     "output_type": "stream",
     "text": [
      "/uboone/app/users/kmiller/miniconda/lib/python3.7/site-packages/pandas/core/indexing.py:494: SettingWithCopyWarning: \n",
      "A value is trying to be set on a copy of a slice from a DataFrame.\n",
      "Try using .loc[row_indexer,col_indexer] = value instead\n",
      "\n",
      "See the caveats in the documentation: http://pandas.pydata.org/pandas-docs/stable/user_guide/indexing.html#returning-a-view-versus-a-copy\n",
      "  self.obj[item] = s\n",
      "/uboone/app/users/kmiller/miniconda/lib/python3.7/site-packages/ipykernel_launcher.py:15: SettingWithCopyWarning: \n",
      "A value is trying to be set on a copy of a slice from a DataFrame.\n",
      "Try using .loc[row_indexer,col_indexer] = value instead\n",
      "\n",
      "See the caveats in the documentation: http://pandas.pydata.org/pandas-docs/stable/user_guide/indexing.html#returning-a-view-versus-a-copy\n",
      "  from ipykernel import kernelapp as app\n"
     ]
    }
   ],
   "source": [
    "# cuts applied for bad weights \n",
    "\n",
    "for i,df in enumerate(df_v):\n",
    "\n",
    "    df.loc[ df['weightSplineTimesTune'] <= 0, 'weightSplineTimesTune' ] = 1.\n",
    "    df.loc[ df['weightSplineTimesTune'] == np.inf, 'weightSplineTimesTune' ] = 1.\n",
    "    df.loc[ df['weightSplineTimesTune'] > 100, 'weightSplineTimesTune' ] = 1.\n",
    "    df.loc[ np.isnan(df['weightSplineTimesTune']) == True, 'weightSplineTimesTune' ] = 1.\n",
    "\n",
    "    df.loc[ df['weightTune'] <= 0, 'weightTune' ] = 1.\n",
    "    df.loc[ df['weightTune'] == np.inf, 'weightTune' ] = 1.\n",
    "    df.loc[ df['weightTune'] > 100, 'weightTune' ] = 1.\n",
    "    df.loc[ np.isnan(df['weightTune']) == True, 'weightTune' ] = 1.  \n",
    "    \n",
    "    df['totweight_intrinsic'] = df['ppfx_cv']*df['weightSplineTimesTune']\n",
    "    "
   ]
  },
  {
   "cell_type": "code",
   "execution_count": 12,
   "metadata": {},
   "outputs": [
    {
     "name": "stdout",
     "output_type": "stream",
     "text": [
      "Adding pot_scale column using dirt & EXT tune....\n",
      "Adding pot_scale column using dirt & EXT tune....\n"
     ]
    }
   ],
   "source": [
    "fhc_signal = pot_scale(fhc_signal, 'intrinsic', False)\n",
    "rhc_signal = pot_scale(rhc_signal, 'intrinsic', True)"
   ]
  },
  {
   "cell_type": "code",
   "execution_count": 13,
   "metadata": {},
   "outputs": [],
   "source": [
    "fhc_signal['totweight_data'] = fhc_signal['ppfx_cv']*fhc_signal['weightSplineTimesTune']*fhc_signal['pot_scale']\n",
    "rhc_signal['totweight_data'] = rhc_signal['ppfx_cv']*rhc_signal['weightSplineTimesTune']*rhc_signal['pot_scale']"
   ]
  },
  {
   "cell_type": "code",
   "execution_count": null,
   "metadata": {},
   "outputs": [],
   "source": []
  },
  {
   "cell_type": "markdown",
   "metadata": {},
   "source": [
    "### apply bdt model"
   ]
  },
  {
   "cell_type": "code",
   "execution_count": 14,
   "metadata": {},
   "outputs": [],
   "source": [
    "fhc_signal = fhc_signal.query(BDT_LOOSE_CUTS)\n",
    "rhc_signal = rhc_signal.query(BDT_LOOSE_CUTS)"
   ]
  },
  {
   "cell_type": "code",
   "execution_count": 15,
   "metadata": {},
   "outputs": [
    {
     "name": "stdout",
     "output_type": "stream",
     "text": [
      "0.55\n",
      "0.575\n"
     ]
    }
   ],
   "source": [
    "print(parameters(ISRUN3=False)['bdt_score_cut'])\n",
    "print(parameters(ISRUN3=True)['bdt_score_cut'])"
   ]
  },
  {
   "cell_type": "code",
   "execution_count": 16,
   "metadata": {},
   "outputs": [],
   "source": [
    "# FHC FIRST\n",
    "\n",
    "bdt_model = xgb.Booster({'nthread': 4})\n",
    "bdt_model.load_model(parameters(ISRUN3=False)['bdt_model'])\n",
    "\n",
    "# clean datasets \n",
    "for column in training_parameters:\n",
    "    fhc_signal.loc[(fhc_signal[column] < -1.0e37) | (fhc_signal[column] > 1.0e37), column] = np.nan\n",
    "    \n",
    "# create testing dmatrix \n",
    "fhc_signal_test = xgb.DMatrix(data=fhc_signal[training_parameters])\n",
    "    \n",
    "# apply the bdt selection\n",
    "preds = bdt_model.predict(fhc_signal_test)\n",
    "\n",
    "# add columns for plotting \n",
    "fhc_signal['BDT_score'] = preds"
   ]
  },
  {
   "cell_type": "code",
   "execution_count": 17,
   "metadata": {},
   "outputs": [
    {
     "data": {
      "text/plain": [
       "59.45244421334784"
      ]
     },
     "execution_count": 17,
     "metadata": {},
     "output_type": "execute_result"
    }
   ],
   "source": [
    "np.sum(fhc_signal.query(BDT_LOOSE_CUTS+' and BDT_score>'+str(parameters(ISRUN3=False)['bdt_score_cut'])).totweight_data)"
   ]
  },
  {
   "cell_type": "code",
   "execution_count": 18,
   "metadata": {},
   "outputs": [
    {
     "data": {
      "text/plain": [
       "100.41680902736584"
      ]
     },
     "execution_count": 18,
     "metadata": {},
     "output_type": "execute_result"
    }
   ],
   "source": [
    "# NOW DO RHC \n",
    "\n",
    "bdt_model = xgb.Booster({'nthread': 4})\n",
    "bdt_model.load_model(parameters(ISRUN3=False)['bdt_model'])\n",
    "\n",
    "# clean datasets \n",
    "for column in training_parameters:\n",
    "    rhc_signal.loc[(rhc_signal[column] < -1.0e37) | (rhc_signal[column] > 1.0e37), column] = np.nan\n",
    "    \n",
    "# create testing dmatrix \n",
    "rhc_signal_test = xgb.DMatrix(data=rhc_signal[training_parameters])\n",
    "    \n",
    "# apply the bdt selection\n",
    "preds = bdt_model.predict(rhc_signal_test)\n",
    "\n",
    "# add columns for plotting \n",
    "rhc_signal['BDT_score'] = preds\n",
    "\n",
    "sum(rhc_signal.query(BDT_LOOSE_CUTS+' and BDT_score>'+str(parameters(ISRUN3=True)['bdt_score_cut'])).totweight_data)"
   ]
  },
  {
   "cell_type": "markdown",
   "metadata": {},
   "source": [
    "### Play with binning"
   ]
  },
  {
   "cell_type": "code",
   "execution_count": 19,
   "metadata": {},
   "outputs": [],
   "source": [
    "fhc_selected_signal = fhc_signal.query(BDT_LOOSE_CUTS+' and BDT_score>'+str(parameters(ISRUN3=False)['bdt_score_cut']))\n",
    "rhc_selected_signal = rhc_signal.query(BDT_LOOSE_CUTS+' and BDT_score>'+str(parameters(ISRUN3=True)['bdt_score_cut']))"
   ]
  },
  {
   "cell_type": "code",
   "execution_count": 20,
   "metadata": {},
   "outputs": [],
   "source": [
    "importlib.reload(xsec_functions)\n",
    "from xsec_functions import *"
   ]
  },
  {
   "cell_type": "code",
   "execution_count": 21,
   "metadata": {},
   "outputs": [],
   "source": [
    "xvar = 'NeutrinoEnergy2_GeV'\n",
    "true_var = 'true_e_visible'"
   ]
  },
  {
   "cell_type": "code",
   "execution_count": null,
   "metadata": {},
   "outputs": [],
   "source": []
  },
  {
   "cell_type": "code",
   "execution_count": 22,
   "metadata": {},
   "outputs": [
    {
     "name": "stdout",
     "output_type": "stream",
     "text": [
      "normalizing to POT 2e+20\n"
     ]
    },
    {
     "data": {
      "image/png": "[encoded data removed]",
      "text/plain": [
       "<Figure size 576x360 with 1 Axes>"
      ]
     },
     "metadata": {
      "needs_background": "light"
     },
     "output_type": "display_data"
    },
    {
     "name": "stdout",
     "output_type": "stream",
     "text": [
      "normalizing to POT 5.014e+20\n"
     ]
    },
    {
     "data": {
      "image/png": "[encoded data removed]",
      "text/plain": [
       "<Figure size 576x360 with 1 Axes>"
      ]
     },
     "metadata": {
      "needs_background": "light"
     },
     "output_type": "display_data"
    }
   ],
   "source": [
    "## detector resolution \n",
    "\n",
    "# fhc \n",
    "true_reco_res(true_var, xvar, fhc_selected_signal, ISRUN3=False, ymax=None, save=False)\n",
    "\n",
    "# rhc \n",
    "true_reco_res(true_var, xvar, rhc_selected_signal, ISRUN3=True, ymax=None, save=False)\n"
   ]
  },
  {
   "cell_type": "code",
   "execution_count": null,
   "metadata": {},
   "outputs": [],
   "source": [
    "#shower energy\n",
    "#[0.07, 0.26, 0.45, 0.64, 0.83, 1.02, 1.4, 4.60] # update to even out the last bin (go as far as truth level?)\n",
    "\n",
    "# visible energy \n",
    "#bins = [0.09, 0.36, 0.56, 0.76, 0.96, 1.16, 1.36, 1.65, 2.25, 6.5]\n",
    "\n",
    "# tksh_angle\n",
    "\n"
   ]
  },
  {
   "cell_type": "code",
   "execution_count": null,
   "metadata": {},
   "outputs": [],
   "source": []
  },
  {
   "cell_type": "code",
   "execution_count": null,
   "metadata": {},
   "outputs": [],
   "source": [
    "# min & max reco/truth values \n",
    "\n",
    "bins = [-1, np.cos(3*np.pi/4), np.cos(5*np.pi/8), 0, np.cos(3*np.pi/8), np.cos(np.pi/4), 1]\n",
    "\n",
    "fig = plt.figure(figsize=(8, 5))\n",
    "\n",
    "\n",
    "\n",
    "x = plt.hist([fhc_selected_signal[xvar], rhc_selected_signal[xvar]], bins, color=['orange', 'peru'], \n",
    "         weights=[fhc_selected_signal['totweight_data'], rhc_selected_signal['totweight_data']], \n",
    "                  label=['FHC ($2\\\\times10^{20}$ POT)', 'RHC ($5\\\\times10^{20}$ POT)'], stacked=True)\n",
    "\n",
    "plt.legend(fontsize=14, loc='upper left')\n",
    "#plt.title(\"FHC RUN 1 (\"+str(fhc_data_pot)+' POT)', fontsize=15)\n",
    "\n",
    "plt.xlabel(\"$cos$ $\\\\theta_{ep}$\", fontsize=15)\n",
    "plt.ylabel(\"Signal event rate\", fontsize=15)\n",
    "\n",
    "plt.xticks(bins)\n",
    "plt.ylim(0, 50)\n",
    "\n",
    "plt.show()"
   ]
  },
  {
   "cell_type": "code",
   "execution_count": null,
   "metadata": {},
   "outputs": [],
   "source": [
    "[-1, -0.5, np.cos(95*np.pi/180), np.cos(85*np.pi/180), 0.5, 1]"
   ]
  },
  {
   "cell_type": "code",
   "execution_count": null,
   "metadata": {},
   "outputs": [],
   "source": [
    "# min & max reco/truth values \n",
    "\n",
    "bins = [-1, -0.5, np.cos(95*np.pi/180), np.cos(85*np.pi/180), 0.5, 1]\n",
    "\n",
    "fig = plt.figure(figsize=(8, 5))\n",
    "\n",
    "\n",
    "\n",
    "x = plt.hist([fhc_selected_signal[xvar], rhc_selected_signal[xvar]], bins, color=['orange', 'peru'], \n",
    "         weights=[fhc_selected_signal['totweight_data'], rhc_selected_signal['totweight_data']], \n",
    "                  label=['FHC ($2\\\\times10^{20}$ POT)', 'RHC ($5\\\\times10^{20}$ POT)'], stacked=True)\n",
    "\n",
    "plt.legend(fontsize=14, loc='upper left')\n",
    "#plt.title(\"FHC RUN 1 (\"+str(fhc_data_pot)+' POT)', fontsize=15)\n",
    "\n",
    "plt.xlabel(\"$cos$ $\\\\theta_{ep}$\", fontsize=15)\n",
    "plt.ylabel(\"Signal event rate\", fontsize=15)\n",
    "\n",
    "plt.xticks(bins)\n",
    "plt.ylim(0, 50)\n",
    "\n",
    "plt.show()"
   ]
  },
  {
   "cell_type": "code",
   "execution_count": null,
   "metadata": {},
   "outputs": [],
   "source": [
    "# min & max reco/truth values \n",
    "\n",
    "#bins = [-1, -0.7, -0.42, -0.14, 0.14, 0.42, 0.7, 1]\n",
    "bins = [-1, -0.5, np.cos(100 * np.pi/180), np.cos(80 * np.pi/180), 0.5, 1]\n",
    "\n",
    "fig = plt.figure(figsize=(8, 5))\n",
    "\n",
    "\n",
    "\n",
    "x = plt.hist([fhc_selected_signal[xvar], rhc_selected_signal[xvar]], bins, color=['orange', 'peru'], \n",
    "         weights=[fhc_selected_signal['totweight_data'], rhc_selected_signal['totweight_data']], \n",
    "                  label=['FHC ($2\\\\times10^{20}$ POT)', 'RHC ($5\\\\times10^{20}$ POT)'], stacked=True)\n",
    "\n",
    "plt.legend(fontsize=14, loc='upper left')\n",
    "#plt.title(\"FHC RUN 1 (\"+str(fhc_data_pot)+' POT)', fontsize=15)\n",
    "\n",
    "plt.xlabel(\"$cos$ $\\\\theta_{ep}$\", fontsize=15)\n",
    "plt.ylabel(\"Signal event rate\", fontsize=15)\n",
    "\n",
    "plt.xticks(bins)\n",
    "plt.ylim(0, 50)\n",
    "\n",
    "plt.show()\n",
    "\n"
   ]
  },
  {
   "cell_type": "code",
   "execution_count": null,
   "metadata": {},
   "outputs": [],
   "source": [
    "bins"
   ]
  },
  {
   "cell_type": "code",
   "execution_count": null,
   "metadata": {
    "jupyter": {
     "source_hidden": true
    }
   },
   "outputs": [],
   "source": [
    "xvar='NeutrinoEnergy2_GeV'\n",
    "#bins = [0.05, 0.45, 0.65, 0.85, 1.05, 1.25, 1.65, 2.25, 7]\n",
    "bins = [0.05, 0.45, 0.65, 0.85, 1.05, 1.35, 1.85, 7]\n",
    "\n",
    "fig = plt.figure(figsize=(8, 5))\n",
    "\n",
    "fhc_reco = plt.hist(fhc_selected_signal[xvar], bins, color='orange', \n",
    "         weights=fhc_selected_signal['totweight_data'], label='reco FHC')[0]\n",
    "\n",
    "#fhc_true = plt.hist(fhc_selected_signal[true_var], bins, \n",
    "#         weights=fhc_selected_signal['totweight_data'], \n",
    "#         color='saddlebrown', label='true FHC', histtype='step', linewidth=2, linestyle='--')[0]\n",
    "\n",
    "plt.legend(fontsize=14)\n",
    "\n",
    "\n",
    "#plt.xlabel(\"$cos$ $\\\\theta_{ep}$\", fontsize=15)\n",
    "plt.ylabel(\"Signal event rate\", fontsize=15)\n",
    "#plt.xticks(bins)\n",
    "\n",
    "plt.show()\n",
    "\n",
    "fig = plt.figure(figsize=(8, 5))\n",
    "\n",
    "rhc_reco = plt.hist(rhc_selected_signal[xvar], bins, color='orange', \n",
    "         weights=rhc_selected_signal['totweight_data'], label='reco RHC')[0]\n",
    "\n",
    "#rhc_true = plt.hist(rhc_selected_signal[true_var], bins, \n",
    "#         weights=rhc_selected_signal['totweight_data'], \n",
    "#         color='saddlebrown', label='true RHC', histtype='step', linewidth=2, linestyle='--')[0]\n",
    "\n",
    "plt.legend(fontsize=14)\n",
    "\n",
    "#plt.xlabel(\"$cos$ $\\\\theta_{ep}$\", fontsize=15)\n",
    "plt.ylabel(\"Signal event rate\", fontsize=15)\n",
    "#plt.xticks(bins)\n",
    "\n",
    "\n",
    "plt.show()\n",
    "\n",
    "fhc_reco+rhc_reco"
   ]
  },
  {
   "cell_type": "code",
   "execution_count": null,
   "metadata": {
    "jupyter": {
     "source_hidden": true
    }
   },
   "outputs": [],
   "source": [
    "rhc_reco\n",
    "\n"
   ]
  },
  {
   "cell_type": "code",
   "execution_count": null,
   "metadata": {},
   "outputs": [],
   "source": []
  },
  {
   "cell_type": "code",
   "execution_count": null,
   "metadata": {},
   "outputs": [],
   "source": [
    "## smearing matrix \n",
    "fig = plt.figure(figsize=(11, 8))\n",
    "\n",
    "hout = plt.hist2d(fhc_selected_signal[true_var], fhc_selected_signal[xvar], [0.07, 0.26, 0.45, 0.64, 0.83, 1.02, 1.4, 4.5], \n",
    "                              weights=fhc_selected_signal.totweight_data, cmap='OrRd', cmin=0.01)\n",
    "\n",
    "smear_array = hout[0].T\n",
    "\n",
    "for i in range(len(bins)-1): # reco bins i (y axis)\n",
    "        for j in range(len(bins)-1): # true bins j (x axis)\n",
    "            if smear_array[i][j]>7: \n",
    "                col='white'\n",
    "            else: \n",
    "                col='black'\n",
    "\n",
    "            binx_centers = hout[1][j]+(hout[1][j+1]-hout[1][j])/2\n",
    "            biny_centers = hout[2][i]+(hout[2][i+1]-hout[2][i])/2\n",
    "\n",
    "            if not np.isnan(smear_array[i][j]):\n",
    "                plt.text(binx_centers, biny_centers, round(smear_array[i][j], 1), \n",
    "                            color=col, ha=\"center\", va=\"center\", fontsize=12)\n",
    "                \n",
    "                \n",
    "plt.xticks(fontsize=14)\n",
    "plt.yticks(fontsize=14)\n",
    "\n",
    "cbar = plt.colorbar()\n",
    "#cbar.set_label('$\\\\nu$ / '+pot+' POT', fontsize=15)\n",
    "\n",
    "plt.xlabel('True Electron Energy [GeV]', fontsize=15)\n",
    "plt.ylabel('Reco Electron Energy [GeV]', fontsize=15)\n",
    "\n",
    "#plt.title(title+' - Smearing '+str(parameters(isrun3)['beamon_pot'])+' POT', fontsize=15)\n",
    "\n",
    "cbar.ax.tick_params(labelsize=14)\n",
    "plt.show()\n"
   ]
  },
  {
   "cell_type": "code",
   "execution_count": null,
   "metadata": {},
   "outputs": [],
   "source": [
    "print('min reco', min(fhc_selected_signal[xvar]))\n",
    "print('max reco', max(fhc_selected_signal[xvar]))\n",
    "\n",
    "print('min true', min(fhc_selected_signal[true_var]))\n",
    "print('max true', max(fhc_selected_signal[true_var]))"
   ]
  },
  {
   "cell_type": "code",
   "execution_count": null,
   "metadata": {},
   "outputs": [],
   "source": [
    "\n",
    "print('min reco', min(rhc_selected_signal[xvar]))\n",
    "print('max reco', max(rhc_selected_signal[xvar]))\n",
    "\n",
    "print('min true', min(rhc_selected_signal[true_var]))\n",
    "print('max true', max(rhc_selected_signal[true_var]))\n"
   ]
  },
  {
   "cell_type": "code",
   "execution_count": null,
   "metadata": {},
   "outputs": [],
   "source": []
  },
  {
   "cell_type": "code",
   "execution_count": null,
   "metadata": {},
   "outputs": [],
   "source": []
  },
  {
   "cell_type": "markdown",
   "metadata": {},
   "source": [
    "## resolution plots"
   ]
  },
  {
   "cell_type": "code",
   "execution_count": 182,
   "metadata": {},
   "outputs": [],
   "source": [
    "xvar = 'tksh_angle'\n",
    "true_var = 'opening_angle'\n",
    "\n",
    "bins = [-1, -0.5, np.cos(100 * np.pi/180), np.cos(80 * np.pi/180), 0.5, 1]\n",
    "x_ticks = [-1, -0.5, -0.174, 0.174, 0.5, 1]\n",
    "\n",
    "\n",
    "xlow = bins[0]\n",
    "xhigh = bins[-1]\n",
    "\n",
    "x_label = \"cos $\\\\theta_{ep}$\""
   ]
  },
  {
   "cell_type": "code",
   "execution_count": 183,
   "metadata": {},
   "outputs": [],
   "source": [
    "fhc_selected_signal = fhc_signal.query(BDT_LOOSE_CUTS+' and BDT_score>'+str(parameters(ISRUN3=False)['bdt_score_cut']))\n",
    "rhc_selected_signal = rhc_signal.query(BDT_LOOSE_CUTS+' and BDT_score>'+str(parameters(ISRUN3=True)['bdt_score_cut']))"
   ]
  },
  {
   "cell_type": "code",
   "execution_count": 184,
   "metadata": {},
   "outputs": [
    {
     "name": "stderr",
     "output_type": "stream",
     "text": [
      "/uboone/app/users/kmiller/miniconda/lib/python3.7/site-packages/ipykernel_launcher.py:2: SettingWithCopyWarning: \n",
      "A value is trying to be set on a copy of a slice from a DataFrame.\n",
      "Try using .loc[row_indexer,col_indexer] = value instead\n",
      "\n",
      "See the caveats in the documentation: http://pandas.pydata.org/pandas-docs/stable/user_guide/indexing.html#returning-a-view-versus-a-copy\n",
      "  \n",
      "/uboone/app/users/kmiller/miniconda/lib/python3.7/site-packages/ipykernel_launcher.py:3: SettingWithCopyWarning: \n",
      "A value is trying to be set on a copy of a slice from a DataFrame.\n",
      "Try using .loc[row_indexer,col_indexer] = value instead\n",
      "\n",
      "See the caveats in the documentation: http://pandas.pydata.org/pandas-docs/stable/user_guide/indexing.html#returning-a-view-versus-a-copy\n",
      "  This is separate from the ipykernel package so we can avoid doing imports until\n"
     ]
    }
   ],
   "source": [
    "if xvar == 'tksh_angle': \n",
    "    fhc_selected_signal['res'] = (fhc_selected_signal[true_var]-fhc_selected_signal[xvar])\n",
    "    rhc_selected_signal['res'] = (rhc_selected_signal[true_var]-rhc_selected_signal[xvar])\n",
    "    \n",
    "else: \n",
    "    fhc_selected_signal['res'] = (fhc_selected_signal[true_var]-fhc_selected_signal[xvar])/fhc_selected_signal[true_var]\n",
    "    rhc_selected_signal['res'] = (rhc_selected_signal[true_var]-rhc_selected_signal[xvar])/rhc_selected_signal[true_var]"
   ]
  },
  {
   "cell_type": "code",
   "execution_count": 185,
   "metadata": {},
   "outputs": [
    {
     "name": "stdout",
     "output_type": "stream",
     "text": [
      "-0.9971619844436646\n",
      "-0.9885615706443787\n"
     ]
    }
   ],
   "source": [
    "print(min(fhc_selected_signal[true_var]))\n",
    "print(min(rhc_selected_signal[true_var]))"
   ]
  },
  {
   "cell_type": "code",
   "execution_count": 186,
   "metadata": {},
   "outputs": [
    {
     "name": "stdout",
     "output_type": "stream",
     "text": [
      "0.9994841814041138\n",
      "0.9979190826416016\n"
     ]
    }
   ],
   "source": [
    "print(max(fhc_selected_signal[true_var]))\n",
    "print(max(rhc_selected_signal[true_var]))"
   ]
  },
  {
   "cell_type": "code",
   "execution_count": 187,
   "metadata": {},
   "outputs": [],
   "source": [
    "selected_signal = pd.concat([fhc_selected_signal, rhc_selected_signal], sort=False)"
   ]
  },
  {
   "cell_type": "code",
   "execution_count": 192,
   "metadata": {},
   "outputs": [],
   "source": [
    "if xvar != 'tksh_angle': \n",
    "    bincenters = 0.5*(np.array(x_ticks+[xhigh])[1:]+np.array(x_ticks+[xhigh])[:-1])\n",
    "    \n",
    "else: \n",
    "    bincenters = 0.5*(np.array(x_ticks)[1:]+np.array(x_ticks)[:-1])\n"
   ]
  },
  {
   "cell_type": "code",
   "execution_count": null,
   "metadata": {},
   "outputs": [],
   "source": []
  },
  {
   "cell_type": "code",
   "execution_count": 194,
   "metadata": {},
   "outputs": [],
   "source": [
    "binwidth = []\n",
    "\n",
    "for x in range(len(bincenters)):\n",
    "\n",
    "    if xvar=='tksh_angle': \n",
    "        binwidth.append(round(abs((x_ticks)[x+1]-(x_ticks)[x])/2, 2))\n",
    "\n",
    "    else: \n",
    "        binwidth.append(round(abs((bins[:-1]+[xhigh])[x+1]-(bins[:-1]+[xhigh])[x])/2, 3))"
   ]
  },
  {
   "cell_type": "code",
   "execution_count": null,
   "metadata": {},
   "outputs": [],
   "source": []
  },
  {
   "cell_type": "code",
   "execution_count": 200,
   "metadata": {},
   "outputs": [
    {
     "data": {
      "image/png": "[encoded data removed]",
      "text/plain": [
       "<Figure size 576x360 with 1 Axes>"
      ]
     },
     "metadata": {
      "needs_background": "light"
     },
     "output_type": "display_data"
    },
    {
     "data": {
      "image/png": "[encoded data removed]",
      "text/plain": [
       "<Figure size 576x360 with 1 Axes>"
      ]
     },
     "metadata": {
      "needs_background": "light"
     },
     "output_type": "display_data"
    },
    {
     "data": {
      "image/png": "[encoded data removed]",
      "text/plain": [
       "<Figure size 576x360 with 1 Axes>"
      ]
     },
     "metadata": {
      "needs_background": "light"
     },
     "output_type": "display_data"
    },
    {
     "data": {
      "image/png": "[encoded data removed]",
      "text/plain": [
       "<Figure size 576x360 with 1 Axes>"
      ]
     },
     "metadata": {
      "needs_background": "light"
     },
     "output_type": "display_data"
    },
    {
     "data": {
      "image/png": "[encoded data removed]",
      "text/plain": [
       "<Figure size 576x360 with 1 Axes>"
      ]
     },
     "metadata": {
      "needs_background": "light"
     },
     "output_type": "display_data"
    }
   ],
   "source": [
    "# for each bin, get the sigma of the resolution \n",
    "\n",
    "sigma_per_bin = []\n",
    "\n",
    "for i in range(len(bins)-1):\n",
    "\n",
    "    if i==len(bins)-2: \n",
    "        bin_query = xvar+' >= '+str(bins[i])+' and '+xvar+' <= '+str(bins[i+1])\n",
    "    else: \n",
    "        bin_query = xvar+' >= '+str(bins[i])+' and '+xvar+' < '+str(bins[i+1])\n",
    "        \n",
    "    if xvar=='tksh_angle': \n",
    "        bin_query = bin_query + ' and res<0.25 and res>-0.25'\n",
    "\n",
    "    mu, sigma = weighted_avg_and_std(selected_signal.query(bin_query).res, selected_signal.query(bin_query).totweight_data)\n",
    "    sigma_per_bin.append(sigma)\n",
    "    \n",
    "    fig = plt.figure(figsize=(8, 5))\n",
    "    n, b, p = plt.hist(selected_signal.query(bin_query).res, 50, range=[-1, 1], histtype='step', \n",
    "                       weights=selected_signal.query(bin_query).totweight_data, color='orange')\n",
    "\n",
    "    plt.xticks(fontsize=14)\n",
    "    plt.yticks(fontsize=14)\n",
    "    \n",
    "    plt.xlim(-1, 1)\n",
    "    \n",
    "    if xvar == 'tksh_angle': \n",
    "        plt.xlabel('true - reco', fontsize=14)\n",
    "    \n",
    "    else: \n",
    "        plt.xlabel('(true - reco) / true', fontsize=14)\n",
    "    plt.ylabel('$\\\\nu$ / $7.014 \\\\times 10^{20}$ POT', fontsize=14)\n",
    "    \n",
    "    # PLOT THE PDF\n",
    "    \n",
    "    xmin, xmax = plt.xlim()\n",
    "    x = np.linspace(xmin, xmax, 100)\n",
    "    p = norm.pdf(x, mu, sigma)\n",
    "    area = np.sum(np.diff(b)*n)\n",
    "    \n",
    "    plt.plot(x, p*area, 'k', linewidth=2, color='red')\n",
    "    \n",
    "    plt.title(x_label+\" (\"+str(bins[i])+\" to \"+ str(bins[i+1])+\"): $\\\\mu$ = %.2f,  $\\\\sigma$ = %.2f\" % (mu, sigma), fontsize=15)\n",
    "    \n",
    "    plt.tight_layout()\n",
    "    plt.show()\n",
    "    \n",
    "    bin_query = ''\n",
    "    "
   ]
  },
  {
   "cell_type": "code",
   "execution_count": 179,
   "metadata": {},
   "outputs": [
    {
     "data": {
      "text/plain": [
       "[0.23678708551689806,\n",
       " 0.19943902548200124,\n",
       " 0.23099655001213368,\n",
       " 0.15788204083105617,\n",
       " 0.14790797590768856,\n",
       " 0.1326882860636025]"
      ]
     },
     "execution_count": 179,
     "metadata": {},
     "output_type": "execute_result"
    }
   ],
   "source": [
    "sigma_per_bin"
   ]
  },
  {
   "cell_type": "code",
   "execution_count": 202,
   "metadata": {},
   "outputs": [
    {
     "data": {
      "image/png": "[encoded data removed]",
      "text/plain": [
       "<Figure size 576x360 with 1 Axes>"
      ]
     },
     "metadata": {
      "needs_background": "light"
     },
     "output_type": "display_data"
    }
   ],
   "source": [
    "# plot resolution vs. true \n",
    "\n",
    "fig = plt.figure(figsize=(8, 5))\n",
    "\n",
    "plt.errorbar(bincenters, sigma_per_bin, fmt='.', color='violet', xerr=binwidth, markersize=1, \n",
    "             label=\"Resolution\\n(Average = %.2f)\" % np.average(sigma_per_bin), \n",
    "            linewidth=3)\n",
    "\n",
    "#plt.axhline(np.average(sigma_per_bin), color='black', linestyle=\"--\", label=\"Average = %.2f\" % np.average(sigma_per_bin))\n",
    "\n",
    "plt.xlim(xlow, xhigh)\n",
    "plt.ylim(0, .15)\n",
    "\n",
    "plt.xticks(x_ticks, fontsize=11.5)\n",
    "plt.yticks([0.05, .1, .15], fontsize=11.5)\n",
    "\n",
    "if xvar != 'tksh_angle': \n",
    "    plt.xlabel(x_label+\" [GeV]\", fontsize=15)\n",
    "    plt.ylabel(\"$\\\\sigma \\: (\\\\frac{x_{true} - x_{reco}}{x_{true}})$\", fontsize=18)\n",
    "    \n",
    "else: \n",
    "    plt.xlabel(x_label, fontsize=15)\n",
    "    plt.ylabel(\"$\\\\sigma \\: (x_{true} - x_{reco})$\", fontsize=18)\n",
    "\n",
    "plt.grid(linestyle=\":\")\n",
    "\n",
    "plt.legend(fontsize=14)\n",
    "\n",
    "plt.savefig(\"/uboone/data/users/kmiller/uBNuMI_CCNp/plots/combined/resolution_\"+xvar+\".pdf\", \n",
    "            transparent=True, bbox_inches='tight')\n",
    "\n",
    "plt.show()"
   ]
  },
  {
   "cell_type": "code",
   "execution_count": 123,
   "metadata": {},
   "outputs": [
    {
     "data": {
      "text/plain": [
       "0.18168534598965172"
      ]
     },
     "execution_count": 123,
     "metadata": {},
     "output_type": "execute_result"
    }
   ],
   "source": []
  },
  {
   "cell_type": "code",
   "execution_count": null,
   "metadata": {},
   "outputs": [],
   "source": []
  },
  {
   "cell_type": "code",
   "execution_count": null,
   "metadata": {},
   "outputs": [],
   "source": []
  },
  {
   "cell_type": "code",
   "execution_count": null,
   "metadata": {},
   "outputs": [],
   "source": []
  }
 ],
 "metadata": {
  "kernelspec": {
   "display_name": "Python 3",
   "language": "python",
   "name": "python3"
  },
  "language_info": {
   "codemirror_mode": {
    "name": "ipython",
    "version": 3
   },
   "file_extension": ".py",
   "mimetype": "text/x-python",
   "name": "python",
   "nbconvert_exporter": "python",
   "pygments_lexer": "ipython3",
   "version": "3.7.3"
  }
 },
 "nbformat": 4,
 "nbformat_minor": 4
}
