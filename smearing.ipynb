{
 "cells": [
  {
   "cell_type": "code",
   "execution_count": null,
   "metadata": {},
   "outputs": [],
   "source": [
    "## Produce the smearing matrices & efficiencies using the intrinsic nue samples"
   ]
  },
  {
   "cell_type": "markdown",
   "metadata": {},
   "source": [
    "## Setup"
   ]
  },
  {
   "cell_type": "code",
   "execution_count": 12,
   "metadata": {},
   "outputs": [],
   "source": [
    "import sys\n",
    "sys.path.insert(0, 'backend_functions')\n",
    "from scipy.stats import norm\n",
    "from matplotlib.colors import LogNorm\n",
    "import xsec_functions\n",
    "\n",
    "import importlib\n",
    "import uproot\n",
    "import numpy as np\n",
    "import math\n",
    "import matplotlib.pyplot as plt\n",
    "import pandas as pd\n",
    "\n",
    "importlib.reload(xsec_functions)\n",
    "from xsec_functions import *\n",
    "\n",
    "import selection_functions\n",
    "import awkward\n",
    "\n",
    "import ROOT\n",
    "\n",
    "from ROOT import TH2D, TH1D, TH1F\n",
    "\n",
    "import top \n",
    "from top import *"
   ]
  },
  {
   "cell_type": "code",
   "execution_count": 3,
   "metadata": {},
   "outputs": [],
   "source": [
    "importlib.reload(selection_functions)\n",
    "from selection_functions import *"
   ]
  },
  {
   "cell_type": "code",
   "execution_count": 4,
   "metadata": {},
   "outputs": [],
   "source": [
    "ISRUN3 = False"
   ]
  },
  {
   "cell_type": "code",
   "execution_count": 5,
   "metadata": {},
   "outputs": [],
   "source": [
    "intrinsic_pot = parameters(ISRUN3)['intrinsic_pot']\n",
    "data_pot = parameters(ISRUN3)['beamon_pot']\n",
    "overlay_pot = parameters(ISRUN3)['overlay_pot']"
   ]
  },
  {
   "cell_type": "code",
   "execution_count": 6,
   "metadata": {},
   "outputs": [],
   "source": [
    "fold = \"nuselection\"\n",
    "tree = \"NeutrinoSelectionFilter\"\n",
    "\n",
    "path = parameters(ISRUN3)['cv_ntuple_path']  # old path '/uboone/data/users/kmistry/work/MCC9/searchingfornues/'"
   ]
  },
  {
   "cell_type": "code",
   "execution_count": 7,
   "metadata": {},
   "outputs": [],
   "source": [
    "NUE = parameters(ISRUN3)['NUE']\n",
    "nue = uproot.open(\"/uboone/data/users/kmistry/work/MCC9/searchingfornues/ntuple_files_v7/neutrinoselection_filt_run1_overlay_intrinsic.root\")[fold][tree]\n",
    "    #uproot.open(path+NUE+\".root\")[fold][tree]\n",
    "\n",
    "uproot_nue = nue"
   ]
  },
  {
   "cell_type": "markdown",
   "metadata": {},
   "source": [
    "## Create pandas dataframes"
   ]
  },
  {
   "cell_type": "code",
   "execution_count": 8,
   "metadata": {},
   "outputs": [],
   "source": [
    "\n",
    "variables = [\n",
    "    \"selected\", \"nu_pdg\", \"shr_theta\",\n",
    "    \"trk_score_v\", \n",
    "    \"shr_tkfit_dedx_Y\",\n",
    "    \"ccnc\", \n",
    "    \"hits_ratio\", \"n_tracks_contained\", \n",
    "    \"NeutrinoEnergy2\",\n",
    "    \"reco_nu_vtx_sce_x\",\"reco_nu_vtx_sce_y\",\"reco_nu_vtx_sce_z\",\n",
    "    \"true_nu_vtx_x\", \"true_nu_vtx_y\" , \"true_nu_vtx_z\", \n",
    "    \"nproton\", \"nu_e\", \"n_showers_contained\", \"nu_purity_from_pfp\", \n",
    "    \"shr_score\", \n",
    "    \"trk_energy\", \"tksh_distance\", \"tksh_angle\",\n",
    "    \"npi0\", \n",
    "    \"shr_energy_tot_cali\", \"shr_energy_cali\", \n",
    "    \"nslice\",\n",
    "    \"contained_fraction\",\n",
    "    \"npion\", \n",
    "    #\"all_trk_energies\", \"all_trk_hits\", \"all_shr_energies\", \"all_shr_hits\", ## for secondary shower / track \n",
    "    \"shrmoliereavg\", \n",
    "    \"shrsubclusters0\",\"shrsubclusters1\",\"shrsubclusters2\", \n",
    "    \"shr_tkfit_npointsvalid\",\"shr_tkfit_npoints\", \"true_e_visible\", \"trkshrhitdist2\", \n",
    "    \"weightSplineTimesTune\", \"weightTune\", \"swtrig\", \"true_nu_px\", \"true_nu_py\", \"true_nu_pz\", \n",
    "    \"elec_e\", \"proton_e\", \"mc_px\", \"mc_py\", \"mc_pz\", \"elec_px\", \"elec_py\", \"elec_pz\", \n",
    "    \"swtrig_pre\", \"ppfx_cv\", \"mc_pdg\"]#, 'opening_angle']\n"
   ]
  },
  {
   "cell_type": "code",
   "execution_count": 9,
   "metadata": {},
   "outputs": [],
   "source": [
    "nue = nue.pandas.df(variables, flatten=False)"
   ]
  },
  {
   "cell_type": "code",
   "execution_count": null,
   "metadata": {},
   "outputs": [],
   "source": [
    "nue = addAngles(nue)\n",
    "\n",
    "trk_llr_pid_v = uproot_nue.array('trk_llr_pid_score_v')\n",
    "trk_id = uproot_nue.array('trk_id')-1 # I think we need this -1 to get the right result\n",
    "trk_llr_pid_v_sel = awkward.fromiter([pidv[tid] if tid<len(pidv) else 9999. for pidv,tid in zip(trk_llr_pid_v,trk_id)])\n",
    "\n",
    "nue['trkpid'] = trk_llr_pid_v_sel\n",
    "nue['subcluster'] = nue['shrsubclusters0'] + nue['shrsubclusters1'] + nue['shrsubclusters2']\n",
    "nue['trkfit'] = nue['shr_tkfit_npointsvalid'] / nue['shr_tkfit_npoints']\n",
    "    \n",
    "nue['NeutrinoEnergy2_GeV'] = nue['NeutrinoEnergy2']/1000\n",
    "\n",
    "nue['is_signal'] = np.where((nue.swtrig_pre == 1) #& (nue.nu_purity_from_pfp>0.5)\n",
    "                             & (nue.nu_pdg==12) & (nue.ccnc==0) & (nue.nproton>0) & (nue.npion==0) & (nue.npi0==0)\n",
    "                             & (10 <= nue.true_nu_vtx_x) & (nue.true_nu_vtx_x <= 246)\n",
    "                             & (-106 <= nue.true_nu_vtx_y) & (nue.true_nu_vtx_y <= 106)\n",
    "                             & (10 <= nue.true_nu_vtx_z) & (nue.true_nu_vtx_z <= 1026), True, False)"
   ]
  },
  {
   "cell_type": "code",
   "execution_count": null,
   "metadata": {},
   "outputs": [],
   "source": [
    "nue = nue.query('swtrig==1')"
   ]
  },
  {
   "cell_type": "markdown",
   "metadata": {},
   "source": [
    "## Weights"
   ]
  },
  {
   "cell_type": "code",
   "execution_count": 10,
   "metadata": {},
   "outputs": [],
   "source": [
    "# cuts applied for bad weights \n",
    "\n",
    "nue.loc[ nue['weightSplineTimesTune'] <= 0, 'weightSplineTimesTune' ] = 1.\n",
    "nue.loc[ nue['weightSplineTimesTune'] == np.inf, 'weightSplineTimesTune' ] = 1.\n",
    "nue.loc[ nue['weightSplineTimesTune'] > 100, 'weightSplineTimesTune' ] = 1.\n",
    "nue.loc[ np.isnan(nue['weightSplineTimesTune']) == True, 'weightSplineTimesTune' ] = 1.\n",
    "    \n",
    "nue.loc[ nue['weightTune'] <= 0, 'weightTune' ] = 1.\n",
    "nue.loc[ nue['weightTune'] == np.inf, 'weightTune' ] = 1.\n",
    "nue.loc[ nue['weightTune'] > 100, 'weightTune' ] = 1.\n",
    "nue.loc[ np.isnan(nue['weightTune']) == True, 'weightTune' ] = 1.  \n",
    "    "
   ]
  },
  {
   "cell_type": "code",
   "execution_count": null,
   "metadata": {},
   "outputs": [],
   "source": [
    "# total weight - combined genie * flux weight (POT scale to intrinsic overlay)\n",
    "nue['totweight_intrinsic'] = nue['ppfx_cv']*nue['weightSplineTimesTune']\n",
    "nue['totweight_data'] = nue['ppfx_cv']*nue['weightSplineTimesTune']*(data_pot/intrinsic_pot)\n",
    "nue['totweight_overlay'] =  nue['ppfx_cv']*nue['weightSplineTimesTune']*(overlay_pot/intrinsic_pot)\n",
    "\n"
   ]
  },
  {
   "cell_type": "code",
   "execution_count": 11,
   "metadata": {},
   "outputs": [
    {
     "data": {
      "image/png": "[encoded data removed]",
      "text/plain": [
       "<Figure size 432x288 with 1 Axes>"
      ]
     },
     "metadata": {
      "needs_background": "light"
     },
     "output_type": "display_data"
    },
    {
     "data": {
      "text/plain": [
       "-0.09350346936881382"
      ]
     },
     "execution_count": 11,
     "metadata": {},
     "output_type": "execute_result"
    }
   ],
   "source": [
    "plt.hist(nue.query('nu_pdg==12')['nu_e'], weights=nue.query('nu_pdg==12')['ppfx_cv'], color='blue', alpha=0.5)\n",
    "plt.hist(nue.query('nu_pdg==12')['nu_e'], color='green', alpha=0.5)\n",
    "plt.show()\n",
    "\n",
    "(sum(nue.query('nu_pdg==12')['ppfx_cv'])-len(nue.query('nu_pdg==12')))/len(nue.query('nu_pdg==12'))"
   ]
  },
  {
   "cell_type": "code",
   "execution_count": null,
   "metadata": {},
   "outputs": [],
   "source": []
  },
  {
   "cell_type": "markdown",
   "metadata": {},
   "source": [
    "## Apply BDT selection"
   ]
  },
  {
   "cell_type": "code",
   "execution_count": null,
   "metadata": {},
   "outputs": [],
   "source": [
    "# all we care about is signal \n",
    "\n",
    "signal_df = nue.query('is_signal==True')"
   ]
  },
  {
   "cell_type": "code",
   "execution_count": null,
   "metadata": {},
   "outputs": [],
   "source": [
    "BDT_PRE_QUERY = 'nslice==1'\n",
    "BDT_PRE_QUERY += ' and ' + reco_in_fv_query\n",
    "BDT_PRE_QUERY +=' and contained_fraction>0.9'\n",
    "BDT_PRE_QUERY += ' and shr_energy_tot_cali>0.07'\n",
    "\n",
    "BDT_PRE_QUERY += ' and n_tracks_contained>0'\n",
    "BDT_PRE_QUERY += ' and n_showers_contained==1'\n",
    "BDT_PRE_QUERY += ' and trk_energy>0.04' # 40 MeV reco pion/proton cut on leading track \n",
    "\n",
    "\n",
    "BDT_LOOSE_CUTS = BDT_PRE_QUERY\n",
    "BDT_LOOSE_CUTS +=' and shr_score<0.3'\n",
    "BDT_LOOSE_CUTS += ' and trkpid<0.35'\n",
    "BDT_LOOSE_CUTS += ' and shrmoliereavg<15'\n",
    "BDT_LOOSE_CUTS += ' and shr_tkfit_dedx_Y<7'\n",
    "BDT_LOOSE_CUTS += ' and tksh_distance<12'"
   ]
  },
  {
   "cell_type": "code",
   "execution_count": null,
   "metadata": {},
   "outputs": [],
   "source": [
    "bdt_score_cut = parameters(ISRUN3)['bdt_score_cut']\n",
    "print(\"BDT SCORE THRESHOLD = \"+str(bdt_score_cut))"
   ]
  },
  {
   "cell_type": "code",
   "execution_count": null,
   "metadata": {},
   "outputs": [],
   "source": [
    "selected_signal_query = signal +' and '+BDT_LOOSE_CUTS+' and BDT_score>'+str(bdt_score_cut)\n",
    "#print('selected signal query =', selected_signal_query)"
   ]
  },
  {
   "cell_type": "code",
   "execution_count": null,
   "metadata": {},
   "outputs": [],
   "source": [
    "bdt_model = xgb.Booster({'nthread': 4})\n",
    "bdt_model.load_model(parameters(ISRUN3)['bdt_model'])\n"
   ]
  },
  {
   "cell_type": "code",
   "execution_count": null,
   "metadata": {},
   "outputs": [],
   "source": [
    "\n",
    "print('Number of generated nue intrinsic events = ' + str(sum(nue.totweight_intrinsic)))\n",
    "print('Number of generated signal events = ' + str(sum(signal_df.query(signal).totweight_intrinsic)))\n",
    "\n",
    "training_parameters = parameters(ISRUN3)['bdt_training_parameters']\n",
    "\n",
    "signal_df = signal_df.query(BDT_LOOSE_CUTS)\n",
    "\n",
    "# clean datasets \n",
    "for column in training_parameters:\n",
    "    signal_df.loc[(signal_df[column] < -1.0e37) | (signal_df[column] > 1.0e37), column] = np.nan\n",
    "    \n",
    "# create testing dmatrix \n",
    "signal_test = xgb.DMatrix(data=signal_df[training_parameters])\n",
    "    \n",
    "# apply the bdt selection\n",
    "preds = bdt_model.predict(signal_test)\n",
    "\n",
    "# add columns for plotting \n",
    "signal_df['BDT_score'] = preds\n",
    "\n",
    "print('Number of selected signal events = ' + str(sum(signal_df.query(selected_signal_query).totweight_intrinsic)))"
   ]
  },
  {
   "cell_type": "markdown",
   "metadata": {},
   "source": [
    "## Pick a variable! "
   ]
  },
  {
   "cell_type": "code",
   "execution_count": null,
   "metadata": {},
   "outputs": [],
   "source": [
    "xvar = 'shr_energy_cali'\n",
    "\n",
    "xvar_dict = xsec_variables(xvar, ISRUN3)\n",
    "\n",
    "bins = xvar_dict['bins']\n",
    "true_var = xvar_dict['true_var']\n",
    "x_label = xvar_dict['x_label']\n",
    "beamon_pot = xvar_dict['beamon_pot']\n",
    "xlow = xvar_dict['xlow']\n",
    "xhigh = xvar_dict['xhigh']"
   ]
  },
  {
   "cell_type": "code",
   "execution_count": null,
   "metadata": {},
   "outputs": [],
   "source": [
    "bincenters = 0.5*(np.array(bins[1:])+np.array(bins[:-1]))"
   ]
  },
  {
   "cell_type": "markdown",
   "metadata": {},
   "source": [
    "## Reco vs. True Distribution"
   ]
  },
  {
   "cell_type": "code",
   "execution_count": null,
   "metadata": {},
   "outputs": [],
   "source": [
    "###### TRUE ######\n",
    "\n",
    "bincenters = 0.5*(np.array(bins[1:])+np.array(bins[:-1]))\n",
    "\n",
    "fig = plt.figure(figsize=(10, 7))\n",
    "\n",
    "plt.hist(signal_df.query(selected_signal_query)[true_var], bins, \n",
    "                weights=signal_df.query(selected_signal_query).totweight_intrinsic, \n",
    "                alpha=0.7, label='True', color='orange')\n",
    "\n",
    "\n",
    "plt.xlabel(x_label, fontsize=15)\n",
    "plt.ylabel('$\\\\nu$ / '+str(intrinsic_pot) + ' POT', fontsize=15)\n",
    "plt.legend(fontsize=15)\n",
    "plt.ylim(0, 4000)\n",
    "plt.title('Selected Signal - True Distribution - Intrinsic POT', fontsize=15)\n",
    "plt.grid()\n",
    "plt.close()\n",
    "\n",
    "\n",
    "\n",
    "###### RECO ######\n",
    "\n",
    "fig = plt.figure(figsize=(10, 7))\n",
    "\n",
    "plt.hist(signal_df.query(selected_signal_query)[xvar], bins, \n",
    "                weights=signal_df.query(selected_signal_query).totweight_intrinsic, \n",
    "                alpha=0.4, label='Reco', color='blue')\n",
    "\n",
    "plt.xlabel(x_label, fontsize=15)\n",
    "plt.ylabel('$\\\\nu$  / '+str(intrinsic_pot) + ' POT', fontsize=15)\n",
    "plt.legend(fontsize=15)\n",
    "plt.ylim(0, 4000)\n",
    "plt.title('Selected Signal - Reco Distribution - Intrinsic POT', fontsize=15)\n",
    "plt.grid()\n",
    "plt.close()\n",
    "\n",
    "\n",
    "###### TRUE VS. RECO ######\n",
    "\n",
    "fig = plt.figure(figsize=(10, 7))\n",
    "\n",
    "plt.hist(signal_df.query(selected_signal_query)[true_var], bins, \n",
    "                weights=signal_df.query(selected_signal_query).totweight_intrinsic, alpha=0.7, \n",
    "         label='True', color='orange')\n",
    "\n",
    "plt.hist(signal_df.query(selected_signal_query)[xvar], bins, \n",
    "                weights=signal_df.query(selected_signal_query).totweight_intrinsic, alpha=0.4, \n",
    "         label='Reco', color='blue')\n",
    "\n",
    "plt.xlabel(x_label, fontsize=15)\n",
    "plt.ylabel('$\\\\nu$  / '+str(intrinsic_pot) + ' POT', fontsize=15)\n",
    "plt.legend(fontsize=15)\n",
    "plt.ylim(0, 4000)\n",
    "plt.title('Selected Signal - True vs. Reco Distribution - Intrinsic POT', fontsize=15)\n",
    "plt.grid()\n",
    "plt.close()\n",
    "\n",
    "###### TRUE VS. RECO - DATA NORMALIZED ######\n",
    "\n",
    "fig = plt.figure(figsize=(10, 7))\n",
    "\n",
    "true_selected = plt.hist(signal_df.query(selected_signal_query)[true_var], bins, \n",
    "                weights=signal_df.query(selected_signal_query).totweight_data, alpha=0.7, \n",
    "         label='True', color='orange')\n",
    "\n",
    "reco_selected  = plt.hist(signal_df.query(selected_signal_query)[xvar], bins, \n",
    "                weights=signal_df.query(selected_signal_query).totweight_data, alpha=0.4, \n",
    "         label='Reco', color='blue')\n",
    "\n",
    "plt.xlabel(x_label, fontsize=15)\n",
    "plt.ylabel('$\\\\nu$  / '+str(data_pot), fontsize=15)\n",
    "plt.legend(fontsize=15)\n",
    "plt.title('Selected Signal - True vs. Reco Distribution - DATA POT', fontsize=15)\n",
    "plt.grid()\n",
    "plt.show()\n"
   ]
  },
  {
   "cell_type": "code",
   "execution_count": null,
   "metadata": {},
   "outputs": [],
   "source": [
    "###### TRUE VS. RECO GENERATED - DATA NORMALIZED ######\n",
    "\n",
    "true_generated = np.array(generated_signal(ISRUN3, true_var, bins, xlow, xhigh))*(data_pot/overlay_pot)\n",
    "reco_generated = np.array(generated_signal(ISRUN3, xvar, bins, xlow, xhigh))*(data_pot/overlay_pot)\n",
    "\n",
    "fig = plt.figure(figsize=(10, 7))\n",
    "\n",
    "plt.hist(bincenters, bins, weights=true_generated, alpha=0.7, label='True', color='orange')\n",
    "plt.hist(bincenters, bins, weights=reco_generated, alpha=0.4, label='Reco', color='blue')\n",
    "\n",
    "\n",
    "plt.xlabel(x_label, fontsize=15)\n",
    "plt.ylabel('$\\\\nu$  / '+str(data_pot), fontsize=15)\n",
    "plt.legend(fontsize=15)\n",
    "plt.title('Generated Signal - True vs. Reco Distribution - DATA POT', fontsize=15)\n",
    "plt.grid()\n",
    "plt.show()"
   ]
  },
  {
   "cell_type": "markdown",
   "metadata": {},
   "source": [
    "## Construct response matrix"
   ]
  },
  {
   "cell_type": "code",
   "execution_count": null,
   "metadata": {},
   "outputs": [],
   "source": [
    "importlib.reload(xsec_functions)\n",
    "from xsec_functions import *"
   ]
  },
  {
   "cell_type": "code",
   "execution_count": null,
   "metadata": {},
   "outputs": [],
   "source": [
    "smear_dict = smear_matrix(true_var, xvar, bins, ISRUN3, signal_df.query(selected_signal_query),\n",
    "                          zmax=10, lbl=x_label, save=False, plot=True, eff=True)"
   ]
  },
  {
   "cell_type": "code",
   "execution_count": null,
   "metadata": {},
   "outputs": [],
   "source": [
    "# norm_array[i][j]\n",
    "# [i][j] == list i, entry j == row i, column j == yval, xval\n"
   ]
  },
  {
   "cell_type": "code",
   "execution_count": null,
   "metadata": {},
   "outputs": [],
   "source": []
  },
  {
   "cell_type": "markdown",
   "metadata": {},
   "source": [
    "## Save to unfolding file "
   ]
  },
  {
   "cell_type": "code",
   "execution_count": null,
   "metadata": {},
   "outputs": [],
   "source": [
    "# generated true signal distribution \n",
    "\n",
    "htrue_signal = TH1F(\"htrue_signal\", \"Generated MC Signal vs. True \"+x_label+\" (\"+true_var+\")\", len(bins)-1, np.array(bins))\n",
    "\n",
    "for i in range(len(bincenters)): \n",
    "    htrue_signal.Fill(bincenters[i], true_generated[i])\n"
   ]
  },
  {
   "cell_type": "code",
   "execution_count": null,
   "metadata": {},
   "outputs": [],
   "source": [
    "# selected reco signal distribution \n",
    "hreco = TH1D(\"hmeas\", \"Selected MC Signal vs. Reco \"+x_label+\" (\"+xvar+\")\", len(bins)-1, np.array(bins))\n",
    "\n",
    "for i in range(len(bincenters)): \n",
    "    hreco.Fill(bincenters[i], reco_selected[0][i])"
   ]
  },
  {
   "cell_type": "code",
   "execution_count": null,
   "metadata": {},
   "outputs": [],
   "source": [
    "# response matrix \n",
    "r = TH2D(\"hR\", \"Response Matrix\", len(bins)-1, np.array(bins), len(bins)-1, np.array(bins))"
   ]
  },
  {
   "cell_type": "code",
   "execution_count": null,
   "metadata": {},
   "outputs": [],
   "source": [
    "for i in range(len(bincenters)): # i = column (x)\n",
    "    for j in range(len(bincenters)): # j = row (y)\n",
    "    \n",
    "        w = smear_dict['smear_eff_array'][i][j] # [x][y]\n",
    "        \n",
    "        if np.isnan(w): \n",
    "            r.Fill(bincenters[i], bincenters[j], 0) \n",
    "            \n",
    "        else: \n",
    "            r.Fill(bincenters[i], bincenters[j], w) \n",
    "            \n",
    "        #print('x = '+str(i), 'y = '+str(j), 'counts = '+ str(w))"
   ]
  },
  {
   "cell_type": "code",
   "execution_count": null,
   "metadata": {},
   "outputs": [],
   "source": [
    "f = ROOT.TFile.Open(\"/uboone/data/users/kmiller/unfolding/WSVD_\"+xvar+\"_FHCRUN1_MARCH12.root\", \"UPDATE\")"
   ]
  },
  {
   "cell_type": "code",
   "execution_count": null,
   "metadata": {},
   "outputs": [],
   "source": [
    "f.cd()"
   ]
  },
  {
   "cell_type": "code",
   "execution_count": null,
   "metadata": {},
   "outputs": [],
   "source": [
    "htrue_signal.Write()\n",
    "hreco.Write()\n",
    "r.Write()"
   ]
  },
  {
   "cell_type": "code",
   "execution_count": null,
   "metadata": {},
   "outputs": [],
   "source": [
    "f.Close()"
   ]
  },
  {
   "cell_type": "code",
   "execution_count": null,
   "metadata": {},
   "outputs": [],
   "source": []
  },
  {
   "cell_type": "code",
   "execution_count": null,
   "metadata": {},
   "outputs": [],
   "source": []
  },
  {
   "cell_type": "code",
   "execution_count": null,
   "metadata": {},
   "outputs": [],
   "source": []
  },
  {
   "cell_type": "code",
   "execution_count": null,
   "metadata": {},
   "outputs": [],
   "source": []
  },
  {
   "cell_type": "code",
   "execution_count": null,
   "metadata": {},
   "outputs": [],
   "source": []
  },
  {
   "cell_type": "code",
   "execution_count": null,
   "metadata": {},
   "outputs": [],
   "source": []
  },
  {
   "cell_type": "code",
   "execution_count": null,
   "metadata": {},
   "outputs": [],
   "source": []
  },
  {
   "cell_type": "code",
   "execution_count": null,
   "metadata": {},
   "outputs": [],
   "source": []
  },
  {
   "cell_type": "markdown",
   "metadata": {},
   "source": [
    "# EXTRA"
   ]
  },
  {
   "cell_type": "code",
   "execution_count": null,
   "metadata": {},
   "outputs": [],
   "source": [
    "# distribution of selected signal events across opening angle \n",
    "\n",
    "fig = plt.figure(figsize=(8, 5))\n",
    "\n",
    "sel = plt.hist(fhc_sel.query(signal)['opening_angle'], 20, color='orange', range=[-1, 1])\n",
    "\n",
    "plt.xlabel(\"cos $\\\\theta$\", fontsize=15)\n",
    "plt.ylabel(\"# of selected signal events\", fontsize=15)\n",
    "\n",
    "plt.xticks(fontsize=14)\n",
    "plt.yticks(fontsize=14)\n",
    "\n",
    "plt.title(\"Signal: PDG==12, CC, N>0 protons, 0 pions, Op.Angle < +/-0.8\\nLinear Selection w/o tksh_angle Cut \", fontsize=14)\n",
    "\n",
    "plt.show()"
   ]
  },
  {
   "cell_type": "code",
   "execution_count": null,
   "metadata": {},
   "outputs": [],
   "source": [
    "# efficiency across opening angle (current linear selection)\n",
    "\n",
    "eff = [x/y for x, y in zip(sel[0], gen[0])]\n",
    "eff_err = [ np.sqrt( (eff[i]*(1-eff[i]))/gen[0][i] ) for i in range(len(eff))]\n",
    "\n",
    "bincenters = 0.5*(gen[1][1:]+gen[1][:-1])\n",
    "binwidth = [abs(gen[1][1]-gen[1][0])/2 for x in range(len(bincenters))]\n",
    "\n",
    "fig = plt.figure(figsize=(8, 5))\n",
    "\n",
    "plt.errorbar(bincenters, eff, xerr=binwidth, yerr=eff_err, fmt='o', color='seagreen', ecolor='seagreen', markersize=3) \n",
    "\n",
    "plt.xlabel(\"cos $\\\\theta$\", fontsize=15)\n",
    "plt.ylabel(\"Efficiency\", fontsize=15)\n",
    "\n",
    "plt.xticks(fontsize=14)\n",
    "plt.yticks(fontsize=14)\n",
    "\n",
    "plt.ylim(0, 0.25)\n",
    "\n",
    "plt.title(\"Signal: PDG==12, CC, N>0 protons, 0 pions\\nLinear Selection with tksh_angle Cut \", fontsize=14)\n",
    "plt.grid(linestyle=':')\n",
    "plt.show()\n",
    "\n"
   ]
  },
  {
   "cell_type": "code",
   "execution_count": null,
   "metadata": {},
   "outputs": [],
   "source": [
    "# efficiency across opening angle (lin sel without tksh_angle cut)\n",
    "\n",
    "\n",
    "eff = [x/y for x, y in zip(sel[0], gen[0])]\n",
    "eff_err = [ np.sqrt( (eff[i]*(1-eff[i]))/gen[0][i] ) for i in range(len(eff))]\n",
    "\n",
    "bincenters = 0.5*(gen[1][1:]+gen[1][:-1])\n",
    "binwidth = [abs(gen[1][1]-gen[1][0])/2 for x in range(len(bincenters))]\n",
    "\n",
    "fig = plt.figure(figsize=(8, 5))\n",
    "\n",
    "plt.errorbar(bincenters, eff, xerr=binwidth, yerr=eff_err, fmt='o', color='seagreen', ecolor='seagreen', markersize=3) \n",
    "\n",
    "plt.xlabel(\"cos $\\\\theta$\", fontsize=15)\n",
    "plt.ylabel(\"Efficiency\", fontsize=15)\n",
    "\n",
    "plt.xticks(fontsize=14)\n",
    "plt.yticks(fontsize=14)\n",
    "\n",
    "plt.ylim(0, 0.25)\n",
    "\n",
    "plt.title(\"Signal: PDG==12, CC, N>0 protons, 0 pions, \\nLinear Selection w/o tksh_angle Cut \", fontsize=14)\n",
    "plt.grid(linestyle=':')\n",
    "plt.show()"
   ]
  },
  {
   "cell_type": "code",
   "execution_count": null,
   "metadata": {},
   "outputs": [],
   "source": [
    "# efficiency across opening angle (lin sel without tksh_angle cut & modified signal def )\n",
    "\n",
    "\n",
    "# efficiency across opening angle (lin sel without tksh_angle cut)\n",
    "\n",
    "\n",
    "eff = [x/y for x, y in zip(sel[0], gen[0])]\n",
    "eff_err = [ np.sqrt( (eff[i]*(1-eff[i]))/gen[0][i] ) for i in range(len(eff))]\n",
    "\n",
    "bincenters = 0.5*(gen[1][1:]+gen[1][:-1])\n",
    "binwidth = [abs(gen[1][1]-gen[1][0])/2 for x in range(len(bincenters))]\n",
    "\n",
    "fig = plt.figure(figsize=(8, 5))\n",
    "\n",
    "plt.errorbar(bincenters, eff, xerr=binwidth, yerr=eff_err, fmt='o', color='seagreen', ecolor='seagreen', markersize=3) \n",
    "\n",
    "plt.xlabel(\"cos $\\\\theta$\", fontsize=15)\n",
    "plt.ylabel(\"Efficiency\", fontsize=15)\n",
    "\n",
    "plt.xticks(fontsize=14)\n",
    "plt.yticks(fontsize=14)\n",
    "\n",
    "plt.xlim(-1, 1)\n",
    "plt.ylim(0, 0.25)\n",
    "\n",
    "plt.title(\"Signal: PDG==12, CC, N>0 protons, 0 pions, Op.Angle < +/-0.8\\nLinear Selection w/o tksh_angle Cut \", fontsize=14)\n",
    "plt.grid(linestyle=':')\n",
    "plt.show()"
   ]
  },
  {
   "cell_type": "code",
   "execution_count": null,
   "metadata": {},
   "outputs": [],
   "source": []
  },
  {
   "cell_type": "code",
   "execution_count": null,
   "metadata": {},
   "outputs": [],
   "source": []
  },
  {
   "cell_type": "markdown",
   "metadata": {},
   "source": [
    "### Opening Angle"
   ]
  },
  {
   "cell_type": "code",
   "execution_count": null,
   "metadata": {},
   "outputs": [],
   "source": [
    "# compute the magnitude of all MC Particles\n",
    "def mc_p(df):\n",
    "    \n",
    "    p_all = []\n",
    "    for index, row in df.iterrows():\n",
    "        p_row = []\n",
    "        for i in range(len(row['mc_pdg'])): \n",
    "            p = math.sqrt( row['mc_px'][i]*row['mc_px'][i] + row['mc_py'][i]*row['mc_py'][i] + row['mc_pz'][i]*row['mc_pz'][i] )\n",
    "            p_row.append(p)\n",
    "        \n",
    "        p_all.append( p_row )\n",
    "    \n",
    "    df['mc_p'] = p_all \n",
    "    \n",
    "    return df \n"
   ]
  },
  {
   "cell_type": "code",
   "execution_count": null,
   "metadata": {},
   "outputs": [],
   "source": [
    "# now get the proton with the highest momentum \n",
    "# use this to construct the truth opening angle \n",
    "\n",
    "def tksh_angle_truth(df): \n",
    "    \n",
    "    tksh_angle_truth = []\n",
    "    for index, row in df.iterrows(): \n",
    "\n",
    "        proton_max_p = 0\n",
    "        proton_max_p_idx = 0\n",
    "    \n",
    "        # for each index in the PDG list \n",
    "        for i in range(len(row['mc_pdg'])): \n",
    "        \n",
    "            # check if it is a proton \n",
    "            if row['mc_pdg'][i]==2212: \n",
    "                # check if it is max\n",
    "                if row['mc_p'][i]>proton_max_p: \n",
    "                    # if so, replace\n",
    "                    proton_max_p = row['mc_p'][i] \n",
    "                    proton_max_p_idx = i \n",
    "                \n",
    "        # now use the leading proton index to compute the opening angle \n",
    "        proton_p = [ row['mc_px'][i], row['mc_py'][i], row['mc_pz'][i] ]\n",
    "    \n",
    "        # and construct electron vector (should be norm'd already)\n",
    "        elec_p = [ row['elec_px'], row['elec_py'], row['elec_pz'] ]\n",
    "        elec_p_mag = np.sqrt((elec_p[0]*elec_p[0])+(elec_p[1]*elec_p[1])+(elec_p[2]*elec_p[2]))\n",
    "    \n",
    "        # opening angle \n",
    "        cos = np.dot(proton_p, elec_p) / (proton_max_p*elec_p_mag)\n",
    "        if proton_max_p==0 or elec_p_mag==0: \n",
    "            tksh_angle_truth.append(np.nan)\n",
    "        \n",
    "        else: \n",
    "            tksh_angle_truth.append(cos)\n",
    "            \n",
    "    df['opening_angle'] = tksh_angle_truth \n",
    "    \n",
    "    return df\n",
    " "
   ]
  },
  {
   "cell_type": "code",
   "execution_count": null,
   "metadata": {},
   "outputs": [],
   "source": [
    "fhc_sel = mc_p(fhc_sel)\n",
    "rhc_sel = mc_p(rhc_sel)"
   ]
  },
  {
   "cell_type": "code",
   "execution_count": null,
   "metadata": {},
   "outputs": [],
   "source": [
    "fhc_sel = tksh_angle_truth(fhc_sel)\n",
    "rhc_sel = tksh_angle_truth(rhc_sel)"
   ]
  },
  {
   "cell_type": "code",
   "execution_count": null,
   "metadata": {},
   "outputs": [],
   "source": [
    "fhc_sel.query('opening_angle>1')['opening_angle']"
   ]
  },
  {
   "cell_type": "code",
   "execution_count": null,
   "metadata": {},
   "outputs": [],
   "source": [
    "fhc_sel.query('opening_angle<-1')['opening_angle']"
   ]
  },
  {
   "cell_type": "code",
   "execution_count": null,
   "metadata": {},
   "outputs": [],
   "source": [
    "plt.hist([fhc_sel.query(signal)['opening_angle'], fhc_sel.query(signal)['tksh_angle']], 5,\n",
    "        histtype='step', label=['true', 'reco'], weights=[fhc_sel.query(signal)['totweight_proj'], \n",
    "                                                          fhc_sel.query(signal)['totweight_proj']])\n",
    "plt.title('Opening Angle')\n",
    "plt.xlabel('cos $\\\\theta$')\n",
    "plt.ylabel('$\\\\nu$ \\ 9.23E20 POT')\n",
    "plt.legend()\n",
    "\n",
    "#plt.savefig('/uboone/data/users/kmiller/searchingfornues_v33/v08_00_00_33/plots/fhc/opening_angle_wide.pdf', \n",
    "#         transparent=True, bbox_inches='tight')\n",
    "plt.show()\n",
    "\n"
   ]
  },
  {
   "cell_type": "markdown",
   "metadata": {},
   "source": [
    "### scattering angle "
   ]
  },
  {
   "cell_type": "code",
   "execution_count": null,
   "metadata": {},
   "outputs": [],
   "source": [
    "# construct the true scattering angle \n",
    "\n",
    "def true_scatangle(df): \n",
    "    # length of the neutrino momentum vector\n",
    "    nu_p_length = np.sqrt((df['true_nu_px']*df['true_nu_px'] + df['true_nu_py']*df['true_nu_py'] + df['true_nu_pz']*df['true_nu_pz']))\n",
    "    df['true_nu_pmag'] = nu_p_length\n",
    "\n",
    "    # use the normalized neutrino & electron momentum vectors (both in det coordinates) to construct the angle\n",
    "    df['true_scatangle'] = ((df['true_nu_px']/df['true_nu_pmag'])*df['elec_px'])+((df['true_nu_py']/df['true_nu_pmag'])*df['elec_py'])+((df['true_nu_pz']/df['true_nu_pmag'])*df['elec_pz'])\n",
    "   \n",
    "    return df"
   ]
  },
  {
   "cell_type": "code",
   "execution_count": null,
   "metadata": {},
   "outputs": [],
   "source": [
    "# construct the reco scattering angle \n",
    "\n",
    "def reco_scatangle(df): \n",
    "\n",
    "\n",
    "    # step 1: construct the neutrino direction vector (interaction vertex - beam target) in detector coordinates\n",
    "    NuMITargetPos = fromBeamtoDet(0, 0, 0, False)\n",
    "\n",
    "    # neutrino direction vector - detector coordinates, reconstructed, normalized\n",
    "    \n",
    "    nuX = df['reco_nu_vtx_sce_x'] - NuMITargetPos[0]\n",
    "    nuY = df['reco_nu_vtx_sce_y'] - NuMITargetPos[1]\n",
    "    nuZ = df['reco_nu_vtx_sce_z'] - NuMITargetPos[2]\n",
    "\n",
    "    nu_dir_mag = np.sqrt((nuX*nuX)+(nuY*nuY)+(nuZ*nuZ))\n",
    "\n",
    "\n",
    "    # step 2: normalize the neutrino direction vector and the reco shower momentum vector \n",
    "    nuX = nuX/nu_dir_mag\n",
    "    nuY = nuY/nu_dir_mag\n",
    "    nuZ = nuZ/nu_dir_mag\n",
    "\n",
    "    shr_px = df['shr_px']\n",
    "    shr_py = df['shr_py']\n",
    "    shr_pz = df['shr_pz']\n",
    "\n",
    "    shr_p_mag = np.sqrt((shr_px*shr_px)+(shr_py*shr_py)+(shr_pz*shr_pz))\n",
    "\n",
    "    shr_px = shr_px/shr_p_mag\n",
    "    shr_py = shr_py/shr_p_mag\n",
    "    shr_pz = shr_pz/shr_p_mag\n",
    "\n",
    "    # step 3: take the dot product between them \n",
    "\n",
    "    df['reco_scatangle'] = ( (nuX*shr_px)+(nuY*shr_py)+(nuZ*shr_pz) )\n",
    "    \n",
    "    return df\n",
    "\n"
   ]
  },
  {
   "cell_type": "code",
   "execution_count": null,
   "metadata": {},
   "outputs": [],
   "source": [
    "fhc_sel = true_scatangle(fhc_sel)\n",
    "rhc_sel = true_scatangle(rhc_sel)"
   ]
  },
  {
   "cell_type": "code",
   "execution_count": null,
   "metadata": {},
   "outputs": [],
   "source": [
    "fhc_sel = reco_scatangle(fhc_sel)\n",
    "rhc_sel = reco_scatangle(rhc_sel)"
   ]
  },
  {
   "cell_type": "code",
   "execution_count": null,
   "metadata": {},
   "outputs": [],
   "source": [
    "from matplotlib.colors import LogNorm"
   ]
  },
  {
   "cell_type": "code",
   "execution_count": null,
   "metadata": {},
   "outputs": [],
   "source": [
    "# angle off the beamline - numi coordinates (degrees)\n",
    "\n",
    "plt.figure(figsize=(8, 5))\n",
    "\n",
    "plt.hist([fhc_infv['thbeam'], fhc_infv['phibeam']], \n",
    "          40, histtype='step', weights=[fhc_infv['totweight_proj'], fhc_infv['totweight_proj']], \n",
    "          label=['$\\\\theta$ (off beamline)', '$\\\\phi$ (XY plane)'])\n",
    "plt.xlabel('Angle [deg]', fontsize=14)\n",
    "plt.ylabel('$\\\\nu$ / 9.23E20 POT', fontsize=14)\n",
    "plt.yscale(\"log\")\n",
    "plt.xticks(fontsize=14)\n",
    "plt.yticks(fontsize=14)\n",
    "plt.title('FHC events in FV (overlay only)', fontsize=14)\n",
    "plt.legend(fontsize=13)\n",
    "plt.savefig('/uboone/data/users/kmiller/searchingfornues_v33/v08_00_00_33/plots/fhc/thetavsphi.pdf', \n",
    "         transparent=True, bbox_inches='tight')\n",
    "plt.show()"
   ]
  },
  {
   "cell_type": "code",
   "execution_count": null,
   "metadata": {},
   "outputs": [],
   "source": [
    "\n",
    "plt.figure(figsize=(8, 6))\n",
    "\n",
    "plt.hist2d(fhc_infv['nu_e'], fhc_infv['thbeam'], \n",
    "           40, cmin=0.0000001, range=[[0, 5], [0, 140]], weights=fhc_infv['totweight_proj'])#, norm=LogNorm())\n",
    "plt.xlabel('true neutrino energy [GeV]', fontsize=14)\n",
    "plt.ylabel('true angle off beamline [deg]', fontsize=14)\n",
    "#plt.ylabel('$\\\\nu$ / 9.23E20 POT', fontsize=14)\n",
    "#plt.yscale(\"log\")\n",
    "plt.xticks(fontsize=14)\n",
    "plt.yticks(fontsize=14)\n",
    "cbar = plt.colorbar()\n",
    "#cbar.set_label('$\\\\nu$ / 11.95E20 POT (RHC projected)', fontsize=14)\n",
    "cbar.ax.tick_params(labelsize=14)\n",
    "plt.title(\"FHC events in FV (overlay only)\", fontsize=14)\n",
    "#plt.savefig('/uboone/data/users/kmiller/searchingfornues_v33/v08_00_00_33/plots/rhc/rhc_infv2d.pdf', \n",
    "#           transparent=True, bbox_inches='tight')\n",
    "plt.show()\n",
    "\n",
    "\n",
    "\n",
    "plt.figure(figsize=(8, 6))\n",
    "\n",
    "plt.hist2d(fhc_sel['nu_e'], fhc_sel['thbeam'], \n",
    "           40, cmin=0.0000001, range=[[0, 5], [0, 140]], weights=fhc_sel['totweight_proj'])\n",
    "          #, norm=LogNorm())\n",
    "plt.xlabel('true neutrino energy [GeV]', fontsize=14)\n",
    "plt.ylabel('true angle off beamline [deg]', fontsize=14)\n",
    "#plt.ylabel('$\\\\nu$ / 9.23E20 POT', fontsize=14)\n",
    "#plt.yscale(\"log\")\n",
    "plt.xticks(fontsize=14)\n",
    "plt.yticks(fontsize=14)\n",
    "cbar = plt.colorbar()\n",
    "cbar.ax.tick_params(labelsize=14)\n",
    "plt.title(\"FHC selected events in FV (overlay only)\", fontsize=14)\n",
    "#cbar.set_label('$\\\\nu$ / 11.95E20 POT (RHC projected)', fontsize=14)\n",
    "#plt.savefig('/uboone/data/users/kmiller/searchingfornues_v33/v08_00_00_33/plots/rhc/rhc_sel2d.pdf', \n",
    "#           transparent=True, bbox_inches='tight')\n",
    "plt.show()"
   ]
  },
  {
   "cell_type": "code",
   "execution_count": null,
   "metadata": {},
   "outputs": [],
   "source": [
    "# distribution of selected signal \n",
    "\n",
    "plt.hist(fhc_sel.query(signal)['theta'], 10, range=[0, 3], histtype='step', color='orange')\n",
    "plt.xlabel('cos($\\\\theta$)', fontsize=14)\n",
    "plt.title(\"angle between incoming & outgoing leptons - what is this?\")\n",
    "plt.show()"
   ]
  },
  {
   "cell_type": "code",
   "execution_count": null,
   "metadata": {},
   "outputs": [],
   "source": [
    "# smearing 1D\n",
    "\n",
    "plt.hist([fhc_sel.query(signal)['true_scatangle'], fhc_sel.query(signal)['reco_scatangle']], \n",
    "         20, histtype='step', weights=[fhc_sel.query(signal)['totweight_proj'], \n",
    "                                      fhc_sel.query(signal)['totweight_proj']], \n",
    "        label=['true', 'reco'])\n",
    "plt.xlabel('cos($\\\\theta$)', fontsize=14)\n",
    "plt.legend(loc=2)\n",
    "plt.title(\"angle between incoming & outgoing leptons\")\n",
    "#plt.savefig('/uboone/data/users/kmiller/searchingfornues_v33/v08_00_00_33/plots/fhc/fhc_scatangle.pdf', \n",
    "#           transparent=True, bbox_inches='tight')\n",
    "plt.show()"
   ]
  },
  {
   "cell_type": "code",
   "execution_count": null,
   "metadata": {},
   "outputs": [],
   "source": [
    "# does this assume the neutrino is coming from BNB direction? \n",
    "\n",
    "plt.hist([fhc_sel.query(signal)['theta'], fhc_sel.query(signal)['shr_theta']],\n",
    "         20, range=[0, 3], histtype='step', label=['true', 'reco'])\n",
    "plt.xlabel('cos($\\\\theta$)', fontsize=14)\n",
    "plt.title(\"angle between incoming & outgoing leptons\")\n",
    "plt.legend()\n",
    "#plt.savefig('/uboone/data/users/kmiller/searchingfornues_v33/v08_00_00_33/plots/fhc/fhc_theta.pdf', \n",
    "#           transparent=True, bbox_inches='tight')\n",
    "plt.show()"
   ]
  },
  {
   "cell_type": "code",
   "execution_count": null,
   "metadata": {},
   "outputs": [],
   "source": []
  },
  {
   "cell_type": "markdown",
   "metadata": {},
   "source": [
    "### smearing & binning"
   ]
  },
  {
   "cell_type": "code",
   "execution_count": null,
   "metadata": {},
   "outputs": [],
   "source": [
    "#reco = 'n_tracks_contained'\n",
    "#true = 'nproton'\n",
    "#bins = [1, 2, 3, 7]\n",
    "\n",
    "# total or leading? Uh oh  \n",
    "#true = 'proton_e'\n",
    "#reco = 'trk_energy' #trk_energy_tot ?? \n",
    "#bins = [ 0.04, 0.24, 0.44, 1.26 ]\n",
    "\n",
    "#true = 'true_e_visible'\n",
    "#reco = 'NeutrinoEnergy2'\n",
    "#bins = [0.19, .4, .61, .82, 1.10, 1.45, 4]\n",
    "\n",
    "reco = 'shr_energy_cali'\n",
    "true = 'elec_e'\n",
    "bins = [0.09, 0.35, 0.65, 1.05, 1.5, 3]\n",
    "\n"
   ]
  },
  {
   "cell_type": "code",
   "execution_count": null,
   "metadata": {},
   "outputs": [],
   "source": [
    "save = True"
   ]
  },
  {
   "cell_type": "code",
   "execution_count": null,
   "metadata": {},
   "outputs": [],
   "source": [
    "n, b, p = plt.hist([ selected.query(signal)[true], selected.query(nue_CCother)[true]], range=[0, 4],\n",
    "                        stacked=True, color=['orange', 'limegreen'], label=['signal', 'nue CC other'])\n",
    "plt.ylim(0, 6000)\n",
    "plt.legend()\n",
    "plt.show()"
   ]
  },
  {
   "cell_type": "code",
   "execution_count": null,
   "metadata": {},
   "outputs": [],
   "source": [
    "# from here on out we only work with signal \n",
    "selected_signal = selected.query(signal)"
   ]
  },
  {
   "cell_type": "code",
   "execution_count": null,
   "metadata": {},
   "outputs": [],
   "source": [
    "# detector resolution - FHC, RHC, BOTH \n",
    "\n",
    "#true_reco_res(true, reco, fhc_sel, 'fhc', 90, save)\n",
    "#true_reco_res(true, reco, rhc_sel, 'rhc', 90, save)\n",
    "\n",
    "true_reco_res(true, reco, selected_signal, 'both', 5000, save)"
   ]
  },
  {
   "cell_type": "code",
   "execution_count": null,
   "metadata": {},
   "outputs": [],
   "source": [
    "# min reco selected\n",
    "min(list(selected.query(signal)[reco]))"
   ]
  },
  {
   "cell_type": "code",
   "execution_count": null,
   "metadata": {},
   "outputs": [],
   "source": [
    "# min true  selected\n",
    "min(list(selected.query(signal)[true]))"
   ]
  },
  {
   "cell_type": "code",
   "execution_count": null,
   "metadata": {},
   "outputs": [],
   "source": [
    "# smearing - FHC, RHC, BOTH \n",
    "\n",
    "#smear_matrix(true, reco, bins, fhc_sel, 'fhc', 55, 'electron energy [GeV]', save)\n",
    "#smear_matrix(true, reco, bins, rhc_sel, 'rhc', 55, 'electron energy [GeV]', save)\n",
    "\n",
    "smear_matrix(true, reco, bins, selected_signal, 'both', 2500, 'electron energy [GeV]', save)"
   ]
  },
  {
   "cell_type": "code",
   "execution_count": null,
   "metadata": {},
   "outputs": [],
   "source": [
    "# efficiency - FHC & RHC \n",
    "\n",
    "#truth_and_eff(true, bins, fhc_infv, fhc_sel, 'fhc', 100, 'True Electron Energy [GeV]', save)\n",
    "#truth_and_eff(true, bins, fhc_infv, fhc_sel, 'rhc', 100, 'True Electron Energy [GeV]', save)\n",
    "\n"
   ]
  },
  {
   "cell_type": "code",
   "execution_count": null,
   "metadata": {},
   "outputs": [],
   "source": [
    "comb_truth_and_eff(true, bins, comb_infv, selected_signal, 'electron energy [GeV]', save)"
   ]
  },
  {
   "cell_type": "code",
   "execution_count": null,
   "metadata": {},
   "outputs": [],
   "source": [
    "print('total events = '+str(sum(selected_signal['totweight_data'])))"
   ]
  },
  {
   "cell_type": "code",
   "execution_count": null,
   "metadata": {},
   "outputs": [],
   "source": []
  },
  {
   "cell_type": "markdown",
   "metadata": {},
   "source": [
    "### FHC or RHC"
   ]
  },
  {
   "cell_type": "code",
   "execution_count": null,
   "metadata": {},
   "outputs": [],
   "source": [
    "true = 'elec_e'\n",
    "reco = 'shr_energy_cali'\n",
    "\n",
    "horn = 'fhc'\n",
    "\n",
    "if horn=='fhc': \n",
    "    gen_df = fhc_infv.query(signal)\n",
    "    sel_df = fhc_sel.query(signal)\n",
    "    \n",
    "elif horn=='rhc': \n",
    "    gen_df = rhc_infv.query(signal)\n",
    "    sel_df = rhc_sel.query(signal)\n",
    "\n",
    "# shr energy\n",
    "bins = [0.09, .35, .65, 1.05, 1.5, 3]\n",
    "\n",
    "# reco neutrino energy \n",
    "#bins = [ 0.19, .4, .61, .82, 1.03, 1.4, 2, 4 ]\n",
    "\n",
    "# track mult\n",
    "#bins = [1, 2, 3, 7]\n",
    "\n",
    "\n"
   ]
  },
  {
   "cell_type": "code",
   "execution_count": null,
   "metadata": {},
   "outputs": [],
   "source": [
    "save = True"
   ]
  },
  {
   "cell_type": "code",
   "execution_count": null,
   "metadata": {},
   "outputs": [],
   "source": [
    "true_reco_res(true, reco, sel_df, horn, 90, save)"
   ]
  },
  {
   "cell_type": "code",
   "execution_count": null,
   "metadata": {},
   "outputs": [],
   "source": [
    "truth_and_eff(true, bins, gen_df, sel_df, horn, 100, 'Visible Energy [GeV]', save)"
   ]
  },
  {
   "cell_type": "code",
   "execution_count": null,
   "metadata": {},
   "outputs": [],
   "source": [
    "smear_matrix(true, reco, bins, sel_df, horn, 35, 'neutrino energy [GeV]', save)\n"
   ]
  },
  {
   "cell_type": "code",
   "execution_count": null,
   "metadata": {},
   "outputs": [],
   "source": [
    "# min reco  selected\n",
    "min(list(sel_df[reco]))"
   ]
  },
  {
   "cell_type": "code",
   "execution_count": null,
   "metadata": {},
   "outputs": [],
   "source": [
    "# min true  selected\n",
    "min(list(sel_df[true]))"
   ]
  },
  {
   "cell_type": "code",
   "execution_count": null,
   "metadata": {},
   "outputs": [],
   "source": []
  },
  {
   "cell_type": "markdown",
   "metadata": {},
   "source": [
    "### FHC & RHC"
   ]
  },
  {
   "cell_type": "code",
   "execution_count": null,
   "metadata": {},
   "outputs": [],
   "source": [
    "comb_sel = pd.concat([fhc_sel, rhc_sel], ignore_index=True)\n",
    "comb_infv = pd.concat([fhc_infv, rhc_infv], ignore_index=True)"
   ]
  },
  {
   "cell_type": "code",
   "execution_count": null,
   "metadata": {},
   "outputs": [],
   "source": [
    "df_sel = comb_sel.query(signal)\n",
    "df_gen = comb_infv.query(signal)"
   ]
  },
  {
   "cell_type": "code",
   "execution_count": null,
   "metadata": {},
   "outputs": [],
   "source": [
    "true = 'true_e_visible'\n",
    "reco = 'NeutrinoEnergy2'\n",
    "\n",
    "\n",
    "# shr energy\n",
    "#bins = [0.09, .35, .65, 1.05, 1.5, 3]\n",
    "\n",
    "# reco energy \n",
    "bins = [ 0.19, .4, .61, .82, 1.03, 1.4, 2, 4 ]\n",
    "\n",
    "# track mult\n",
    "#bins = [1, 2, 3, 7]\n",
    "\n",
    "# hadron energy \n",
    "#bins = [.04, .23, .42, 1.3]\n",
    "\n",
    "\n"
   ]
  },
  {
   "cell_type": "code",
   "execution_count": null,
   "metadata": {},
   "outputs": [],
   "source": [
    "save = True"
   ]
  },
  {
   "cell_type": "code",
   "execution_count": null,
   "metadata": {},
   "outputs": [],
   "source": [
    "plt.figure(figsize=(8, 5))\n",
    "\n",
    "plt.hist(df_sel['true_e_visible'], 16, range=[0, 4],histtype='step', label='true visible energy', \n",
    "         color='limegreen', weights=df_sel['totweight_proj'])\n",
    "plt.hist(df_sel['nu_e'], 16, range=[0, 4], histtype='step', label='true $\\\\nu$ energy', \n",
    "         color='blue', weights=df_sel['totweight_proj'])\n",
    "\n",
    "plt.legend(fontsize=13)\n",
    "plt.xlabel(\"True Energy [GeV]\", fontsize=14)\n",
    "plt.xticks(fontsize=14)\n",
    "plt.yticks(fontsize=14)\n",
    "plt.ylim(0, 175)\n",
    "plt.ylabel(\"$\\\\nu$ / 2.12E21 POT\", fontsize=14)\n",
    "#plt.savefig(\"/uboone/data/users/kmiller/searchingfornues_v33/v08_00_00_33/plots/both/neutrino_visible_energy.pdf\", \n",
    "#            transparent=True, bbox_inches='tight') \n",
    "plt.show()"
   ]
  },
  {
   "cell_type": "code",
   "execution_count": null,
   "metadata": {},
   "outputs": [],
   "source": [
    "plt.figure(figsize=(8, 5))\n",
    "\n",
    "plt.hist(df_sel['true_e_visible'], 16, range=[0, 4],histtype='step', label='true visible energy', \n",
    "         color='limegreen', weights=df_sel['totweight_proj'])\n",
    "plt.hist(df_sel['NeutrinoEnergy2']/1000, 16, range=[0, 4], histtype='step', \n",
    "         label='reco energy', \n",
    "         color='red', weights=df_sel['totweight_proj'])\n",
    "\n",
    "plt.legend(fontsize=13)\n",
    "plt.xlabel(\"True Energy [GeV]\", fontsize=14)\n",
    "plt.xticks(fontsize=14)\n",
    "plt.yticks(fontsize=14)\n",
    "plt.ylim(0, 175)\n",
    "plt.ylabel(\"$\\\\nu$ / 2.12E21 POT\", fontsize=14)\n",
    "#plt.savefig(\"/uboone/data/users/kmiller/searchingfornues_v33/v08_00_00_33/plots/both/visible_reco_energy.pdf\", \n",
    "#            transparent=True, bbox_inches='tight') \n",
    "plt.show()"
   ]
  },
  {
   "cell_type": "code",
   "execution_count": null,
   "metadata": {},
   "outputs": [],
   "source": [
    "plt.figure(figsize=(8, 5))\n",
    "\n",
    "plt.hist(df_sel['nu_e'], 16, range=[0, 4],histtype='step', label='true $\\\\nu$ energy', \n",
    "         color='blue', weights=df_sel['totweight_proj'])\n",
    "plt.hist(df_sel['NeutrinoEnergy2']/1000, 16, range=[0, 4], histtype='step', \n",
    "         label='reco energy', \n",
    "         color='red', weights=df_sel['totweight_proj'])\n",
    "\n",
    "plt.legend(fontsize=13)\n",
    "plt.xlabel(\"True Energy [GeV]\", fontsize=14)\n",
    "plt.xticks(fontsize=14)\n",
    "plt.yticks(fontsize=14)\n",
    "plt.ylim(0, 175)\n",
    "plt.ylabel(\"$\\\\nu$ / 2.12E21 POT\", fontsize=14)\n",
    "#plt.savefig(\"/uboone/data/users/kmiller/searchingfornues_v33/v08_00_00_33/plots/both/neutrino_reco_energy.pdf\", \n",
    "#            transparent=True, bbox_inches='tight') \n",
    "plt.show()"
   ]
  },
  {
   "cell_type": "code",
   "execution_count": null,
   "metadata": {},
   "outputs": [],
   "source": [
    "true_reco_res(true, reco, df_sel, 'both', 325, save)"
   ]
  },
  {
   "cell_type": "code",
   "execution_count": null,
   "metadata": {},
   "outputs": [],
   "source": [
    "# normalized to data POT, but made from overlay POT\n",
    "\n",
    "smear_matrix(true, reco, bins, df_sel, 'both', 350, 'hadronic energy [GeV]', save)"
   ]
  },
  {
   "cell_type": "code",
   "execution_count": null,
   "metadata": {},
   "outputs": [],
   "source": []
  }
 ],
 "metadata": {
  "kernelspec": {
   "display_name": "Python 3",
   "language": "python",
   "name": "python3"
  },
  "language_info": {
   "codemirror_mode": {
    "name": "ipython",
    "version": 3
   },
   "file_extension": ".py",
   "mimetype": "text/x-python",
   "name": "python",
   "nbconvert_exporter": "python",
   "pygments_lexer": "ipython3",
   "version": "3.7.3"
  }
 },
 "nbformat": 4,
 "nbformat_minor": 4
}
