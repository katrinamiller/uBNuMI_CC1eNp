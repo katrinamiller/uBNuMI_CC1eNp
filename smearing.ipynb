{
 "cells": [
  {
   "cell_type": "code",
   "execution_count": null,
   "metadata": {},
   "outputs": [],
   "source": [
    "## Produce the smearing matrices & efficiencies using the intrinsic nue samples\n",
    "# able to handle both FHC & RHC separate or combined"
   ]
  },
  {
   "cell_type": "code",
   "execution_count": 1,
   "metadata": {},
   "outputs": [],
   "source": [
    "import sys\n",
    "\n",
    "from scipy.stats import norm\n",
    "from matplotlib.colors import LogNorm\n",
    "import xsec_functions\n",
    "\n",
    "import importlib\n",
    "import uproot\n",
    "import numpy as np\n",
    "import math\n",
    "import matplotlib.pyplot as plt\n",
    "import pandas as pd\n",
    "\n",
    "importlib.reload(xsec_functions)\n",
    "from xsec_functions import *\n",
    "\n",
    "import selection_functions\n",
    "\n"
   ]
  },
  {
   "cell_type": "code",
   "execution_count": 2,
   "metadata": {},
   "outputs": [],
   "source": [
    "importlib.reload(selection_functions)\n",
    "from selection_functions import *"
   ]
  },
  {
   "cell_type": "code",
   "execution_count": 3,
   "metadata": {},
   "outputs": [],
   "source": [
    "import awkward"
   ]
  },
  {
   "cell_type": "code",
   "execution_count": 4,
   "metadata": {},
   "outputs": [],
   "source": [
    "\n",
    "fhc_intrinsic_pot = 2.37838E22\n",
    "rhc_intrinsic_pot = 2.5345E22\n"
   ]
  },
  {
   "cell_type": "code",
   "execution_count": 5,
   "metadata": {},
   "outputs": [],
   "source": [
    "fold = \"nuselection\"\n",
    "tree = \"NeutrinoSelectionFilter\"\n",
    "\n",
    "path = '/uboone/data/users/kmiller/ntuples/run1/' #'/uboone/data/users/kmistry/work/MCC9/searchingfornues/'"
   ]
  },
  {
   "cell_type": "code",
   "execution_count": 6,
   "metadata": {},
   "outputs": [],
   "source": [
    "# REPLACE WITH NUE INTRINSIC\n",
    "\n",
    "# Run 1 FHC\n",
    "FHC_NUE = 'neutrinoselection_filt_run1_overlay_intrinsic_v7'\n",
    "#'ntuple_files_v7/neutrinoselection_filt_run1_overlay_intrinsic'\n"
   ]
  },
  {
   "cell_type": "code",
   "execution_count": null,
   "metadata": {},
   "outputs": [],
   "source": [
    "# Run 3b RHC\n",
    "RHC_NUE = 'ntuple_files_v7/neutrinoselection_filt_run3b_overlay_intrinsic'"
   ]
  },
  {
   "cell_type": "code",
   "execution_count": 7,
   "metadata": {},
   "outputs": [],
   "source": [
    "fhc_nue = uproot.open(path+FHC_NUE+\".root\")[fold][tree]"
   ]
  },
  {
   "cell_type": "code",
   "execution_count": null,
   "metadata": {},
   "outputs": [],
   "source": [
    "rhc_nue = uproot.open(path+RHC_NUE+\".root\")[fold][tree]"
   ]
  },
  {
   "cell_type": "code",
   "execution_count": 8,
   "metadata": {},
   "outputs": [],
   "source": [
    "uproot_v = [fhc_nue]#,rhc_nue]"
   ]
  },
  {
   "cell_type": "code",
   "execution_count": 9,
   "metadata": {},
   "outputs": [],
   "source": [
    "\n",
    "variables = [\n",
    "    \"selected\", \"nu_pdg\", \"shr_theta\",\n",
    "    \"trk_score_v\", \n",
    "    \"category\", \n",
    "    \"shr_tkfit_dedx_Y\",\n",
    "    \"ccnc\", \n",
    "    \"hits_ratio\", \"n_tracks_contained\", \n",
    "    \"NeutrinoEnergy2\",\n",
    "    \"run\",\"sub\",\"evt\",\n",
    "    \"CosmicIP\",\n",
    "    \"reco_nu_vtx_sce_x\",\"reco_nu_vtx_sce_y\",\"reco_nu_vtx_sce_z\",\n",
    "    \"nproton\", \"nu_e\", \"n_showers_contained\", \"nu_purity_from_pfp\", \n",
    "    \"shr_phi\", \"trk_phi\", \"trk_theta\", \"trk_pid_chipr_v\",\n",
    "    \"shr_score\", \n",
    "    \"trk_energy\", \"trk_energy_tot\", \"tksh_distance\", \"tksh_angle\",\n",
    "    \"npi0\", \"topological_score\",\n",
    "    \"shr_energy_tot_cali\", \n",
    "    \"nslice\", \"interaction\",\n",
    "    \"reco_nu_vtx_x\", \"reco_nu_vtx_y\", \"reco_nu_vtx_z\", \"contained_fraction\",\n",
    "    \"true_nu_vtx_x\", \"true_nu_vtx_y\" , \"true_nu_vtx_z\", \n",
    "    \"npion\", \"shr_energy_cali\", \n",
    "    \"all_trk_energies\", \"all_trk_hits\", \"all_shr_energies\", \"all_shr_hits\", ## for secondary shower / track \n",
    "    \"shrmoliereavg\", \"shr_px\", \"shr_py\", \"shr_pz\", \n",
    "    \"shrsubclusters0\",\"shrsubclusters1\",\"shrsubclusters2\", \n",
    "    \"shr_tkfit_npointsvalid\",\"shr_tkfit_npoints\", \"true_e_visible\", \"trkshrhitdist2\", \n",
    "    \"weightSplineTimesTune\", \"swtrig\", \"true_nu_px\", \"true_nu_py\", \"true_nu_pz\", \n",
    "            \"elec_e\", \"proton_e\", \"mc_px\", \"mc_py\", \"mc_pz\", \"elec_px\", \"elec_py\", \"elec_pz\", \n",
    "            \"swtrig_pre\", \"ppfx_cv\", \"mc_pdg\", \"weightsGenie\", \"weightsReint\", 'weightsPPFX', 'opening_angle' ]\n",
    "\n"
   ]
  },
  {
   "cell_type": "code",
   "execution_count": 10,
   "metadata": {},
   "outputs": [],
   "source": [
    "fhc_nue = fhc_nue.pandas.df(variables, flatten=False)"
   ]
  },
  {
   "cell_type": "code",
   "execution_count": null,
   "metadata": {},
   "outputs": [],
   "source": [
    "rhc_nue = rhc_nue.pandas.df(variables, flatten=False)"
   ]
  },
  {
   "cell_type": "code",
   "execution_count": 12,
   "metadata": {},
   "outputs": [],
   "source": [
    "df_v = [fhc_nue]#, rhc_nue]\n",
    "#df_v = addAngles(df_v)\n",
    "\n",
    "for i,df in enumerate(df_v):\n",
    "    up = uproot_v[i]\n",
    "    trk_llr_pid_v = up.array('trk_llr_pid_score_v')\n",
    "    trk_id = up.array('trk_id')-1 # I think we need this -1 to get the right result\n",
    "    trk_llr_pid_v_sel = awkward.fromiter([pidv[tid] if tid<len(pidv) else 9999. for pidv,tid in zip(trk_llr_pid_v,trk_id)])\n",
    "    df['trkpid'] = trk_llr_pid_v_sel\n",
    "    df['subcluster'] = df['shrsubclusters0'] + df['shrsubclusters1'] + df['shrsubclusters2']\n",
    "    df['trkfit'] = df['shr_tkfit_npointsvalid'] / df['shr_tkfit_npoints']\n",
    "    \n",
    "    # check? \n",
    "    df['hadron_tot_e'] = df['true_e_visible'] - df['elec_e']# - 0.000511\n",
    "    \n",
    "    df['weightsPPFX'] = df['weightsPPFX']/1000\n",
    "    \n"
   ]
  },
  {
   "cell_type": "code",
   "execution_count": 13,
   "metadata": {},
   "outputs": [],
   "source": [
    "fhc_mc = fhc_nue.query('swtrig==1')"
   ]
  },
  {
   "cell_type": "code",
   "execution_count": null,
   "metadata": {},
   "outputs": [],
   "source": [
    "rhc_mc = rhc_nue.query('swtrig==1')"
   ]
  },
  {
   "cell_type": "code",
   "execution_count": 14,
   "metadata": {},
   "outputs": [],
   "source": [
    "in_fv_query = \"10<=true_nu_vtx_x<=246 and -106<=true_nu_vtx_y<=106 and 10<=true_nu_vtx_z<=1026\"\n",
    "reco_in_fv_query = \"10<=reco_nu_vtx_sce_x<=246 and -106<=reco_nu_vtx_sce_y<=106 and 10<=reco_nu_vtx_sce_z<=1026\"\n",
    "\n",
    "signal = '(nu_pdg==12 and ccnc==0 and nproton>0 and npion==0 and npi0==0)'\n",
    "nue_CCother = '( ((nu_pdg==12 and ccnc==0) and (nproton==0 or npi0>0 or npion>0)) or (nu_pdg==-12 and ccnc==0 and (nproton==0 or npion>0 or npi0>0)) )'\n"
   ]
  },
  {
   "cell_type": "code",
   "execution_count": 15,
   "metadata": {},
   "outputs": [
    {
     "name": "stderr",
     "output_type": "stream",
     "text": [
      "/uboone/app/users/kmiller/miniconda/lib/python3.7/site-packages/ipykernel_launcher.py:2: SettingWithCopyWarning: \n",
      "A value is trying to be set on a copy of a slice from a DataFrame.\n",
      "Try using .loc[row_indexer,col_indexer] = value instead\n",
      "\n",
      "See the caveats in the documentation: http://pandas.pydata.org/pandas-docs/stable/user_guide/indexing.html#returning-a-view-versus-a-copy\n",
      "  \n",
      "/uboone/app/users/kmiller/miniconda/lib/python3.7/site-packages/ipykernel_launcher.py:3: SettingWithCopyWarning: \n",
      "A value is trying to be set on a copy of a slice from a DataFrame.\n",
      "Try using .loc[row_indexer,col_indexer] = value instead\n",
      "\n",
      "See the caveats in the documentation: http://pandas.pydata.org/pandas-docs/stable/user_guide/indexing.html#returning-a-view-versus-a-copy\n",
      "  This is separate from the ipykernel package so we can avoid doing imports until\n"
     ]
    }
   ],
   "source": [
    "fhc_infv = fhc_mc.query(in_fv_query+' and nu_purity_from_pfp>0.5')\n",
    "\n",
    "fhc_infv['data_pot_scale'] = 2.0E20/fhc_intrinsic_pot #9.23E20/fhc_overlay_pot\n",
    "fhc_infv['proj_pot_scale'] = 9.23E20/fhc_intrinsic_pot\n"
   ]
  },
  {
   "cell_type": "code",
   "execution_count": null,
   "metadata": {},
   "outputs": [],
   "source": [
    "rhc_infv = rhc_mc.query(in_fv_query+' and nu_purity_from_pfp>0.5')\n",
    "\n",
    "rhc_infv['data_pot_scale'] = 5.0E20/rhc_intrinsic_pot #11.95E20/rhc_overlay_pot\n",
    "rhc_infv['proj_pot_scale'] = 11.95E20/rhc_intrinsic_pot"
   ]
  },
  {
   "cell_type": "code",
   "execution_count": null,
   "metadata": {},
   "outputs": [],
   "source": []
  },
  {
   "cell_type": "markdown",
   "metadata": {},
   "source": [
    "## Weights"
   ]
  },
  {
   "cell_type": "code",
   "execution_count": 16,
   "metadata": {},
   "outputs": [
    {
     "name": "stderr",
     "output_type": "stream",
     "text": [
      "/uboone/app/users/kmiller/miniconda/lib/python3.7/site-packages/pandas/core/indexing.py:494: SettingWithCopyWarning: \n",
      "A value is trying to be set on a copy of a slice from a DataFrame.\n",
      "Try using .loc[row_indexer,col_indexer] = value instead\n",
      "\n",
      "See the caveats in the documentation: http://pandas.pydata.org/pandas-docs/stable/user_guide/indexing.html#returning-a-view-versus-a-copy\n",
      "  self.obj[item] = s\n",
      "/uboone/app/users/kmiller/miniconda/lib/python3.7/site-packages/ipykernel_launcher.py:10: SettingWithCopyWarning: \n",
      "A value is trying to be set on a copy of a slice from a DataFrame.\n",
      "Try using .loc[row_indexer,col_indexer] = value instead\n",
      "\n",
      "See the caveats in the documentation: http://pandas.pydata.org/pandas-docs/stable/user_guide/indexing.html#returning-a-view-versus-a-copy\n",
      "  # Remove the CWD from sys.path while we load stuff.\n",
      "/uboone/app/users/kmiller/miniconda/lib/python3.7/site-packages/ipykernel_launcher.py:11: SettingWithCopyWarning: \n",
      "A value is trying to be set on a copy of a slice from a DataFrame.\n",
      "Try using .loc[row_indexer,col_indexer] = value instead\n",
      "\n",
      "See the caveats in the documentation: http://pandas.pydata.org/pandas-docs/stable/user_guide/indexing.html#returning-a-view-versus-a-copy\n",
      "  # This is added back by InteractiveShellApp.init_path()\n",
      "/uboone/app/users/kmiller/miniconda/lib/python3.7/site-packages/ipykernel_launcher.py:12: SettingWithCopyWarning: \n",
      "A value is trying to be set on a copy of a slice from a DataFrame.\n",
      "Try using .loc[row_indexer,col_indexer] = value instead\n",
      "\n",
      "See the caveats in the documentation: http://pandas.pydata.org/pandas-docs/stable/user_guide/indexing.html#returning-a-view-versus-a-copy\n",
      "  if sys.path[0] == '':\n"
     ]
    }
   ],
   "source": [
    "# flux & GENIE weighting \n",
    "\n",
    "for i,df in enumerate([fhc_infv]):#, rhc_infv]):\n",
    "    df.loc[ df['weightSplineTimesTune'] <= 0, 'weightSplineTimesTune' ] = 1.\n",
    "    df.loc[ df['weightSplineTimesTune'] == np.inf, 'weightSplineTimesTune' ] = 1.\n",
    "    df.loc[ df['weightSplineTimesTune'] > 100, 'weightSplineTimesTune' ] = 1.\n",
    "    df.loc[ np.isnan(df['weightSplineTimesTune']) == True, 'weightSplineTimesTune' ] = 1.\n",
    "\n",
    "# total weight \n",
    "fhc_infv['totweight_data'] = fhc_infv['data_pot_scale']*fhc_infv['weightSplineTimesTune']*fhc_infv['ppfx_cv']\n",
    "fhc_infv['totweight_proj'] = fhc_infv['proj_pot_scale']*fhc_infv['weightSplineTimesTune']*fhc_infv['ppfx_cv']\n",
    "fhc_infv['totweight_intrinsic'] = fhc_infv['weightSplineTimesTune']*fhc_infv['ppfx_cv']\n",
    "\n"
   ]
  },
  {
   "cell_type": "code",
   "execution_count": null,
   "metadata": {},
   "outputs": [],
   "source": [
    "rhc_infv['totweight_data'] = rhc_infv['data_pot_scale']*rhc_infv['weightSplineTimesTune']*rhc_infv['ppfx_cv']\n",
    "rhc_infv['totweight_proj'] = rhc_infv['proj_pot_scale']*rhc_infv['weightSplineTimesTune']*rhc_infv['ppfx_cv']\n",
    "rhc_infv['totweight_intrinsic'] = rhc_infv['weightSplineTimesTune']*rhc_infv['ppfx_cv']\n"
   ]
  },
  {
   "cell_type": "code",
   "execution_count": 17,
   "metadata": {},
   "outputs": [
    {
     "name": "stderr",
     "output_type": "stream",
     "text": [
      "/uboone/app/users/kmiller/miniconda/lib/python3.7/site-packages/ipykernel_launcher.py:1: SettingWithCopyWarning: \n",
      "A value is trying to be set on a copy of a slice from a DataFrame.\n",
      "Try using .loc[row_indexer,col_indexer] = value instead\n",
      "\n",
      "See the caveats in the documentation: http://pandas.pydata.org/pandas-docs/stable/user_guide/indexing.html#returning-a-view-versus-a-copy\n",
      "  \"\"\"Entry point for launching an IPython kernel.\n"
     ]
    }
   ],
   "source": [
    "fhc_infv['horn'] = 'fhc'\n",
    "rhc_infv['horn'] = 'rhc'"
   ]
  },
  {
   "cell_type": "code",
   "execution_count": null,
   "metadata": {},
   "outputs": [],
   "source": [
    "# nue & nuebar events within the true FV \n",
    "comb_infv = pd.concat([fhc_infv, rhc_infv], ignore_index=True)"
   ]
  },
  {
   "cell_type": "markdown",
   "metadata": {},
   "source": [
    "## Linear Selection "
   ]
  },
  {
   "cell_type": "code",
   "execution_count": null,
   "metadata": {},
   "outputs": [],
   "source": [
    "# PRESELECTION \n",
    "\n",
    "reco_in_fv_query = \"10<=reco_nu_vtx_sce_x<=246 and -106<=reco_nu_vtx_sce_y<=106 and 10<=reco_nu_vtx_sce_z<=1026\"\n",
    "\n",
    "PRE_QUERY = 'nslice==1'\n",
    "PRE_QUERY += ' and ' + reco_in_fv_query\n",
    "PRE_QUERY +=' and contained_fraction>0.9'\n",
    "PRE_QUERY += ' and n_showers_contained>0'\n",
    "PRE_QUERY += ' and n_tracks_contained>0'"
   ]
  },
  {
   "cell_type": "code",
   "execution_count": null,
   "metadata": {},
   "outputs": [],
   "source": [
    "# FHC selection\n",
    "\n",
    "FHC_SEL_QUERY = PRE_QUERY\n",
    "FHC_SEL_QUERY += ' and shr_energy_tot_cali>0.07'\n",
    "\n",
    "FHC_SEL_QUERY += ' and shr_score<0.125'\n",
    "FHC_SEL_QUERY += ' and shrmoliereavg < 8'\n",
    "FHC_SEL_QUERY += ' and trkpid<0'\n",
    "\n",
    "FHC_SEL_QUERY += ' and n_showers_contained == 1'\n",
    "FHC_SEL_QUERY += ' and shr_tkfit_dedx_Y<4'\n",
    "FHC_SEL_QUERY += ' and tksh_distance<5'\n",
    "#FHC_SEL_QUERY += ' and -0.8<tksh_angle<0.8'\n",
    "\n",
    "fhc_sel = fhc_infv.query(FHC_SEL_QUERY)\n",
    "\n"
   ]
  },
  {
   "cell_type": "code",
   "execution_count": null,
   "metadata": {},
   "outputs": [],
   "source": [
    "# RHC Selection \n",
    "\n",
    "RHC_SEL_QUERY = PRE_QUERY\n",
    "RHC_SEL_QUERY += ' and shr_energy_tot_cali>0.07'\n",
    "\n",
    "RHC_SEL_QUERY += ' and shr_score<0.125'\n",
    "RHC_SEL_QUERY += ' and shrmoliereavg < 8'\n",
    "RHC_SEL_QUERY += ' and trkpid<0'\n",
    "\n",
    "RHC_SEL_QUERY += ' and n_showers_contained == 1'\n",
    "RHC_SEL_QUERY += ' and shr_tkfit_dedx_Y<4'\n",
    "RHC_SEL_QUERY += ' and tksh_distance<4'\n",
    "RHC_SEL_QUERY += ' and -0.8<tksh_angle<0.8'\n",
    "\n",
    "rhc_sel = rhc_infv.query(RHC_SEL_QUERY)"
   ]
  },
  {
   "cell_type": "code",
   "execution_count": null,
   "metadata": {},
   "outputs": [],
   "source": [
    "comb_sel = pd.concat([fhc_sel, rhc_sel], ignore_index=True)"
   ]
  },
  {
   "cell_type": "markdown",
   "metadata": {},
   "source": [
    "### Opening Angle"
   ]
  },
  {
   "cell_type": "code",
   "execution_count": null,
   "metadata": {},
   "outputs": [],
   "source": [
    "signal = '(nu_pdg==12 and ccnc==0 and nproton>0 and npion==0 and npi0==0 and -0.8<opening_angle<0.8)'"
   ]
  },
  {
   "cell_type": "code",
   "execution_count": null,
   "metadata": {},
   "outputs": [],
   "source": [
    "# distribution of generated signal events across opening angle \n",
    "\n",
    "fig = plt.figure(figsize=(8, 5))\n",
    "\n",
    "gen = plt.hist(fhc_infv.query(signal)['opening_angle'], 20, color='orange', range=[-1, 1])\n",
    "\n",
    "plt.xlabel(\"cos $\\\\theta$\", fontsize=15)\n",
    "plt.ylabel(\"# of generated signal events\", fontsize=15)\n",
    "\n",
    "plt.xticks(fontsize=14)\n",
    "plt.yticks(fontsize=14)\n",
    "\n",
    "plt.title(\"Signal: PDG==12, CC, N>0 protons, 0 pions, Op.Angle < +/-0.8 \", fontsize=14)\n",
    "#plt.savefig(\"/uboone/data/users/kmiller/searchingfornues_v33/v08_00_00_33/plots/fhc/.pdf\", transparent=True)\n",
    "plt.show()"
   ]
  },
  {
   "cell_type": "code",
   "execution_count": null,
   "metadata": {},
   "outputs": [],
   "source": [
    "# distribution of selected signal events across opening angle \n",
    "\n",
    "fig = plt.figure(figsize=(8, 5))\n",
    "\n",
    "sel = plt.hist(fhc_sel.query(signal)['opening_angle'], 20, color='orange', range=[-1, 1])\n",
    "\n",
    "plt.xlabel(\"cos $\\\\theta$\", fontsize=15)\n",
    "plt.ylabel(\"# of selected signal events\", fontsize=15)\n",
    "\n",
    "plt.xticks(fontsize=14)\n",
    "plt.yticks(fontsize=14)\n",
    "\n",
    "plt.title(\"Signal: PDG==12, CC, N>0 protons, 0 pions, Op.Angle < +/-0.8\\nLinear Selection w/o tksh_angle Cut \", fontsize=14)\n",
    "\n",
    "plt.show()"
   ]
  },
  {
   "cell_type": "code",
   "execution_count": null,
   "metadata": {},
   "outputs": [],
   "source": [
    "# efficiency across opening angle (current linear selection)\n",
    "\n",
    "eff = [x/y for x, y in zip(sel[0], gen[0])]\n",
    "eff_err = [ np.sqrt( (eff[i]*(1-eff[i]))/gen[0][i] ) for i in range(len(eff))]\n",
    "\n",
    "bincenters = 0.5*(gen[1][1:]+gen[1][:-1])\n",
    "binwidth = [abs(gen[1][1]-gen[1][0])/2 for x in range(len(bincenters))]\n",
    "\n",
    "fig = plt.figure(figsize=(8, 5))\n",
    "\n",
    "plt.errorbar(bincenters, eff, xerr=binwidth, yerr=eff_err, fmt='o', color='seagreen', ecolor='seagreen', markersize=3) \n",
    "\n",
    "plt.xlabel(\"cos $\\\\theta$\", fontsize=15)\n",
    "plt.ylabel(\"Efficiency\", fontsize=15)\n",
    "\n",
    "plt.xticks(fontsize=14)\n",
    "plt.yticks(fontsize=14)\n",
    "\n",
    "plt.ylim(0, 0.25)\n",
    "\n",
    "plt.title(\"Signal: PDG==12, CC, N>0 protons, 0 pions\\nLinear Selection with tksh_angle Cut \", fontsize=14)\n",
    "plt.grid(linestyle=':')\n",
    "plt.show()\n",
    "\n"
   ]
  },
  {
   "cell_type": "code",
   "execution_count": null,
   "metadata": {},
   "outputs": [],
   "source": [
    "# efficiency across opening angle (lin sel without tksh_angle cut)\n",
    "\n",
    "\n",
    "eff = [x/y for x, y in zip(sel[0], gen[0])]\n",
    "eff_err = [ np.sqrt( (eff[i]*(1-eff[i]))/gen[0][i] ) for i in range(len(eff))]\n",
    "\n",
    "bincenters = 0.5*(gen[1][1:]+gen[1][:-1])\n",
    "binwidth = [abs(gen[1][1]-gen[1][0])/2 for x in range(len(bincenters))]\n",
    "\n",
    "fig = plt.figure(figsize=(8, 5))\n",
    "\n",
    "plt.errorbar(bincenters, eff, xerr=binwidth, yerr=eff_err, fmt='o', color='seagreen', ecolor='seagreen', markersize=3) \n",
    "\n",
    "plt.xlabel(\"cos $\\\\theta$\", fontsize=15)\n",
    "plt.ylabel(\"Efficiency\", fontsize=15)\n",
    "\n",
    "plt.xticks(fontsize=14)\n",
    "plt.yticks(fontsize=14)\n",
    "\n",
    "plt.ylim(0, 0.25)\n",
    "\n",
    "plt.title(\"Signal: PDG==12, CC, N>0 protons, 0 pions, \\nLinear Selection w/o tksh_angle Cut \", fontsize=14)\n",
    "plt.grid(linestyle=':')\n",
    "plt.show()"
   ]
  },
  {
   "cell_type": "code",
   "execution_count": null,
   "metadata": {},
   "outputs": [],
   "source": [
    "# efficiency across opening angle (lin sel without tksh_angle cut & modified signal def )\n",
    "\n",
    "\n",
    "# efficiency across opening angle (lin sel without tksh_angle cut)\n",
    "\n",
    "\n",
    "eff = [x/y for x, y in zip(sel[0], gen[0])]\n",
    "eff_err = [ np.sqrt( (eff[i]*(1-eff[i]))/gen[0][i] ) for i in range(len(eff))]\n",
    "\n",
    "bincenters = 0.5*(gen[1][1:]+gen[1][:-1])\n",
    "binwidth = [abs(gen[1][1]-gen[1][0])/2 for x in range(len(bincenters))]\n",
    "\n",
    "fig = plt.figure(figsize=(8, 5))\n",
    "\n",
    "plt.errorbar(bincenters, eff, xerr=binwidth, yerr=eff_err, fmt='o', color='seagreen', ecolor='seagreen', markersize=3) \n",
    "\n",
    "plt.xlabel(\"cos $\\\\theta$\", fontsize=15)\n",
    "plt.ylabel(\"Efficiency\", fontsize=15)\n",
    "\n",
    "plt.xticks(fontsize=14)\n",
    "plt.yticks(fontsize=14)\n",
    "\n",
    "plt.xlim(-1, 1)\n",
    "plt.ylim(0, 0.25)\n",
    "\n",
    "plt.title(\"Signal: PDG==12, CC, N>0 protons, 0 pions, Op.Angle < +/-0.8\\nLinear Selection w/o tksh_angle Cut \", fontsize=14)\n",
    "plt.grid(linestyle=':')\n",
    "plt.show()"
   ]
  },
  {
   "cell_type": "code",
   "execution_count": null,
   "metadata": {},
   "outputs": [],
   "source": []
  },
  {
   "cell_type": "code",
   "execution_count": null,
   "metadata": {},
   "outputs": [],
   "source": []
  },
  {
   "cell_type": "markdown",
   "metadata": {},
   "source": [
    "## BDT selection"
   ]
  },
  {
   "cell_type": "code",
   "execution_count": 18,
   "metadata": {},
   "outputs": [],
   "source": [
    "# rather than re-train the BDT, we need to import the same model used in selection.ipynb\n",
    "\n",
    "import xgboost as xgb"
   ]
  },
  {
   "cell_type": "code",
   "execution_count": 19,
   "metadata": {},
   "outputs": [],
   "source": [
    "bdt_model = xgb.Booster({'nthread': 4})  # init model"
   ]
  },
  {
   "cell_type": "code",
   "execution_count": 20,
   "metadata": {},
   "outputs": [],
   "source": [
    "bdt_model.load_model('bdt_model_feb2021.model')"
   ]
  },
  {
   "cell_type": "code",
   "execution_count": null,
   "metadata": {},
   "outputs": [],
   "source": []
  },
  {
   "cell_type": "code",
   "execution_count": 21,
   "metadata": {},
   "outputs": [],
   "source": [
    "BDT_PRE_QUERY = 'nslice==1'\n",
    "BDT_PRE_QUERY += ' and ' + reco_in_fv_query\n",
    "BDT_PRE_QUERY +=' and contained_fraction>0.9'\n",
    "BDT_PRE_QUERY += ' and n_tracks_contained>0'\n",
    "BDT_PRE_QUERY += ' and n_showers_contained==1'\n",
    "BDT_PRE_QUERY += ' and shr_energy_tot_cali>0.07'"
   ]
  },
  {
   "cell_type": "code",
   "execution_count": 22,
   "metadata": {},
   "outputs": [],
   "source": [
    "BDT_LOOSE_CUTS = BDT_PRE_QUERY\n",
    "BDT_LOOSE_CUTS += ' and shr_score<0.3'\n",
    "BDT_LOOSE_CUTS += ' and trkpid<0.35'\n",
    "BDT_LOOSE_CUTS += ' and shrmoliereavg<15'\n",
    "BDT_LOOSE_CUTS += ' and shr_tkfit_dedx_Y<7'\n",
    "BDT_LOOSE_CUTS += ' and tksh_distance<12'"
   ]
  },
  {
   "cell_type": "code",
   "execution_count": 24,
   "metadata": {},
   "outputs": [],
   "source": [
    "# apply the saved model to our df \n",
    "\n",
    "varlist = [\n",
    "    \"shr_score\", \"shrmoliereavg\", \"trkpid\",\n",
    "    \"n_showers_contained\", \"shr_tkfit_dedx_Y\", \"tksh_distance\",\n",
    "    \"tksh_angle\", \"subcluster\", \"trkshrhitdist2\"]\n",
    "\n",
    "# apply cuts\n",
    "bdt_results = fhc_infv.copy()\n",
    "bdt_results = bdt_results.query(BDT_LOOSE_CUTS)\n",
    "\n",
    "# clean datasets \n",
    "for column in varlist:\n",
    "        bdt_results.loc[(bdt_results[column] < -1.0e37) | (bdt_results[column] > 1.0e37), column] = np.nan\n",
    "    \n",
    "# create testing dmatrix \n",
    "bdt_results_test = xgb.DMatrix(data=bdt_results[varlist])\n",
    "    \n",
    "# apply the bdt selection\n",
    "preds = bdt_model.predict(bdt_results_test)\n",
    "\n",
    "# add columns for plotting \n",
    "bdt_results['BDT_score'] = preds"
   ]
  },
  {
   "cell_type": "code",
   "execution_count": 26,
   "metadata": {},
   "outputs": [],
   "source": [
    "selected = bdt_results.query('BDT_score>0.575')"
   ]
  },
  {
   "cell_type": "markdown",
   "metadata": {},
   "source": [
    "### Opening Angle"
   ]
  },
  {
   "cell_type": "code",
   "execution_count": null,
   "metadata": {},
   "outputs": [],
   "source": [
    "# compute the magnitude of all MC Particles\n",
    "def mc_p(df):\n",
    "    \n",
    "    p_all = []\n",
    "    for index, row in df.iterrows():\n",
    "        p_row = []\n",
    "        for i in range(len(row['mc_pdg'])): \n",
    "            p = math.sqrt( row['mc_px'][i]*row['mc_px'][i] + row['mc_py'][i]*row['mc_py'][i] + row['mc_pz'][i]*row['mc_pz'][i] )\n",
    "            p_row.append(p)\n",
    "        \n",
    "        p_all.append( p_row )\n",
    "    \n",
    "    df['mc_p'] = p_all \n",
    "    \n",
    "    return df \n"
   ]
  },
  {
   "cell_type": "code",
   "execution_count": null,
   "metadata": {},
   "outputs": [],
   "source": [
    "# now get the proton with the highest momentum \n",
    "# use this to construct the truth opening angle \n",
    "\n",
    "def tksh_angle_truth(df): \n",
    "    \n",
    "    tksh_angle_truth = []\n",
    "    for index, row in df.iterrows(): \n",
    "\n",
    "        proton_max_p = 0\n",
    "        proton_max_p_idx = 0\n",
    "    \n",
    "        # for each index in the PDG list \n",
    "        for i in range(len(row['mc_pdg'])): \n",
    "        \n",
    "            # check if it is a proton \n",
    "            if row['mc_pdg'][i]==2212: \n",
    "                # check if it is max\n",
    "                if row['mc_p'][i]>proton_max_p: \n",
    "                    # if so, replace\n",
    "                    proton_max_p = row['mc_p'][i] \n",
    "                    proton_max_p_idx = i \n",
    "                \n",
    "        # now use the leading proton index to compute the opening angle \n",
    "        proton_p = [ row['mc_px'][i], row['mc_py'][i], row['mc_pz'][i] ]\n",
    "    \n",
    "        # and construct electron vector (should be norm'd already)\n",
    "        elec_p = [ row['elec_px'], row['elec_py'], row['elec_pz'] ]\n",
    "        elec_p_mag = np.sqrt((elec_p[0]*elec_p[0])+(elec_p[1]*elec_p[1])+(elec_p[2]*elec_p[2]))\n",
    "    \n",
    "        # opening angle \n",
    "        cos = np.dot(proton_p, elec_p) / (proton_max_p*elec_p_mag)\n",
    "        if proton_max_p==0 or elec_p_mag==0: \n",
    "            tksh_angle_truth.append(np.nan)\n",
    "        \n",
    "        else: \n",
    "            tksh_angle_truth.append(cos)\n",
    "            \n",
    "    df['opening_angle'] = tksh_angle_truth \n",
    "    \n",
    "    return df\n",
    " "
   ]
  },
  {
   "cell_type": "code",
   "execution_count": null,
   "metadata": {},
   "outputs": [],
   "source": [
    "fhc_sel = mc_p(fhc_sel)\n",
    "rhc_sel = mc_p(rhc_sel)"
   ]
  },
  {
   "cell_type": "code",
   "execution_count": null,
   "metadata": {},
   "outputs": [],
   "source": [
    "fhc_sel = tksh_angle_truth(fhc_sel)\n",
    "rhc_sel = tksh_angle_truth(rhc_sel)"
   ]
  },
  {
   "cell_type": "code",
   "execution_count": null,
   "metadata": {},
   "outputs": [],
   "source": [
    "fhc_sel.query('opening_angle>1')['opening_angle']"
   ]
  },
  {
   "cell_type": "code",
   "execution_count": null,
   "metadata": {},
   "outputs": [],
   "source": [
    "fhc_sel.query('opening_angle<-1')['opening_angle']"
   ]
  },
  {
   "cell_type": "code",
   "execution_count": null,
   "metadata": {},
   "outputs": [],
   "source": [
    "plt.hist([fhc_sel.query(signal)['opening_angle'], fhc_sel.query(signal)['tksh_angle']], 5,\n",
    "        histtype='step', label=['true', 'reco'], weights=[fhc_sel.query(signal)['totweight_proj'], \n",
    "                                                          fhc_sel.query(signal)['totweight_proj']])\n",
    "plt.title('Opening Angle')\n",
    "plt.xlabel('cos $\\\\theta$')\n",
    "plt.ylabel('$\\\\nu$ \\ 9.23E20 POT')\n",
    "plt.legend()\n",
    "\n",
    "#plt.savefig('/uboone/data/users/kmiller/searchingfornues_v33/v08_00_00_33/plots/fhc/opening_angle_wide.pdf', \n",
    "#         transparent=True, bbox_inches='tight')\n",
    "plt.show()\n",
    "\n"
   ]
  },
  {
   "cell_type": "markdown",
   "metadata": {},
   "source": [
    "### scattering angle "
   ]
  },
  {
   "cell_type": "code",
   "execution_count": null,
   "metadata": {},
   "outputs": [],
   "source": [
    "# construct the true scattering angle \n",
    "\n",
    "def true_scatangle(df): \n",
    "    # length of the neutrino momentum vector\n",
    "    nu_p_length = np.sqrt((df['true_nu_px']*df['true_nu_px'] + df['true_nu_py']*df['true_nu_py'] + df['true_nu_pz']*df['true_nu_pz']))\n",
    "    df['true_nu_pmag'] = nu_p_length\n",
    "\n",
    "    # use the normalized neutrino & electron momentum vectors (both in det coordinates) to construct the angle\n",
    "    df['true_scatangle'] = ((df['true_nu_px']/df['true_nu_pmag'])*df['elec_px'])+((df['true_nu_py']/df['true_nu_pmag'])*df['elec_py'])+((df['true_nu_pz']/df['true_nu_pmag'])*df['elec_pz'])\n",
    "   \n",
    "    return df"
   ]
  },
  {
   "cell_type": "code",
   "execution_count": null,
   "metadata": {},
   "outputs": [],
   "source": [
    "# construct the reco scattering angle \n",
    "\n",
    "def reco_scatangle(df): \n",
    "\n",
    "\n",
    "    # step 1: construct the neutrino direction vector (interaction vertex - beam target) in detector coordinates\n",
    "    NuMITargetPos = fromBeamtoDet(0, 0, 0, False)\n",
    "\n",
    "    # neutrino direction vector - detector coordinates, reconstructed, normalized\n",
    "    \n",
    "    nuX = df['reco_nu_vtx_sce_x'] - NuMITargetPos[0]\n",
    "    nuY = df['reco_nu_vtx_sce_y'] - NuMITargetPos[1]\n",
    "    nuZ = df['reco_nu_vtx_sce_z'] - NuMITargetPos[2]\n",
    "\n",
    "    nu_dir_mag = np.sqrt((nuX*nuX)+(nuY*nuY)+(nuZ*nuZ))\n",
    "\n",
    "\n",
    "    # step 2: normalize the neutrino direction vector and the reco shower momentum vector \n",
    "    nuX = nuX/nu_dir_mag\n",
    "    nuY = nuY/nu_dir_mag\n",
    "    nuZ = nuZ/nu_dir_mag\n",
    "\n",
    "    shr_px = df['shr_px']\n",
    "    shr_py = df['shr_py']\n",
    "    shr_pz = df['shr_pz']\n",
    "\n",
    "    shr_p_mag = np.sqrt((shr_px*shr_px)+(shr_py*shr_py)+(shr_pz*shr_pz))\n",
    "\n",
    "    shr_px = shr_px/shr_p_mag\n",
    "    shr_py = shr_py/shr_p_mag\n",
    "    shr_pz = shr_pz/shr_p_mag\n",
    "\n",
    "    # step 3: take the dot product between them \n",
    "\n",
    "    df['reco_scatangle'] = ( (nuX*shr_px)+(nuY*shr_py)+(nuZ*shr_pz) )\n",
    "    \n",
    "    return df\n",
    "\n"
   ]
  },
  {
   "cell_type": "code",
   "execution_count": null,
   "metadata": {},
   "outputs": [],
   "source": [
    "fhc_sel = true_scatangle(fhc_sel)\n",
    "rhc_sel = true_scatangle(rhc_sel)"
   ]
  },
  {
   "cell_type": "code",
   "execution_count": null,
   "metadata": {},
   "outputs": [],
   "source": [
    "fhc_sel = reco_scatangle(fhc_sel)\n",
    "rhc_sel = reco_scatangle(rhc_sel)"
   ]
  },
  {
   "cell_type": "code",
   "execution_count": null,
   "metadata": {},
   "outputs": [],
   "source": [
    "from matplotlib.colors import LogNorm"
   ]
  },
  {
   "cell_type": "code",
   "execution_count": null,
   "metadata": {},
   "outputs": [],
   "source": [
    "# angle off the beamline - numi coordinates (degrees)\n",
    "\n",
    "plt.figure(figsize=(8, 5))\n",
    "\n",
    "plt.hist([fhc_infv['thbeam'], fhc_infv['phibeam']], \n",
    "          40, histtype='step', weights=[fhc_infv['totweight_proj'], fhc_infv['totweight_proj']], \n",
    "          label=['$\\\\theta$ (off beamline)', '$\\\\phi$ (XY plane)'])\n",
    "plt.xlabel('Angle [deg]', fontsize=14)\n",
    "plt.ylabel('$\\\\nu$ / 9.23E20 POT', fontsize=14)\n",
    "plt.yscale(\"log\")\n",
    "plt.xticks(fontsize=14)\n",
    "plt.yticks(fontsize=14)\n",
    "plt.title('FHC events in FV (overlay only)', fontsize=14)\n",
    "plt.legend(fontsize=13)\n",
    "plt.savefig('/uboone/data/users/kmiller/searchingfornues_v33/v08_00_00_33/plots/fhc/thetavsphi.pdf', \n",
    "         transparent=True, bbox_inches='tight')\n",
    "plt.show()"
   ]
  },
  {
   "cell_type": "code",
   "execution_count": null,
   "metadata": {},
   "outputs": [],
   "source": [
    "\n",
    "plt.figure(figsize=(8, 6))\n",
    "\n",
    "plt.hist2d(fhc_infv['nu_e'], fhc_infv['thbeam'], \n",
    "           40, cmin=0.0000001, range=[[0, 5], [0, 140]], weights=fhc_infv['totweight_proj'])#, norm=LogNorm())\n",
    "plt.xlabel('true neutrino energy [GeV]', fontsize=14)\n",
    "plt.ylabel('true angle off beamline [deg]', fontsize=14)\n",
    "#plt.ylabel('$\\\\nu$ / 9.23E20 POT', fontsize=14)\n",
    "#plt.yscale(\"log\")\n",
    "plt.xticks(fontsize=14)\n",
    "plt.yticks(fontsize=14)\n",
    "cbar = plt.colorbar()\n",
    "#cbar.set_label('$\\\\nu$ / 11.95E20 POT (RHC projected)', fontsize=14)\n",
    "cbar.ax.tick_params(labelsize=14)\n",
    "plt.title(\"FHC events in FV (overlay only)\", fontsize=14)\n",
    "#plt.savefig('/uboone/data/users/kmiller/searchingfornues_v33/v08_00_00_33/plots/rhc/rhc_infv2d.pdf', \n",
    "#           transparent=True, bbox_inches='tight')\n",
    "plt.show()\n",
    "\n",
    "\n",
    "\n",
    "plt.figure(figsize=(8, 6))\n",
    "\n",
    "plt.hist2d(fhc_sel['nu_e'], fhc_sel['thbeam'], \n",
    "           40, cmin=0.0000001, range=[[0, 5], [0, 140]], weights=fhc_sel['totweight_proj'])\n",
    "          #, norm=LogNorm())\n",
    "plt.xlabel('true neutrino energy [GeV]', fontsize=14)\n",
    "plt.ylabel('true angle off beamline [deg]', fontsize=14)\n",
    "#plt.ylabel('$\\\\nu$ / 9.23E20 POT', fontsize=14)\n",
    "#plt.yscale(\"log\")\n",
    "plt.xticks(fontsize=14)\n",
    "plt.yticks(fontsize=14)\n",
    "cbar = plt.colorbar()\n",
    "cbar.ax.tick_params(labelsize=14)\n",
    "plt.title(\"FHC selected events in FV (overlay only)\", fontsize=14)\n",
    "#cbar.set_label('$\\\\nu$ / 11.95E20 POT (RHC projected)', fontsize=14)\n",
    "#plt.savefig('/uboone/data/users/kmiller/searchingfornues_v33/v08_00_00_33/plots/rhc/rhc_sel2d.pdf', \n",
    "#           transparent=True, bbox_inches='tight')\n",
    "plt.show()"
   ]
  },
  {
   "cell_type": "code",
   "execution_count": null,
   "metadata": {},
   "outputs": [],
   "source": [
    "# distribution of selected signal \n",
    "\n",
    "plt.hist(fhc_sel.query(signal)['theta'], 10, range=[0, 3], histtype='step', color='orange')\n",
    "plt.xlabel('cos($\\\\theta$)', fontsize=14)\n",
    "plt.title(\"angle between incoming & outgoing leptons - what is this?\")\n",
    "plt.show()"
   ]
  },
  {
   "cell_type": "code",
   "execution_count": null,
   "metadata": {},
   "outputs": [],
   "source": [
    "# smearing 1D\n",
    "\n",
    "plt.hist([fhc_sel.query(signal)['true_scatangle'], fhc_sel.query(signal)['reco_scatangle']], \n",
    "         20, histtype='step', weights=[fhc_sel.query(signal)['totweight_proj'], \n",
    "                                      fhc_sel.query(signal)['totweight_proj']], \n",
    "        label=['true', 'reco'])\n",
    "plt.xlabel('cos($\\\\theta$)', fontsize=14)\n",
    "plt.legend(loc=2)\n",
    "plt.title(\"angle between incoming & outgoing leptons\")\n",
    "#plt.savefig('/uboone/data/users/kmiller/searchingfornues_v33/v08_00_00_33/plots/fhc/fhc_scatangle.pdf', \n",
    "#           transparent=True, bbox_inches='tight')\n",
    "plt.show()"
   ]
  },
  {
   "cell_type": "code",
   "execution_count": null,
   "metadata": {},
   "outputs": [],
   "source": [
    "# does this assume the neutrino is coming from BNB direction? \n",
    "\n",
    "plt.hist([fhc_sel.query(signal)['theta'], fhc_sel.query(signal)['shr_theta']],\n",
    "         20, range=[0, 3], histtype='step', label=['true', 'reco'])\n",
    "plt.xlabel('cos($\\\\theta$)', fontsize=14)\n",
    "plt.title(\"angle between incoming & outgoing leptons\")\n",
    "plt.legend()\n",
    "#plt.savefig('/uboone/data/users/kmiller/searchingfornues_v33/v08_00_00_33/plots/fhc/fhc_theta.pdf', \n",
    "#           transparent=True, bbox_inches='tight')\n",
    "plt.show()"
   ]
  },
  {
   "cell_type": "code",
   "execution_count": null,
   "metadata": {},
   "outputs": [],
   "source": []
  },
  {
   "cell_type": "markdown",
   "metadata": {},
   "source": [
    "### smearing & binning"
   ]
  },
  {
   "cell_type": "code",
   "execution_count": null,
   "metadata": {},
   "outputs": [],
   "source": [
    "#reco = 'n_tracks_contained'\n",
    "#true = 'nproton'\n",
    "#bins = [1, 2, 3, 7]\n",
    "\n",
    "# total or leading? Uh oh  \n",
    "#true = 'proton_e'\n",
    "#reco = 'trk_energy' #trk_energy_tot ?? \n",
    "#bins = [ 0.04, 0.24, 0.44, 1.26 ]\n",
    "\n",
    "#true = 'true_e_visible'\n",
    "#reco = 'NeutrinoEnergy2'\n",
    "#bins = [0.19, .4, .61, .82, 1.10, 1.45, 4]\n",
    "\n",
    "reco = 'shr_energy_cali'\n",
    "true = 'elec_e'\n",
    "bins = [0.09, 0.35, 0.65, 1.05, 1.5, 3]\n",
    "\n"
   ]
  },
  {
   "cell_type": "code",
   "execution_count": null,
   "metadata": {},
   "outputs": [],
   "source": [
    "save = True"
   ]
  },
  {
   "cell_type": "code",
   "execution_count": null,
   "metadata": {},
   "outputs": [],
   "source": [
    "n, b, p = plt.hist([ selected.query(signal)[true], selected.query(nue_CCother)[true]], range=[0, 4],\n",
    "                        stacked=True, color=['orange', 'limegreen'], label=['signal', 'nue CC other'])\n",
    "plt.ylim(0, 6000)\n",
    "plt.legend()\n",
    "plt.show()"
   ]
  },
  {
   "cell_type": "code",
   "execution_count": null,
   "metadata": {},
   "outputs": [],
   "source": [
    "# from here on out we only work with signal \n",
    "selected_signal = selected.query(signal)"
   ]
  },
  {
   "cell_type": "code",
   "execution_count": null,
   "metadata": {},
   "outputs": [],
   "source": [
    "# detector resolution - FHC, RHC, BOTH \n",
    "\n",
    "#true_reco_res(true, reco, fhc_sel, 'fhc', 90, save)\n",
    "#true_reco_res(true, reco, rhc_sel, 'rhc', 90, save)\n",
    "\n",
    "true_reco_res(true, reco, selected_signal, 'both', 5000, save)"
   ]
  },
  {
   "cell_type": "code",
   "execution_count": null,
   "metadata": {},
   "outputs": [],
   "source": [
    "# min reco selected\n",
    "min(list(selected.query(signal)[reco]))"
   ]
  },
  {
   "cell_type": "code",
   "execution_count": null,
   "metadata": {},
   "outputs": [],
   "source": [
    "# min true  selected\n",
    "min(list(selected.query(signal)[true]))"
   ]
  },
  {
   "cell_type": "code",
   "execution_count": null,
   "metadata": {},
   "outputs": [],
   "source": [
    "# smearing - FHC, RHC, BOTH \n",
    "\n",
    "#smear_matrix(true, reco, bins, fhc_sel, 'fhc', 55, 'electron energy [GeV]', save)\n",
    "#smear_matrix(true, reco, bins, rhc_sel, 'rhc', 55, 'electron energy [GeV]', save)\n",
    "\n",
    "smear_matrix(true, reco, bins, selected_signal, 'both', 2500, 'electron energy [GeV]', save)"
   ]
  },
  {
   "cell_type": "code",
   "execution_count": null,
   "metadata": {},
   "outputs": [],
   "source": [
    "# efficiency - FHC & RHC \n",
    "\n",
    "#truth_and_eff(true, bins, fhc_infv, fhc_sel, 'fhc', 100, 'True Electron Energy [GeV]', save)\n",
    "#truth_and_eff(true, bins, fhc_infv, fhc_sel, 'rhc', 100, 'True Electron Energy [GeV]', save)\n",
    "\n"
   ]
  },
  {
   "cell_type": "code",
   "execution_count": null,
   "metadata": {},
   "outputs": [],
   "source": [
    "comb_truth_and_eff(true, bins, comb_infv, selected_signal, 'electron energy [GeV]', save)"
   ]
  },
  {
   "cell_type": "code",
   "execution_count": null,
   "metadata": {},
   "outputs": [],
   "source": [
    "print('total events = '+str(sum(selected_signal['totweight_data'])))"
   ]
  },
  {
   "cell_type": "code",
   "execution_count": null,
   "metadata": {},
   "outputs": [],
   "source": []
  },
  {
   "cell_type": "markdown",
   "metadata": {},
   "source": [
    "### FHC or RHC"
   ]
  },
  {
   "cell_type": "code",
   "execution_count": null,
   "metadata": {},
   "outputs": [],
   "source": [
    "true = 'elec_e'\n",
    "reco = 'shr_energy_cali'\n",
    "\n",
    "horn = 'fhc'\n",
    "\n",
    "if horn=='fhc': \n",
    "    gen_df = fhc_infv.query(signal)\n",
    "    sel_df = fhc_sel.query(signal)\n",
    "    \n",
    "elif horn=='rhc': \n",
    "    gen_df = rhc_infv.query(signal)\n",
    "    sel_df = rhc_sel.query(signal)\n",
    "\n",
    "# shr energy\n",
    "bins = [0.09, .35, .65, 1.05, 1.5, 3]\n",
    "\n",
    "# reco neutrino energy \n",
    "#bins = [ 0.19, .4, .61, .82, 1.03, 1.4, 2, 4 ]\n",
    "\n",
    "# track mult\n",
    "#bins = [1, 2, 3, 7]\n",
    "\n",
    "\n"
   ]
  },
  {
   "cell_type": "code",
   "execution_count": null,
   "metadata": {},
   "outputs": [],
   "source": [
    "save = True"
   ]
  },
  {
   "cell_type": "code",
   "execution_count": null,
   "metadata": {},
   "outputs": [],
   "source": [
    "true_reco_res(true, reco, sel_df, horn, 90, save)"
   ]
  },
  {
   "cell_type": "code",
   "execution_count": null,
   "metadata": {},
   "outputs": [],
   "source": [
    "truth_and_eff(true, bins, gen_df, sel_df, horn, 100, 'Visible Energy [GeV]', save)"
   ]
  },
  {
   "cell_type": "code",
   "execution_count": null,
   "metadata": {},
   "outputs": [],
   "source": [
    "smear_matrix(true, reco, bins, sel_df, horn, 35, 'neutrino energy [GeV]', save)\n"
   ]
  },
  {
   "cell_type": "code",
   "execution_count": null,
   "metadata": {},
   "outputs": [],
   "source": [
    "# min reco  selected\n",
    "min(list(sel_df[reco]))"
   ]
  },
  {
   "cell_type": "code",
   "execution_count": null,
   "metadata": {},
   "outputs": [],
   "source": [
    "# min true  selected\n",
    "min(list(sel_df[true]))"
   ]
  },
  {
   "cell_type": "code",
   "execution_count": null,
   "metadata": {},
   "outputs": [],
   "source": []
  },
  {
   "cell_type": "markdown",
   "metadata": {},
   "source": [
    "### FHC & RHC"
   ]
  },
  {
   "cell_type": "code",
   "execution_count": null,
   "metadata": {},
   "outputs": [],
   "source": [
    "comb_sel = pd.concat([fhc_sel, rhc_sel], ignore_index=True)\n",
    "comb_infv = pd.concat([fhc_infv, rhc_infv], ignore_index=True)"
   ]
  },
  {
   "cell_type": "code",
   "execution_count": null,
   "metadata": {},
   "outputs": [],
   "source": [
    "df_sel = comb_sel.query(signal)\n",
    "df_gen = comb_infv.query(signal)"
   ]
  },
  {
   "cell_type": "code",
   "execution_count": null,
   "metadata": {},
   "outputs": [],
   "source": [
    "true = 'true_e_visible'\n",
    "reco = 'NeutrinoEnergy2'\n",
    "\n",
    "\n",
    "# shr energy\n",
    "#bins = [0.09, .35, .65, 1.05, 1.5, 3]\n",
    "\n",
    "# reco energy \n",
    "bins = [ 0.19, .4, .61, .82, 1.03, 1.4, 2, 4 ]\n",
    "\n",
    "# track mult\n",
    "#bins = [1, 2, 3, 7]\n",
    "\n",
    "# hadron energy \n",
    "#bins = [.04, .23, .42, 1.3]\n",
    "\n",
    "\n"
   ]
  },
  {
   "cell_type": "code",
   "execution_count": null,
   "metadata": {},
   "outputs": [],
   "source": [
    "save = True"
   ]
  },
  {
   "cell_type": "code",
   "execution_count": null,
   "metadata": {},
   "outputs": [],
   "source": [
    "plt.figure(figsize=(8, 5))\n",
    "\n",
    "plt.hist(df_sel['true_e_visible'], 16, range=[0, 4],histtype='step', label='true visible energy', \n",
    "         color='limegreen', weights=df_sel['totweight_proj'])\n",
    "plt.hist(df_sel['nu_e'], 16, range=[0, 4], histtype='step', label='true $\\\\nu$ energy', \n",
    "         color='blue', weights=df_sel['totweight_proj'])\n",
    "\n",
    "plt.legend(fontsize=13)\n",
    "plt.xlabel(\"True Energy [GeV]\", fontsize=14)\n",
    "plt.xticks(fontsize=14)\n",
    "plt.yticks(fontsize=14)\n",
    "plt.ylim(0, 175)\n",
    "plt.ylabel(\"$\\\\nu$ / 2.12E21 POT\", fontsize=14)\n",
    "#plt.savefig(\"/uboone/data/users/kmiller/searchingfornues_v33/v08_00_00_33/plots/both/neutrino_visible_energy.pdf\", \n",
    "#            transparent=True, bbox_inches='tight') \n",
    "plt.show()"
   ]
  },
  {
   "cell_type": "code",
   "execution_count": null,
   "metadata": {},
   "outputs": [],
   "source": [
    "plt.figure(figsize=(8, 5))\n",
    "\n",
    "plt.hist(df_sel['true_e_visible'], 16, range=[0, 4],histtype='step', label='true visible energy', \n",
    "         color='limegreen', weights=df_sel['totweight_proj'])\n",
    "plt.hist(df_sel['NeutrinoEnergy2']/1000, 16, range=[0, 4], histtype='step', \n",
    "         label='reco energy', \n",
    "         color='red', weights=df_sel['totweight_proj'])\n",
    "\n",
    "plt.legend(fontsize=13)\n",
    "plt.xlabel(\"True Energy [GeV]\", fontsize=14)\n",
    "plt.xticks(fontsize=14)\n",
    "plt.yticks(fontsize=14)\n",
    "plt.ylim(0, 175)\n",
    "plt.ylabel(\"$\\\\nu$ / 2.12E21 POT\", fontsize=14)\n",
    "#plt.savefig(\"/uboone/data/users/kmiller/searchingfornues_v33/v08_00_00_33/plots/both/visible_reco_energy.pdf\", \n",
    "#            transparent=True, bbox_inches='tight') \n",
    "plt.show()"
   ]
  },
  {
   "cell_type": "code",
   "execution_count": null,
   "metadata": {},
   "outputs": [],
   "source": [
    "plt.figure(figsize=(8, 5))\n",
    "\n",
    "plt.hist(df_sel['nu_e'], 16, range=[0, 4],histtype='step', label='true $\\\\nu$ energy', \n",
    "         color='blue', weights=df_sel['totweight_proj'])\n",
    "plt.hist(df_sel['NeutrinoEnergy2']/1000, 16, range=[0, 4], histtype='step', \n",
    "         label='reco energy', \n",
    "         color='red', weights=df_sel['totweight_proj'])\n",
    "\n",
    "plt.legend(fontsize=13)\n",
    "plt.xlabel(\"True Energy [GeV]\", fontsize=14)\n",
    "plt.xticks(fontsize=14)\n",
    "plt.yticks(fontsize=14)\n",
    "plt.ylim(0, 175)\n",
    "plt.ylabel(\"$\\\\nu$ / 2.12E21 POT\", fontsize=14)\n",
    "#plt.savefig(\"/uboone/data/users/kmiller/searchingfornues_v33/v08_00_00_33/plots/both/neutrino_reco_energy.pdf\", \n",
    "#            transparent=True, bbox_inches='tight') \n",
    "plt.show()"
   ]
  },
  {
   "cell_type": "code",
   "execution_count": null,
   "metadata": {},
   "outputs": [],
   "source": [
    "true_reco_res(true, reco, df_sel, 'both', 325, save)"
   ]
  },
  {
   "cell_type": "code",
   "execution_count": null,
   "metadata": {},
   "outputs": [],
   "source": [
    "# normalized to data POT, but made from overlay POT\n",
    "\n",
    "smear_matrix(true, reco, bins, df_sel, 'both', 350, 'hadronic energy [GeV]', save)"
   ]
  },
  {
   "cell_type": "code",
   "execution_count": null,
   "metadata": {},
   "outputs": [],
   "source": []
  }
 ],
 "metadata": {
  "kernelspec": {
   "display_name": "Python 3",
   "language": "python",
   "name": "python3"
  },
  "language_info": {
   "codemirror_mode": {
    "name": "ipython",
    "version": 3
   },
   "file_extension": ".py",
   "mimetype": "text/x-python",
   "name": "python",
   "nbconvert_exporter": "python",
   "pygments_lexer": "ipython3",
   "version": "3.7.3"
  }
 },
 "nbformat": 4,
 "nbformat_minor": 4
}
