{
 "cells": [
  {
   "cell_type": "code",
   "execution_count": null,
   "metadata": {},
   "outputs": [],
   "source": [
    "# plotter for the Wiener SVD unfolding output ROOT file\n",
    "# background subtract before running through WienerSVD\n",
    "# compute the cross section AFTER unfolding "
   ]
  },
  {
   "cell_type": "code",
   "execution_count": 1,
   "metadata": {},
   "outputs": [],
   "source": [
    "import numpy as np\n",
    "\n",
    "xvar = 'NeutrinoEnergy2_GeV'\n",
    "true_var = 'true_e_visible2'\n",
    "bins = [0.05, 0.45, 0.65, 0.85, 1.05, 1.35, 1.85, 7]\n",
    "\n",
    "xlow = bins[0]\n",
    "xhigh = 3\n",
    "\n",
    "x_label = \"Visible Energy [GeV]\"\n",
    "x_ticks = [0.05, 0.45, 0.65, 0.85, 1.05, 1.35, 1.85]"
   ]
  },
  {
   "cell_type": "code",
   "execution_count": 8,
   "metadata": {},
   "outputs": [],
   "source": [
    "ISRUN3 = '' # leave empty for FHC+RHC\n",
    "isNuWro = False\n",
    "isData = True\n",
    "\n",
    "path = \"/uboone/data/users/kmiller/uBNuMI_CCNp/unfolding/unblinded/\"\n",
    "c = \"dev1\"\n",
    "#file = \"output_\"+xvar+\"_Combined_081323_\"+c+\".root\"\n",
    "file = \"output_\"+xvar+\"_Combined_081323.root\" # C = 1 \n",
    "\n",
    "#file = \"/uboone/data/users/kmiller/uBNuMI_CCNp/unfolding/notune/output_shr_energy_cali_Combined_071723.root\""
   ]
  },
  {
   "cell_type": "code",
   "execution_count": null,
   "metadata": {},
   "outputs": [],
   "source": []
  },
  {
   "cell_type": "code",
   "execution_count": 4,
   "metadata": {},
   "outputs": [
    {
     "name": "stdout",
     "output_type": "stream",
     "text": [
      "Welcome to JupyROOT 6.18/00\n"
     ]
    }
   ],
   "source": [
    "import sys\n",
    "sys.path.insert(0, 'backend_functions')\n",
    "\n",
    "import importlib\n",
    "\n",
    "import uproot\n",
    "import matplotlib.pylab as pylab\n",
    "\n",
    "import math\n",
    "\n",
    "import awkward\n",
    "import matplotlib.pyplot as plt\n",
    "import pandas as pd\n",
    "\n",
    "import ROOT\n",
    "from ROOT import TH1F, TDirectory, TMatrixD, TH2D\n",
    "\n",
    "import os\n",
    "\n",
    "import top \n",
    "from top import *"
   ]
  },
  {
   "cell_type": "code",
   "execution_count": 5,
   "metadata": {},
   "outputs": [],
   "source": [
    "import io\n",
    "import json\n",
    "import os\n",
    "from datetime import date"
   ]
  },
  {
   "cell_type": "code",
   "execution_count": 6,
   "metadata": {},
   "outputs": [],
   "source": [
    "if ISRUN3: \n",
    "    print(\"Using RHC values !! \")\n"
   ]
  },
  {
   "cell_type": "code",
   "execution_count": 9,
   "metadata": {},
   "outputs": [],
   "source": [
    "f = uproot.open(path+file)\n",
    "#f = uproot.open(file)"
   ]
  },
  {
   "cell_type": "code",
   "execution_count": 10,
   "metadata": {},
   "outputs": [],
   "source": [
    "rho_argon = 1.3836 # g/cm^3\n",
    "fv = 236*212*1016\n",
    "n_a = 6.022E23\n",
    "n_nucleons = 40\n",
    "m_mol = 39.95 #g/mol\n",
    "\n",
    "n_target = (rho_argon * fv * n_a * n_nucleons) / m_mol # number of targets (in nucleons)\n",
    "\n",
    "if ISRUN3=='': \n",
    "    cv_flux = (parameters(ISRUN3=False)['integrated_flux_per_pot']*parameters(ISRUN3=False)['beamon_pot'] + parameters(ISRUN3=True)['integrated_flux_per_pot']*parameters(ISRUN3=True)['beamon_pot'])\n",
    "    pot = '$7.0\\\\times 10^{20}$ POT'\n",
    "else: \n",
    "    cv_flux = parameters(ISRUN3)['integrated_flux_per_pot']*parameters(ISRUN3)['beamon_pot']\n",
    "    "
   ]
  },
  {
   "cell_type": "code",
   "execution_count": 11,
   "metadata": {},
   "outputs": [],
   "source": [
    "if ISRUN3: \n",
    "    pot = '$5.0\\\\times 10^{20}$ POT'\n",
    "    \n",
    "elif ISRUN3==False: \n",
    "    pot = '$2.0\\\\times 10^{20}$ POT'\n",
    "    "
   ]
  },
  {
   "cell_type": "markdown",
   "metadata": {},
   "source": [
    "# input spectra (true & measured)"
   ]
  },
  {
   "cell_type": "code",
   "execution_count": 12,
   "metadata": {},
   "outputs": [],
   "source": [
    "h_meas = f[\"hmeas\"]\n",
    "h_true = f['htrue_signal']"
   ]
  },
  {
   "cell_type": "code",
   "execution_count": 13,
   "metadata": {},
   "outputs": [],
   "source": [
    "bins = [round(var, 2) for var in h_meas.edges]\n",
    "\n",
    "if xvar=='tksh_angle': \n",
    "    bincenters = 0.5*(np.array(x_ticks)[1:]+np.array(x_ticks)[:-1])\n",
    "else: \n",
    "    bincenters = 0.5*(np.array(x_ticks+[xhigh])[1:]+np.array(x_ticks+[xhigh])[:-1])\n",
    "    #bincenters = 0.5*(np.array(bins[:-1]+[xhigh])[1:]+np.array(bins[:-1]+[xhigh])[:-1])\n",
    "\n",
    "b_meas = bins\n",
    "b_true = bins"
   ]
  },
  {
   "cell_type": "code",
   "execution_count": 14,
   "metadata": {},
   "outputs": [
    {
     "data": {
      "text/plain": [
       "[0.4, 0.2, 0.2, 0.2, 0.3, 0.5, 5.15]"
      ]
     },
     "execution_count": 14,
     "metadata": {},
     "output_type": "execute_result"
    }
   ],
   "source": [
    "binwidth_plot = []\n",
    "binwidth_div = []\n",
    "\n",
    "for x in range(len(bincenters)):\n",
    "    \n",
    "    if xvar=='tksh_angle': \n",
    "        binwidth_plot.append(round(abs((x_ticks)[x+1]-(x_ticks)[x])/2, 2))\n",
    "        binwidth_div = [x*2 for x in binwidth_plot]\n",
    "        \n",
    "    else: \n",
    "        #binwidth.append(round(abs((x_ticks+[xhigh])[x+1]-(x_ticks+[xhigh])[x])/2, 2))\n",
    "        binwidth_plot.append(round(abs((bins[:-1]+[xhigh])[x+1]-(bins[:-1]+[xhigh])[x])/2, 3))\n",
    "        binwidth_div.append( round(abs((bins)[x+1]-(bins)[x]), 3) )\n",
    "    \n",
    "binwidth_div"
   ]
  },
  {
   "cell_type": "code",
   "execution_count": 15,
   "metadata": {},
   "outputs": [],
   "source": [
    "meas = h_meas.values\n",
    "true = h_true.values"
   ]
  },
  {
   "cell_type": "code",
   "execution_count": 16,
   "metadata": {},
   "outputs": [
    {
     "data": {
      "image/png": "[encoded data removed]",
      "text/plain": [
       "<Figure size 720x504 with 1 Axes>"
      ]
     },
     "metadata": {
      "needs_background": "light"
     },
     "output_type": "display_data"
    }
   ],
   "source": [
    "fig = plt.figure(figsize=(10, 7))\n",
    "\n",
    "if isNuWro: \n",
    "    plt.hist(bincenters, bins, color='orange', label='Generated (True - GENIE v3)', alpha=0.4, weights=true)\n",
    "    plt.hist(bincenters, bins, color='blue', label='Selected (Reco - NuWro)', alpha=0.4, weights=meas)\n",
    "    \n",
    "else: \n",
    "    plt.hist(bincenters, bins, color='orange', label='Generated (True)', alpha=0.4, weights=true)\n",
    "    plt.hist(bincenters, bins, color='blue', label='Selected (Reco)', alpha=0.4, weights=meas)\n",
    "\n",
    "plt.legend(fontsize=13)\n",
    "plt.title('Input Event Rate Distributions', fontsize=16)\n",
    "\n",
    "plt.xlim(bins[0],xhigh)\n",
    "#plt.ylim(0, 225)\n",
    "\n",
    "plt.xlabel(x_label, fontsize=15)\n",
    "    \n",
    "plt.xticks(x_ticks, fontsize=13)\n",
    "plt.yticks(fontsize=13)\n",
    "\n",
    "plt.grid()\n",
    "\n",
    "if ISRUN3==False: \n",
    "    \n",
    "    plt.ylabel(\"$\\\\nu$ / $2.0 \\\\times 10^{20}$ POT\", fontsize=15)\n",
    "\n",
    "elif ISRUN3==True: \n",
    "    plt.ylabel(\"$\\\\nu$ / $5.0 \\\\times 10^{20}$ POT\", fontsize=15)\n",
    "    \n",
    "else: \n",
    "    plt.ylabel(\"$\\\\nu$ / $7.0 \\\\times 10^{20}$ POT\", fontsize=15)\n",
    "\n",
    "#if isData==True: \n",
    "#    plt.savefig(\"/uboone/data/users/kmiller/uBNuMI_CCNp/plots/combined/\"+xvar+\"_InputDistributions_beamon.pdf\", \n",
    "#                transparent=True, bbox_inches='tight') \n",
    "    \n",
    "plt.show()"
   ]
  },
  {
   "cell_type": "code",
   "execution_count": null,
   "metadata": {},
   "outputs": [],
   "source": []
  },
  {
   "cell_type": "markdown",
   "metadata": {},
   "source": [
    "## input covariance matrix "
   ]
  },
  {
   "cell_type": "code",
   "execution_count": 17,
   "metadata": {},
   "outputs": [],
   "source": [
    "h_cov = f['hcov_tot']"
   ]
  },
  {
   "cell_type": "code",
   "execution_count": 18,
   "metadata": {},
   "outputs": [],
   "source": [
    "b_cov = list(h_cov.edges[0])\n",
    "cov = h_cov.values"
   ]
  },
  {
   "cell_type": "code",
   "execution_count": 19,
   "metadata": {},
   "outputs": [
    {
     "data": {
      "image/png": "[encoded data removed]",
      "text/plain": [
       "<Figure size 720x432 with 2 Axes>"
      ]
     },
     "metadata": {
      "needs_background": "light"
     },
     "output_type": "display_data"
    }
   ],
   "source": [
    "fig = plt.figure(figsize=(10, 6))\n",
    "        \n",
    "plt.pcolor(b_cov, b_cov, cov.T, cmap='OrRd', edgecolors='k')#, vmin=0, vmax=85)\n",
    "\n",
    "cbar = plt.colorbar()\n",
    "cbar.ax.tick_params(labelsize=14)\n",
    "\n",
    "if ISRUN3=='': \n",
    "    cbar.set_label(\"$\\\\nu^{2}$ / $7.0 \\\\times 10^{20}$ POT$^{2}$\", fontsize=15)\n",
    "\n",
    "plt.xticks(x_ticks, fontsize=12)\n",
    "plt.yticks(x_ticks, fontsize=12)\n",
    "\n",
    "plt.xlim(bins[0],xhigh)\n",
    "plt.ylim(bins[0],xhigh)\n",
    "\n",
    "plt.xlabel(\"Reconstructed \"+x_label, fontsize=15)\n",
    "plt.ylabel(\"Reconstructed \"+x_label, fontsize=15)\n",
    "\n",
    "plt.title('Absolute Covariance', fontsize=15)\n",
    "\n",
    "#plt.savefig(\"/uboone/data/users/kmiller/uBNuMI_CCNp/plots/combined/\"+xvar+\"_tot_abs_cov_closuretest.pdf\", \n",
    "#                transparent=True, bbox_inches='tight') \n",
    "\n",
    "#if isNuWro: \n",
    "#    plt.savefig(\"/uboone/data/users/kmiller/uBNuMI_CCNp/plots/fhc/fakedata/input_cov_\"+xvar+\"_nuwro.pdf\", \n",
    "#                transparent=True, bbox_inches='tight') \n",
    "\n",
    "plt.show()"
   ]
  },
  {
   "cell_type": "markdown",
   "metadata": {},
   "source": [
    "## input response matrix "
   ]
  },
  {
   "cell_type": "code",
   "execution_count": 21,
   "metadata": {},
   "outputs": [],
   "source": [
    "h_res = f['hR']"
   ]
  },
  {
   "cell_type": "code",
   "execution_count": 22,
   "metadata": {},
   "outputs": [],
   "source": [
    "b_res = list(h_res.edges[0])\n",
    "res = h_res.values"
   ]
  },
  {
   "cell_type": "code",
   "execution_count": 23,
   "metadata": {},
   "outputs": [
    {
     "data": {
      "image/png": "[encoded data removed]",
      "text/plain": [
       "<Figure size 936x648 with 2 Axes>"
      ]
     },
     "metadata": {
      "needs_background": "light"
     },
     "output_type": "display_data"
    }
   ],
   "source": [
    "#fig = plt.figure(figsize=(10, 6))\n",
    "fig = plt.figure(figsize=(13, 9))\n",
    "        \n",
    "# pcolor transposes, so account for this - \n",
    "plt.pcolor(b_res, b_res, res.T, cmap='OrRd', edgecolors='k', vmin=0, vmax=0.1)\n",
    "\n",
    "cbar = plt.colorbar()\n",
    "cbar.ax.tick_params(labelsize=14)\n",
    "#cbar.set_label(\"$\\\\nu$ / 2 $\\\\times$ 10$^{20}$ POT (normalized)\", fontsize=15)\n",
    "\n",
    "plt.xticks(x_ticks, fontsize=12)\n",
    "plt.yticks(x_ticks, fontsize=12)\n",
    "\n",
    "plt.xlim(bins[0],xhigh)\n",
    "plt.ylim(bins[0],xhigh)\n",
    "\n",
    "plt.xlabel(\"Reconstructed \"+x_label, fontsize=15)\n",
    "plt.ylabel(\"True \"+x_label, fontsize=15)\n",
    "\n",
    "for x in range(len(bins)-1): \n",
    "    for y in range(len(bins)-1): \n",
    "\n",
    "        if not np.isnan(res[x][y]):\n",
    "            if round(res[x][y],2)>0.08: \n",
    "                plt.text(bincenters[x], bincenters[y], round(res[x][y], 2), \n",
    "                        color='white', ha=\"center\", va=\"center\", fontsize=13, fontweight='bold')\n",
    "            else: \n",
    "                plt.text(bincenters[x], bincenters[y], round(res[x][y], 2), \n",
    "                        color='black', ha=\"center\", va=\"center\", fontsize=13, fontweight='bold')\n",
    "\n",
    "\n",
    "\n",
    "plt.title('FHC+RHC Response Matrix', fontsize=15)\n",
    "\n",
    "#plt.savefig(\"/uboone/data/users/kmiller/uBNuMI_CCNp/plots/combined/\"+xvar+\"_rmatrix.pdf\", \n",
    "#                transparent=True, bbox_inches='tight') \n",
    "\n",
    "\n",
    "plt.show()"
   ]
  },
  {
   "cell_type": "code",
   "execution_count": null,
   "metadata": {},
   "outputs": [],
   "source": []
  },
  {
   "cell_type": "markdown",
   "metadata": {},
   "source": [
    "# unfolded result"
   ]
  },
  {
   "cell_type": "code",
   "execution_count": 24,
   "metadata": {},
   "outputs": [],
   "source": [
    "h_unf = f['unf']\n",
    "unf = list(h_unf.values)"
   ]
  },
  {
   "cell_type": "code",
   "execution_count": 25,
   "metadata": {},
   "outputs": [
    {
     "data": {
      "image/png": "[encoded data removed]",
      "text/plain": [
       "<Figure size 576x360 with 1 Axes>"
      ]
     },
     "metadata": {
      "needs_background": "light"
     },
     "output_type": "display_data"
    }
   ],
   "source": [
    "\n",
    "fig = plt.figure(figsize=(8, 5))\n",
    "\n",
    "plt.step(b_meas+[b_meas[-1]], [0]+list(meas)+[0], alpha=0.4, color='blue')\n",
    "plt.fill_between(b_meas+[b_meas[-1]],[0]+list(meas)+[0], step=\"pre\", alpha=0.4, label='Reco selected (input)')\n",
    "\n",
    "\n",
    "plt.step(b_meas+[b_meas[-1]], [0]+list(true)+[0], color='orange')\n",
    "plt.fill_between(b_meas+[b_meas[-1]],[0]+list(true)+[0], step=\"pre\", alpha=0.4, label='True generated (input)')\n",
    "\n",
    "\n",
    "plt.step(b_meas+[b_meas[-1]], [0]+unf+[0], color='black', linewidth=2, linestyle='--', label='Unfolded (output)')\n",
    "\n",
    "plt.legend(fontsize=13)\n",
    "\n",
    "plt.xlabel(x_label, fontsize=15)\n",
    "\n",
    "plt.ylabel('$\\\\nu$ / $2.0 \\\\times 10^{20}$ POT', fontsize=15)\n",
    "\n",
    "plt.xlim(bins[0],xhigh)\n",
    "plt.ylim(0, 400)\n",
    "\n",
    "plt.xticks(x_ticks, fontsize=13)\n",
    "plt.yticks(fontsize=13)\n",
    "\n",
    "plt.legend(fontsize=13, loc='upper left', frameon=False, ncol=2)\n",
    "plt.title('Unfolded Event Rate', fontsize=16)\n",
    "\n",
    "#if ISRUN3=='': \n",
    "#    plt.savefig(\"/uboone/data/users/kmiller/uBNuMI_CCNp/plots/combined/evtrate_\"+xvar+\"_closuretest.pdf\", \n",
    "#            transparent=True, bbox_inches='tight')\n",
    "\n",
    "plt.show()"
   ]
  },
  {
   "cell_type": "code",
   "execution_count": null,
   "metadata": {},
   "outputs": [],
   "source": []
  },
  {
   "cell_type": "code",
   "execution_count": 26,
   "metadata": {},
   "outputs": [],
   "source": [
    "# covariance of unfolded result (event rate units)\n",
    "\n",
    "b_unfcov = list(f['unfcov'].edges[0])\n",
    "unfcov = f['unfcov'].values\n"
   ]
  },
  {
   "cell_type": "code",
   "execution_count": 27,
   "metadata": {},
   "outputs": [
    {
     "name": "stdout",
     "output_type": "stream",
     "text": [
      "Need to convert to xsec units before saving!\n"
     ]
    },
    {
     "data": {
      "image/png": "[encoded data removed]",
      "text/plain": [
       "<Figure size 720x432 with 2 Axes>"
      ]
     },
     "metadata": {
      "needs_background": "light"
     },
     "output_type": "display_data"
    }
   ],
   "source": [
    "fig = plt.figure(figsize=(10, 6))\n",
    "        \n",
    "plt.pcolor(b_unfcov, b_unfcov, unfcov.T, cmap='OrRd', edgecolors='k')#, vmin=1175, vmax=1275)\n",
    "\n",
    "cbar = plt.colorbar()\n",
    "cbar.ax.tick_params(labelsize=14)\n",
    "\n",
    "plt.xticks(fontsize=14)\n",
    "plt.yticks(fontsize=14)\n",
    "\n",
    "plt.xlabel(\"Unfolded \"+x_label, fontsize=15)\n",
    "plt.ylabel(\"Unfolded \"+x_label, fontsize=15)\n",
    "\n",
    "plt.xticks(x_ticks, fontsize=12)\n",
    "plt.yticks(x_ticks, fontsize=12)\n",
    "\n",
    "plt.xlim(bins[0],xhigh)\n",
    "plt.ylim(bins[0],xhigh)\n",
    "\n",
    "if ISRUN3==False: \n",
    "    cbar.set_label(label='$\\\\nu^{2}$ / $2.0 \\\\times 10^{20}$ POT$^{2}$', fontsize=15)\n",
    "\n",
    "plt.title('Covariance of Unfolded Event Rate', fontsize=15)\n",
    "\n",
    "print(\"Need to convert to xsec units before saving!\")\n",
    "\n",
    "#if ISRUN3=='' and isData==False: \n",
    "#    plt.savefig(\"/uboone/data/users/kmiller/uBNuMI_CCNp/plots/combined/cov_evtrate_\"+xvar+\"_closuretest.pdf\", \n",
    "#            transparent=True, bbox_inches='tight')\n",
    "\n",
    "#if isNuWro: \n",
    "#    plt.savefig(\"/uboone/data/users/kmiller/uBNuMI_CCNp/plots/fhc/fakedata/cov_\"+xvar+\"_nuwro.pdf\", \n",
    "#                transparent=True, bbox_inches='tight')\n",
    "\n",
    "\n",
    "plt.show()"
   ]
  },
  {
   "cell_type": "code",
   "execution_count": 28,
   "metadata": {},
   "outputs": [],
   "source": [
    "## covariance rotation matrix \n",
    "\n",
    "h_covrot = f['covrotation']\n",
    "covrot = h_covrot.values\n",
    "\n",
    "# also need the transpose! \n",
    "covrot_t = covrot.transpose()"
   ]
  },
  {
   "cell_type": "code",
   "execution_count": 29,
   "metadata": {},
   "outputs": [
    {
     "data": {
      "image/png": "[encoded data removed]",
      "text/plain": [
       "<Figure size 720x432 with 2 Axes>"
      ]
     },
     "metadata": {
      "needs_background": "light"
     },
     "output_type": "display_data"
    }
   ],
   "source": [
    "fig = plt.figure(figsize=(10, 6))\n",
    "        \n",
    "plt.pcolor(b_unfcov, b_unfcov, covrot.T, cmap='OrRd', edgecolors='k', vmin=0, vmax=3)\n",
    "\n",
    "cbar = plt.colorbar()\n",
    "cbar.ax.tick_params(labelsize=14)\n",
    "\n",
    "plt.xticks(fontsize=14)\n",
    "plt.yticks(fontsize=14)\n",
    "\n",
    "plt.xticks(x_ticks, fontsize=12)\n",
    "plt.yticks(x_ticks, fontsize=12)\n",
    "\n",
    "plt.xlim(bins[0],xhigh)\n",
    "plt.ylim(bins[0],xhigh)\n",
    "\n",
    "if ISRUN3==False: \n",
    "    cbar.set_label(label='$\\\\nu^{2}$ / $2.0 \\\\times 10^{20}$ POT$^{2}$', fontsize=15)\n",
    "\n",
    "plt.title('Covariance Rotation Matrix', fontsize=15)\n",
    "\n",
    "\n",
    "plt.show()"
   ]
  },
  {
   "cell_type": "code",
   "execution_count": 30,
   "metadata": {},
   "outputs": [
    {
     "data": {
      "image/png": "[encoded data removed]",
      "text/plain": [
       "<Figure size 720x432 with 2 Axes>"
      ]
     },
     "metadata": {
      "needs_background": "light"
     },
     "output_type": "display_data"
    }
   ],
   "source": [
    "## check: the covariance rotation matrix formula\n",
    "\n",
    "# rotcov * input cov * rotcov_t\n",
    "\n",
    "unfcov_check = np.matmul( np.matmul(covrot, cov) , covrot_t)\n",
    "\n",
    "fig = plt.figure(figsize=(10, 6))\n",
    "        \n",
    "plt.pcolor(b_unfcov, b_unfcov, unfcov_check.T, cmap='OrRd', edgecolors='k')#, vmin=650, vmax=750)\n",
    "\n",
    "cbar = plt.colorbar()\n",
    "cbar.ax.tick_params(labelsize=14)\n",
    "\n",
    "plt.xticks(fontsize=14)\n",
    "plt.yticks(fontsize=14)\n",
    "\n",
    "plt.xlabel(\"Unfolded \"+x_label, fontsize=15)\n",
    "plt.ylabel(\"Unfolded \"+x_label, fontsize=15)\n",
    "\n",
    "plt.xticks(x_ticks, fontsize=12)\n",
    "plt.yticks(x_ticks, fontsize=12)\n",
    "\n",
    "plt.xlim(bins[0],xhigh)\n",
    "plt.ylim(bins[0],xhigh)\n",
    "\n",
    "plt.title('CovRot * InputCov * CovRot_t', fontsize=15)\n",
    "\n",
    "plt.show()"
   ]
  },
  {
   "cell_type": "code",
   "execution_count": 31,
   "metadata": {},
   "outputs": [
    {
     "data": {
      "text/plain": [
       "<Figure size 720x432 with 0 Axes>"
      ]
     },
     "metadata": {},
     "output_type": "display_data"
    }
   ],
   "source": [
    "## get the inverse for computation of chi2 \n",
    "fig = plt.figure(figsize=(10, 6))\n",
    "inverse_unfcov = np.linalg.inv(unfcov)"
   ]
  },
  {
   "cell_type": "code",
   "execution_count": 35,
   "metadata": {},
   "outputs": [
    {
     "data": {
      "image/png": "[encoded data removed]",
      "text/plain": [
       "<Figure size 432x288 with 2 Axes>"
      ]
     },
     "metadata": {
      "needs_background": "light"
     },
     "output_type": "display_data"
    }
   ],
   "source": [
    "# check \n",
    "\n",
    "plt.pcolor(b_unfcov, b_unfcov, np.matmul(unfcov, inverse_unfcov), cmap='OrRd', edgecolors='k', vmin=0)\n",
    "plt.xlim(xlow,xhigh)\n",
    "plt.ylim(xlow,xhigh)\n",
    "cbar = plt.colorbar()\n",
    "plt.show()\n",
    "\n",
    "#np.matmul(unfcov, inverse_unfcov)"
   ]
  },
  {
   "cell_type": "code",
   "execution_count": 36,
   "metadata": {},
   "outputs": [],
   "source": [
    "frac_cov = [ [0]*(len(bins)-1) for x in range(len(bins)-1) ]\n",
    "cor = [ [0]*(len(bins)-1) for x in range(len(bins)-1) ]\n",
    "\n",
    "for i in range(len(bins)-1): \n",
    "    cvi = unf[i]\n",
    "\n",
    "    for j in range(len(bins)-1):    \n",
    "        cvj = unf[j]\n",
    "                \n",
    "        frac_cov[i][j] = unfcov[i][j]/(cvi*cvj)\n",
    "        cor[i][j] = unfcov[i][j] / (np.sqrt(unfcov[i][i])*np.sqrt(unfcov[j][j]))"
   ]
  },
  {
   "cell_type": "code",
   "execution_count": 37,
   "metadata": {},
   "outputs": [
    {
     "data": {
      "image/png": "[encoded data removed]",
      "text/plain": [
       "<Figure size 720x432 with 2 Axes>"
      ]
     },
     "metadata": {
      "needs_background": "light"
     },
     "output_type": "display_data"
    }
   ],
   "source": [
    "# FRACTIONAL COVARIANCE\n",
    "\n",
    "fig = plt.figure(figsize=(10, 6))\n",
    "        \n",
    "plt.pcolor(b_unfcov, b_unfcov, np.array(frac_cov).T, cmap='OrRd', edgecolors='k', vmin=0, vmax=0.15)\n",
    "\n",
    "cbar = plt.colorbar()\n",
    "cbar.ax.tick_params(labelsize=14)\n",
    "\n",
    "plt.xticks(fontsize=14)\n",
    "plt.yticks(fontsize=14)\n",
    "\n",
    "plt.xlabel(\"Unfolded \"+x_label, fontsize=15)\n",
    "plt.ylabel(\"Unfolded \"+x_label, fontsize=15)\n",
    "\n",
    "plt.xticks(x_ticks, fontsize=12)\n",
    "plt.yticks(x_ticks, fontsize=12)\n",
    "\n",
    "plt.xlim(bins[0],xhigh)\n",
    "plt.ylim(bins[0],xhigh)\n",
    "\n",
    "plt.title('Fractional Covariance of the Unfolded Evt Rate', fontsize=15)\n",
    "\n",
    "plt.show()"
   ]
  },
  {
   "cell_type": "code",
   "execution_count": null,
   "metadata": {},
   "outputs": [],
   "source": []
  },
  {
   "cell_type": "code",
   "execution_count": 38,
   "metadata": {},
   "outputs": [
    {
     "data": {
      "image/png": "[encoded data removed]",
      "text/plain": [
       "<Figure size 720x432 with 2 Axes>"
      ]
     },
     "metadata": {
      "needs_background": "light"
     },
     "output_type": "display_data"
    }
   ],
   "source": [
    "# CORRELATION MATRIX \n",
    "\n",
    "fig = plt.figure(figsize=(10, 6))\n",
    "        \n",
    "plt.pcolor(b_unfcov, b_unfcov, np.array(cor).T, cmap='OrRd', edgecolors='k', vmin=-0.1, vmax=1)\n",
    "\n",
    "cbar = plt.colorbar()\n",
    "cbar.ax.tick_params(labelsize=14)\n",
    "\n",
    "plt.xticks(fontsize=14)\n",
    "plt.yticks(fontsize=14)\n",
    "\n",
    "plt.xlabel(\"Unfolded \"+x_label, fontsize=15)\n",
    "plt.ylabel(\"Unfolded \"+x_label, fontsize=15)\n",
    "\n",
    "plt.xticks(x_ticks, fontsize=12)\n",
    "plt.yticks(x_ticks, fontsize=12)\n",
    "\n",
    "plt.xlim(bins[0],xhigh)\n",
    "plt.ylim(bins[0],xhigh)\n",
    "\n",
    "text = True\n",
    "\n",
    "if text: \n",
    "\n",
    "    for i in range(len(bins)-1): \n",
    "        for j in range(len(bins)-1): \n",
    "\n",
    "            if not np.isnan(cor[i][j]): \n",
    "                if round(cor[i][j],2)>.8 :\n",
    "                    plt.text(bincenters[j], bincenters[i], round(cor[i][j], 2), \n",
    "                            color='white', ha=\"center\", va=\"center\", fontsize=13)\n",
    "                else: \n",
    "                    plt.text(bincenters[j], bincenters[i], round(cor[i][j], 2), \n",
    "                            color='black', ha=\"center\", va=\"center\", fontsize=12)\n",
    "\n",
    "plt.title('Unfolded Correlation Matrix', fontsize=15)\n",
    "\n",
    "#if isData: \n",
    "#    plt.savefig(\"/uboone/data/users/kmiller/uBNuMI_CCNp/plots/combined/cor_\"+xvar+\"_unblinded.pdf\", \n",
    "#                transparent=True, bbox_inches='tight')\n",
    "\n",
    "plt.show()"
   ]
  },
  {
   "cell_type": "code",
   "execution_count": null,
   "metadata": {},
   "outputs": [],
   "source": []
  },
  {
   "cell_type": "markdown",
   "metadata": {},
   "source": [
    "### Regularization Matrix"
   ]
  },
  {
   "cell_type": "code",
   "execution_count": 39,
   "metadata": {},
   "outputs": [],
   "source": [
    "# regularization matrix A_c \n",
    "\n",
    "h_Ac = f['smear']"
   ]
  },
  {
   "cell_type": "code",
   "execution_count": 40,
   "metadata": {},
   "outputs": [],
   "source": [
    "b_Ac = list(h_Ac.edges[0])\n",
    "Ac = h_Ac.values"
   ]
  },
  {
   "cell_type": "code",
   "execution_count": 41,
   "metadata": {},
   "outputs": [
    {
     "name": "stdout",
     "output_type": "stream",
     "text": [
      "CHECK that this matches the orientation in ROOT file!\n",
      "x = true, y = unfolded\n"
     ]
    },
    {
     "data": {
      "image/png": "[encoded data removed]",
      "text/plain": [
       "<Figure size 936x648 with 2 Axes>"
      ]
     },
     "metadata": {
      "needs_background": "light"
     },
     "output_type": "display_data"
    }
   ],
   "source": [
    "fig = plt.figure(figsize=(13, 9))\n",
    "\n",
    "# pcolor transposes so account for this \n",
    "\n",
    "print(\"CHECK that this matches the orientation in ROOT file!\")\n",
    "print('x = true, y = unfolded')\n",
    "\n",
    "plt.pcolor(b_Ac, b_Ac, np.array(Ac).T, cmap='OrRd', edgecolors='k', vmin=-0.1, vmax=0.7)\n",
    "#plt.pcolor(b_Ac, b_Ac, np.array(Ac).T, cmap='OrRd', edgecolors='k', vmin=-0.1, vmax=1)\n",
    "\n",
    "cbar = plt.colorbar()\n",
    "cbar.ax.tick_params(labelsize=14)\n",
    "\n",
    "plt.xticks(x_ticks, fontsize=12)\n",
    "plt.yticks(x_ticks, fontsize=12)\n",
    "\n",
    "plt.xlim(bins[0],xhigh)\n",
    "plt.ylim(bins[0],xhigh)\n",
    "\n",
    "\n",
    "plt.xlabel(\"True \" + x_label, fontsize=15)\n",
    "plt.ylabel(\"Unfolded \" + x_label, fontsize=15)\n",
    "\n",
    "plt.title('Additional Smearing Matrix ($A_{c}$)', fontsize=16)\n",
    "\n",
    "text = True\n",
    "\n",
    "if text: \n",
    "\n",
    "    for i in range(len(bins)-1): \n",
    "        for j in range(len(bins)-1): \n",
    "            \n",
    "            #print(\"i = \", i, \", j = \", j, \": Ac[i][j] = \", Ac[i][j])\n",
    "\n",
    "            if not np.isnan(Ac[i][j]): \n",
    "                if round(Ac[i][j],2)>.51 :\n",
    "                    plt.text(bincenters[i], bincenters[j], round(Ac[i][j], 2), \n",
    "                            color='white', ha=\"center\", va=\"center\", fontsize=13, fontweight='bold')\n",
    "                else: \n",
    "                    plt.text(bincenters[i], bincenters[j], round(Ac[i][j], 2), \n",
    "                            color='black', ha=\"center\", va=\"center\", fontsize=12, fontweight='bold')\n",
    "\n",
    "\n",
    "#if ISRUN3=='' and isData==False: \n",
    "#    plt.savefig(\"/uboone/data/users/kmiller/uBNuMI_CCNp/plots/combined/Ac_\"+xvar+\"_closuretest.pdf\", \n",
    "#            transparent=True, bbox_inches='tight')\n",
    "\n",
    "#if isNuWro: \n",
    "#    plt.savefig(\"/uboone/data/users/kmiller/uBNuMI_CCNp/plots/fhc/fakedata/Ac_\"+xvar+\"_nuwro.pdf\", \n",
    "#                transparent=True, bbox_inches='tight')\n",
    "    \n",
    "if isData: \n",
    "    #plt.savefig(\"/uboone/data/users/kmiller/uBNuMI_CCNp/plots/combined/Ac_\"+xvar+\"_unblinded_\"+c+\".pdf\", \n",
    "    #            transparent=True, bbox_inches='tight')\n",
    "    #plt.savefig(\"/uboone/data/users/kmiller/uBNuMI_CCNp/plots/combined/Ac_\"+xvar+\"_unblinded_text.pdf\", \n",
    "     #           transparent=True, bbox_inches='tight')\n",
    "    \n",
    "    \n",
    "\n",
    "plt.show()"
   ]
  },
  {
   "cell_type": "code",
   "execution_count": null,
   "metadata": {},
   "outputs": [],
   "source": []
  },
  {
   "cell_type": "markdown",
   "metadata": {},
   "source": [
    "## Smear the true distribution by Ac"
   ]
  },
  {
   "cell_type": "code",
   "execution_count": 43,
   "metadata": {},
   "outputs": [],
   "source": [
    "if isNuWro or (isData==True and ISRUN3==False): \n",
    "    with open('unfolding/variations/FHCVariations_'+xvar+'.json') as f_fhc:\n",
    "            fhc_dict = json.load(f_fhc)\n",
    "\n",
    "# grab the sum of the weights squared -- GENIE\n",
    "with open('unfolding/smearing/FHC_'+xvar+'_081323.json') as smearing_fhc:\n",
    "            smearing_fhc_dict = json.load(smearing_fhc)\n",
    "\n",
    "with open('unfolding/smearing/RHC_'+xvar+'_081323.json') as smearing_rhc:\n",
    "            smearing_rhc_dict = json.load(smearing_rhc)\n",
    "        \n",
    "#genie_gen_sumw2 = np.array(smearing_fhc_dict['true_generated_sumw2']) + np.array(smearing_rhc_dict['true_generated_sumw2'])\n",
    "    "
   ]
  },
  {
   "cell_type": "code",
   "execution_count": 44,
   "metadata": {},
   "outputs": [
    {
     "data": {
      "text/plain": [
       "array([ True,  True,  True,  True,  True,  True,  True])"
      ]
     },
     "execution_count": 44,
     "metadata": {},
     "output_type": "execute_result"
    }
   ],
   "source": [
    "# check the orientation is correct \n",
    "# unf = Ac * R^-1 * meas\n",
    "\n",
    "# where res^-1 needs to have reco on the x axis \n",
    "# so no transpose on res is needed \n",
    "\n",
    "np.round( np.matmul( Ac, np.matmul( np.linalg.inv(res), meas ) ), 5) == np.round(unf,5)\n",
    "\n",
    "# if true, this is how Ac should be used to transform truth histograms"
   ]
  },
  {
   "cell_type": "code",
   "execution_count": 45,
   "metadata": {},
   "outputs": [],
   "source": [
    "smeared_genie = np.matmul(Ac, true)\n",
    "#s_genie = 0\n",
    "\n",
    "if isNuWro or (isData==True and ISRUN3==False): \n",
    "    smeared_nuwro = [np.matmul(Ac, x) for x in fhc_dict['nuwro_generated_signal_ppfx'][x]]\n",
    "    #s_nuwro = 0 \n",
    "\n",
    "# compute the smeared bin value \n",
    "#for i in range(len(b_Ac)-1):\n",
    "#    for j in range(len(b_Ac)-1): \n",
    "        \n",
    "        #s_genie = s_genie + np.array(Ac).T[i][j]*true[j] # should be equal to np.matmul(Ac, true)\n",
    "        #s_genie_gen_sumw2 = s_genie_gen_sumw2 + Ac[i][j]*true[j]\n",
    "        \n",
    "#        if isNuWro or (isData==True and ISRUN3==False): \n",
    "#            s_nuwro = s_nuwro + Ac[i][j]*fhc_dict['nuwro_generated_signal_ppfx'][j] \n",
    "\n",
    "#    smeared_genie.append(s_genie)\n",
    "#    s_genie = 0\n",
    "    \n",
    "    \n",
    "#    if isNuWro or (isData==True and ISRUN3==False): \n",
    "#        smeared_nuwro.append(s_nuwro)\n",
    "#        s_nuwro = 0\n",
    "        "
   ]
  },
  {
   "cell_type": "code",
   "execution_count": 48,
   "metadata": {},
   "outputs": [
    {
     "data": {
      "image/png": "[encoded data removed]",
      "text/plain": [
       "<Figure size 576x360 with 1 Axes>"
      ]
     },
     "metadata": {
      "needs_background": "light"
     },
     "output_type": "display_data"
    }
   ],
   "source": [
    "fig = plt.figure(figsize=(8, 5))\n",
    "   \n",
    "plt.step(bins+[bins[-1]], [0]+unf+[0], color='black', \n",
    "             linewidth=2, linestyle='--', label='unfolded')\n",
    "\n",
    "plt.xlim(xlow,xhigh)\n",
    "    \n",
    "plt.xticks(x_ticks, fontsize=12)\n",
    "plt.yticks(fontsize=12)\n",
    "\n",
    "\n",
    "plt.title('Unfolded Result', fontsize=16)\n",
    "plt.show()"
   ]
  },
  {
   "cell_type": "code",
   "execution_count": 49,
   "metadata": {},
   "outputs": [
    {
     "data": {
      "image/png": "[encoded data removed]",
      "text/plain": [
       "<Figure size 576x360 with 1 Axes>"
      ]
     },
     "metadata": {
      "needs_background": "light"
     },
     "output_type": "display_data"
    }
   ],
   "source": [
    "fig = plt.figure(figsize=(8, 5))\n",
    "\n",
    " \n",
    "#plt.fill_between(bins+[bins[-1]],[0]+smeared_genie+[0], step=\"pre\", alpha=0.7, \n",
    "#                 label='GENIE v3 true (smeared)', color='mediumseagreen')\n",
    "\n",
    "#plt.step(bins+[bins[-1]], [0]+smeared_genie+[0], color='mediumseagreen')\n",
    "\n",
    "plt.hist(bincenters, bins, weights=true,\n",
    "         color='orange',label='GENIE v3 - true generated', histtype='step')\n",
    "\n",
    "plt.hist(bincenters, bins, weights=smeared_genie,\n",
    "         color='mediumseagreen',label='GENIE v3 - smeared', histtype='step')\n",
    "\n",
    "if isNuWro: \n",
    "    plt.fill_between(bins+[bins[-1]],[0]+smeared_nuwro+[0], step=\"pre\", alpha=0.7, \n",
    "                 label='NuWro true (smeared)')\n",
    "\n",
    "    plt.step(bins+[bins[-1]], [0]+smeared_nuwro+[0])\n",
    "    \n",
    "#plt.step(bins+[bins[-1]], [0]+unf+[0], color='black', linewidth=2, linestyle='--', label='unfolded')\n",
    "    \n",
    "plt.xlim(bins[0],xhigh)\n",
    "plt.ylim(0, 400)\n",
    "plt.xticks(x_ticks, fontsize=13)\n",
    "plt.yticks( fontsize=13)\n",
    "\n",
    "\n",
    "plt.xlabel(x_label, fontsize=15)\n",
    "\n",
    "plt.ylabel('$\\\\nu$ / '+pot, fontsize=15)\n",
    "\n",
    "plt.legend(fontsize=13)\n",
    "#plt.title('Smeared Event Rate', fontsize=16)\n",
    "#plt.savefig(plots_path+\"UnfoldedDifferential_VisibleEnergy.pdf\", transparent=True, bbox_inches='tight') \n",
    "\n",
    "\n",
    "plt.show()"
   ]
  },
  {
   "cell_type": "code",
   "execution_count": 50,
   "metadata": {},
   "outputs": [
    {
     "data": {
      "image/png": "[encoded data removed]",
      "text/plain": [
       "<Figure size 576x360 with 1 Axes>"
      ]
     },
     "metadata": {
      "needs_background": "light"
     },
     "output_type": "display_data"
    }
   ],
   "source": [
    "fig = plt.figure(figsize=(8, 5))\n",
    "\n",
    "\n",
    "plt.hist(bincenters, bins, weights=[x/y for x,y in zip(smeared_genie, binwidth_div)],\n",
    "         color='mediumseagreen',label='GENIE v3 - smeared', histtype='step')\n",
    "\n",
    "\n",
    "plt.hist(bincenters, bins, weights=[x/y for x,y in zip(true, binwidth_div)],\n",
    "         color='orange',label='GENIE v3 - true generated', histtype='step')\n",
    "\n",
    "if isNuWro: \n",
    "    plt.hist(bincenters, bins, weights=[x/y for x,y in zip(smeared_nuwro, binwidth_div)],\n",
    "         color='blue',alpha=0.3,label='NuWro true (smeared)')\n",
    "    \n",
    "#plt.errorbar(bins+[bins[-1]], [0]+[x/y for x,y in zip(unf, binwidth)]+[0], color='black', linewidth=2, label='unfolded')\n",
    "\n",
    "\n",
    "plt.xlim(bins[0],xhigh)\n",
    "plt.ylim(0, 3000)\n",
    "\n",
    "plt.xticks(x_ticks, fontsize=13)\n",
    "plt.yticks( fontsize=13)\n",
    "\n",
    "\n",
    "plt.xlabel(x_label, fontsize=15)\n",
    "if xvar != 'tksh_angle': \n",
    "    plt.ylabel('$\\\\nu$ / '+pot+' / GeV', fontsize=15)\n",
    "\n",
    "plt.legend(fontsize=13)\n",
    "#plt.title('Smeared Event Rate - Divided by Bin Width', fontsize=16)\n",
    "#plt.savefig(plots_path+\"UnfoldedDifferential_VisibleEnergy.pdf\", transparent=True, bbox_inches='tight') \n",
    "\n",
    "\n",
    "plt.show()"
   ]
  },
  {
   "cell_type": "code",
   "execution_count": 51,
   "metadata": {},
   "outputs": [
    {
     "data": {
      "image/png": "[encoded data removed]",
      "text/plain": [
       "<Figure size 576x504 with 2 Axes>"
      ]
     },
     "metadata": {
      "needs_background": "light"
     },
     "output_type": "display_data"
    },
    {
     "data": {
      "image/png": "[encoded data removed]",
      "text/plain": [
       "<Figure size 720x432 with 2 Axes>"
      ]
     },
     "metadata": {
      "needs_background": "light"
     },
     "output_type": "display_data"
    }
   ],
   "source": [
    "### DIVIDED BY BIN WIDTH FOR SHAPE \n",
    "\n",
    "from matplotlib import gridspec\n",
    "\n",
    "fig = plt.figure(figsize=(8, 7))\n",
    "\n",
    "gs = gridspec.GridSpec(2, 1, height_ratios=[2, 1])\n",
    "\n",
    "ax1 = plt.subplot(gs[0])\n",
    "ax2 = plt.subplot(gs[1])\n",
    "    \n",
    "ax1.tick_params(axis = 'both', which = 'major', labelsize = 13)\n",
    "ax2.tick_params(axis = 'both', which = 'major', labelsize = 13)\n",
    "\n",
    "ax2.yaxis.grid(linestyle=\"--\", color='black', alpha=0.2)\n",
    "ax2.xaxis.grid(linestyle=\"--\", color='black', alpha=0.2)\n",
    "\n",
    "###############################################################\n",
    "    \n",
    "ax1.hist(bincenters, bins, color='#00cc02',\n",
    "                 #label='GENIE v3.0.6 (tuned)\\n$\\\\chi^{2}$/n = ' + str(round(chi2_genie, 1))+'/'+str(len(bincenters)), \n",
    "                 range=[bins[0],bins[-1]], \n",
    "                     weights=[x/y for x,y in zip(smeared_genie, binwidth_div)],\n",
    "                 histtype='step', linewidth=1.5)\n",
    "        \n",
    "\n",
    "\n",
    "###############################################################\n",
    "\n",
    "ax1.errorbar(bincenters, [x/y for x,y in zip(unf, binwidth_div)], \n",
    "             xerr=binwidth_plot, \n",
    "             yerr=[x*y for x,y in zip(np.sqrt(np.diagonal(frac_cov)), [x/y for x,y in zip(unf, binwidth_div)])], \n",
    "             fmt='.', \n",
    "             color='black', ecolor='black', markersize=3, label='Data (Stat. + Sys.)') \n",
    "\n",
    "###############################################################\n",
    "\n",
    "\n",
    "ax2.errorbar(bincenters, \n",
    "             np.array([x/y for x,y in zip(unf, binwidth_div)])/np.array([x/y for x,y in zip(smeared_genie, binwidth_div)]), \n",
    "             yerr=[((a+b)/c)-(a/c) for a,b,c in zip([x/y for x,y in zip(unf, binwidth_div)],[x*y for x,y in zip(np.sqrt(np.diagonal(frac_cov)), [x/y for x,y in zip(unf, binwidth_div)])],[x/y for x,y in zip(smeared_genie, binwidth_div)])], \n",
    "                     xerr=binwidth_plot, color=\"black\", fmt='o', markersize=3)\n",
    "    \n",
    "############################################\n",
    "\n",
    "ax1.set_xlim(bins[1],xhigh)\n",
    "ax1.set_xticks(x_ticks)\n",
    "\n",
    "ax2.set_xlim(bins[1],xhigh)\n",
    "ax2.set_xticks(x_ticks)\n",
    "\n",
    "ax2.set_ylim(-0.95,2.95)\n",
    "\n",
    "ax2.set_xlabel(\"Unfolded \"+x_label, fontsize=14)\n",
    "\n",
    "ax2.axhline(1.0, color='black', lw=1, linestyle='--')\n",
    "\n",
    "ax2.set_ylabel(\"Data / GENIE\", fontsize=14)\n",
    "\n",
    "ax1.legend(fontsize=13, frameon=False)\n",
    "\n",
    "ax1.set_ylim(0, 2700)\n",
    "#plt.savefig(\"/uboone/data/users/kmiller/uBNuMI_CCNp/plots/\"+xvar+\"_unf_binwidth_defense.pdf\", transparent=True, bbox_inches='tight') \n",
    "\n",
    "    \n",
    "plt.show()\n",
    "\n",
    "###########################################################################################\n",
    "###########################################################################################\n",
    "\n",
    "unfcov_binwidth = [ [0]*(len(bins)-1) for x in range(len(bins)-1) ]\n",
    "\n",
    "# loop over the bins\n",
    "for i in range(len(bincenters)): \n",
    "    for j in range(len(bincenters)): \n",
    "        \n",
    "        unfcov_binwidth[i][j] = unfcov[i][j] / ( (binwidth_div[i]) * (binwidth_div[j]) )\n",
    " \n",
    "fig = plt.figure(figsize=(10, 6))\n",
    "        \n",
    "plt.pcolor(b_unfcov, b_unfcov, np.array(unfcov_binwidth).T, cmap='OrRd', edgecolors='k')#, vmin=1175, vmax=1275)\n",
    "\n",
    "cbar = plt.colorbar()\n",
    "cbar.ax.tick_params(labelsize=14)\n",
    "\n",
    "plt.xticks(fontsize=14)\n",
    "plt.yticks(fontsize=14)\n",
    "\n",
    "plt.xlabel(\"Unfolded \"+x_label, fontsize=15)\n",
    "plt.ylabel(\"Unfolded \"+x_label, fontsize=15)\n",
    "\n",
    "plt.xticks(x_ticks, fontsize=12)\n",
    "plt.yticks(x_ticks, fontsize=12)\n",
    "\n",
    "plt.xlim(bins[0],xhigh)\n",
    "plt.ylim(bins[0],xhigh)\n",
    "\n",
    "\n",
    "cbar.set_label(label='$\\\\nu^{2}$ / $7.0 \\\\times 10^{20}$ POT$^{2}$', fontsize=15)\n",
    "plt.title('Covariance of Unfolded Event Rate', fontsize=15)\n",
    "\n",
    "#plt.savefig(\"/uboone/data/users/kmiller/uBNuMI_CCNp/plots/\"+xvar+\"_unfcov_binwidth_defense.pdf\", \n",
    "#            transparent=True, bbox_inches='tight') \n",
    "\n",
    "plt.show()"
   ]
  },
  {
   "cell_type": "code",
   "execution_count": null,
   "metadata": {},
   "outputs": [],
   "source": []
  },
  {
   "cell_type": "markdown",
   "metadata": {},
   "source": [
    "## Convert to xsec units"
   ]
  },
  {
   "cell_type": "code",
   "execution_count": null,
   "metadata": {},
   "outputs": [],
   "source": [
    "# divide by bin width, flux, and n_target "
   ]
  },
  {
   "cell_type": "code",
   "execution_count": 52,
   "metadata": {},
   "outputs": [],
   "source": [
    "import selection_functions \n",
    "from selection_functions import get_ratio_err"
   ]
  },
  {
   "cell_type": "code",
   "execution_count": 53,
   "metadata": {},
   "outputs": [],
   "source": [
    "fig = plt.figure(figsize=(8, 7))\n",
    "\n",
    "###############################################################\n",
    "\n",
    "h_smeared_genie = plt.hist(bincenters, bins,\n",
    "                                   weights=1E39*(np.array(smeared_genie)/(n_target*cv_flux*np.array(binwidth_div))))[0]\n",
    "\n",
    "# smeared nuwro in xsec units\n",
    "if isNuWro or (isData==True and ISRUN3==False): \n",
    "    h_smeared_nuwro = plt.hist(bincenters, bins,\n",
    "                 weights=1E39*(np.array(smeared_nuwro)/(n_target*cv_flux*np.array(binwidth_div))))[0]\n",
    "\n",
    "    \n",
    "\n",
    "plt.close()\n",
    "\n",
    "###############################################################\n",
    "# get the sum of the weights squared for this distribution.... how? \n",
    "# i lose info about the sumw2 when i smear the distribution (bin-by-bin procedure)\n",
    "\n",
    "\n",
    "\n",
    "###############################################################\n",
    "# unfolded result in xsec units\n",
    "\n",
    "result_xsec = list(1E39*np.array(unf)/(n_target*cv_flux*np.array(binwidth_div)))\n",
    "y_err = [x*y for x,y in zip(np.sqrt(np.diagonal(frac_cov)), result_xsec)]\n",
    "\n"
   ]
  },
  {
   "cell_type": "code",
   "execution_count": 54,
   "metadata": {},
   "outputs": [],
   "source": [
    "# unfolded data covariance - xsec units \n",
    "# divide out 1E39 \n",
    "\n",
    "unfcov_xsec = [ [0]*(len(bins)-1) for x in range(len(bins)-1) ]\n",
    "unfcor_xsec = [ [0]*(len(bins)-1) for x in range(len(bins)-1) ]\n",
    "Ac_xsec = [ [0]*(len(bins)-1) for x in range(len(bins)-1) ]\n",
    "\n",
    "# loop over the bins\n",
    "for i in range(len(bincenters)): \n",
    "    for j in range(len(bincenters)): \n",
    "        \n",
    "        unfcov_xsec[i][j] = unfcov[i][j] / ( (1E-39*n_target*cv_flux*binwidth_div[i]) * (1E-39*n_target*cv_flux*binwidth_div[j]) )\n",
    "        Ac_xsec[i][j] = Ac[i][j] / ( (1E-39*n_target*cv_flux*binwidth_div[i]) * (1E-39*n_target*cv_flux*binwidth_div[j]) )\n",
    "        \n",
    "for i in range(len(bincenters)): \n",
    "    for j in range(len(bincenters)): \n",
    "        unfcor_xsec[i][j] = unfcov_xsec[i][j] / (np.sqrt(unfcov_xsec[i][i])*np.sqrt(unfcov_xsec[j][j]))\n",
    "\n"
   ]
  },
  {
   "cell_type": "code",
   "execution_count": 55,
   "metadata": {},
   "outputs": [
    {
     "data": {
      "image/png": "[encoded data removed]",
      "text/plain": [
       "<Figure size 432x288 with 2 Axes>"
      ]
     },
     "metadata": {
      "needs_background": "light"
     },
     "output_type": "display_data"
    }
   ],
   "source": [
    "# inverse of unfolded covariance  - xsec units\n",
    "\n",
    "inverse_unfcov_xsec = np.linalg.inv(unfcov_xsec)\n",
    "\n",
    "## check \n",
    "plt.pcolor(b_unfcov, b_unfcov, np.matmul(unfcov_xsec, inverse_unfcov_xsec), cmap='OrRd', edgecolors='k')\n",
    "plt.xlim(xlow,xhigh)\n",
    "plt.ylim(xlow,xhigh)\n",
    "cbar = plt.colorbar()\n",
    "plt.show()"
   ]
  },
  {
   "cell_type": "code",
   "execution_count": 56,
   "metadata": {},
   "outputs": [
    {
     "data": {
      "image/png": "[encoded data removed]",
      "text/plain": [
       "<Figure size 720x432 with 2 Axes>"
      ]
     },
     "metadata": {
      "needs_background": "light"
     },
     "output_type": "display_data"
    }
   ],
   "source": [
    "fig = plt.figure(figsize=(10, 6))\n",
    "        \n",
    "plt.pcolor(b_unfcov, b_unfcov, np.array(unfcov_xsec).T, cmap='OrRd', edgecolors='k')#, vmin=0, vmax=2.5)\n",
    "\n",
    "cbar = plt.colorbar()\n",
    "cbar.ax.tick_params(labelsize=14)\n",
    "\n",
    "plt.xticks(fontsize=14)\n",
    "plt.yticks(fontsize=14)\n",
    "\n",
    "plt.xlabel(\"Unfolded \"+x_label, fontsize=15)\n",
    "plt.ylabel(\"Unfolded \"+x_label, fontsize=15)\n",
    "\n",
    "plt.xticks(x_ticks, fontsize=12)\n",
    "plt.yticks(x_ticks, fontsize=12)\n",
    "\n",
    "plt.xlim(bins[0],xhigh)\n",
    "plt.ylim(bins[0],xhigh)\n",
    "\n",
    "if xvar=='tksh_angle': \n",
    "    cbar.set_label(label='[$\\\\times 10^{-39}$ cm$^{2}$ / nucleon]$^{2}$', fontsize=15)\n",
    "    \n",
    "else: \n",
    "    cbar.set_label(label='[$\\\\times 10^{-39}$ cm$^{2}$ / GeV / nucleon]$^{2}$', fontsize=15)\n",
    "\n",
    "plt.title('Unfolded Cross Section Covariance', fontsize=15)\n",
    "\n",
    "#if ISRUN3=='' and isData==False: \n",
    "#    plt.savefig(\"/uboone/data/users/kmiller/uBNuMI_CCNp/plots/combined/cov_\"+xvar+\"_closuretest.pdf\", \n",
    "#            transparent=True, bbox_inches='tight')\n",
    "\n",
    "#if isNuWro: \n",
    "#    plt.savefig(\"/uboone/data/users/kmiller/uBNuMI_CCNp/plots/fhc/fakedata/cov_\"+xvar+\"_nuwro.pdf\", \n",
    "#                transparent=True, bbox_inches='tight')\n",
    "    \n",
    "#if isData: \n",
    "#    plt.savefig(\"/uboone/data/users/kmiller/uBNuMI_CCNp/plots/combined/cov_\"+xvar+\"_unblinded.pdf\", \n",
    "#                transparent=True, bbox_inches='tight')\n",
    "\n",
    "\n",
    "plt.show()"
   ]
  },
  {
   "cell_type": "code",
   "execution_count": 57,
   "metadata": {},
   "outputs": [],
   "source": [
    "# set off diagonals to zero, then take the inverse (for diagonal only chi2)\n",
    "\n",
    "unfcov_xsec_diag = [ [0]*(len(bins)-1) for x in range(len(bins)-1) ]\n",
    "\n",
    "for i in range(len(bins)-1): \n",
    "    unfcov_xsec_diag[i][i] = unfcov_xsec[i][i]\n",
    "\n",
    "inverse_unfcov_xsec_diag = np.linalg.inv(unfcov_xsec_diag)"
   ]
  },
  {
   "cell_type": "code",
   "execution_count": 58,
   "metadata": {},
   "outputs": [
    {
     "data": {
      "image/png": "[encoded data removed]",
      "text/plain": [
       "<Figure size 720x432 with 2 Axes>"
      ]
     },
     "metadata": {
      "needs_background": "light"
     },
     "output_type": "display_data"
    }
   ],
   "source": [
    "fig = plt.figure(figsize=(10, 6))\n",
    "        \n",
    "plt.pcolor(b_unfcov, b_unfcov, inverse_unfcov_xsec.T, cmap='OrRd', edgecolors='k')#, vmin=-100000, vmax=100000)\n",
    "\n",
    "cbar = plt.colorbar()\n",
    "cbar.ax.tick_params(labelsize=14)\n",
    "\n",
    "plt.xticks(fontsize=14)\n",
    "plt.yticks(fontsize=14)\n",
    "\n",
    "plt.xlabel(\"Unfolded \"+x_label, fontsize=15)\n",
    "plt.ylabel(\"Unfolded \"+x_label, fontsize=15)\n",
    "\n",
    "plt.xticks(x_ticks, fontsize=12)\n",
    "plt.yticks(x_ticks, fontsize=12)\n",
    "\n",
    "plt.xlim(bins[0],xhigh)\n",
    "plt.ylim(bins[0],xhigh)\n",
    "\n",
    "cbar.set_label(label='[$\\\\times 10^{-39}$ cm$^{2}$ / GeV / nucleon]$^{2}$', fontsize=15)\n",
    "\n",
    "plt.title('Inverse Covariance of Unfolded Cross Section', fontsize=15)\n",
    "\n",
    "plt.show()"
   ]
  },
  {
   "cell_type": "code",
   "execution_count": 59,
   "metadata": {},
   "outputs": [],
   "source": [
    "# fractional covariance & correlation (same as event rate plots)  - xsec units \n",
    "\n",
    "frac_cov_xsec = [ [0]*(len(bins)-1) for x in range(len(bins)-1) ]\n",
    "cor_xsec = [ [0]*(len(bins)-1) for x in range(len(bins)-1) ]\n",
    "\n",
    "for i in range(len(bins)-1): \n",
    "    cvi = result_xsec[i]\n",
    "\n",
    "    for j in range(len(bins)-1):    \n",
    "        cvj = result_xsec[j]\n",
    "                \n",
    "        frac_cov_xsec[i][j] = unfcov_xsec[i][j]/(cvi*cvj)\n",
    "        cor_xsec[i][j] = unfcov_xsec[i][j] / (np.sqrt(unfcov_xsec[i][i])*np.sqrt(unfcov_xsec[j][j]))"
   ]
  },
  {
   "cell_type": "code",
   "execution_count": 60,
   "metadata": {},
   "outputs": [],
   "source": [
    "################## full chi2 calculation ####################### \n",
    "\n",
    "chi2_genie = 0\n",
    "\n",
    "for i in range(len(bins)-1): \n",
    "    \n",
    "    for j in range(len(h_smeared_genie)): \n",
    "\n",
    "            chi2_genie = chi2_genie  + ( (h_smeared_genie[i]-result_xsec[i])*inverse_unfcov_xsec[i][j]*(h_smeared_genie[j]-result_xsec[j]) )\n",
    "  \n",
    "\n",
    "if isNuWro or (isData==True and ISRUN3==False): \n",
    "\n",
    "    chi2_nuwro = 0 \n",
    "    \n",
    "    for i in range(len(h_smeared_nuwro)): \n",
    "        for j in range(len(h_smeared_nuwro)): \n",
    "            \n",
    "            chi2_nuwro = chi2_nuwro + ( (h_smeared_nuwro[i] - result_xsec[i])*inverse_unfcov_xsec[i][j]*(h_smeared_nuwro[j] - result_xsec[j]) )\n",
    "    \n",
    "    print('nuwro chi2 = ', chi2_nuwro, 'genie chi2 = ', chi2_genie)   \n",
    "    "
   ]
  },
  {
   "cell_type": "code",
   "execution_count": 62,
   "metadata": {},
   "outputs": [
    {
     "data": {
      "image/png": "[encoded data removed]",
      "text/plain": [
       "<Figure size 576x504 with 2 Axes>"
      ]
     },
     "metadata": {
      "needs_background": "light"
     },
     "output_type": "display_data"
    }
   ],
   "source": [
    "###############################################################\n",
    "\n",
    "fig = plt.figure(figsize=(8, 7))\n",
    "\n",
    "gs = gridspec.GridSpec(2, 1, height_ratios=[2, 1])\n",
    "\n",
    "ax1 = plt.subplot(gs[0])\n",
    "ax2 = plt.subplot(gs[1])\n",
    "    \n",
    "ax1.tick_params(axis = 'both', which = 'major', labelsize = 13)\n",
    "ax2.tick_params(axis = 'both', which = 'major', labelsize = 13)\n",
    "\n",
    "#ax1.yaxis.grid(linestyle=\"--\", color='black', alpha=0.2)\n",
    "#ax1.xaxis.grid(linestyle=\"--\", color='black', alpha=0.2)\n",
    "\n",
    "ax2.yaxis.grid(linestyle=\"--\", color='black', alpha=0.2)\n",
    "ax2.xaxis.grid(linestyle=\"--\", color='black', alpha=0.2)\n",
    "\n",
    "###############################################################\n",
    "\n",
    "if isNuWro: \n",
    "    ax1.hist(bincenters, bins, color='dodgerblue', \n",
    "                         label='NuWro (smeared)\\n$\\\\chi^{2}$/n = ' + str(round(chi2_nuwro, 1))+'/'+str(len(bincenters)), \n",
    "                         range=[bins[0],bins[-1]], histtype='step', \n",
    "                         weights=h_smeared_nuwro, alpha=0.5, linewidth=1.5)\n",
    "    \n",
    "    ax1.hist(bincenters, bins,  label='GENIE v3 (smeared)\\n$\\\\chi^{2}$/n = ' + str(round(chi2_genie, 1))+'/'+str(len(bincenters)), \n",
    "                               range=[bins[0],bins[-1]], \n",
    "                               weights=h_smeared_genie, \n",
    "                               color='mediumseagreen', histtype='step', \n",
    "                               linestyle=\"--\", linewidth=1.5)\n",
    "    \n",
    "elif (isData==True and ISRUN3==False): \n",
    "    ax1.hist(bincenters, bins,  label='GENIE v3 (smeared)\\n$\\\\chi^{2}$/n = ' + str(round(chi2_genie, 2))+'/'+str(len(bincenters)), \n",
    "                               range=[bins[0],bins[-1]], \n",
    "                               weights=h_smeared_genie, \n",
    "                               color='mediumseagreen',\n",
    "                               #linestyle=\"--\", \n",
    "                               linewidth=1, \n",
    "                               histtype='step')\n",
    "    \n",
    "###############################################################\n",
    "\n",
    "else: \n",
    "    \n",
    "    ax1.hist(bincenters, bins, color='#00cc02',\n",
    "                 label='GENIE v3.0.6 (tuned)\\n$\\\\chi^{2}$/n = ' + str(round(chi2_genie, 1))+'/'+str(len(bincenters)), \n",
    "                 range=[bins[0],bins[-1]], \n",
    "                     weights=h_smeared_genie,\n",
    "                 histtype='step')\n",
    "        \n",
    "\n",
    "    \n",
    "###############################################################\n",
    "\n",
    "# unfolded result\n",
    "\n",
    "ax1.errorbar(bincenters, result_xsec, \n",
    "             xerr=binwidth_plot, yerr=y_err, fmt='o', \n",
    "             color='black', ecolor='black', markersize=3, label='Data (Stat. + Sys.)') \n",
    "\n",
    "###############################################################\n",
    "\n",
    "\n",
    "# ratio \n",
    "\n",
    "if isNuWro==True: \n",
    "    ax2.errorbar(bincenters, result_xsec/h_smeared_nuwro, \n",
    "                 yerr=[((a+b)/c)-(a/c) for a,b,c in zip(result_xsec,y_err,h_smeared_nuwro)], \n",
    "                 xerr=binwidth_plot, color=\"black\", fmt='o', markersize=3)\n",
    "    \n",
    "else: \n",
    "    \n",
    "    ax2.errorbar(bincenters, result_xsec/h_smeared_genie, \n",
    "                     yerr=[((a+b)/c)-(a/c) for a,b,c in zip(result_xsec,y_err,h_smeared_genie)], \n",
    "                     xerr=binwidth_plot, color=\"black\", fmt='o', markersize=3)\n",
    "    \n",
    "############################################\n",
    "\n",
    "#if xvar=='shr_energy_cali': \n",
    "#    ax1.set_ylim(0, 15)\n",
    "#else: \n",
    "ax1.set_ylim(0, 6)\n",
    "    \n",
    "ax2.set_ylim(-1, 3)\n",
    "ax2.set_yticks([-1, 0, 1, 2, 3])\n",
    "\n",
    "    \n",
    "if xvar=='tksh_angle':    \n",
    "    ax1.set_ylabel(\"d$\\\\sigma$/d(\"+x_label+\")\\n[$\\\\times 10^{-39}$ cm$^{2}$ / nucleon]\", fontsize=14)\n",
    "    \n",
    "else: \n",
    "    ax1.set_ylabel(\"d$\\\\sigma$/dE\\n[$\\\\times 10^{-39}$ cm$^{2}$ / GeV / nucleon]\", fontsize=14)\n",
    "\n",
    "ax1.set_xlim(bins[1],xhigh)\n",
    "ax1.set_xticks(x_ticks)\n",
    "\n",
    "ax2.set_xlim(bins[1],xhigh)\n",
    "ax2.set_xticks(x_ticks)\n",
    "\n",
    "ax2.set_xlabel(x_label, fontsize=14)\n",
    "ax2.axhline(1.0, color='black', lw=1, linestyle='--')\n",
    "\n",
    "if isNuWro==True: \n",
    "    ax2.set_ylabel(\"Unfolded / NuWro\", fontsize=14)\n",
    "    \n",
    "else: \n",
    "    ax2.set_ylabel(\"Data / Prediction\", fontsize=14)\n",
    "\n",
    "\n",
    "if xvar=='tksh_angle' and ISRUN3==False: \n",
    "    handles, labels = ax1.get_legend_handles_labels()\n",
    "    order = [0,2,1]\n",
    "    ax1.legend([handles[idx] for idx in order],[labels[idx] for idx in order], \n",
    "               fontsize=13, loc='upper left', ncol=2, frameon=False) \n",
    "    \n",
    "else: \n",
    "    ax1.legend(fontsize=13, frameon=False)\n",
    "\n",
    "if ISRUN3=='': \n",
    "    ax1.set_title('MicroBooNE NuMI Data: $7.0 \\\\times 10^{20}$ POT', fontsize=16)\n",
    "    \n",
    "elif ISRUN3==False: \n",
    "    ax1.set_title('FHC Cross Section', fontsize=16)\n",
    "    \n",
    "elif ISRUN3==True: \n",
    "    ax1.set_title('RHC Cross Section', fontsize=16)\n",
    "    \n",
    "\n",
    "############################################################\n",
    "\n",
    "#if ISRUN3=='' and isData==False: \n",
    "#    plt.savefig(\"/uboone/data/users/kmiller/uBNuMI_CCNp/plots/combined/combined_\"+xvar+\"_closuretest.pdf\", \n",
    "#            transparent=True, bbox_inches='tight')\n",
    "\n",
    "#if isNuWro: \n",
    "#    plt.savefig(\"/uboone/data/users/kmiller/uBNuMI_CCNp/plots/fhc/fakedata/result_\"+xvar+\"_nuwro.pdf\", \n",
    "#                transparent=True, bbox_inches='tight')\n",
    "    \n",
    "#if isData: \n",
    "#    plt.savefig(\"/uboone/data/users/kmiller/uBNuMI_CCNp/plots/combined/result_\"+xvar+\"_unblinded_\"+c+\".pdf\", \n",
    "#                transparent=True, bbox_inches='tight')\n",
    "    \n",
    "plt.show()"
   ]
  },
  {
   "cell_type": "code",
   "execution_count": 63,
   "metadata": {},
   "outputs": [
    {
     "data": {
      "text/plain": [
       "'dev1'"
      ]
     },
     "execution_count": 63,
     "metadata": {},
     "output_type": "execute_result"
    }
   ],
   "source": [
    "c"
   ]
  },
  {
   "cell_type": "code",
   "execution_count": 64,
   "metadata": {},
   "outputs": [
    {
     "data": {
      "image/png": "[encoded data removed]",
      "text/plain": [
       "<Figure size 576x360 with 1 Axes>"
      ]
     },
     "metadata": {
      "needs_background": "light"
     },
     "output_type": "display_data"
    }
   ],
   "source": [
    "fig = plt.figure(figsize=(8, 5))  \n",
    "\n",
    "plt.hist(bincenters, bins, histtype='step', weights=np.sqrt(np.diagonal(frac_cov)), color='black', \n",
    "        linewidth=2)\n",
    "\n",
    "plt.xticks(x_ticks, fontsize=13)\n",
    "plt.yticks(fontsize=13)\n",
    "\n",
    "plt.xlabel(\"Unfolded \"+x_label, fontsize=15)\n",
    "plt.ylabel(\"Fractional Uncertainty\", fontsize=15)\n",
    "\n",
    "plt.xlim(bins[0], xhigh)\n",
    "\n",
    "\n",
    "plt.title(\"Fractional Uncertainty\", fontsize=16)\n",
    "plt.grid(linestyle=\":\")\n",
    "plt.show()\n",
    "\n"
   ]
  },
  {
   "cell_type": "markdown",
   "metadata": {},
   "source": [
    "## Generator Comparisons "
   ]
  },
  {
   "cell_type": "code",
   "execution_count": 68,
   "metadata": {},
   "outputs": [],
   "source": [
    "path = \"/uboone/app/users/kmiller/BuildEventGenerators/FlatTreeAnalyzer/OutputFiles/\"\n",
    "\n",
    "f_neut_gen = uproot.open(path+\"FlatTreeAnalyzerOutput_NEUT.root\")\n",
    "f_nuwro_gen = uproot.open(path+\"FlatTreeAnalyzerOutput_NuWro.root\")\n",
    "f_genie_gen = uproot.open(path+\"FlatTreeAnalyzerOutput_GENIE.root\")\n",
    "f_gibuu_gen = uproot.open(path+\"FlatTreeAnalyzerOutput_GiBUU.root\")\n"
   ]
  },
  {
   "cell_type": "code",
   "execution_count": 69,
   "metadata": {},
   "outputs": [],
   "source": [
    "# convert back to event rate units for Ac smearing \n",
    "\n",
    "if true_var == 'true_e_visible2': \n",
    "    gen_var = 'true_e_visible'\n",
    "    \n",
    "else: \n",
    "    gen_var = true_var\n",
    "\n",
    "gen_dict = {   \n",
    "    'NEUT' : {'true' : (f_neut_gen[gen_var].values/1E39) * (n_target*cv_flux*np.array(binwidth_div)), 'smeared' : []},\n",
    "    'GENIE' : {'true' : (f_genie_gen[gen_var].values/1E39) * (n_target*cv_flux*np.array(binwidth_div)), 'smeared' : []},\n",
    "    'NuWro' : {'true' : (f_nuwro_gen[gen_var].values/1E39) * (n_target*cv_flux*np.array(binwidth_div)), 'smeared' : []}, \n",
    "    'GiBUU' : {'true' : (f_gibuu_gen[gen_var].values/1E39) * (n_target*cv_flux*np.array(binwidth_div)), 'smeared' : []}, \n",
    "    'GENIE_cv' : {'true' : true, 'smeared' : []}\n",
    "}\n"
   ]
  },
  {
   "cell_type": "code",
   "execution_count": 70,
   "metadata": {},
   "outputs": [
    {
     "data": {
      "text/plain": [
       "array([ True,  True,  True,  True,  True,  True,  True])"
      ]
     },
     "execution_count": 70,
     "metadata": {},
     "output_type": "execute_result"
    }
   ],
   "source": [
    "# check correct Ac matrix orientation \n",
    "np.round( np.matmul( Ac, np.matmul( np.linalg.inv(res), meas ) ), 5) == np.round(unf,5)"
   ]
  },
  {
   "cell_type": "code",
   "execution_count": 71,
   "metadata": {},
   "outputs": [],
   "source": [
    "# smear the event generators -- in event rate units\n",
    "\n",
    "for key in gen_dict: \n",
    "    gen_dict[key]['smeared'] = np.matmul(Ac, gen_dict[key]['true'])\n",
    "\n",
    "\n",
    "#for key in gen_dict: # where key is the generator name in a dictionary \n",
    "    \n",
    "#    for i in range(len(b_Ac)-1): # where i is the row of matrix Ac\n",
    "#        s = 0\n",
    "        \n",
    "#        for j in range(len(b_Ac)-1): # where j is the column of matrix Ac\n",
    "            \n",
    "#            s = s + ( Ac[i][j] * gen_dict[key]['true'][j] ) # equal to np.matmul(Ac, gen_dict['GENIE']['true'])\n",
    "            \n",
    "            #if key == 'GENIE': \n",
    "            #    print(\"i = \", i, \", j = \", j, \": \", Ac[i][j], \" * \", gen_dict[key]['true'][j], \" = \", Ac[i][j] * gen_dict[key]['true'][j])\n",
    "            \n",
    "#        gen_dict[key]['smeared'].append(s)"
   ]
  },
  {
   "cell_type": "code",
   "execution_count": 72,
   "metadata": {},
   "outputs": [],
   "source": [
    "# convert back to xsec units \n",
    "\n",
    "for key in gen_dict:\n",
    "    gen_dict[key]['true'] = (gen_dict[key]['true']*1E39) / (n_target*cv_flux*np.array(binwidth_div))\n",
    "    gen_dict[key]['smeared'] = (np.array(gen_dict[key]['smeared'])*1E39) / (n_target*cv_flux*np.array(binwidth_div))"
   ]
  },
  {
   "cell_type": "code",
   "execution_count": 73,
   "metadata": {},
   "outputs": [],
   "source": [
    "# compute the chi2 \n",
    "\n",
    "for key in gen_dict:\n",
    "    chi2 = 0\n",
    "    \n",
    "    for i in range(len(bins)-1): \n",
    "        for j in range(len(result_xsec)): \n",
    "            chi2 = chi2 + ( (gen_dict[key]['smeared'][i]-result_xsec[i])*inverse_unfcov_xsec[i][j]*(gen_dict[key]['smeared'][j]-result_xsec[j]) )\n",
    "    \n",
    "    gen_dict[key]['chi2'] = chi2\n",
    "    "
   ]
  },
  {
   "cell_type": "code",
   "execution_count": 74,
   "metadata": {},
   "outputs": [
    {
     "data": {
      "text/plain": [
       "{'NEUT': {'true': array([1.23150614, 3.76260637, 4.06212813, 3.47840846, 2.49681172,\n",
       "         1.37393113, 0.14768225]),\n",
       "  'smeared': array([1.25005029, 3.16287377, 3.65641326, 3.61514446, 2.29794546,\n",
       "         1.29618424, 0.08557616]),\n",
       "  'chi2': 36.43384552957076},\n",
       " 'GENIE': {'true': array([1.04320172, 2.91918262, 3.02241971, 2.54600772, 1.77954176,\n",
       "         0.98235342, 0.10392709]),\n",
       "  'smeared': array([1.03265883, 2.48011374, 2.74648721, 2.64203077, 1.6481026 ,\n",
       "         0.91841127, 0.06024612]),\n",
       "  'chi2': 31.00039406927905},\n",
       " 'NuWro': {'true': array([0.9522825 , 2.84163472, 3.04585338, 2.66256662, 1.90233568,\n",
       "         1.02199755, 0.1068905 ]),\n",
       "  'smeared': array([0.96417327, 2.40169626, 2.76272579, 2.7450927 , 1.74030629,\n",
       "         0.96654797, 0.06293366]),\n",
       "  'chi2': 33.36410343320116},\n",
       " 'GiBUU': {'true': array([1.2990023 , 3.63379778, 3.47237694, 2.94982652, 1.99764876,\n",
       "         1.07255603, 0.11578402]),\n",
       "  'smeared': array([1.30174453, 3.0295381 , 3.23912318, 3.03061519, 1.84894394,\n",
       "         1.01474256, 0.06643401]),\n",
       "  'chi2': 28.476951815203318},\n",
       " 'GENIE_cv': {'true': array([1.35425198, 3.55127904, 3.80406903, 3.14942671, 2.30805401,\n",
       "         1.20310102, 0.12411412]),\n",
       "  'smeared': array([1.31404981, 3.09809939, 3.41913455, 3.323202  , 2.07575268,\n",
       "         1.13548552, 0.07310348]),\n",
       "  'chi2': 30.664076968603432}}"
      ]
     },
     "execution_count": 74,
     "metadata": {},
     "output_type": "execute_result"
    }
   ],
   "source": [
    "gen_dict"
   ]
  },
  {
   "cell_type": "code",
   "execution_count": 75,
   "metadata": {},
   "outputs": [],
   "source": [
    "import matplotlib.lines as mlines"
   ]
  },
  {
   "cell_type": "code",
   "execution_count": 76,
   "metadata": {},
   "outputs": [
    {
     "data": {
      "image/png": "[encoded data removed]",
      "text/plain": [
       "<Figure size 576x360 with 1 Axes>"
      ]
     },
     "metadata": {
      "needs_background": "light"
     },
     "output_type": "display_data"
    }
   ],
   "source": [
    "fig = plt.figure(figsize=(8, 5))\n",
    "\n",
    "\n",
    "plt.hist(bincenters, bins, weights=gen_dict['NEUT']['smeared'], histtype='step', color='#ffc161', linewidth=1)\n",
    "neut_line = mlines.Line2D([], [], color='#ffc161',\n",
    "         label='NEUT v5.4.0\\n$\\\\chi^{2}$/n = ' + str(round(gen_dict['NEUT']['chi2'], 1))+'/'+str(len(bincenters)))\n",
    "\n",
    "\n",
    "\n",
    "plt.hist(bincenters, bins, weights=gen_dict['GiBUU']['smeared'],  histtype='step', linewidth=1,color='#a393eb')\n",
    "gibuu_line = mlines.Line2D([], [], color='#a393eb', \n",
    "        label='GiBUU 2021\\n$\\\\chi^{2}$/n = ' + str(round(gen_dict['GiBUU']['chi2'], 1))+'/'+str(len(bincenters)))\n",
    "\n",
    "\n",
    "\n",
    "plt.hist(bincenters, bins, weights=gen_dict['GENIE']['smeared'], histtype='step', linewidth=1, color='#ff0000')\n",
    "genie_line = mlines.Line2D([], [], color='#ff0000' , \n",
    "        label='GENIE v3.0.6 (untuned)\\n$\\\\chi^{2}$/n = ' + str(round(gen_dict['GENIE']['chi2'], 1))+'/'+str(len(bincenters)))\n",
    "\n",
    "\n",
    "\n",
    "plt.hist(bincenters, bins, weights=gen_dict['GENIE_cv']['smeared'], histtype='step', linewidth=1, color='#00cc02')\n",
    "geniecv_line = mlines.Line2D([], [], color='#00cc02', \n",
    "        label='GENIE v3.0.6 (tuned)\\n$\\\\chi^{2}$/n = ' + str(round(gen_dict['GENIE_cv']['chi2'], 1))+'/'+str(len(bincenters)))\n",
    "\n",
    "plt.hist(bincenters, bins, weights=gen_dict['NuWro']['smeared'], histtype='step', linewidth=1.3, color='dodgerblue',linestyle='dashdot' )\n",
    "nuwro_line = mlines.Line2D([], [], color='dodgerblue', linestyle='dashdot',\n",
    "         label='NuWro v19.02.2\\n$\\\\chi^{2}$/n = ' + str(round(gen_dict['NuWro']['chi2'], 1))+'/'+str(len(bincenters)))\n",
    "\n",
    "    \n",
    "    \n",
    "\n",
    "data = plt.errorbar(bincenters, result_xsec, \n",
    "             xerr=binwidth_plot, yerr=y_err, fmt='o', \n",
    "             color='black', ecolor='black', markersize=3, label='NuMI Data\\n(Stat. + Sys.)',linewidth=2) \n",
    "       \n",
    "    \n",
    "plt.xlim(bins[0],xhigh)\n",
    "#plt.ylim(0, 5)\n",
    "\n",
    "plt.xticks(x_ticks, fontsize=11)\n",
    "plt.yticks(fontsize=11)\n",
    "\n",
    "\n",
    "plt.xlabel(x_label, fontsize=16)\n",
    "\n",
    "if xvar=='tksh_angle':    \n",
    "    plt.ylabel(\"d$\\\\sigma$/d(\"+x_label+\")\\n[$\\\\times 10^{-39}$ cm$^{2}$ / nucleon]\", fontsize=16)\n",
    "    \n",
    "else: \n",
    "    plt.ylabel(\"d$\\\\sigma$/dE\\n[$\\\\times 10^{-39}$ cm$^{2}$ / GeV / nucleon]\", fontsize=16)\n",
    "\n",
    "\n",
    "leg = plt.legend(fontsize=10, frameon=False, ncol=1, loc='upper right', \n",
    "                 handles=[neut_line, nuwro_line, gibuu_line, \n",
    "                          genie_line, geniecv_line, data])\n",
    "\n",
    "for legobj in leg.legendHandles:\n",
    "    legobj.set_linewidth(2.2)\n",
    "    \n",
    "    \n",
    "#plt.text(0.03 , 15.7, 'MicroBooNE FHC+RHC: $7.0 \\\\times 10^{20}$ POT', fontsize=14)\n",
    "\n",
    "#plt.savefig(\"/uboone/data/users/kmiller/uBNuMI_CCNp/plots/combined/result_\"+xvar+\"_unblinded_comparisons.pdf\", \n",
    "#                transparent=True, bbox_inches='tight')\n",
    "\n",
    "plt.show()\n",
    "\n"
   ]
  },
  {
   "cell_type": "code",
   "execution_count": 77,
   "metadata": {},
   "outputs": [
    {
     "data": {
      "image/png": "[encoded data removed]",
      "text/plain": [
       "<Figure size 576x360 with 1 Axes>"
      ]
     },
     "metadata": {
      "needs_background": "light"
     },
     "output_type": "display_data"
    }
   ],
   "source": [
    "fig = plt.figure(figsize=(8, 5))\n",
    "\n",
    "\n",
    "\n",
    "x = plt.hist(bincenters, bins, weights=gen_dict['GENIE']['smeared'], histtype='step', linewidth=1, color='#ff0000')\n",
    "genie_line = mlines.Line2D([], [], color='#ff0000' , \n",
    "        label='GENIE v3.0.6 (untuned)\\n$\\\\chi^{2}$/n = ' + str(round(gen_dict['GENIE']['chi2'], 1))+'/'+str(len(bincenters)))\n",
    "\n",
    "plt.hist(bincenters, bins, weights=gen_dict['GENIE_cv']['smeared'], histtype='step', linewidth=1, color='#00cc02')\n",
    "geniecv_line = mlines.Line2D([], [], color='#00cc02', \n",
    "        label='GENIE v3.0.6 (tuned)\\n$\\\\chi^{2}$/n = ' + str(round(gen_dict['GENIE_cv']['chi2'], 1))+'/'+str(len(bincenters)))\n",
    "\n",
    "\n",
    "data = plt.errorbar(bincenters, result_xsec, \n",
    "             xerr=binwidth_plot, yerr=y_err, fmt='o', \n",
    "             color='black', ecolor='black', markersize=3, label='Data (Stat. + Sys.)',linewidth=2) \n",
    "       \n",
    "    \n",
    "plt.xlim(bins[0],xhigh)\n",
    "plt.ylim(0, 8)\n",
    "\n",
    "plt.xticks(x_ticks, fontsize=11)\n",
    "plt.yticks(fontsize=11)\n",
    "\n",
    "\n",
    "plt.xlabel(x_label, fontsize=15)\n",
    "\n",
    "if xvar=='tksh_angle':    \n",
    "    plt.ylabel(\"d$\\\\sigma$/d(\"+x_label+\")\\n[$\\\\times 10^{-39}$ cm$^{2}$ / nucleon]\", fontsize=14)\n",
    "    \n",
    "else: \n",
    "    plt.ylabel(\"d$\\\\sigma$/dE\\n[$\\\\times 10^{-39}$ cm$^{2}$ / GeV / nucleon]\", fontsize=14)\n",
    "\n",
    "\n",
    "leg = plt.legend(fontsize=12.5, frameon=False, ncol=1, loc='upper right', \n",
    "                 handles=[ \n",
    "                          genie_line, geniecv_line, data])\n",
    "\n",
    "for legobj in leg.legendHandles:\n",
    "    legobj.set_linewidth(2.2)\n",
    "    \n",
    "plt.show()"
   ]
  },
  {
   "cell_type": "code",
   "execution_count": null,
   "metadata": {},
   "outputs": [],
   "source": []
  },
  {
   "cell_type": "markdown",
   "metadata": {},
   "source": [
    "### save to file"
   ]
  },
  {
   "cell_type": "code",
   "execution_count": null,
   "metadata": {},
   "outputs": [],
   "source": [
    "gen_path = \"/uboone/data/users/kmiller/uBNuMI_CCNp/unfolding/generator_comparisons/\""
   ]
  },
  {
   "cell_type": "code",
   "execution_count": null,
   "metadata": {},
   "outputs": [],
   "source": [
    "import os \n",
    "from datetime import date\n",
    "\n",
    "filename = gen_var+\"_generator_comparisons_nopeak_\"+date.today().strftime(\"%m%d%y\")+\".root\"\n",
    "    \n",
    "if os.path.exists(gen_path+filename): \n",
    "    print(gen_path+filename, \"exists and is readable, need to update file name to save ! \")\n",
    "    \n",
    "else: \n",
    "    \n",
    "    f_gen = ROOT.TFile.Open(gen_path+filename, \"NEW\")\n",
    "    \n",
    "    ####### generator comparisons (smeared) #######\n",
    "    for key in gen_dict.keys(): \n",
    "\n",
    "        smeared_root = TH1F(key+\"_\"+gen_var, key+\" Cross Section Prediction (Smeared)\", len(bincenters), np.array(bins))\n",
    "        unsmeared_root = TH1F(key+\"_\"+gen_var+\"_unsmeared\", key+\" Cross Section Prediction (Unsmeared)\", len(bincenters), np.array(bins))\n",
    "\n",
    "        for i in range(len(bincenters)): \n",
    "            smeared_root.Fill(bincenters[i], gen_dict[key]['smeared'][i])\n",
    "            unsmeared_root.Fill(bincenters[i], gen_dict[key]['true'][i])\n",
    "        \n",
    "        f_gen.cd()\n",
    "        smeared_root.Write()\n",
    "        smeared_root.Reset()\n",
    "        \n",
    "        unsmeared_root.Write()\n",
    "        unsmeared_root.Reset()\n",
    "\n",
    "    ####### Ac matrix #####################\n",
    "    Ac_root = TH2D(\"Ac_\"+gen_var, \"Ac - Additional Smearing Matrix (Event Rate Units)\", \n",
    "                   len(bincenters), np.array(bins), len(bincenters), np.array(bins))\n",
    "\n",
    "    for i in range(len(bincenters)): \n",
    "        for j in range(len(bincenters)): \n",
    "\n",
    "            Ac_root.Fill(bincenters[i], bincenters[j], Ac[i][j])\n",
    "            \n",
    "    f_gen.cd()\n",
    "    Ac_root.Write()\n",
    "    \n",
    "    ####### unfolded result (xsec units) #####################\n",
    "    \n",
    "    unf_root = TH1F(\"unf_xsec_\"+gen_var, \"Unfolded NuMI Data Result (Cross Section Units)\", len(bincenters), np.array(bins))\n",
    "\n",
    "    for i in range(len(bincenters)): \n",
    "        unf_root.Fill(bincenters[i], result_xsec[i])\n",
    "    \n",
    "    unfcov_root = TH2D(\"unfcov_xsec_\"+gen_var, \"Unfolded Covariance of NuMI Data Result (Cross Section Units)\", \n",
    "                       len(bincenters), np.array(bins), len(bincenters), np.array(bins))\n",
    "\n",
    "    for i in range(len(bincenters)): \n",
    "        for j in range(len(bincenters)): \n",
    "\n",
    "            unfcov_root.Fill(bincenters[j], bincenters[i], unfcov_xsec[i][j])\n",
    "            \n",
    "    f_gen.cd()\n",
    "    unf_root.Write()\n",
    "    unfcov_root.Write()\n",
    "    \n",
    "    f_gen.Close()\n",
    " "
   ]
  },
  {
   "cell_type": "code",
   "execution_count": 78,
   "metadata": {},
   "outputs": [
    {
     "name": "stdout",
     "output_type": "stream",
     "text": [
      "true_e_visible2\n",
      "\n",
      "chi2 -- full :\n",
      "NEUT 36.4 (chi2 = 36.4/7)\n",
      "GENIE 31.0 (chi2 = 31.0/7)\n",
      "NuWro 33.4 (chi2 = 33.4/7)\n",
      "GiBUU 28.5 (chi2 = 28.5/7)\n",
      "GENIE_cv 30.7 (chi2 = 30.7/7)\n"
     ]
    }
   ],
   "source": [
    "print(true_var)\n",
    "print('\\nchi2 -- full :')\n",
    "\n",
    "for key in gen_dict:\n",
    "    chi2 = 0\n",
    "    \n",
    "    for i in range(len(bincenters)): \n",
    "        for j in range(len(bincenters)): \n",
    "            chi2 = chi2 + ( (gen_dict[key]['smeared'][i]-result_xsec[i])*inverse_unfcov_xsec[i][j]*(gen_dict[key]['smeared'][j]-result_xsec[j]) )\n",
    "    \n",
    "    print(key, round(chi2,1), '(chi2 = '+str(round(chi2,1))+'/'+str(len(bincenters))+')')\n",
    "\n"
   ]
  },
  {
   "cell_type": "code",
   "execution_count": 79,
   "metadata": {},
   "outputs": [
    {
     "name": "stdout",
     "output_type": "stream",
     "text": [
      "chi2 -- first two bins ONLY :\n",
      "NEUT 23.7 (chi2 = 23.7/2)\n",
      "GENIE 23.8 (chi2 = 23.8/2)\n",
      "NuWro 25.3 (chi2 = 25.3/2)\n",
      "GiBUU 20.6 (chi2 = 20.6/2)\n",
      "GENIE_cv 20.9 (chi2 = 20.9/2)\n"
     ]
    }
   ],
   "source": [
    "# make a new inverse matrix to use -- delete everything but the first two bins \n",
    "inv = np.delete(unfcov_xsec, obj=[i for i in range(len(bincenters)) if i>1], axis=0)\n",
    "inv = np.linalg.inv(np.delete(inv, obj=[i for i in range(len(bincenters)) if i>1], axis=1))\n",
    "    \n",
    "   \n",
    "print('chi2 -- first two bins ONLY :')\n",
    "for key in gen_dict:\n",
    "    chi2 = 0\n",
    "    \n",
    "    for i in range(len(inv)): \n",
    "        for j in range(len(inv)): \n",
    "            chi2 = chi2 + ( (gen_dict[key]['smeared'][i]-result_xsec[i])*inv[i][j]*(gen_dict[key]['smeared'][j]-result_xsec[j]) )\n",
    "    print(key, round(chi2,1), '(chi2 = '+str(round(chi2,1))+'/'+str(len(inv))+')')\n",
    "    "
   ]
  },
  {
   "cell_type": "code",
   "execution_count": 80,
   "metadata": {},
   "outputs": [
    {
     "name": "stdout",
     "output_type": "stream",
     "text": [
      "chi2 -- excluding first two bins:\n",
      "NEUT 16.0 (chi2 = 16.0/5)\n",
      "GENIE 11.4 (chi2 = 11.4/5)\n",
      "NuWro 12.3 (chi2 = 12.3/5)\n",
      "GiBUU 10.6 (chi2 = 10.6/5)\n",
      "GENIE_cv 12.0 (chi2 = 12.0/5)\n"
     ]
    }
   ],
   "source": [
    "inv = np.delete(unfcov_xsec, obj=[0, 1], axis=0)\n",
    "inv = np.linalg.inv( np.delete(inv, obj=[0, 1], axis=1) )\n",
    " \n",
    "print('chi2 -- excluding first two bins:')\n",
    "for key in gen_dict:\n",
    "    chi2 = 0\n",
    "    \n",
    "    for i in range(len(inv)): \n",
    "        for j in range(len(inv)): \n",
    "            chi2 = chi2 + ( (gen_dict[key]['smeared'][i+2]-result_xsec[i+2])*inv[i][j]*(gen_dict[key]['smeared'][j+2]-result_xsec[j+2]) )\n",
    "    \n",
    "    print(key, round(chi2,1), '(chi2 = '+str(round(chi2,1))+'/'+str(len(inv))+')')\n",
    "    \n",
    "    "
   ]
  },
  {
   "cell_type": "code",
   "execution_count": null,
   "metadata": {},
   "outputs": [],
   "source": []
  },
  {
   "cell_type": "code",
   "execution_count": null,
   "metadata": {},
   "outputs": [],
   "source": []
  },
  {
   "cell_type": "code",
   "execution_count": null,
   "metadata": {},
   "outputs": [],
   "source": []
  },
  {
   "cell_type": "markdown",
   "metadata": {},
   "source": [
    "## EXTRA/OUTDATED"
   ]
  },
  {
   "cell_type": "markdown",
   "metadata": {},
   "source": [
    "### Uncorrelated uncertainites - GENIE vs. NuWro"
   ]
  },
  {
   "cell_type": "code",
   "execution_count": null,
   "metadata": {},
   "outputs": [],
   "source": [
    "#with open('unfolding/covariance/closuretests/'+xvar+'_FHC_abs_inputcov_ClosureTest.json') as f_genie:\n",
    "#    inputcov_genie_dict = json.load(f_genie)"
   ]
  },
  {
   "cell_type": "code",
   "execution_count": null,
   "metadata": {},
   "outputs": [],
   "source": [
    "recreate = False"
   ]
  },
  {
   "cell_type": "code",
   "execution_count": null,
   "metadata": {},
   "outputs": [],
   "source": [
    "if isNuWro: \n",
    "    \n",
    "    print('opening NuWro input covariances....')\n",
    "\n",
    "    with open('unfolding/covariance/fakedata/'+xvar+'_FHC_abs_inputcov_NuWro.json') as f:\n",
    "        inputcov_dict = json.load(f)\n",
    "        \n",
    "else: \n",
    "    \n",
    "    print('opening GENIE input covariances....')\n",
    "\n",
    "    with open('unfolding/covariance/closuretests/'+xvar+'_FHC_abs_inputcov_ClosureTest.json') as f:\n",
    "        inputcov_dict = json.load(f)\n",
    "    \n",
    "    "
   ]
  },
  {
   "cell_type": "code",
   "execution_count": null,
   "metadata": {},
   "outputs": [],
   "source": []
  },
  {
   "cell_type": "code",
   "execution_count": null,
   "metadata": {},
   "outputs": [],
   "source": [
    "# rotate the input covariances - this is in event rate units\n",
    "\n",
    "# statistical \n",
    "fhc_statcov = np.array(inputcov_dict['response_matrix']) + np.array(inputcov_dict['stat'])\n",
    "rot_input_statcov = np.matmul( np.matmul(covrot, fhc_statcov), covrot_t )\n",
    "\n",
    "# genie \n",
    "fhc_geniecov  = np.array(inputcov_dict['genie_ms']) + np.array(inputcov_dict['genie_us'])\n",
    "rot_input_geniecov = np.matmul( np.matmul(covrot, fhc_geniecov), covrot_t ) \n",
    "\n",
    "# frac cov\n",
    "frac_statcov = [ [0]*(len(bins)-1) for x in range(len(bins)-1) ]\n",
    "frac_geniecov =  [ [0]*(len(bins)-1) for x in range(len(bins)-1) ]\n",
    "\n",
    "for i in range(len(bins)-1): \n",
    "    cvi = unf[i]\n",
    "    \n",
    "    for j in range(len(bins)-1):    \n",
    "        cvj = unf[j]\n",
    "                \n",
    "        frac_statcov[i][j] = fhc_statcov[i][j]/(cvi*cvj)\n",
    "        frac_geniecov[i][j] = fhc_geniecov[i][j]/(cvi*cvj)\n",
    "\n",
    "\n",
    "# convert to fractional uncertainty \n",
    "unf_uncor_fraccov_xsec = np.array(frac_statcov) + np.array(frac_geniecov)\n"
   ]
  },
  {
   "cell_type": "code",
   "execution_count": null,
   "metadata": {},
   "outputs": [],
   "source": [
    "fhc_statcov"
   ]
  },
  {
   "cell_type": "code",
   "execution_count": null,
   "metadata": {},
   "outputs": [],
   "source": [
    "# plot the result with uncorrelated uncertainties only \n",
    "\n",
    "fig = plt.figure(figsize=(8, 5))\n",
    "    \n",
    "#plt.errorbar(bincenters, result_xsec, xerr=binwidth, \n",
    "#             yerr=y_err, \n",
    "#             fmt='o', \n",
    "#             color='black', ecolor='black', markersize=3, label='Total') \n",
    "\n",
    "y_err_uncor = [x*y for x,y in zip(np.sqrt(np.diagonal(unf_uncor_fraccov_xsec)), result_xsec)]\n",
    "             \n",
    "plt.errorbar(bincenters, result_xsec, xerr=binwidth_plot, \n",
    "             yerr=y_err_uncor, \n",
    "             fmt='o', \n",
    "             color='turquoise', ecolor='turquoise', markersize=3, label='Uncorrelated') \n",
    "\n",
    "plt.xlim(bins[0],xhigh)\n",
    "plt.ylim(0, 12)\n",
    "\n",
    "plt.xticks(x_ticks, fontsize=13)\n",
    "plt.yticks( fontsize=13)\n",
    "\n",
    "\n",
    "plt.xlabel(x_label, fontsize=15)\n",
    "if xvar != 'tksh_angle': \n",
    "    plt.ylabel('$\\\\nu$ / '+pot+' / GeV', fontsize=15)\n",
    "\n",
    "plt.legend(fontsize=13)\n",
    "\n",
    "if isNuWro: \n",
    "    plt.title('NuWro', fontsize=16)\n",
    "    \n",
    "else: \n",
    "    plt.title(\"GENIE\", fontsize=16)\n",
    "\n",
    "\n",
    "plt.show()\n",
    "\n",
    "# save "
   ]
  },
  {
   "cell_type": "code",
   "execution_count": null,
   "metadata": {},
   "outputs": [],
   "source": []
  },
  {
   "cell_type": "code",
   "execution_count": null,
   "metadata": {},
   "outputs": [],
   "source": []
  },
  {
   "cell_type": "markdown",
   "metadata": {},
   "source": [
    "### Breakdown of unfolded covariance - beam on"
   ]
  },
  {
   "cell_type": "code",
   "execution_count": null,
   "metadata": {},
   "outputs": [],
   "source": [
    "# rotate through covRot matrix \n",
    "# plot the fractional uncertainty & compare the input vs. output distributions "
   ]
  },
  {
   "cell_type": "code",
   "execution_count": null,
   "metadata": {},
   "outputs": [],
   "source": [
    "# get the input covariances \n",
    "\n",
    "if isData: \n",
    "    with open('unfolding/covariance/'+xvar+'_Combined_abs_inputcov_BeamOn.json') as f:\n",
    "            inputcov_dict = json.load(f)"
   ]
  },
  {
   "cell_type": "code",
   "execution_count": null,
   "metadata": {},
   "outputs": [],
   "source": [
    "inputcov_dict.keys()"
   ]
  },
  {
   "cell_type": "code",
   "execution_count": null,
   "metadata": {},
   "outputs": [],
   "source": [
    "# rotate the total input covariance  - this is in event rate units\n",
    "\n",
    "rot_input_totcov = np.matmul( np.matmul(covrot, inputcov_dict['total']), covrot_t )\n",
    "\n",
    "fig = plt.figure(figsize=(10, 6))\n",
    "        \n",
    "plt.pcolor(bins, bins, rot_input_totcov, cmap='OrRd', edgecolors='k')\n",
    "\n",
    "cbar = plt.colorbar()\n",
    "cbar.ax.tick_params(labelsize=14)\n",
    "\n",
    "plt.xticks(fontsize=14)\n",
    "plt.yticks(fontsize=14)\n",
    "\n",
    "plt.xlabel(\"Unfolded \"+x_label, fontsize=15)\n",
    "plt.ylabel(\"Unfolded \"+x_label, fontsize=15)\n",
    "\n",
    "plt.xticks(x_ticks, fontsize=12)\n",
    "plt.yticks(x_ticks, fontsize=12)\n",
    "\n",
    "plt.xlim(bins[0],xhigh)\n",
    "plt.ylim(bins[0],xhigh)\n",
    "\n",
    "cbar.set_label(label='$\\\\nu^{2}$ / $7.0 \\\\times 10^{20}$ POT$^{2}$', fontsize=15)\n",
    "\n",
    "plt.title('CovRot * InputCov * CovRot_t', fontsize=15)\n",
    "\n",
    "plt.show()\n",
    "\n"
   ]
  },
  {
   "cell_type": "code",
   "execution_count": null,
   "metadata": {},
   "outputs": [],
   "source": [
    "# fractional covariance \n",
    "\n",
    "rot_input_fraccov = [ [0]*(len(bins)-1) for x in range(len(bins)-1) ] \n",
    "\n",
    "for i in range(len(bins)-1):\n",
    "    for j in range(len(bins)-1): \n",
    "        rot_input_fraccov[i][j] = rot_input_totcov[i][j]/(unf[i]*unf[j])\n",
    "        \n",
    "fig = plt.figure(figsize=(10, 6))\n",
    "        \n",
    "plt.pcolor(bins, bins, rot_input_fraccov, cmap='OrRd', edgecolors='k',  vmin=0, vmax=0.15)\n",
    "\n",
    "cbar = plt.colorbar()\n",
    "cbar.ax.tick_params(labelsize=14)\n",
    "\n",
    "plt.xticks(fontsize=14)\n",
    "plt.yticks(fontsize=14)\n",
    "\n",
    "plt.xlabel(\"Unfolded \"+x_label, fontsize=15)\n",
    "plt.ylabel(\"Unfolded \"+x_label, fontsize=15)\n",
    "\n",
    "plt.xticks(x_ticks, fontsize=12)\n",
    "plt.yticks(x_ticks, fontsize=12)\n",
    "\n",
    "plt.xlim(bins[0],xhigh)\n",
    "plt.ylim(bins[0],xhigh)\n",
    "\n",
    "plt.title('Fractional Covariance', fontsize=15)\n",
    "\n",
    "plt.show()\n",
    "\n"
   ]
  },
  {
   "cell_type": "code",
   "execution_count": null,
   "metadata": {},
   "outputs": [],
   "source": [
    "# fractional uncertainty - compare to automated output \n",
    "\n",
    "\n",
    "fig = plt.figure(figsize=(8, 5))  \n",
    "\n",
    "plt.hist(bincenters, bins, histtype='step', weights=np.sqrt(np.diag(frac_cov)), color='black', \n",
    "        linewidth=2, label='WSVD output')\n",
    "\n",
    "plt.hist(bincenters, bins, histtype='step', weights=np.sqrt(np.diagonal(rot_input_fraccov)), color='cornflowerblue', \n",
    "        linewidth=2, linestyle='--', label='Rotated output')\n",
    "\n",
    "plt.xticks(x_ticks, fontsize=13)\n",
    "plt.yticks(fontsize=13)\n",
    "\n",
    "plt.xlabel(\"Unfolded \"+x_label, fontsize=15)\n",
    "plt.ylabel(\"Fractional Uncertainty\", fontsize=15)\n",
    "\n",
    "plt.xlim(bins[0], xhigh)\n",
    "plt.ylim(0, 0.5)\n",
    "\n",
    "plt.legend(fontsize=14)\n",
    "\n",
    "plt.title(\"Fractional Uncertainty\", fontsize=16)\n",
    "plt.grid(linestyle=\":\")\n",
    "plt.show()"
   ]
  },
  {
   "cell_type": "code",
   "execution_count": null,
   "metadata": {},
   "outputs": [],
   "source": [
    "output_cov = {}\n",
    "output_fraccov = {}\n",
    "output_frac = {}\n",
    "output_cor = {}"
   ]
  },
  {
   "cell_type": "code",
   "execution_count": null,
   "metadata": {},
   "outputs": [],
   "source": []
  },
  {
   "cell_type": "code",
   "execution_count": null,
   "metadata": {},
   "outputs": [],
   "source": [
    "# for source in inputcov_dict\n",
    "# compute the rotation output covariance \n",
    "# compute the fractional covariance \n",
    "# compute the fractional uncertainty \n",
    "\n",
    "for key in inputcov_dict.keys(): \n",
    "    \n",
    "    # absolute covariance - event rate units\n",
    "    output_cov[key] = np.matmul( np.matmul(covrot, inputcov_dict[key]), covrot_t )\n",
    "    \n",
    "    # fractional covariance\n",
    "    output_fraccov[key] = [ [0]*(len(bins)-1) for x in range(len(bins)-1) ] \n",
    "    output_cor[key] = [ [0]*(len(bins)-1) for x in range(len(bins)-1) ] \n",
    "\n",
    "    \n",
    "    for i in range(len(bins)-1):\n",
    "        for j in range(len(bins)-1): \n",
    "            \n",
    "            # convert to xsec units \n",
    "            output_cov[key][i][j] = output_cov[key][i][j] / ( (1E-39*n_target*cv_flux*binwidth_div[i]) * (1E-39*n_target*cv_flux*binwidth_div[j]) )\n",
    "            \n",
    "            output_fraccov[key][i][j] = output_cov[key][i][j]/(result_xsec[i]*result_xsec[j])\n",
    "            output_cor[key][i][j] = output_cov[key][i][j]/(np.sqrt(output_cov[key][i][i])*np.sqrt(output_cov[key][j][j]))\n",
    "            \n",
    "    # fractional uncertainty \n",
    "    output_frac[key] = np.sqrt(np.diagonal(output_fraccov[key]))\n",
    "    \n",
    "    \n",
    "    "
   ]
  },
  {
   "cell_type": "code",
   "execution_count": null,
   "metadata": {},
   "outputs": [],
   "source": []
  },
  {
   "cell_type": "code",
   "execution_count": null,
   "metadata": {},
   "outputs": [],
   "source": [
    "# combine flux, genie, stat curves for fractional uncertainty plot \n",
    "\n",
    "output_frac['flux_all'] = np.sqrt(np.diagonal([ [x+y for x,y in zip(a,b)] for a,b in zip(output_fraccov['ppfx'], output_fraccov['beamline'])]))\n",
    "output_frac['genie_all'] = np.sqrt(np.diagonal([ [x+y for x,y in zip(a,b)] for a,b in zip(output_fraccov['genie_ms'], output_fraccov['genie_us'])]))\n",
    "output_frac['stat_all'] = np.sqrt(np.diagonal([ [x+y for x,y in zip(a,b)] for a,b in zip(output_fraccov['response_matrix'], output_fraccov['stat'])]))\n",
    "\n"
   ]
  },
  {
   "cell_type": "code",
   "execution_count": null,
   "metadata": {},
   "outputs": [],
   "source": [
    "fig = plt.figure(figsize=(8, 5))  \n",
    "\n",
    "# TOTAL \n",
    "plt.hist(bincenters, bins, histtype='step', range=[bins[0], bins[-1]], label=\"Total\",\n",
    "            weights=output_frac['total'], linewidth=2, color='black')\n",
    "\n",
    "# FLUX\n",
    "plt.hist(bincenters, bins, histtype='step', range=[bins[0], bins[-1]], label=\"Flux\", \n",
    "             weights=output_frac['flux_all'])#, color='royalblue')\n",
    "\n",
    "# CROSS SECTION MODELS \n",
    "plt.hist(bincenters, bins, histtype='step', range=[bins[0], bins[-1]], label=\"GENIE\", \n",
    "             weights=output_frac['genie_all'])#, color='goldenrod')\n",
    "\n",
    "plt.hist(bincenters, bins, histtype='step', range=[bins[0], bins[-1]], label=\"GEANT4\", \n",
    "             weights=output_frac['geant4'])#, color='green')\n",
    "\n",
    "# DETECTOR \n",
    "plt.hist(bincenters, bins, histtype='step', range=[bins[0], bins[-1]], label=\"Detector\", \n",
    "             weights=output_frac['detector'])#, color='crimson')\n",
    "\n",
    "# POT COUNTING \n",
    "plt.hist(bincenters, bins, histtype='step', range=[bins[0], bins[-1]], label=\"POT counting\",\n",
    "            weights=output_frac['pot_counting'])#, color='purple')\n",
    "\n",
    "# DIRT \n",
    "plt.hist(bincenters, bins, histtype='step', range=[bins[0], bins[-1]], label=\"Dirt\",\n",
    "            weights=output_frac['dirt'])#, color='brown')\n",
    "\n",
    "# STATISTICAL \n",
    "plt.hist(bincenters, bins, histtype='step', range=[bins[0], bins[-1]], label=\"Stat\",\n",
    "            weights=output_frac['stat_all'])#, color='hotpink')\n",
    "\n",
    "\n",
    "plt.xticks(x_ticks, fontsize=13)\n",
    "plt.yticks(fontsize=13)\n",
    "\n",
    "plt.xlabel(\"Reconstructed \" + x_label, fontsize=15)\n",
    "plt.ylabel(\"Fractional Uncertainty\", fontsize=15)\n",
    "\n",
    "plt.xlim(bins[0], xhigh)\n",
    "plt.ylim(0, 1)\n",
    "\n",
    "plt.legend(fontsize=13, frameon=False, ncol=3, loc='upper left')\n",
    "plt.title(\"FHC+RHC Unfolded Event Rate\", fontsize=16)\n",
    "\n",
    "plt.show()"
   ]
  },
  {
   "cell_type": "code",
   "execution_count": null,
   "metadata": {},
   "outputs": [],
   "source": [
    "for key in inputcov_dict.keys(): \n",
    "    \n",
    "\n",
    "    fig = plt.figure(figsize=(10, 6))\n",
    "\n",
    "    plt.pcolor(b_unfcov, b_unfcov, output_cov[key], cmap='OrRd', edgecolors='k', vmin=0, vmax=0.5)\n",
    "\n",
    "    cbar = plt.colorbar()\n",
    "    cbar.ax.tick_params(labelsize=14)\n",
    "\n",
    "    plt.xticks(fontsize=14)\n",
    "    plt.yticks(fontsize=14)\n",
    "\n",
    "    plt.xlabel(\"Unfolded \"+x_label, fontsize=15)\n",
    "    plt.ylabel(\"Unfolded \"+x_label, fontsize=15)\n",
    "\n",
    "    plt.xticks(x_ticks, fontsize=12)\n",
    "    plt.yticks(x_ticks, fontsize=12)\n",
    "\n",
    "    plt.xlim(bins[0],xhigh)\n",
    "    plt.ylim(bins[0],xhigh)\n",
    "\n",
    "    plt.title(key +' - output covariance', fontsize=15)\n",
    "    cbar.set_label(label='[$\\\\times 10^{-39}$ cm$^{2}$ / GeV / nucleon]$^{2}$', fontsize=15)\n",
    "\n",
    "    plt.show()"
   ]
  },
  {
   "cell_type": "code",
   "execution_count": null,
   "metadata": {},
   "outputs": [],
   "source": [
    "for key in inputcov_dict.keys(): \n",
    "    \n",
    "\n",
    "    fig = plt.figure(figsize=(10, 6))\n",
    "\n",
    "    plt.pcolor(b_unfcov, b_unfcov, output_fraccov[key], cmap='OrRd', edgecolors='k', vmin=0, vmax=.05)\n",
    "\n",
    "    cbar = plt.colorbar()\n",
    "    cbar.ax.tick_params(labelsize=14)\n",
    "\n",
    "    plt.xticks(fontsize=14)\n",
    "    plt.yticks(fontsize=14)\n",
    "\n",
    "    plt.xlabel(\"Unfolded \"+x_label, fontsize=15)\n",
    "    plt.ylabel(\"Unfolded \"+x_label, fontsize=15)\n",
    "\n",
    "    plt.xticks(x_ticks, fontsize=12)\n",
    "    plt.yticks(x_ticks, fontsize=12)\n",
    "\n",
    "    plt.xlim(bins[0],xhigh)\n",
    "    plt.ylim(bins[0],xhigh)\n",
    "\n",
    "    plt.title(key +' - output fractional covariance', fontsize=15)\n",
    "\n",
    "    plt.show()"
   ]
  },
  {
   "cell_type": "code",
   "execution_count": null,
   "metadata": {},
   "outputs": [],
   "source": [
    "# correlation matrix "
   ]
  },
  {
   "cell_type": "code",
   "execution_count": null,
   "metadata": {},
   "outputs": [],
   "source": [
    "for key in inputcov_dict.keys(): \n",
    "    \n",
    "\n",
    "    fig = plt.figure(figsize=(10, 6))\n",
    "\n",
    "    plt.pcolor(b_unfcov, b_unfcov, output_cor[key], cmap='OrRd', edgecolors='k')#, vmin=0.01, vmax=1)\n",
    "\n",
    "    cbar = plt.colorbar()\n",
    "    cbar.ax.tick_params(labelsize=14)\n",
    "\n",
    "    plt.xticks(fontsize=14)\n",
    "    plt.yticks(fontsize=14)\n",
    "\n",
    "    plt.xlabel(\"Unfolded \"+x_label, fontsize=15)\n",
    "    plt.ylabel(\"Unfolded \"+x_label, fontsize=15)\n",
    "\n",
    "    plt.xticks(x_ticks, fontsize=12)\n",
    "    plt.yticks(x_ticks, fontsize=12)\n",
    "\n",
    "    plt.xlim(bins[0],xhigh)\n",
    "    plt.ylim(bins[0],xhigh)\n",
    "\n",
    "    plt.title(key +' - unfolded correlation matrix', fontsize=15)\n",
    "    #cbar.set_label(label='$\\\\nu^{2}$ / $7.0 \\\\times 10^{20}$ POT$^{2}$', fontsize=15)\n",
    "\n",
    "    plt.show()"
   ]
  },
  {
   "cell_type": "code",
   "execution_count": null,
   "metadata": {},
   "outputs": [],
   "source": [
    "output_cor['ppfx'][0]"
   ]
  },
  {
   "cell_type": "code",
   "execution_count": null,
   "metadata": {},
   "outputs": [],
   "source": [
    "output_cor['beamline'][0]"
   ]
  },
  {
   "cell_type": "code",
   "execution_count": null,
   "metadata": {},
   "outputs": [],
   "source": [
    "# chi2 - flux only \n",
    "\n",
    "flux_cov = np.add(output_cov['ppfx'],output_cov['beamline'])\n",
    "\n",
    "inverse_fluxcov = np.linalg.inv(flux_cov)\n",
    "\n",
    "## check \n",
    "plt.pcolor(b_unfcov, b_unfcov, np.matmul(flux_cov, inverse_fluxcov), cmap='OrRd', edgecolors='k')\n",
    "plt.xlim(xlow,xhigh)\n",
    "plt.ylim(xlow,xhigh)\n",
    "cbar = plt.colorbar()\n",
    "plt.show()\n",
    "\n",
    "chi2_genie_flux = 0\n",
    "\n",
    "for i in range(len(h_smeared_genie)): \n",
    "\n",
    "    \n",
    "    for j in range(len(h_smeared_genie)): \n",
    "        chi2_genie_flux = chi2_genie_flux + ( (h_smeared_genie[i]-result_xsec[i])*inverse_fluxcov[i][j]*(h_smeared_genie[j]-result_xsec[j])      )                      \n",
    "\n",
    "        \n",
    "chi2_genie_flux"
   ]
  },
  {
   "cell_type": "code",
   "execution_count": null,
   "metadata": {},
   "outputs": [],
   "source": []
  },
  {
   "cell_type": "code",
   "execution_count": null,
   "metadata": {},
   "outputs": [],
   "source": [
    "# chi2 without flux \n",
    "\n",
    "unfcov_noflux = [ [0]*(len(bins)-1) for x in range(len(bins)-1) ] \n",
    "\n",
    "for key in output_cov.keys(): \n",
    "    \n",
    "    if not (key=='ppfx' or key=='beamline' or key=='total'): \n",
    "        unfcov_noflux = np.add(unfcov_noflux, output_cov[key])\n",
    "        \n",
    "\n",
    "        \n",
    "fig = plt.figure(figsize=(10, 6))\n",
    "\n",
    "plt.pcolor(b_unfcov, b_unfcov, unfcov_noflux, cmap='OrRd', edgecolors='k', vmin=0, vmax=1.5)\n",
    "\n",
    "cbar = plt.colorbar()\n",
    "cbar.ax.tick_params(labelsize=14)\n",
    "\n",
    "plt.xticks(fontsize=14)\n",
    "plt.yticks(fontsize=14)\n",
    "\n",
    "plt.xlabel(\"Unfolded \"+x_label, fontsize=15)\n",
    "plt.ylabel(\"Unfolded \"+x_label, fontsize=15)\n",
    "\n",
    "plt.xticks(x_ticks, fontsize=12)\n",
    "plt.yticks(x_ticks, fontsize=12)\n",
    "\n",
    "plt.xlim(bins[0],xhigh)\n",
    "plt.ylim(bins[0],xhigh)\n",
    "\n",
    "plt.title('total unfolded covariance (no flux)', fontsize=15)\n",
    "cbar.set_label(label='[$\\\\times 10^{-39}$ cm$^{2}$ / GeV / nucleon]$^{2}$', fontsize=15)\n",
    "\n",
    "plt.show()\n",
    "\n",
    "# take inverse\n",
    "inverse_unfcov_noflux = np.linalg.inv(unfcov_noflux)\n",
    "\n",
    "\n",
    "## check \n",
    "plt.pcolor(b_unfcov, b_unfcov, np.matmul(inverse_unfcov_noflux, unfcov_noflux), cmap='OrRd', edgecolors='k')\n",
    "plt.xlim(xlow,xhigh)\n",
    "plt.ylim(xlow,xhigh)\n",
    "cbar = plt.colorbar()\n",
    "plt.show()\n",
    "\n",
    "chi2_genie_noflux = 0\n",
    "\n",
    "for i in range(len(h_smeared_genie)): \n",
    "    for j in range(len(h_smeared_genie)):\n",
    "        chi2_genie_noflux = chi2_genie_noflux + ( (h_smeared_genie[i]-result_xsec[i])*inverse_unfcov_noflux[i][j]*(h_smeared_genie[j]-result_xsec[j]) )\n",
    "        \n",
    "chi2_genie_noflux\n"
   ]
  },
  {
   "cell_type": "code",
   "execution_count": null,
   "metadata": {},
   "outputs": [],
   "source": [
    "unfcov_xsec_diag"
   ]
  },
  {
   "cell_type": "code",
   "execution_count": null,
   "metadata": {},
   "outputs": [],
   "source": [
    "fig = plt.figure(figsize=(10, 6))\n",
    "\n",
    "plt.pcolor(b_unfcov, b_unfcov, unfcov_noflux, cmap='OrRd', edgecolors='k', vmin=0, vmax=1.5)\n",
    "\n",
    "cbar = plt.colorbar()\n",
    "cbar.ax.tick_params(labelsize=14)\n",
    "\n",
    "plt.xticks(fontsize=14)\n",
    "plt.yticks(fontsize=14)\n",
    "\n",
    "plt.xlabel(\"Unfolded \"+x_label, fontsize=15)\n",
    "plt.ylabel(\"Unfolded \"+x_label, fontsize=15)\n",
    "\n",
    "plt.xticks(x_ticks, fontsize=12)\n",
    "plt.yticks(x_ticks, fontsize=12)\n",
    "\n",
    "plt.xlim(bins[0],xhigh)\n",
    "plt.ylim(bins[0],xhigh)\n",
    "\n",
    "plt.title('unfolded covariance (no flux)', fontsize=15)\n",
    "cbar.set_label(label='[$\\\\times 10^{-39}$ cm$^{2}$ / GeV / nucleon]$^{2}$', fontsize=15)\n",
    "\n",
    "plt.show()"
   ]
  },
  {
   "cell_type": "markdown",
   "metadata": {},
   "source": [
    "### shape vs. normalization uncertainties"
   ]
  },
  {
   "cell_type": "code",
   "execution_count": null,
   "metadata": {},
   "outputs": [],
   "source": [
    "# do this in xsec units \n",
    "# total cross section: result_xsec\n",
    "\n",
    "matrix_sys = [ [0]*(len(bins)-1) for x in range(len(bins)-1) ] \n",
    "\n",
    "for key in output_cov.keys(): \n",
    "    \n",
    "    if not (key=='total' or key=='stat' or key=='response_matrix'): \n",
    "        matrix_sys = np.add(matrix_sys, output_cov[key])\n",
    "        "
   ]
  },
  {
   "cell_type": "code",
   "execution_count": null,
   "metadata": {},
   "outputs": [],
   "source": []
  },
  {
   "cell_type": "code",
   "execution_count": null,
   "metadata": {},
   "outputs": [],
   "source": [
    "# create shape, mixed, & norm matrices\n",
    "\n",
    "matrix_shape = [ [0]*(len(bins)-1) for x in range(len(bins)-1) ] \n",
    "matrix_mixed = [ [0]*(len(bins)-1) for x in range(len(bins)-1) ] \n",
    "matrix_norm = [ [0]*(len(bins)-1) for x in range(len(bins)-1) ] \n",
    "\n",
    "# total sum over bins N_T \n",
    "N_T = np.sum(result_xsec)\n",
    "\n",
    "#M_kl is the sum of the entire covariance \n",
    "M_kl = 0 \n",
    "\n",
    "for i in range(len(bins)-1):\n",
    "    for j in range(len(bins)-1): \n",
    "        M_kl += matrix_sys[i][j]"
   ]
  },
  {
   "cell_type": "code",
   "execution_count": null,
   "metadata": {},
   "outputs": [],
   "source": [
    "for i in range(len(bins)-1):\n",
    "    for j in range(len(bins)-1): \n",
    "        \n",
    "        N_i = result_xsec[i]\n",
    "        N_j = result_xsec[j]\n",
    "        M_ij = matrix_sys[i][j]\n",
    "        \n",
    "        M_ik = 0\n",
    "        M_kj = 0\n",
    "        \n",
    "        for k in range(len(bins)-1): \n",
    "            M_ik += matrix_sys[i][k]\n",
    "            M_kj += matrix_sys[k][j]\n",
    "            \n",
    "        matrix_shape[i][j] = M_ij - (N_j*M_ik/N_T) - (N_i*M_kj/N_T) + (N_i*N_j*M_kl/N_T**2)\n",
    "        matrix_mixed[i][j] = (N_j*M_ik/N_T) + (N_i*M_kj/N_T) - (2*N_i*N_j*M_kl/N_T**2); \n",
    "        matrix_norm[i][j] = N_i*N_j*M_kl/N_T**2;\n",
    "        "
   ]
  },
  {
   "cell_type": "code",
   "execution_count": null,
   "metadata": {},
   "outputs": [],
   "source": [
    "# also the stat for completeness! \n",
    "matrix_stat = np.add(output_cov['stat'], output_cov['response_matrix'])"
   ]
  },
  {
   "cell_type": "code",
   "execution_count": null,
   "metadata": {},
   "outputs": [],
   "source": [
    "# fractional plots\n",
    "\n",
    "matrix_stat_frac = [ [0]*(len(bins)-1) for x in range(len(bins)-1) ] \n",
    "matrix_sys_frac = [ [0]*(len(bins)-1) for x in range(len(bins)-1) ] \n",
    "\n",
    "matrix_shape_frac = [ [0]*(len(bins)-1) for x in range(len(bins)-1) ] \n",
    "matrix_mixed_frac = [ [0]*(len(bins)-1) for x in range(len(bins)-1) ] \n",
    "matrix_norm_frac = [ [0]*(len(bins)-1) for x in range(len(bins)-1) ] \n",
    "\n",
    "for i in range(len(bins)-1):\n",
    "    for j in range(len(bins)-1): \n",
    "        \n",
    "        matrix_stat_frac[i][j] = matrix_stat[i][j]/(result_xsec[i]*result_xsec[j])\n",
    "        matrix_sys_frac[i][j] = matrix_sys[i][j]/(result_xsec[i]*result_xsec[j])\n",
    "        \n",
    "        matrix_shape_frac[i][j] = matrix_shape[i][j]/(result_xsec[i]*result_xsec[j])\n",
    "        matrix_mixed_frac[i][j] = matrix_mixed[i][j]/(result_xsec[i]*result_xsec[j])\n",
    "        matrix_norm_frac[i][j] = matrix_norm[i][j]/(result_xsec[i]*result_xsec[j])"
   ]
  },
  {
   "cell_type": "code",
   "execution_count": null,
   "metadata": {},
   "outputs": [],
   "source": []
  },
  {
   "cell_type": "code",
   "execution_count": null,
   "metadata": {},
   "outputs": [],
   "source": [
    "fig = plt.figure(figsize=(8, 5))  \n",
    "\n",
    "plt.hist(bincenters, bins, histtype='step', weights=np.sqrt(np.diag(frac_cov)), color='black', linewidth=2, label='Total')\n",
    "\n",
    "plt.hist(bincenters, bins, histtype='step', weights=np.sqrt(np.diag(matrix_sys_frac)), color='cornflowerblue',  \n",
    "         linewidth=2, label='Systematic', linestyle='--')\n",
    "\n",
    "plt.hist(bincenters, bins, histtype='step', weights=np.sqrt(np.diag(matrix_stat_frac)), color='hotpink',  \n",
    "         linewidth=2, label='Statistical',linestyle='--')\n",
    "\n",
    "plt.xticks(x_ticks, fontsize=13)\n",
    "plt.yticks(fontsize=13)\n",
    "\n",
    "plt.xlabel(\"Unfolded \"+x_label, fontsize=15)\n",
    "plt.ylabel(\"Fractional Uncertainty\", fontsize=15)\n",
    "\n",
    "plt.xlim(bins[0], xhigh)\n",
    "plt.ylim(0, 0.5)\n",
    "\n",
    "plt.legend(fontsize=14)\n",
    "\n",
    "plt.title(\"Fractional Uncertainty\", fontsize=16)\n",
    "plt.grid(linestyle=\":\")\n",
    "plt.show()"
   ]
  },
  {
   "cell_type": "code",
   "execution_count": null,
   "metadata": {},
   "outputs": [],
   "source": [
    "fig = plt.figure(figsize=(8, 5))  \n",
    "\n",
    "plt.hist(bincenters, bins, histtype='step', weights=np.sqrt(np.diag(matrix_sys_frac)), color='cornflowerblue',  \n",
    "         linewidth=2, label='Systematic')\n",
    "\n",
    "plt.hist(bincenters, bins, histtype='step', weights=np.sqrt(np.diag(np.add(matrix_norm_frac, matrix_mixed_frac))),\n",
    "         linewidth=2, label='Norm+Mixed', color='mediumvioletred', linestyle='--')\n",
    "plt.hist(bincenters, bins, histtype='step', weights=np.sqrt(np.diag(matrix_shape_frac)),\n",
    "         linewidth=2, label='Shape', linestyle='--', color='plum')\n",
    "\n",
    "\n",
    "plt.xticks(x_ticks, fontsize=13)\n",
    "plt.yticks(fontsize=13)\n",
    "\n",
    "plt.xlabel(\"Unfolded \"+x_label, fontsize=15)\n",
    "plt.ylabel(\"Fractional Uncertainty\", fontsize=15)\n",
    "\n",
    "plt.xlim(bins[0], xhigh)\n",
    "plt.ylim(0, 0.5)\n",
    "\n",
    "plt.legend(fontsize=14)\n",
    "\n",
    "plt.title(\"Fractional Uncertainty\", fontsize=16)\n",
    "plt.grid(linestyle=\":\")\n",
    "plt.show()"
   ]
  },
  {
   "cell_type": "code",
   "execution_count": null,
   "metadata": {},
   "outputs": [],
   "source": [
    "tot = []\n",
    "\n",
    "for i in range(len(bins)-1): \n",
    "    \n",
    "    # add norm+mixed and shape in quadrature \n",
    "    a = np.sqrt(np.diag(np.add(matrix_norm_frac, matrix_mixed_frac)))[i]\n",
    "    b = np.sqrt(np.diag(matrix_shape_frac))[i]\n",
    "    \n",
    "    tot.append(np.sqrt(a**2+b**2))\n",
    "    "
   ]
  },
  {
   "cell_type": "code",
   "execution_count": null,
   "metadata": {},
   "outputs": [],
   "source": []
  },
  {
   "cell_type": "code",
   "execution_count": null,
   "metadata": {},
   "outputs": [],
   "source": [
    "# stat & shape uncertainties\n",
    "\n",
    "stat_shape_frac = [np.sqrt(x**2+y**2) for x,y in zip(np.diag(matrix_shape_frac), np.sqrt(np.diag(matrix_stat_frac)))]\n",
    "y_err_stat_shape = [x*y for x,y in zip(stat_shape_frac, result_xsec)]\n",
    "\n",
    "y_err_norm = [x*y for x,y in zip(np.sqrt(np.diag(np.add(matrix_norm_frac, matrix_mixed_frac))), result_xsec)]\n",
    "y_err_norm\n",
    "# [x*y for x,y in zip(np.sqrt(np.diagonal(frac_cov)), result_xsec)]"
   ]
  },
  {
   "cell_type": "code",
   "execution_count": null,
   "metadata": {},
   "outputs": [],
   "source": [
    "# plot the result with shape uncertaintes only \n",
    "\n",
    "###############################################################\n",
    "\n",
    "fig = plt.figure(figsize=(8, 5))  \n",
    "\n",
    "# genie result \n",
    "plt.hist(bincenters, bins, color='mediumseagreen',\n",
    "                 label='GENIE v3' , \n",
    "                 range=[bins[0],bins[-1]], \n",
    "                     weights=h_smeared_genie, \n",
    "                 histtype='step')\n",
    "\n",
    "\n",
    "\n",
    "\n",
    "# unfolded result - stat & shape uncertainties\n",
    "plt.errorbar(bincenters, result_xsec, \n",
    "             xerr=binwidth_plot, yerr=y_err_stat_shape, fmt='o', \n",
    "             color='black', ecolor='black', markersize=3, label='Unfolded Result\\n(Stat & shape uncertainties)') \n",
    "\n",
    "# normalization uncertainties\n",
    "# y_err_norm\n",
    "plt.hist(bincenters, bins, color='lightgrey',\n",
    "                 label='Normalization uncertainties' , \n",
    "                 range=[bins[0],bins[-1]], \n",
    "                     weights=y_err_norm, edgecolor='whitesmoke')\n",
    "\n",
    "\n",
    "\n",
    "\n",
    "############################################\n",
    "\n",
    "plt.ylim(0, 12)\n",
    "    \n",
    "if xvar=='tksh_angle':    \n",
    "    plt.ylabel(\"d$\\\\sigma$/d(\"+x_label+\")\\n[$\\\\times 10^{-39}$ cm$^{2}$ / nucleon]\", fontsize=14)\n",
    "    \n",
    "else: \n",
    "    plt.ylabel(\"d$\\\\sigma$/dE\\n[$\\\\times 10^{-39}$ cm$^{2}$ / GeV / nucleon]\", fontsize=14)\n",
    "\n",
    "plt.xlim(bins[1],xhigh)\n",
    "plt.xticks(x_ticks, fontsize=13)\n",
    "plt.yticks(fontsize=13)\n",
    "\n",
    "plt.xlabel(x_label, fontsize=14)\n",
    "\n",
    "plt.legend(fontsize=13, frameon=False)\n",
    "\n",
    "\n",
    "\n",
    "if ISRUN3=='': \n",
    "    plt.title('FHC+RHC Cross Section', fontsize=16)\n",
    "    \n",
    "elif ISRUN3==False: \n",
    "    plt.title('FHC Cross Section', fontsize=16)\n",
    "    \n",
    "elif ISRUN3==True: \n",
    "    plt.title('RHC Cross Section', fontsize=16)\n",
    "    \n",
    "\n",
    "############################################################\n",
    "\n",
    "    \n",
    "plt.show()"
   ]
  },
  {
   "cell_type": "code",
   "execution_count": null,
   "metadata": {},
   "outputs": [],
   "source": []
  },
  {
   "cell_type": "code",
   "execution_count": null,
   "metadata": {},
   "outputs": [],
   "source": []
  },
  {
   "cell_type": "code",
   "execution_count": null,
   "metadata": {},
   "outputs": [],
   "source": []
  },
  {
   "cell_type": "markdown",
   "metadata": {},
   "source": [
    "### save to file"
   ]
  },
  {
   "cell_type": "code",
   "execution_count": null,
   "metadata": {},
   "outputs": [],
   "source": [
    "ISRUN3"
   ]
  },
  {
   "cell_type": "code",
   "execution_count": null,
   "metadata": {},
   "outputs": [],
   "source": [
    "isNuWro"
   ]
  },
  {
   "cell_type": "code",
   "execution_count": null,
   "metadata": {},
   "outputs": [],
   "source": []
  },
  {
   "cell_type": "code",
   "execution_count": null,
   "metadata": {},
   "outputs": [],
   "source": [
    "results_dict = {\n",
    "    'cv_genie' : h_smeared_genie.tolist(), \n",
    "    'cv_xsec' : result_xsec, \n",
    "    'covariance' : unfcov.tolist(), \n",
    "    'covrotation' : covrot.tolist(), \n",
    "    'uncertainty' : [x*y for x,y in zip(frac, result_xsec)], \n",
    "    'fractional_uncertainty' : frac\n",
    "}"
   ]
  },
  {
   "cell_type": "code",
   "execution_count": null,
   "metadata": {},
   "outputs": [],
   "source": [
    "# save to / update json file \n",
    "\n",
    "\n",
    "if ISRUN3=='' : \n",
    "    file = 'CombinedResults_'+true_var+'_'+date.today().strftime(\"%m%d%y\")+'.json'\n",
    "\n",
    "elif ISRUN3==False: \n",
    "    file = 'FHCResults_'+true_var+'_'+date.today().strftime(\"%m%d%y\")+'.json'\n",
    "\n",
    "elif ISRUN3==True: \n",
    "    file = 'RHCResults_'+true_var+'_'+date.today().strftime(\"%m%d%y\")+'.json'\n",
    "\n",
    "\n",
    "print(file)\n"
   ]
  },
  {
   "cell_type": "code",
   "execution_count": null,
   "metadata": {},
   "outputs": [],
   "source": [
    "#if isNuWro==True: \n",
    "#    file = 'FHCFakeDataTest_'+true_var+'_'+date.today().strftime(\"%m%d%y\")+'.json'\n",
    "\n",
    "   "
   ]
  },
  {
   "cell_type": "code",
   "execution_count": null,
   "metadata": {},
   "outputs": [],
   "source": [
    "path = 'unfolding/results/closuretests/'"
   ]
  },
  {
   "cell_type": "code",
   "execution_count": null,
   "metadata": {},
   "outputs": [],
   "source": [
    "if os.path.exists(path+file): \n",
    "    print(file, \" exists and is readable, need to update file name to save ! \")\n",
    "        \n",
    "else: \n",
    "    with open(path+file, 'w') as f:\n",
    "            json.dump(results_dict, f)\n",
    "    \n",
    "    "
   ]
  },
  {
   "cell_type": "code",
   "execution_count": null,
   "metadata": {},
   "outputs": [],
   "source": []
  },
  {
   "cell_type": "markdown",
   "metadata": {},
   "source": [
    "### FHC/RHC Comparisons"
   ]
  },
  {
   "cell_type": "code",
   "execution_count": null,
   "metadata": {},
   "outputs": [],
   "source": [
    "with open('unfolding/results/closuretests/uncor_FHCResults_'+true_var+'_102822.json') as f_fhc:\n",
    "        fhc_dict = json.load(f_fhc)\n",
    "\n",
    "with open('unfolding/results/closuretests/uncor_RHCResults_'+true_var+'_102822.json') as f_rhc: \n",
    "        rhc_dict = json.load(f_rhc)\n",
    "\n",
    "with open('unfolding/results/closuretests/uncor_CombinedResults_'+true_var+'_102822.json') as f: \n",
    "        comb_dict = json.load(f)"
   ]
  },
  {
   "cell_type": "code",
   "execution_count": null,
   "metadata": {},
   "outputs": [],
   "source": []
  },
  {
   "cell_type": "code",
   "execution_count": null,
   "metadata": {},
   "outputs": [],
   "source": [
    "###### chi2 calculation ######\n",
    "chi2_fhc_comb = 0 \n",
    "    \n",
    "for i in range(len(comb_dict['cv_xsec'])): \n",
    "    if comb_dict['uncertainty'][i]==0: \n",
    "        continue \n",
    "    else: \n",
    "        chi2_fhc_comb = chi2_fhc_comb + ((fhc_dict['cv_xsec'][i] - comb_dict['cv_xsec'][i] )**2 / comb_dict['uncertainty'][i]**2)  \n",
    "\n",
    "print(chi2_fhc_comb)\n",
    "\n",
    "\n",
    "chi2_rhc_comb = 0 \n",
    "    \n",
    "for i in range(len(comb_dict['cv_xsec'])): \n",
    "    if comb_dict['uncertainty'][i]==0: \n",
    "        continue \n",
    "    else: \n",
    "        chi2_rhc_comb = chi2_rhc_comb + ((rhc_dict['cv_xsec'][i] - comb_dict['cv_xsec'][i] )**2 / comb_dict['uncertainty'][i]**2)  \n",
    "\n",
    "print(chi2_rhc_comb)\n",
    "\n",
    "chi2_fhc_rhc = 0 \n",
    "    \n",
    "for i in range(len(fhc_dict['cv_xsec'])): \n",
    "    if fhc_dict['uncertainty'][i]==0: \n",
    "        continue \n",
    "    else: \n",
    "        chi2_fhc_rhc = chi2_fhc_rhc + ((fhc_dict['cv_xsec'][i] - rhc_dict['cv_xsec'][i] )**2 / rhc_dict['uncertainty'][i]**2)  \n",
    "\n",
    "print(chi2_fhc_rhc)\n",
    "\n",
    "\n"
   ]
  },
  {
   "cell_type": "code",
   "execution_count": null,
   "metadata": {},
   "outputs": [],
   "source": [
    "fig = plt.figure(figsize=(8, 5))\n",
    "\n",
    "\n",
    "plt.errorbar(bincenters, fhc_dict['cv_xsec'], \n",
    "             xerr=binwidth_plot, yerr=fhc_dict['uncertainty'], fmt='o', markersize=3, \n",
    "             label='FHC', linewidth=1, color='limegreen') \n",
    "\n",
    "plt.errorbar(bincenters, rhc_dict['cv_xsec'], \n",
    "             xerr=binwidth_plot, yerr=rhc_dict['uncertainty'], fmt='o', markersize=3, label='RHC', \n",
    "             color='red', linewidth=1.2) \n",
    "\n",
    "plt.errorbar(bincenters, comb_dict['cv_xsec'], \n",
    "             xerr=binwidth_plot, yerr=comb_dict['uncertainty'], fmt='o', markersize=3, label='FHC+RHC', color='black', linewidth=1) \n",
    "\n",
    "\n",
    "if xvar=='tksh_angle':    \n",
    "    plt.ylabel(\"d$\\\\sigma$/d(\"+x_label+\")\\n[$\\\\times 10^{-39}$ cm$^{2}$ / nucleon]\", fontsize=14)\n",
    "    \n",
    "else: \n",
    "    plt.ylabel(\"d$\\\\sigma$/dE\\n[$\\\\times 10^{-39}$ cm$^{2}$ / GeV / nucleon]\", fontsize=14)\n",
    "\n",
    "\n",
    "plt.xlim(bins[0], xhigh)\n",
    "plt.ylim(0, 10.5)\n",
    "\n",
    "plt.xticks(x_ticks, fontsize=13)\n",
    "plt.yticks(fontsize=13)\n",
    "\n",
    "plt.xlabel(x_label, fontsize=14)\n",
    "\n",
    "plt.grid(linestyle=\"--\", color='black', alpha=0.2)\n",
    "\n",
    "plt.title(\"Closure Tests\", fontsize=16)\n",
    "\n",
    "plt.legend(fontsize=14)\n",
    "\n",
    "plt.text(2.9, 4.5, '$\\\\chi^{2}$ (FHC vs. Combined) = ' + str(round(chi2_fhc_comb, 2)) + \"\\n\" + \n",
    "                   '$\\\\chi^{2}$ (RHC vs. Combined) = ' + str(round(chi2_rhc_comb, 2)) + \"\\n\" + \n",
    "                   '$\\\\chi^{2}$ (FHC vs. RHC) = ' + str(round(chi2_fhc_rhc, 2))\n",
    "         , fontsize='large', ha='right', backgroundcolor='white')\n",
    "\n",
    "#plt.savefig(\"/uboone/data/users/kmiller/uBNuMI_CCNp/plots/combined/uncor_closuretest_compare_\"+xvar+\".pdf\", \n",
    "#            transparent=True, bbox_inches='tight')\n",
    "\n",
    "plt.show()"
   ]
  },
  {
   "cell_type": "code",
   "execution_count": null,
   "metadata": {},
   "outputs": [],
   "source": [
    "fig = plt.figure(figsize=(8, 5))  \n",
    "\n",
    "plt.hist(bincenters, bins, histtype='step', label=\"FHC\", weights=fhc_dict['fractional_uncertainty'], \n",
    "        linestyle=(0, (1, 1)), color='limegreen', linewidth=2)\n",
    "plt.hist(bincenters, bins, histtype='step', label=\"RHC\", weights=rhc_dict['fractional_uncertainty'], \n",
    "         linestyle=(0, (1, 1)), color='red', linewidth=2)\n",
    "\n",
    "plt.hist(bincenters, bins, histtype='step', label=\"FHC+RHC\", weights=comb_dict['fractional_uncertainty'], color='black', \n",
    "        linewidth=2)\n",
    "\n",
    "plt.xticks(x_ticks[:-1], fontsize=13)\n",
    "plt.yticks(fontsize=13)\n",
    "\n",
    "plt.xlabel(x_label, fontsize=15)\n",
    "plt.ylabel(\"Fractional Uncertainty\", fontsize=15)\n",
    "\n",
    "plt.xlim(bins[0], xhigh)\n",
    "plt.ylim(0, .5)\n",
    "\n",
    "plt.legend(fontsize=14, frameon=False)\n",
    "plt.title(\"Fractional Uncertainty\", fontsize=16)\n",
    "\n",
    "#plt.savefig(\"/uboone/data/users/kmiller/uBNuMI_CCNp/plots/combined/uncor_closuretest_compare_frac_\"+xvar+\".pdf\", \n",
    "#            transparent=True, bbox_inches='tight')\n",
    "\n",
    "plt.show()"
   ]
  },
  {
   "cell_type": "code",
   "execution_count": null,
   "metadata": {},
   "outputs": [],
   "source": []
  },
  {
   "cell_type": "markdown",
   "metadata": {},
   "source": [
    "### GENIE vs. NuWro comparisons"
   ]
  },
  {
   "cell_type": "code",
   "execution_count": null,
   "metadata": {},
   "outputs": [],
   "source": [
    "xvar = 'tksh_angle'\n",
    "true_var = 'opening_angle'\n",
    "\n",
    "bins = [-1, -0.5, np.cos(100 * np.pi/180), np.cos(80 * np.pi/180), 0.5, 1]\n",
    "x_ticks = [-1, -0.5, -0.174, 0.174, 0.5, 1]\n",
    "\n",
    "\n",
    "xlow = bins[0]\n",
    "xhigh = bins[-1]\n",
    "\n",
    "x_label = \"cos $\\\\theta_{ep}$\""
   ]
  },
  {
   "cell_type": "code",
   "execution_count": null,
   "metadata": {},
   "outputs": [],
   "source": [
    "if xvar=='tksh_angle': \n",
    "    bincenters = 0.5*(np.array(x_ticks)[1:]+np.array(x_ticks)[:-1])\n",
    "else: \n",
    "    bincenters = 0.5*(np.array(x_ticks+[xhigh])[1:]+np.array(x_ticks+[xhigh])[:-1])\n",
    "\n",
    "binwidth_plot = []\n",
    "\n",
    "for x in range(len(bincenters)):\n",
    "    \n",
    "    if xvar=='tksh_angle': \n",
    "        binwidth_plot.append(round(abs((x_ticks)[x+1]-(x_ticks)[x])/2, 2))\n",
    "        \n",
    "    else: \n",
    "        binwidth_plot.append(round(abs((x_ticks+[xhigh])[x+1]-(x_ticks+[xhigh])[x])/2, 2))\n",
    "    \n",
    "binwidth_plot"
   ]
  },
  {
   "cell_type": "code",
   "execution_count": null,
   "metadata": {},
   "outputs": [],
   "source": []
  },
  {
   "cell_type": "code",
   "execution_count": null,
   "metadata": {},
   "outputs": [],
   "source": [
    "with open('unfolding/results/fakedata/uncor_FHCResults_'+true_var+'_'+date.today().strftime(\"%m%d%y\")+'.json') as f_nuwro: \n",
    "        nuwro_dict = json.load(f_nuwro)\n",
    "        "
   ]
  },
  {
   "cell_type": "code",
   "execution_count": null,
   "metadata": {},
   "outputs": [],
   "source": [
    "with open('unfolding/results/closuretests/uncor_FHCResults_'+true_var+'_102822.json') as f_genie: \n",
    "        genie_dict = json.load(f_genie)\n",
    "        "
   ]
  },
  {
   "cell_type": "code",
   "execution_count": null,
   "metadata": {},
   "outputs": [],
   "source": [
    "# compute chi2\n",
    "\n",
    "chi2 = 0 \n",
    "    \n",
    "for i in range(len(nuwro_dict['cv_xsec'])): \n",
    "    if nuwro_dict['uncertainty'][i]==0: \n",
    "        continue \n",
    "    else: \n",
    "        chi2 = chi2 + ((nuwro_dict['cv_xsec'][i] - genie_dict['cv_xsec'][i] )**2 / genie_dict['uncertainty'][i]**2)  \n",
    "\n",
    "print(chi2)\n"
   ]
  },
  {
   "cell_type": "code",
   "execution_count": null,
   "metadata": {},
   "outputs": [],
   "source": [
    "fig = plt.figure(figsize=(8, 5))\n",
    "\n",
    "plt.errorbar(bincenters, genie_dict['cv_xsec'], \n",
    "             xerr=binwidth_plot, yerr=genie_dict['uncertainty'], fmt='o', markersize=3, label='GENIE v3', \n",
    "             color='green') \n",
    "\n",
    "\n",
    "plt.errorbar(bincenters, nuwro_dict['cv_xsec'], \n",
    "             xerr=binwidth_plot, yerr=nuwro_dict['uncertainty'], fmt='o', markersize=3, \n",
    "             label='NuWro', color='mediumturquoise') \n",
    "\n",
    "\n",
    "\n",
    "if xvar=='tksh_angle':    \n",
    "    plt.ylabel(\"d$\\\\sigma$/d(\"+x_label+\")\\n[$\\\\times 10^{-39}$ cm$^{2}$ / nucleon]\", fontsize=14)\n",
    "    \n",
    "else: \n",
    "    plt.ylabel(\"d$\\\\sigma$/dE\\n[$\\\\times 10^{-39}$ cm$^{2}$ / GeV / nucleon]\", fontsize=14)\n",
    "\n",
    "\n",
    "plt.xlim(bins[0], xhigh)\n",
    "#plt.ylim(0, 10)\n",
    "\n",
    "plt.xticks(x_ticks, fontsize=13)\n",
    "plt.yticks(fontsize=13)\n",
    "\n",
    "plt.xlabel(x_label, fontsize=14)\n",
    "\n",
    "plt.grid(linestyle=\"--\", color='black', alpha=0.2)\n",
    "\n",
    "plt.title(\"GENIE vs. NuWro (FHC)\", fontsize=16)\n",
    "\n",
    "plt.legend(fontsize=14)\n",
    "\n",
    "plt.text(.94, 5.5, '$\\\\chi^{2}$ = ' + str(round(chi2, 2)), \n",
    "         fontsize='xx-large', ha='right', backgroundcolor='white')\n",
    "\n",
    "#plt.savefig(\"/uboone/data/users/kmiller/uBNuMI_CCNp/plots/fhc/fakedata/nuwro_genie_\"+xvar+\".pdf\", \n",
    "#                transparent=True, bbox_inches='tight')\n",
    "\n",
    "\n",
    "plt.show()"
   ]
  },
  {
   "cell_type": "code",
   "execution_count": null,
   "metadata": {},
   "outputs": [],
   "source": []
  },
  {
   "cell_type": "code",
   "execution_count": null,
   "metadata": {},
   "outputs": [],
   "source": []
  },
  {
   "cell_type": "code",
   "execution_count": null,
   "metadata": {},
   "outputs": [],
   "source": []
  },
  {
   "cell_type": "code",
   "execution_count": null,
   "metadata": {},
   "outputs": [],
   "source": []
  },
  {
   "cell_type": "code",
   "execution_count": null,
   "metadata": {},
   "outputs": [],
   "source": []
  }
 ],
 "metadata": {
  "kernelspec": {
   "display_name": "Python 3",
   "language": "python",
   "name": "python3"
  },
  "language_info": {
   "codemirror_mode": {
    "name": "ipython",
    "version": 3
   },
   "file_extension": ".py",
   "mimetype": "text/x-python",
   "name": "python",
   "nbconvert_exporter": "python",
   "pygments_lexer": "ipython3",
   "version": "3.7.3"
  }
 },
 "nbformat": 4,
 "nbformat_minor": 4
}
