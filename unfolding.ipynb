{
 "cells": [
  {
   "cell_type": "code",
   "execution_count": null,
   "metadata": {},
   "outputs": [],
   "source": [
    "# plotter for the Wiener SVD unfolding output ROOT file\n",
    "# background subtract before running through WienerSVD\n",
    "# compute the cross section after computing the unfolded spectrum"
   ]
  },
  {
   "cell_type": "code",
   "execution_count": null,
   "metadata": {},
   "outputs": [],
   "source": [
    "import sys\n",
    "sys.path.insert(0, 'backend_functions')\n",
    "\n",
    "import importlib\n",
    "\n",
    "import uproot\n",
    "import matplotlib.pylab as pylab\n",
    "import numpy as np\n",
    "import math\n",
    "\n",
    "import awkward\n",
    "import matplotlib.pyplot as plt\n",
    "import pandas as pd\n",
    "\n",
    "import ROOT\n",
    "from ROOT import TH1F, TDirectory\n",
    "\n",
    "import os\n",
    "\n",
    "import top \n",
    "from top import *"
   ]
  },
  {
   "cell_type": "code",
   "execution_count": null,
   "metadata": {},
   "outputs": [],
   "source": [
    "ISRUN3 = None\n",
    "\n",
    "if ISRUN3: \n",
    "    print(\"Using RHC values !! \")\n",
    "\n",
    "f = uproot.open('/uboone/data/users/kmiller/uBNuMI_CCNp/unfolding/output_shr_energy_cali_Combined_July15.root')"
   ]
  },
  {
   "cell_type": "code",
   "execution_count": null,
   "metadata": {},
   "outputs": [],
   "source": []
  },
  {
   "cell_type": "code",
   "execution_count": null,
   "metadata": {},
   "outputs": [],
   "source": [
    "rho_argon = 1.3836 # g/cm^3\n",
    "fv = 236*212*1016\n",
    "n_a = 6.022E23\n",
    "n_nucleons = 40\n",
    "m_mol = 39.95 #g/mol\n",
    "\n",
    "n_target = (rho_argon * fv * n_a * n_nucleons) / m_mol\n",
    "\n",
    "if ISRUN3==None: \n",
    "    cv_flux = (2E20*1.1864531e-11 + 5.014E20*8.6283762e-12)\n",
    "    \n",
    "else: \n",
    "    cv_flux = parameters(ISRUN3)['integrated_flux_per_pot']*parameters(ISRUN3)['beamon_pot']\n",
    "    "
   ]
  },
  {
   "cell_type": "code",
   "execution_count": null,
   "metadata": {},
   "outputs": [],
   "source": []
  },
  {
   "cell_type": "markdown",
   "metadata": {},
   "source": [
    "# input spectra (true & measured)"
   ]
  },
  {
   "cell_type": "code",
   "execution_count": null,
   "metadata": {},
   "outputs": [],
   "source": [
    "h_meas = f[\"hmeas\"]\n",
    "h_true = f['htrue_signal']"
   ]
  },
  {
   "cell_type": "code",
   "execution_count": null,
   "metadata": {},
   "outputs": [],
   "source": [
    "bins = [round(var, 2) for var in h_meas.edges]\n",
    "x_ticks = [0.02, 0.22, 0.42, 0.62, 0.82 , 1.22, 2.5]\n",
    "\n",
    "bincenters = 0.5*(np.array(x_ticks)[1:]+np.array(x_ticks)[:-1])\n",
    "\n",
    "b_meas = bins\n",
    "b_true = bins"
   ]
  },
  {
   "cell_type": "code",
   "execution_count": null,
   "metadata": {},
   "outputs": [],
   "source": [
    "binwidth = []\n",
    "\n",
    "for x in range(len(bincenters)): \n",
    "    binwidth.append(round(abs(x_ticks[x+1]-x_ticks[x])/2, 2))\n",
    "    \n",
    "binwidth"
   ]
  },
  {
   "cell_type": "code",
   "execution_count": null,
   "metadata": {},
   "outputs": [],
   "source": [
    "meas = h_meas.values\n",
    "true = h_true.values"
   ]
  },
  {
   "cell_type": "code",
   "execution_count": null,
   "metadata": {},
   "outputs": [],
   "source": [
    "fig = plt.figure(figsize=(10, 7))\n",
    "\n",
    "plt.hist(bincenters, bins, color='blue', label='Reco (Selected)', alpha=0.4, weights=meas)\n",
    "plt.hist(bincenters, bins, color='orange', label='True (Generated)', alpha=0.4, weights=true)\n",
    "\n",
    "plt.legend(fontsize=13)\n",
    "plt.title('Signal Input Distributions', fontsize=16)\n",
    "\n",
    "#plt.ylim(0, 5E-40)\n",
    "plt.xlim(0, 2.5)\n",
    "\n",
    "plt.xlabel(\"Shower Energy [GeV]\", fontsize=15)\n",
    "    \n",
    "plt.xticks([0.02, 0.22, 0.42, 0.62, 0.82 , 1.22], fontsize=13)\n",
    "plt.yticks(fontsize=13)\n",
    "\n",
    "#plt.savefig(plots_path+\"_InputSignalDistributions_ElectronEnergy.pdf\", transparent=True, bbox_inches='tight') \n",
    "\n",
    "plt.grid()\n",
    "plt.show()\n"
   ]
  },
  {
   "cell_type": "markdown",
   "metadata": {},
   "source": [
    "## input covariance matrix "
   ]
  },
  {
   "cell_type": "code",
   "execution_count": null,
   "metadata": {},
   "outputs": [],
   "source": [
    "h_cov = f['hcov_tot']"
   ]
  },
  {
   "cell_type": "code",
   "execution_count": null,
   "metadata": {},
   "outputs": [],
   "source": [
    "b_cov = list(h_cov.edges[0])\n",
    "cov = h_cov.values"
   ]
  },
  {
   "cell_type": "code",
   "execution_count": null,
   "metadata": {},
   "outputs": [],
   "source": [
    "fig = plt.figure(figsize=(10, 6))\n",
    "        \n",
    "plt.pcolor(b_cov, b_cov, cov, cmap='OrRd', edgecolors='k' )\n",
    "\n",
    "cbar = plt.colorbar()\n",
    "cbar.ax.tick_params(labelsize=14)\n",
    "\n",
    "#cbar.set_label(\"$\\\\tilde{\\\\sigma}^{2}$ [cm$^{4}$ / nucleon$^{2}$]\", fontsize=15)\n",
    "\n",
    "plt.xticks([0.02, 0.22, 0.42, 0.62, 0.82 , 1.22], fontsize=12)\n",
    "plt.yticks([0.02, 0.22, 0.42, 0.62, 0.82 , 1.22], fontsize=12)\n",
    "\n",
    "plt.xlim(0.02, 2.5)\n",
    "plt.ylim(.02, 2.5)\n",
    "\n",
    "plt.xlabel(\"Reco Shower Energy [GeV]\", fontsize=15)\n",
    "plt.ylabel(\"Reco Shower Energy [GeV]\", fontsize=15)\n",
    "\n",
    "plt.title('Absolute Covariance', fontsize=15)\n",
    "\n",
    "plt.show()"
   ]
  },
  {
   "cell_type": "code",
   "execution_count": null,
   "metadata": {},
   "outputs": [],
   "source": []
  },
  {
   "cell_type": "markdown",
   "metadata": {},
   "source": [
    "## input response matrix "
   ]
  },
  {
   "cell_type": "code",
   "execution_count": null,
   "metadata": {},
   "outputs": [],
   "source": [
    "h_res = f['hR']"
   ]
  },
  {
   "cell_type": "code",
   "execution_count": null,
   "metadata": {},
   "outputs": [],
   "source": [
    "b_res = list(h_res.edges[0])\n",
    "res = h_res.values"
   ]
  },
  {
   "cell_type": "code",
   "execution_count": null,
   "metadata": {},
   "outputs": [],
   "source": [
    "fig = plt.figure(figsize=(10, 6))\n",
    "        \n",
    "plt.pcolor(b_res, b_res, res, cmap='OrRd', edgecolors='k')\n",
    "\n",
    "cbar = plt.colorbar()\n",
    "cbar.ax.tick_params(labelsize=14)\n",
    "#cbar.set_label(\"$\\\\nu$ / 2 $\\\\times$ 10$^{20}$ POT (normalized)\", fontsize=15)\n",
    "\n",
    "plt.xticks([0.02, 0.22, 0.42, 0.62, 0.82 , 1.22], fontsize=12)\n",
    "plt.yticks([0.02, 0.22, 0.42, 0.62, 0.82 , 1.22], fontsize=12)\n",
    "\n",
    "plt.xlim(0.02, 2.5)\n",
    "plt.ylim(.02, 2.5)\n",
    "\n",
    "\n",
    "plt.xlabel(\"True Electron Energy [GeV]\", fontsize=15)\n",
    "plt.ylabel(\"Reco Electron Energy [GeV]\", fontsize=15)\n",
    "\n",
    "plt.title('Input Response Matrix', fontsize=15)\n",
    "\n",
    "#plt.savefig(plots_path+\"_InputResponseMatrix_ElectronEnergy.pdf\", transparent=True, bbox_inches='tight') \n",
    "\n",
    "plt.show()"
   ]
  },
  {
   "cell_type": "markdown",
   "metadata": {},
   "source": [
    "# unfolded result"
   ]
  },
  {
   "cell_type": "code",
   "execution_count": null,
   "metadata": {},
   "outputs": [],
   "source": [
    "h_unf = f['unf']\n",
    "unf = list(h_unf.values)"
   ]
  },
  {
   "cell_type": "code",
   "execution_count": null,
   "metadata": {},
   "outputs": [],
   "source": [
    "\n",
    "fig = plt.figure(figsize=(8, 5))\n",
    "\n",
    "plt.step(b_meas+[b_meas[-1]], [0]+list(meas)+[0], alpha=0.4, color='blue')\n",
    "plt.fill_between(b_meas+[b_meas[-1]],[0]+list(meas)+[0], step=\"pre\", alpha=0.4, label='reco (input)')\n",
    "\n",
    "\n",
    "plt.step(b_meas+[b_meas[-1]], [0]+list(true)+[0], color='orange')\n",
    "plt.fill_between(b_meas+[b_meas[-1]],[0]+list(true)+[0], step=\"pre\", alpha=0.4, label='true (input)')\n",
    "\n",
    "\n",
    "plt.step(b_meas+[b_meas[-1]], [0]+unf+[0], color='black', linewidth=2, linestyle='--', label='unfolded (output)')\n",
    "\n",
    "plt.legend(fontsize=13)\n",
    "\n",
    "plt.xlabel(\"Electron Energy [GeV]\", fontsize=15)\n",
    "\n",
    "plt.xlim(0, 2.5)\n",
    "plt.ylim(0, 400)\n",
    "\n",
    "plt.xticks([0.02, 0.22, 0.42, 0.62, 0.82 , 1.22], fontsize=13)\n",
    "plt.yticks(fontsize=13)\n",
    "\n",
    "plt.legend(fontsize=13, loc='upper right')\n",
    "plt.title('Unfolded Evt Rate', fontsize=16)\n",
    "plt.show()"
   ]
  },
  {
   "cell_type": "code",
   "execution_count": null,
   "metadata": {},
   "outputs": [],
   "source": [
    "# covariance of unfolded result \n",
    "\n",
    "h_unfcov = f['unfcov']\n"
   ]
  },
  {
   "cell_type": "code",
   "execution_count": null,
   "metadata": {},
   "outputs": [],
   "source": [
    "b_unfcov = list(h_unfcov.edges[0])\n",
    "unfcov = h_unfcov.values"
   ]
  },
  {
   "cell_type": "code",
   "execution_count": null,
   "metadata": {},
   "outputs": [],
   "source": [
    "fig = plt.figure(figsize=(10, 6))\n",
    "        \n",
    "plt.pcolor(b_unfcov, b_unfcov, unfcov, cmap='OrRd', edgecolors='k')#, vmin=0, vmax=1E-81)\n",
    "\n",
    "cbar = plt.colorbar()\n",
    "cbar.ax.tick_params(labelsize=14)\n",
    "\n",
    "plt.xticks(fontsize=14)\n",
    "plt.yticks(fontsize=14)\n",
    "\n",
    "plt.xlabel(\"Unfolded Electron Energy [GeV]\", fontsize=15)\n",
    "plt.ylabel(\"Unfolded Electron Energy [GeV]\", fontsize=15)\n",
    "\n",
    "plt.xticks([0.02, 0.22, 0.42, 0.62, 0.82 , 1.22], fontsize=12)\n",
    "plt.yticks([0.02, 0.22, 0.42, 0.62, 0.82 , 1.22], fontsize=12)\n",
    "\n",
    "plt.xlim(0.02, 2.5)\n",
    "plt.ylim(.02, 2.5)\n",
    "\n",
    "plt.title('Covariance of Unfolded Result', fontsize=15)\n",
    "\n",
    "#plt.savefig(plots_path+\"_UnfoldedCovariance_ElectronEnergy.pdf\", transparent=True, bbox_inches='tight') \n",
    "\n",
    "\n",
    "plt.show()"
   ]
  },
  {
   "cell_type": "code",
   "execution_count": null,
   "metadata": {},
   "outputs": [],
   "source": [
    "# fractional uncertainty \n",
    "\n",
    "h_frac = f['fracError']\n",
    "b_frac = [round(var, 2) for var in h_frac.edges]\n",
    "\n",
    "frac = list(h_frac.values)"
   ]
  },
  {
   "cell_type": "code",
   "execution_count": null,
   "metadata": {},
   "outputs": [],
   "source": []
  },
  {
   "cell_type": "code",
   "execution_count": null,
   "metadata": {},
   "outputs": [],
   "source": [
    "fig = plt.figure(figsize=(8, 5))\n",
    "\n",
    "# calculate the width of each bin \n",
    "#x_err = [ (b_frac[i+1]-b_frac[i])/2 for i in range(len(b_frac)-1) ]\n",
    "#plt.errorbar(b_frac_centers, frac, linestyle=\"\", xerr=x_err, color=\"royalblue\", label='fractional uncertainty')\n",
    "\n",
    "plt.step(bins+[bins[-1]], [0]+frac+[0], color=\"royalblue\")\n",
    "\n",
    "plt.xlabel(\"Unfolded Electron Energy [GeV]\", fontsize=15)\n",
    "\n",
    "#plt.ylim(0, 1)\n",
    "\n",
    "plt.title(\"Fractional Uncertainty of Unfolded Result\", fontsize=15)\n",
    "plt.show()"
   ]
  },
  {
   "cell_type": "code",
   "execution_count": null,
   "metadata": {},
   "outputs": [],
   "source": [
    "# fractional difference between model & unfolded result"
   ]
  },
  {
   "cell_type": "code",
   "execution_count": null,
   "metadata": {},
   "outputs": [],
   "source": [
    "h_diff = f['diff']"
   ]
  },
  {
   "cell_type": "code",
   "execution_count": null,
   "metadata": {},
   "outputs": [],
   "source": [
    "b_diff = list(h_diff.edges)\n",
    "diff = list(h_diff.values)"
   ]
  },
  {
   "cell_type": "code",
   "execution_count": null,
   "metadata": {},
   "outputs": [],
   "source": [
    "fig = plt.figure(figsize=(8, 5))\n",
    "\n",
    "plt.errorbar(bincenters, diff, color=\"royalblue\", fmt='.', xerr=binwidth, markersize=1)\n",
    "\n",
    "plt.xlim(0, 3)\n",
    "plt.ylim(-0.2, 0)\n",
    "\n",
    "plt.xlabel(\"Electron Energy [GeV]\", fontsize=15)\n",
    "\n",
    "plt.title(\"Fractional Difference between True & Unfolded Spectra\", fontsize=15)\n",
    "plt.show()"
   ]
  },
  {
   "cell_type": "markdown",
   "metadata": {},
   "source": [
    "### Regularization Matrix"
   ]
  },
  {
   "cell_type": "code",
   "execution_count": null,
   "metadata": {},
   "outputs": [],
   "source": [
    "# regularization matrix A_c \n",
    "\n",
    "h_Ac = f['smear']"
   ]
  },
  {
   "cell_type": "code",
   "execution_count": null,
   "metadata": {},
   "outputs": [],
   "source": [
    "b_Ac = list(h_Ac.edges[0])\n",
    "Ac = h_Ac.values"
   ]
  },
  {
   "cell_type": "code",
   "execution_count": null,
   "metadata": {},
   "outputs": [],
   "source": [
    "fig = plt.figure(figsize=(10, 6))\n",
    "        \n",
    "plt.pcolor(b_Ac, b_Ac, Ac, cmap='OrRd', edgecolors='k')\n",
    "\n",
    "cbar = plt.colorbar()\n",
    "cbar.ax.tick_params(labelsize=14)\n",
    "\n",
    "plt.xticks([0.02, 0.22, 0.42, 0.62, 0.82 , 1.22], fontsize=12)\n",
    "plt.yticks([0.02, 0.22, 0.42, 0.62, 0.82 , 1.22], fontsize=12)\n",
    "\n",
    "plt.xlim(0.02, 2.5)\n",
    "plt.ylim(.02, 2.5)\n",
    "\n",
    "\n",
    "#plt.xlabel(\"cos $\\\\theta_{ep}$\", fontsize=15)\n",
    "#plt.ylabel(\"cos $\\\\theta_{ep}$\", fontsize=15)\n",
    "\n",
    "plt.title('Additional Smearing Matrix ($A_{c}$)', fontsize=15)\n",
    "#plt.savefig(plots_path+\"Regularization.pdf\", transparent=True, bbox_inches='tight') \n",
    "\n",
    "plt.show()"
   ]
  },
  {
   "cell_type": "code",
   "execution_count": null,
   "metadata": {},
   "outputs": [],
   "source": []
  },
  {
   "cell_type": "markdown",
   "metadata": {},
   "source": [
    "## Smear the true distribution by Ac"
   ]
  },
  {
   "cell_type": "code",
   "execution_count": null,
   "metadata": {},
   "outputs": [],
   "source": [
    "smeared = []\n",
    "s = 0\n",
    "\n",
    "for i in range(len(b_Ac)-1):\n",
    "    # compute the smeared bin value \n",
    "    for j in range(len(b_Ac)-1): \n",
    "        s = s + Ac[i][j]*true[j]\n",
    "\n",
    "    smeared.append(s)\n",
    "    s = 0\n",
    "    "
   ]
  },
  {
   "cell_type": "code",
   "execution_count": null,
   "metadata": {},
   "outputs": [],
   "source": [
    "fig = plt.figure(figsize=(8, 5))\n",
    "   \n",
    "plt.step(bins+[bins[-1]], [0]+unf+[0], color='black', \n",
    "             linewidth=2, linestyle='--', label='unfolded')\n",
    "    \n",
    "plt.xticks(fontsize=12)\n",
    "plt.yticks(fontsize=12)\n",
    "\n",
    "\n",
    "plt.title('Unfolded Result', fontsize=16)\n",
    "plt.show()"
   ]
  },
  {
   "cell_type": "code",
   "execution_count": null,
   "metadata": {},
   "outputs": [],
   "source": [
    "fig = plt.figure(figsize=(8, 5))\n",
    "\n",
    " ## chi2 calculation ## \n",
    "chi2 = 0 \n",
    "# for i,j in zip(n[-1], n_data): \n",
    "    # if i>0: \n",
    "        #chi2 = chi2 + ((i-j)*(i-j))/i\n",
    "\n",
    "    \n",
    "#for i,j in zip(list(np.array(smeared)/np.array(binwidth)), np.array(unf)/np.array(binwidth)):\n",
    "    # print(i, j)\n",
    "    # print(((i-j)*(i-j))/i)\n",
    "#    chi2 = chi2 + ((i-j)*(i-j))/i\n",
    "    \n",
    "    \n",
    "plt.fill_between(bins+[bins[-1]],[0]+smeared+[0], step=\"pre\", alpha=0.7, label='true (smeared)', color='mediumseagreen')\n",
    "plt.step(bins+[bins[-1]], [0]+smeared+[0], color='mediumseagreen')\n",
    "    \n",
    "plt.step(bins+[bins[-1]], [0]+unf+[0], color='black', linewidth=2, linestyle='--', label='unfolded')\n",
    "    \n",
    "plt.ylim(0, 300)\n",
    "plt.xlim(0, 2.5)\n",
    "\n",
    "plt.xticks([0.02, 0.22, 0.42, 0.62, 0.82 , 1.22], fontsize=13)\n",
    "plt.yticks( fontsize=13)\n",
    "\n",
    "\n",
    "plt.xlabel(\"Electron Energy [GeV]\", fontsize=15)\n",
    "\n",
    "plt.legend(fontsize=13)\n",
    "plt.title('FHC+RHC Unfolded Event Rate', fontsize=16)\n",
    "#plt.savefig(plots_path+\"UnfoldedDifferential_VisibleEnergy.pdf\", transparent=True, bbox_inches='tight') \n",
    "\n",
    "\n",
    "plt.show()"
   ]
  },
  {
   "cell_type": "markdown",
   "metadata": {},
   "source": [
    "## Convert to xsec units"
   ]
  },
  {
   "cell_type": "code",
   "execution_count": null,
   "metadata": {},
   "outputs": [],
   "source": [
    "# divide by bin width, flux, and n_target \n",
    "from matplotlib import gridspec"
   ]
  },
  {
   "cell_type": "code",
   "execution_count": null,
   "metadata": {},
   "outputs": [],
   "source": [
    "fig = plt.figure(figsize=(8, 7))\n",
    "\n",
    "gs = gridspec.GridSpec(2, 1, height_ratios=[2, 1])\n",
    "\n",
    "ax1 = plt.subplot(gs[0])\n",
    "ax2 = plt.subplot(gs[1])\n",
    "    \n",
    "ax1.tick_params(axis = 'both', which = 'major', labelsize = 14)\n",
    "ax2.tick_params(axis = 'both', which = 'major', labelsize = 14)\n",
    "\n",
    "ax1.yaxis.grid(linestyle=\"--\", color='black', alpha=0.2)\n",
    "ax1.xaxis.grid(linestyle=\"--\", color='black', alpha=0.2)\n",
    "\n",
    "\n",
    "h_smeared = ax1.hist(bincenters, bins, color='mediumseagreen', label='true (smeared)', range=[bins[0],bins[-1]], \n",
    "             weights=1E39*(np.array(smeared)/(n_target*cv_flux*np.array(binwidth))), alpha=0.7)\n",
    "\n",
    "result_xsec = list(1E39*np.array(unf)/(n_target*cv_flux*np.array(binwidth)))\n",
    "\n",
    "#ax1.step(bins+[bins[-1]], [0]+result_xsec+[0], color='black', \n",
    "#             linewidth=2, linestyle='--', label='unfolded')\n",
    "\n",
    "ax1.errorbar(bincenters, result_xsec, \n",
    "             xerr=binwidth, yerr=[x*y for x,y in zip(frac, result_xsec)], fmt='o', \n",
    "             color='black', ecolor='black', markersize=3, label='unfolded') \n",
    "\n",
    "# ratio plot  \n",
    "ax2.errorbar(bincenters, result_xsec/h_smeared[0], #yerr=get_ratio_err(n_data, n[-1]), \n",
    "             xerr=binwidth, color=\"black\", fmt='o')\n",
    "ax2.set_ylim(0.99, 1.01)\n",
    "\n",
    "ax2.yaxis.grid(linestyle=\"--\", color='black', alpha=0.2)\n",
    "ax2.xaxis.grid(linestyle=\"--\", color='black', alpha=0.2)\n",
    "    \n",
    "    \n",
    "ax1.set_ylabel(\"d$\\\\sigma$/dE$_{e}$\\n[$\\\\times 10^{-39}$ cm$^{2}$ / GeV / nucleon]\", fontsize=14)\n",
    "ax1.set_xlim(0, 2.5)\n",
    "ax1.set_xticks([0.02, 0.22, 0.42, 0.62, 0.82 , 1.22])\n",
    "\n",
    "ax2.set_xlim(0, 2.5)\n",
    "ax2.set_xticks([0.02, 0.22, 0.42, 0.62, 0.82 , 1.22])\n",
    "\n",
    "ax2.set_xlabel(\"Shower Energy [GeV]\", fontsize=14)\n",
    "ax2.set_ylabel(\"Unfolded / True\", fontsize=14)\n",
    "\n",
    "ax1.legend(fontsize=13)\n",
    "\n",
    "if ISRUN3==None: \n",
    "    ax1.set_title('FHC+RHC Cross Section', fontsize=16)\n",
    "    \n",
    "elif ISRUN3==False: \n",
    "    ax1.set_title('FHC Cross Section', fontsize=16)\n",
    "    \n",
    "elif ISRUN3==True: \n",
    "    ax1.set_title('RHC Cross Section', fontsize=16)\n",
    "\n",
    "\n",
    "plt.show()"
   ]
  },
  {
   "cell_type": "code",
   "execution_count": null,
   "metadata": {},
   "outputs": [],
   "source": [
    "results_dict = {\n",
    "    'cv_evtrate' : smeared, \n",
    "    'cv_xsec' : result_xsec, \n",
    "    'covariance' : unfcov.tolist(), \n",
    "    'uncertainty' : [x*y for x,y in zip(frac, result_xsec)], \n",
    "    'fractional_uncertainty' : frac\n",
    "}"
   ]
  },
  {
   "cell_type": "code",
   "execution_count": null,
   "metadata": {},
   "outputs": [],
   "source": []
  },
  {
   "cell_type": "markdown",
   "metadata": {},
   "source": [
    "## save to file"
   ]
  },
  {
   "cell_type": "code",
   "execution_count": null,
   "metadata": {},
   "outputs": [],
   "source": [
    "ISRUN3"
   ]
  },
  {
   "cell_type": "code",
   "execution_count": null,
   "metadata": {},
   "outputs": [],
   "source": [
    "# save to / update json file \n",
    "\n",
    "import io\n",
    "import json\n",
    "import os\n",
    "from datetime import date\n",
    " \n",
    "if ISRUN3==None: \n",
    "    file = 'CombinedClosureTest_ElectronEnergy_'+date.today().strftime(\"%m%d%y\")+'.json'\n",
    "\n",
    "elif ISRUN3==False: \n",
    "    file = 'FHCClosureTest_ElectronEnergy_'+date.today().strftime(\"%m%d%y\")+'.json'\n",
    "    \n",
    "elif ISRUN3==True: \n",
    "    file = 'RHCClosureTest_ElectronEnergy_'+date.today().strftime(\"%m%d%y\")+'.json'\n",
    "    \n",
    "      \n",
    "print(file)\n",
    "    \n",
    "path = '/uboone/app/users/kmiller/searchingfornues_v33/uBNuMI_CC1eNp/unfolding/'\n"
   ]
  },
  {
   "cell_type": "code",
   "execution_count": null,
   "metadata": {},
   "outputs": [],
   "source": [
    "if os.path.exists(path+file): \n",
    "    print(file, \" exists and is readable, need to update file name to save ! \")\n",
    "        \n",
    "else: \n",
    "    with open('unfolding/'+file, 'w') as f:\n",
    "            json.dump(results_dict, f)\n",
    "    \n",
    "    "
   ]
  },
  {
   "cell_type": "code",
   "execution_count": null,
   "metadata": {},
   "outputs": [],
   "source": []
  },
  {
   "cell_type": "markdown",
   "metadata": {},
   "source": [
    "## Comparisons"
   ]
  },
  {
   "cell_type": "code",
   "execution_count": null,
   "metadata": {},
   "outputs": [],
   "source": [
    "with open('unfolding/FHCClosureTest_ElectronEnergy_071522.json') as f_fhc:\n",
    "    fhc_dict = json.load(f_fhc)\n",
    "    \n",
    "with open('unfolding/RHCClosureTest_ElectronEnergy_071522.json') as f_rhc:\n",
    "    rhc_dict = json.load(f_rhc)\n",
    "\n",
    "with open('unfolding/CombinedClosureTest_ElectronEnergy_071522.json') as f:\n",
    "    comb_dict = json.load(f)"
   ]
  },
  {
   "cell_type": "code",
   "execution_count": null,
   "metadata": {},
   "outputs": [],
   "source": []
  },
  {
   "cell_type": "code",
   "execution_count": null,
   "metadata": {},
   "outputs": [],
   "source": [
    "fig = plt.figure(figsize=(8, 5))\n",
    "\n",
    "plt.errorbar(bincenters, fhc_dict['cv_xsec'], \n",
    "             xerr=binwidth, yerr=fhc_dict['uncertainty'], fmt='o', markersize=3, label='FHC') \n",
    "\n",
    "plt.errorbar(bincenters, rhc_dict['cv_xsec'], \n",
    "             xerr=binwidth, yerr=rhc_dict['uncertainty'], fmt='o', markersize=3, label='RHC', color='orange') \n",
    "\n",
    "plt.errorbar(bincenters, comb_dict['cv_xsec'], \n",
    "             xerr=binwidth, yerr=comb_dict['uncertainty'], fmt='o', markersize=3, label='FHC+RHC', color='black') \n",
    "\n",
    "plt.ylabel(\"d$\\\\sigma$/dE$_{e}$\\n[$\\\\times 10^{-39}$ cm$^{2}$ / GeV / nucleon]\", fontsize=14)\n",
    "plt.xlim(0, 2.5)\n",
    "plt.xticks([0.02, 0.22, 0.42, 0.62, 0.82 , 1.22], fontsize=13)\n",
    "plt.yticks(fontsize=13)\n",
    "\n",
    "plt.xlabel(\"Shower Energy [GeV]\", fontsize=14)\n",
    "\n",
    "plt.grid(linestyle=\"--\", color='black', alpha=0.2)\n",
    "\n",
    "plt.title(\"Closure Tests\", fontsize=16)\n",
    "\n",
    "plt.legend(fontsize=14)\n",
    "plt.show()"
   ]
  },
  {
   "cell_type": "code",
   "execution_count": null,
   "metadata": {},
   "outputs": [],
   "source": [
    "fig = plt.figure(figsize=(8, 5))  \n",
    "\n",
    "plt.hist(bincenters, bins, histtype='step', label=\"FHC\", weights=fhc_dict['fractional_uncertainty'], \n",
    "         linestyle=(0, (1, 1)), linewidth=2)\n",
    "plt.hist(bincenters, bins, histtype='step', label=\"RHC\", weights=rhc_dict['fractional_uncertainty'], color='orange', \n",
    "         linestyle=(0, (1, 1)), linewidth=2)\n",
    "plt.hist(bincenters, bins, histtype='step', label=\"FHC+RHC\", weights=comb_dict['fractional_uncertainty'], color='black', \n",
    "        linewidth=2)\n",
    "\n",
    "plt.xticks(x_ticks[:-1], fontsize=13)\n",
    "plt.yticks(fontsize=13)\n",
    "\n",
    "plt.xlabel(\"Unfolded Shower Energy [GeV]\", fontsize=15)\n",
    "plt.ylabel(\"Fractional Uncertainty\", fontsize=15)\n",
    "\n",
    "plt.xlim(bins[0], 2.5)\n",
    "plt.ylim(0, 0.5)\n",
    "\n",
    "plt.legend(fontsize=14)\n",
    "plt.title(\"Fractional Uncertainty\", fontsize=16)\n",
    "\n",
    "plt.show()"
   ]
  },
  {
   "cell_type": "code",
   "execution_count": null,
   "metadata": {},
   "outputs": [],
   "source": []
  },
  {
   "cell_type": "code",
   "execution_count": null,
   "metadata": {},
   "outputs": [],
   "source": []
  },
  {
   "cell_type": "code",
   "execution_count": null,
   "metadata": {},
   "outputs": [],
   "source": []
  }
 ],
 "metadata": {
  "kernelspec": {
   "display_name": "Python 3",
   "language": "python",
   "name": "python3"
  },
  "language_info": {
   "codemirror_mode": {
    "name": "ipython",
    "version": 3
   },
   "file_extension": ".py",
   "mimetype": "text/x-python",
   "name": "python",
   "nbconvert_exporter": "python",
   "pygments_lexer": "ipython3",
   "version": "3.7.3"
  }
 },
 "nbformat": 4,
 "nbformat_minor": 4
}
