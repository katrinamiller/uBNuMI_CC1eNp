{
 "cells": [
  {
   "cell_type": "markdown",
   "metadata": {},
   "source": [
    "## Setup\n"
   ]
  },
  {
   "cell_type": "code",
   "execution_count": 1,
   "metadata": {},
   "outputs": [],
   "source": [
    "## WARNING: THIS NOW HAS A MODIFIED SIGNAL DEFINITION \n",
    "# search: # updated for modified signal\n",
    "# linear selection\n",
    "# BDT preselection\n",
    "# cross validation \n",
    "# main BDT "
   ]
  },
  {
   "cell_type": "code",
   "execution_count": 2,
   "metadata": {},
   "outputs": [],
   "source": [
    "# Notebook to develop the BDT response & selection performance \n",
    "# Adapted from work done by Kaushal Gumpula \n",
    "# see more at: https://github.com/kgumpula2/searchingfornues_BDT"
   ]
  },
  {
   "cell_type": "code",
   "execution_count": null,
   "metadata": {},
   "outputs": [],
   "source": []
  },
  {
   "cell_type": "code",
   "execution_count": 3,
   "metadata": {},
   "outputs": [
    {
     "name": "stdout",
     "output_type": "stream",
     "text": [
      "Welcome to JupyROOT 6.18/00\n"
     ]
    }
   ],
   "source": [
    "import sys\n",
    "import uproot\n",
    "import matplotlib.pylab as pylab\n",
    "import numpy as np\n",
    "import math\n",
    "from sklearn.model_selection import train_test_split\n",
    "import pickle\n",
    "import xgboost as xgb\n",
    "import awkward\n",
    "import matplotlib.pyplot as plt\n",
    "import pandas as pd\n",
    "from matplotlib import gridspec\n",
    "from selection_functions import *"
   ]
  },
  {
   "cell_type": "code",
   "execution_count": 4,
   "metadata": {},
   "outputs": [],
   "source": [
    "# Doing Run3?\n",
    "\n",
    "ISRUN3 = False\n",
    "NUE_INTRINSIC = True"
   ]
  },
  {
   "cell_type": "code",
   "execution_count": 5,
   "metadata": {},
   "outputs": [],
   "source": [
    "# Load in offline flux reweight maps\n",
    "\n",
    "import ROOT\n",
    "\n",
    "if ISRUN3:\n",
    "    flux_maps = ROOT.TFile.Open(\"/uboone/data/users/kmiller/numi-ppfx/uboone/CV/no-threshold/feb2020/rhc/ppfx_weight_maps_rhc.root\")\n",
    "    plots_path = \"/uboone/data/users/kmiller/searchingfornues_v33/v08_00_00_33/plots/rhc/\"\n",
    "    \n",
    "else: \n",
    "    flux_maps = ROOT.TFile.Open(\"/uboone/data/users/kmiller/numi-ppfx/uboone/CV/no-threshold/feb2020/fhc/ppfx_weight_maps.root\")\n",
    "    plots_path = \"/uboone/app/users/kgumpula/work/searching_fornues_kaushal/plots/fhc/\"\n",
    "    \n",
    "numu_map = flux_maps.Get(\"hratio_numu\")\n",
    "numubar_map = flux_maps.Get(\"hratio_numubar\")\n",
    "nue_map = flux_maps.Get(\"hratio_nue\")\n",
    "nuebar_map = flux_maps.Get(\"hratio_nuebar\")\n"
   ]
  },
  {
   "cell_type": "code",
   "execution_count": 6,
   "metadata": {},
   "outputs": [],
   "source": [
    "# POT normalization factors\n",
    "\n",
    "# FHC\n",
    "if not ISRUN3:  \n",
    "    overlay_pot =  2.33652E21  # v7       \n",
    "    dirt_pot = 1.67392E21 # david C.'s file\n",
    "    beamon_pot = 2.0E20 # v5\n",
    "\n",
    "    beamon_ntrig =  5268051.0 # v5 (EA9CNT_wcut)\n",
    "    beamoff_ntrig = 9199232.74  # v5 (EXT_NUMIwin_FEMBeamTriggerAlgo)\n",
    "    \n",
    "    if NUE_INTRINSIC: \n",
    "        nue_intrinsic_pot = 2.37838E22 # v7\n",
    "        \n",
    "    proj_pot = 4.125E20 # FHC Runs 1-5: 9.23E20, FHC Runs 1-3: 4.125E20 \n",
    "    \n",
    "\n",
    "# RHC \n",
    "else: \n",
    "    overlay_pot =  1.98937E21 # v7\n",
    "    dirt_pot = 1.03226E21 # v6\n",
    "    beamon_pot = 5.0E20 # v5\n",
    "    \n",
    "    beamon_ntrig = 10363728.0 # v5\n",
    "    beamoff_ntrig =  32878305.25 # v5\n",
    "        \n",
    "    if NUE_INTRINSIC: \n",
    "        nue_intrinsic_pot = 2.5345E22 # v7\n",
    "        \n",
    "    proj_pot = 8.624E20  # RHC Runs 1-5: 11.95E20, RHC Runs 1-3: 8.624E20 \n",
    "    \n",
    "\n"
   ]
  },
  {
   "cell_type": "code",
   "execution_count": 7,
   "metadata": {},
   "outputs": [],
   "source": [
    "fold = \"nuselection\"\n",
    "tree = \"NeutrinoSelectionFilter\"\n",
    "\n",
    "DATA = \"\"\n",
    "EXT = \"\"\n",
    "OVRLY  = \"\"\n",
    "DRT = \"\"\n",
    "NUE = \"\"\n",
    "\n",
    "# old paths \n",
    "# '/uboone/data/users/kmistry/work/MCC9/searchingfornues/'\n",
    "# '/uboone/app/users/kmiller/searchingfornues_v33/Jan2021_NuMI_workshopDay2/Day1/root_files/'\n",
    "\n",
    "\n",
    "if not ISRUN3: \n",
    "    \n",
    "    path = '/uboone/data/users/kmiller/ntuples/run1/nuepresel/'\n",
    "    \n",
    "    # Run 1 FHC \n",
    "    OVRLY = 'neutrinoselection_filt_run1_overlay_v7'\n",
    "    EXT = 'neutrinoselection_filt_run1_beamoff_v5'\n",
    "    DATA = 'neutrinoselection_filt_run1_beamon_beamgood_v5'\n",
    "    DRT = 'prodgenie_numi_uboone_overlay_dirt_fhc_mcc9_run1_v28_all_snapshot'\n",
    "    \n",
    "    if NUE_INTRINSIC: \n",
    "        NUE = 'neutrinoselection_filt_run1_overlay_intrinsic_v7'\n",
    "\n",
    "\n",
    "else: \n",
    "    \n",
    "    path = '/uboone/data/users/kmiller/ntuples/run3b/nuepresel/'\n",
    "    \n",
    "    # Run 3 RHC\n",
    "    OVRLY = 'neutrinoselection_filt_run3b_overlay_v7'\n",
    "    DATA = 'neutrinoselection_filt_run3b_beamon_beamgood_v5'\n",
    "    EXT = 'neutrinoselection_filt_run3b_beamoff_v5'\n",
    "    DRT = 'neutrinoselection_filt_run3b_dirt_overlay_v6'\n",
    "    \n",
    "    if NUE_INTRINSIC: \n",
    "        NUE = 'neutrinoselection_filt_run3b_overlay_intrinsic_v7'\n"
   ]
  },
  {
   "cell_type": "code",
   "execution_count": 8,
   "metadata": {},
   "outputs": [],
   "source": [
    "overlay = uproot.open(path+OVRLY+\".root\")[fold][tree]\n",
    "ext = uproot.open(path+EXT+\".root\")[fold][tree]\n",
    "dirt = uproot.open(path+DRT+\".root\")[fold][tree]  \n",
    "\n",
    "uproot_v = [overlay,ext,dirt]\n",
    "\n",
    "if NUE_INTRINSIC: \n",
    "    nue = uproot.open(path+NUE+\".root\")[fold][tree]\n",
    "    uproot_v.append(nue)\n",
    "\n",
    "\n",
    "variables = [\n",
    "    \"selected\", \"nu_pdg\", \"shr_theta\", \"true_e_visible\", \n",
    "    \"trk_score_v\", \n",
    "    \"shr_tkfit_dedx_Y\", \"ccnc\", \"n_tracks_contained\", \n",
    "    \"NeutrinoEnergy2\",\n",
    "    #\"run\",\"sub\",\"evt\",\n",
    "    \"reco_nu_vtx_sce_x\",\"reco_nu_vtx_sce_y\",\"reco_nu_vtx_sce_z\",\n",
    "    \"shrsubclusters0\",\"shrsubclusters1\",\"shrsubclusters2\", # number of sub-clusters in shower\n",
    "    \"trkshrhitdist2\",\n",
    "    \"nproton\", \"nu_e\", \"n_showers_contained\", \"nu_purity_from_pfp\", \n",
    "    \"shr_phi\", \"trk_phi\", \"trk_theta\",\n",
    "    \"shr_score\", \n",
    "    \"trk_energy\", \"tksh_distance\", \"tksh_angle\",\n",
    "    \"npi0\",\n",
    "    \"shr_energy_tot_cali\",  \n",
    "    \"nslice\", \n",
    "    \"contained_fraction\",\n",
    "    \"true_nu_vtx_x\", \"true_nu_vtx_y\" , \"true_nu_vtx_z\", \n",
    "    \"npion\", \"shr_energy_cali\", \n",
    "    \"shrmoliereavg\", \"shr_px\", \"shr_py\", \"shr_pz\", \"run\"\n",
    "]\n",
    "    \n",
    "\n"
   ]
  },
  {
   "cell_type": "code",
   "execution_count": 9,
   "metadata": {},
   "outputs": [],
   "source": [
    "# MC only variables\n",
    "mc_var = [\"weightSplineTimesTune\", \"true_nu_px\", \"true_nu_py\", \"true_nu_pz\", \n",
    "            \"elec_e\", \"proton_e\", \"mc_px\", \"mc_py\", \"mc_pz\", \"elec_px\", \"elec_py\", \"elec_pz\", \n",
    "            \"swtrig_pre\", \"ppfx_cv\", \"mc_pdg\", \"opening_angle\"]\n",
    "\n",
    "sys_genie = [\"weightsGenie\", \"weightsReint\"]\n",
    "sys_flux = ['weightsPPFX']\n"
   ]
  },
  {
   "cell_type": "code",
   "execution_count": 10,
   "metadata": {},
   "outputs": [],
   "source": [
    "in_fv_query = \"10<=true_nu_vtx_x<=246 and -106<=true_nu_vtx_y<=106 and 10<=true_nu_vtx_z<=1026\"\n",
    "reco_in_fv_query = \"10<=reco_nu_vtx_sce_x<=246 and -106<=reco_nu_vtx_sce_y<=106 and 10<=reco_nu_vtx_sce_z<=1026\"\n",
    "\n",
    "nueCC_query = 'abs(nu_pdg)==12 and ccnc==0 and '+in_fv_query"
   ]
  },
  {
   "cell_type": "code",
   "execution_count": null,
   "metadata": {},
   "outputs": [],
   "source": []
  },
  {
   "cell_type": "markdown",
   "metadata": {},
   "source": [
    "## Create pandas dataframes"
   ]
  },
  {
   "cell_type": "code",
   "execution_count": 11,
   "metadata": {},
   "outputs": [],
   "source": [
    "overlay = overlay.pandas.df(variables + mc_var + sys_genie + sys_flux, flatten=False)"
   ]
  },
  {
   "cell_type": "code",
   "execution_count": 12,
   "metadata": {},
   "outputs": [],
   "source": [
    "dirt = dirt.pandas.df(variables + mc_var + sys_genie, flatten=False)"
   ]
  },
  {
   "cell_type": "code",
   "execution_count": 13,
   "metadata": {},
   "outputs": [],
   "source": [
    "# no flux weights exist for dirt (yet?)\n",
    "dirt['weightsPPFX'] = [[1 for x in range(len(overlay['weightsPPFX'].iloc[0]))] for y in range(len(dirt))]"
   ]
  },
  {
   "cell_type": "code",
   "execution_count": 14,
   "metadata": {},
   "outputs": [],
   "source": [
    "ext = ext.pandas.df(variables, flatten=False)"
   ]
  },
  {
   "cell_type": "code",
   "execution_count": 15,
   "metadata": {},
   "outputs": [],
   "source": [
    "if NUE_INTRINSIC: \n",
    "    nue = nue.pandas.df(variables + mc_var + sys_genie + sys_flux, flatten=False)"
   ]
  },
  {
   "cell_type": "code",
   "execution_count": 16,
   "metadata": {},
   "outputs": [],
   "source": [
    "for var in mc_var+sys_genie+sys_flux: \n",
    "    ext[var] = np.nan"
   ]
  },
  {
   "cell_type": "code",
   "execution_count": 17,
   "metadata": {},
   "outputs": [],
   "source": [
    "# how to get the LLR-PID value for the \"track candidate\" \n",
    "# (proton for nue selection, muon for numu)\n",
    "# can be done for any variable\n",
    "# code from Giuseppe!\n",
    "#LLR-PID : log likelihood ratio particle ID \n",
    "\n",
    "df_v = [overlay,ext,dirt]\n",
    "\n",
    "if NUE_INTRINSIC: \n",
    "    df_v.append(nue)\n",
    "    \n",
    "for i,df in enumerate(df_v):\n",
    "    up = uproot_v[i]\n",
    "    trk_llr_pid_v = up.array('trk_llr_pid_score_v')\n",
    "    trk_id = up.array('trk_id')-1 # I think we need this -1 to get the right result\n",
    "    trk_llr_pid_v_sel = awkward.fromiter([pidv[tid] if tid<len(pidv) else 9999. for pidv,tid in zip(trk_llr_pid_v,trk_id)])\n",
    "    df['trkpid'] = trk_llr_pid_v_sel\n",
    "    df['subcluster'] = df['shrsubclusters0'] + df['shrsubclusters1'] + df['shrsubclusters2']\n",
    "    #df['trkfit'] = df['shr_tkfit_npointsvalid'] / df['shr_tkfit_npoints']\n",
    "    df['NeutrinoEnergy2_GeV'] = df['NeutrinoEnergy2']/1000\n"
   ]
  },
  {
   "cell_type": "code",
   "execution_count": 18,
   "metadata": {},
   "outputs": [],
   "source": [
    "#shr_tkfit_dedx_most\n",
    "\n",
    "#for df in [overlay, dirt, ext]:\n",
    "#    df['shr_tkfit_dedx_most'] = df['shr_tkfit_dedx_Y']\n",
    "#    df.loc[df['shr_tkfit_nhits_Y'] < df['shr_tkfit_nhits_V'], 'shr_tkfit_dedx_most'] = df['shr_tkfit_dedx_V']\n",
    "#    df.loc[(df['shr_tkfit_nhits_V'] < df['shr_tkfit_nhits_U']) & (df['shr_tkfit_nhits_Y'] < df['shr_tkfit_nhits_U']), 'shr_tkfit_dedx_most'] = df['shr_tkfit_dedx_U']\n"
   ]
  },
  {
   "cell_type": "markdown",
   "metadata": {},
   "source": [
    "## Weights"
   ]
  },
  {
   "cell_type": "code",
   "execution_count": 19,
   "metadata": {},
   "outputs": [],
   "source": [
    "# cuts applied for bad GENIE weights \n",
    "\n",
    "for i,df in enumerate([overlay,dirt, nue]):\n",
    "    df.loc[ df['weightSplineTimesTune'] <= 0, 'weightSplineTimesTune' ] = 1.\n",
    "    df.loc[ df['weightSplineTimesTune'] == np.inf, 'weightSplineTimesTune' ] = 1.\n",
    "    df.loc[ df['weightSplineTimesTune'] > 100, 'weightSplineTimesTune' ] = 1.\n",
    "    df.loc[ np.isnan(df['weightSplineTimesTune']) == True, 'weightSplineTimesTune' ] = 1."
   ]
  },
  {
   "cell_type": "code",
   "execution_count": 20,
   "metadata": {},
   "outputs": [],
   "source": [
    "# pot scaling weights \n",
    "\n",
    "# applied tunes \n",
    "dirt_tune = 0.35\n",
    "ext_tune = 1\n",
    "\n",
    "# Run 1\n",
    "if not ISRUN3: \n",
    "    ext_tune = .98\n",
    "\n",
    "# Run 3\n",
    "else: \n",
    "    ext_tune = .94\n",
    "    \n",
    "    \n",
    "##############################################\n",
    "# SCALE TO BEAM ON POT\n",
    "overlay_scale_to_data = beamon_pot/overlay_pot\n",
    "\n",
    "if NUE_INTRINSIC: \n",
    "    nue_scale_to_data = beamon_pot/nue_intrinsic_pot\n",
    "\n",
    "dirt_scale_to_data = dirt_tune*(beamon_pot/dirt_pot)\n",
    "beamoff_scale_to_data = ext_tune*(beamon_ntrig/beamoff_ntrig) # scale factor to beam on POT\n",
    "\n",
    "overlay['pot_scale'] = overlay_scale_to_data\n",
    "\n",
    "if NUE_INTRINSIC: \n",
    "    nue['pot_scale'] = nue_scale_to_data\n",
    "    \n",
    "dirt['pot_scale'] = dirt_scale_to_data\n",
    "ext['pot_scale'] = beamoff_scale_to_data\n",
    "\n",
    "##############################################\n",
    "# SCALE TO OVERLAY\n",
    "\n",
    "dirt_scale_to_overlay = dirt_tune*(overlay_pot/dirt_pot)\n",
    "beamoff_scale_to_overlay = ext_tune*((overlay_pot/beamon_pot)*(beamon_ntrig/beamoff_ntrig))\n",
    "\n",
    "if NUE_INTRINSIC: \n",
    "    nue_scale_to_overlay = overlay_pot/nue_intrinsic_pot\n",
    "\n",
    "overlay['pot_scale_overlay'] = [1 for x in range(len(overlay))]\n",
    "if NUE_INTRINSIC: \n",
    "    nue['pot_scale_overlay'] = nue_scale_to_overlay\n",
    "    \n",
    "dirt['pot_scale_overlay'] = dirt_scale_to_overlay\n",
    "ext['pot_scale_overlay'] = beamoff_scale_to_overlay\n",
    "\n",
    "##############################################\n",
    "# SCALE TO PROJECTED \n",
    "\n",
    "overlay_scale_to_proj = proj_pot/overlay_pot\n",
    "dirt_scale_to_proj = dirt_tune*(proj_pot/dirt_pot)\n",
    "\n",
    "if NUE_INTRINSIC: \n",
    "    nue_scale_to_proj = proj_pot/nue_intrinsic_pot\n",
    "\n",
    "# first scale to beamon, then scale to projected\n",
    "beamoff_scale_to_proj = (ext_tune*(beamon_ntrig/beamoff_ntrig)) * (proj_pot/beamon_pot)\n",
    "\n",
    "overlay['pot_scale_proj'] = overlay_scale_to_proj\n",
    "\n",
    "if NUE_INTRINSIC: \n",
    "    nue['pot_scale_proj'] = nue_scale_to_proj\n",
    "    \n",
    "dirt['pot_scale_proj'] = dirt_scale_to_proj\n",
    "ext['pot_scale_proj'] = beamoff_scale_to_proj\n",
    "\n",
    "\n",
    "    \n",
    "    "
   ]
  },
  {
   "cell_type": "code",
   "execution_count": 21,
   "metadata": {},
   "outputs": [],
   "source": [
    "# total weights \n",
    "\n",
    "# combined genie * POT weight * flux weight \n",
    "# ext gets POT weight only \n",
    "\n",
    "flux_weight = 'ppfx_cv'\n",
    "\n",
    "################################################################\n",
    "# totweight scales to BEAMON\n",
    "\n",
    "# tuned\n",
    "overlay['totweight_data'] = overlay['pot_scale']*overlay[flux_weight]*overlay['weightSplineTimesTune']\n",
    "dirt['totweight_data'] = dirt['pot_scale']*dirt[flux_weight]*dirt['weightSplineTimesTune']\n",
    "\n",
    "if NUE_INTRINSIC: \n",
    "    nue['totweight_data'] = nue['pot_scale']*nue[flux_weight]*nue['weightSplineTimesTune']\n",
    "\n",
    "\n",
    "################################################################\n",
    "# totweight_overlay scales to STANDARD OVERLAY\n",
    "\n",
    "# tuned\n",
    "overlay['totweight_overlay'] = overlay[flux_weight]*overlay['weightSplineTimesTune']\n",
    "dirt['totweight_overlay'] = dirt['pot_scale_overlay']*dirt[flux_weight]*dirt['weightSplineTimesTune']\n",
    "\n",
    "if NUE_INTRINSIC:\n",
    "    nue['totweight_overlay'] = nue['pot_scale_overlay']*nue[flux_weight]*nue['weightSplineTimesTune']\n",
    "\n",
    "################################################################\n",
    "# totweight_proj scales to TOTAL PROJECTED BEAM ON \n",
    "\n",
    "overlay['totweight_proj'] = overlay['pot_scale_proj']*overlay[flux_weight]*overlay['weightSplineTimesTune']\n",
    "dirt['totweight_proj'] = dirt['pot_scale_proj']*dirt[flux_weight]*dirt['weightSplineTimesTune']\n",
    "\n",
    "if NUE_INTRINSIC:\n",
    "    nue['totweight_proj'] = nue['pot_scale_proj']*nue[flux_weight]*nue['weightSplineTimesTune']\n",
    "\n",
    "    \n",
    "    \n",
    "# add offline flux weights? \n",
    "#if offlineFluxWeights: \n",
    "#    mc_df = offline_flux_weights(mc_df)"
   ]
  },
  {
   "cell_type": "code",
   "execution_count": 22,
   "metadata": {},
   "outputs": [],
   "source": [
    "#old\n",
    "\n",
    "# combined flux * genie * POT weight \n",
    "# ext gets POT weight only \n",
    "\n",
    "# totweight scales to OVERLAY POT\n",
    "# flux weights will change values for RHC by at most 10%\n",
    "\n",
    "#overlay['totweight_overlay'] = overlay['weightSplineTimesTune']*overlay['ppfx_cv']\n",
    "#dirt['totweight_overlay'] = dirt['pot_scale_overlay']*dirt['weightSplineTimesTune']*dirt['ppfx_cv']\n",
    "\n",
    "# for data\n",
    "#overlay['totweight_data'] = overlay['pot_scale']*overlay['weightSplineTimesTune']*overlay['ppfx_cv']\n",
    "#dirt['totweight_data'] = dirt['pot_scale']*dirt['weightSplineTimesTune']*dirt['ppfx_cv']"
   ]
  },
  {
   "cell_type": "code",
   "execution_count": 23,
   "metadata": {},
   "outputs": [],
   "source": [
    "# cut out RHC runs from FHC dataset \n",
    "if not ISRUN3: \n",
    "    overlay = overlay.query('run<=10000')\n",
    "    dirt = dirt.query('run<=10000')"
   ]
  },
  {
   "cell_type": "code",
   "execution_count": null,
   "metadata": {},
   "outputs": [],
   "source": []
  },
  {
   "cell_type": "markdown",
   "metadata": {},
   "source": [
    "## Categories"
   ]
  },
  {
   "cell_type": "code",
   "execution_count": 24,
   "metadata": {},
   "outputs": [
    {
     "name": "stdout",
     "output_type": "stream",
     "text": [
      "# of nueCC in AV in overlay sample = 5675\n",
      "# of nueCC in AV dropped in overlay = 5675\n"
     ]
    }
   ],
   "source": [
    "if NUE_INTRINSIC: \n",
    "    \n",
    "    # intrinsic sample contains in AV TPC events ONLY, & only CC events (overlay is entire cryo)\n",
    "    in_AV_query = \"-1.55<=true_nu_vtx_x<=254.8 and -116.5<=true_nu_vtx_y<=116.5 and 0<=true_nu_vtx_z<=1036.8\"\n",
    "    \n",
    "    # remove the nue/nuebar CC in overlay\n",
    "    nueCC_query = 'abs(nu_pdg)==12 and ccnc==0 and '+in_AV_query\n",
    "    print(\"# of nueCC in AV in overlay sample = \"+str(len(overlay.query(nueCC_query))))\n",
    "    len1 = len(overlay)\n",
    "    \n",
    "    idx = overlay.query(nueCC_query).index\n",
    "    overlay.drop(idx, inplace=True)\n",
    "    len2 = len(overlay) \n",
    "    print(\"# of nueCC in AV dropped in overlay = \"+str(len1-len2))\n",
    "    \n",
    "    # then add in nue_intrinsic \n",
    "    overlay = pd.concat([overlay,nue], ignore_index=True)\n",
    "\n",
    "    # from here on out everything else should be the same. \n"
   ]
  },
  {
   "cell_type": "code",
   "execution_count": 25,
   "metadata": {},
   "outputs": [],
   "source": [
    "mc = pd.concat([overlay.query('swtrig_pre==1'),dirt.query('swtrig_pre==1')], ignore_index=True)"
   ]
  },
  {
   "cell_type": "code",
   "execution_count": 26,
   "metadata": {},
   "outputs": [],
   "source": [
    "infv = mc.query(in_fv_query+' and nu_purity_from_pfp>0.5')\n",
    "cosmic = mc.query(in_fv_query+' and nu_purity_from_pfp<=0.5')\n",
    "outfv = mc.query(out_fv_query)"
   ]
  },
  {
   "cell_type": "code",
   "execution_count": 27,
   "metadata": {},
   "outputs": [],
   "source": [
    "datasets = [infv, outfv, cosmic, ext]#, data]"
   ]
  },
  {
   "cell_type": "code",
   "execution_count": 28,
   "metadata": {},
   "outputs": [
    {
     "name": "stdout",
     "output_type": "stream",
     "text": [
      "True\n"
     ]
    }
   ],
   "source": [
    "\n",
    "# check that everything is accounted for \n",
    "print(len(mc)==len(infv)+len(cosmic)+len(outfv))\n",
    "\n",
    "if not (len(mc)==len(infv)+len(cosmic)+len(outfv)): \n",
    "    d = len(mc) - (len(infv)+len(cosmic)+len(outfv))\n",
    "    print(d)\n",
    "    \n",
    "     \n",
    "    m = pd.concat([infv, cosmic, outfv])\n",
    "    diff = np.setdiff1d(list(mc.index),list(m.index))\n",
    "\n",
    "    #for i in range(d):\n",
    "        #print(mc.loc[diff[i], 'nu_purity_from_pfp'])\n",
    "        #print(mc.loc[diff[i], 'nslice'])\n"
   ]
  },
  {
   "cell_type": "code",
   "execution_count": 29,
   "metadata": {},
   "outputs": [
    {
     "name": "stdout",
     "output_type": "stream",
     "text": [
      "2852.3237224710724\n",
      "2823.0266700120264\n"
     ]
    }
   ],
   "source": [
    "# how many signal events do we start with in FV -- normalized to overlay ? \n",
    "\n",
    "tot_signal_weighted = np.nansum(mc.query(signal+' and '+in_fv_query)['totweight_overlay'])\n",
    "print(tot_signal_weighted)\n",
    "\n",
    "# how many signal events are not cosmic cont?\n",
    "tot_signal_weighted2 = np.nansum(mc.query('nu_purity_from_pfp>0.5'+' and '+signal+' and '+in_fv_query)['totweight_overlay'])\n",
    "print(tot_signal_weighted2)"
   ]
  },
  {
   "cell_type": "markdown",
   "metadata": {},
   "source": [
    "## Pre-BDT Cuts"
   ]
  },
  {
   "cell_type": "code",
   "execution_count": 30,
   "metadata": {},
   "outputs": [],
   "source": [
    "import selection_functions#_BDT\n",
    "import importlib\n",
    "importlib.reload(selection_functions)#_BDT)\n",
    "from selection_functions import *"
   ]
  },
  {
   "cell_type": "code",
   "execution_count": 31,
   "metadata": {},
   "outputs": [],
   "source": [
    "# updated for modified signal\n",
    "\n",
    "PRE_QUERY = 'nslice==1' # \n",
    "PRE_QUERY += ' and ' + reco_in_fv_query \n",
    "PRE_QUERY += ' and contained_fraction>0.9' \n",
    "PRE_QUERY += ' and shr_energy_tot_cali>0.07'\n",
    "\n",
    "PRE_QUERY += ' and n_tracks_contained>0'\n",
    "PRE_QUERY += ' and trk_energy>0.04' # 40 MeV reco pion/proton cut on leading track - what about non-leading tracks?\n",
    "\n",
    "\n",
    "PRE_QUERY += ' and -0.9<tksh_angle<0.9'\n",
    "\n"
   ]
  },
  {
   "cell_type": "code",
   "execution_count": 32,
   "metadata": {},
   "outputs": [],
   "source": [
    "# new optimized selection by Kaushal \n",
    "\n",
    "BOX_CUTS = PRE_QUERY\n",
    "\n",
    "BOX_CUTS += ' and shr_score<0.125'\n",
    "BOX_CUTS += ' and shrmoliereavg < 8'\n",
    "BOX_CUTS += ' and trkpid<0'\n",
    "\n",
    "BOX_CUTS += ' and n_showers_contained == 1'\n",
    "BOX_CUTS += ' and shr_tkfit_dedx_Y<4'\n",
    "\n",
    "if not ISRUN3: \n",
    "    BOX_CUTS += ' and tksh_distance<5'\n",
    "    # BOX_CUTS += ' and -0.9<tksh_angle<0.8' # kaushal optimized this\n",
    "\n",
    "else: \n",
    "    BOX_CUTS += ' and tksh_distance<4'\n",
    "    # BOX_CUTS += ' and -0.8<tksh_angle<0.8' # kaushal optimized this\n",
    "    "
   ]
  },
  {
   "cell_type": "code",
   "execution_count": 33,
   "metadata": {},
   "outputs": [],
   "source": [
    "# updated for modified signal\n",
    "\n",
    "BDT_PRE_QUERY = 'nslice==1'\n",
    "BDT_PRE_QUERY += ' and ' + reco_in_fv_query\n",
    "BDT_PRE_QUERY +=' and contained_fraction>0.9'\n",
    "BDT_PRE_QUERY += ' and shr_energy_tot_cali>0.07'\n",
    "\n",
    "BDT_PRE_QUERY += ' and n_tracks_contained>0'\n",
    "BDT_PRE_QUERY += ' and n_showers_contained==1'\n",
    "BDT_PRE_QUERY += ' and trk_energy>0.04' # 40 MeV reco pion/proton cut on leading track - what about non-leading tracks?\n",
    "\n",
    "BDT_PRE_QUERY += ' and -0.9<tksh_angle<0.9'\n",
    "\n",
    "BDT_LOOSE_CUTS = BDT_PRE_QUERY\n",
    "BDT_LOOSE_CUTS +=' and shr_score<0.3'\n",
    "BDT_LOOSE_CUTS += ' and trkpid<0.35'\n",
    "BDT_LOOSE_CUTS += ' and shrmoliereavg<15'\n",
    "BDT_LOOSE_CUTS += ' and shr_tkfit_dedx_Y<7'\n",
    "BDT_LOOSE_CUTS += ' and tksh_distance<12'"
   ]
  },
  {
   "cell_type": "code",
   "execution_count": 34,
   "metadata": {},
   "outputs": [],
   "source": [
    "#PRE_QUERY = 'nslice==1 and 10<=reco_nu_vtx_sce_x<=246 and -106<=reco_nu_vtx_sce_y<=106 and 10<=reco_nu_vtx_sce_z<=1026 and contained_fraction>0.9 and n_showers_contained>0 and n_tracks_contained>0'+' and shr_energy_tot_cali>0.07'+' and n_showers_contained==1'\n",
    "#LOOSE_CUTS = 'shr_score<0.3 and trkpid<0.35 and shrmoliereavg<15 and shr_tkfit_dedx_Y<7 and tksh_distance<12'\n",
    "#LOOSE_CUTS = PRE_QUERY+' and '+LOOSE_CUTS"
   ]
  },
  {
   "cell_type": "code",
   "execution_count": 35,
   "metadata": {},
   "outputs": [],
   "source": [
    "ISNUEBAR = False #include nuebar final topology in the signal def"
   ]
  },
  {
   "cell_type": "code",
   "execution_count": 36,
   "metadata": {},
   "outputs": [],
   "source": [
    "#if ISRUN3:\n",
    "#    BOX_CUTS = 'nslice==1 and 10<=reco_nu_vtx_sce_x<=246 and -106<=reco_nu_vtx_sce_y<=106 and 10<=reco_nu_vtx_sce_z<=1026 and contained_fraction>0.9 and n_showers_contained==1 and n_tracks_contained>0 and shr_energy_tot_cali>0.07 and shrmoliereavg < 8.0 and tksh_distance < 4.0 and shr_tkfit_dedx_Y < 4.0 and -0.8<tksh_angle<0.8 and trkpid < 0 and shr_score < 0.125'\n",
    "#else:\n",
    "#    BOX_CUTS = 'nslice==1 and 10<=reco_nu_vtx_sce_x<=246 and -106<=reco_nu_vtx_sce_y<=106 and 10<=reco_nu_vtx_sce_z<=1026 and contained_fraction>0.9 and n_showers_contained==1 and n_tracks_contained>0 and shr_energy_tot_cali>0.07 and shrmoliereavg < 8.0 and tksh_distance < 5.0 and shr_tkfit_dedx_Y < 4.0 and -0.9<tksh_angle<0.8 and trkpid < 0 and shr_score < 0.125'"
   ]
  },
  {
   "cell_type": "markdown",
   "metadata": {},
   "source": [
    "## BDT Analysis"
   ]
  },
  {
   "cell_type": "code",
   "execution_count": 37,
   "metadata": {},
   "outputs": [],
   "source": [
    "ISDATA = False\n",
    "split = 0.5\n"
   ]
  },
  {
   "cell_type": "code",
   "execution_count": 38,
   "metadata": {},
   "outputs": [],
   "source": [
    "# pre-determined boosting round numbers\n",
    "\n",
    "if ISRUN3:\n",
    "    if ISNUEBAR:\n",
    "        p_rounds = 200\n",
    "        lc_rounds = 300\n",
    "    else:\n",
    "        p_rounds = 300\n",
    "        lc_rounds = 200\n",
    "else:\n",
    "    p_rounds = 300\n",
    "    lc_rounds = 200"
   ]
  },
  {
   "cell_type": "code",
   "execution_count": 39,
   "metadata": {},
   "outputs": [
    {
     "data": {
      "text/plain": [
       "77601"
      ]
     },
     "execution_count": 39,
     "metadata": {},
     "output_type": "execute_result"
    }
   ],
   "source": [
    "len(datasets[0])"
   ]
  },
  {
   "cell_type": "code",
   "execution_count": 40,
   "metadata": {},
   "outputs": [
    {
     "name": "stderr",
     "output_type": "stream",
     "text": [
      "/uboone/app/users/kmiller/searchingfornues_v33/uBNuMI_CC1eNp/selection_functions.py:1603: FutureWarning: Sorting because non-concatenation axis is not aligned. A future version\n",
      "of pandas will change to not sort by default.\n",
      "\n",
      "To accept the future behavior, pass 'sort=False'.\n",
      "\n",
      "To retain the current behavior and silence the warning, pass 'sort=True'.\n",
      "\n",
      "  df_pre = pd.concat([mc_bdt, ext_bdt], ignore_index=True)\n"
     ]
    },
    {
     "name": "stdout",
     "output_type": "stream",
     "text": [
      "scale weight = 0.38579905461128433\n"
     ]
    },
    {
     "name": "stderr",
     "output_type": "stream",
     "text": [
      "/uboone/app/users/kmiller/miniconda/lib/python3.7/site-packages/xgboost/core.py:587: FutureWarning: Series.base is deprecated and will be removed in a future version\n",
      "  if getattr(data, 'base', None) is not None and \\\n",
      "/uboone/app/users/kmiller/miniconda/lib/python3.7/site-packages/xgboost/core.py:588: FutureWarning: Series.base is deprecated and will be removed in a future version\n",
      "  data.base is not None and isinstance(data, np.ndarray) \\\n"
     ]
    }
   ],
   "source": [
    "#bdt_p = main_BDT(mc, ext, PRE_QUERY, p_rounds, test_size=0.5, ISDATA=ISDATA, ISNUEBAR=ISNUEBAR)\n",
    "# toggle tksh_angle on/off here\n",
    "bdt_lc = main_BDT(datasets, BDT_LOOSE_CUTS, lc_rounds, test_size=split, ISDATA=False, ISNUEBAR=ISNUEBAR)"
   ]
  },
  {
   "cell_type": "code",
   "execution_count": 41,
   "metadata": {},
   "outputs": [],
   "source": [
    "lc_test_results = bdt_lc[0]\n",
    "#p_test_results = bdt_p[0]\n",
    "\n",
    "bdt_model = bdt_lc[1]\n"
   ]
  },
  {
   "cell_type": "code",
   "execution_count": 64,
   "metadata": {},
   "outputs": [],
   "source": [
    "# save model \n",
    "bdt_model.save_model('BDT_models/bdt_FHC_jan2022_Subset.model')"
   ]
  },
  {
   "cell_type": "code",
   "execution_count": 43,
   "metadata": {},
   "outputs": [
    {
     "data": {
      "image/png": "[encoded data removed]",
      "text/plain": [
       "<Figure size 432x288 with 1 Axes>"
      ]
     },
     "metadata": {
      "needs_background": "light"
     },
     "output_type": "display_data"
    }
   ],
   "source": [
    "bdt_svb_plot(lc_test_results)\n",
    "#bdt_svb_plot(p_test_results, is_log=True)"
   ]
  },
  {
   "cell_type": "code",
   "execution_count": 44,
   "metadata": {},
   "outputs": [
    {
     "name": "stderr",
     "output_type": "stream",
     "text": [
      "/uboone/app/users/kmiller/searchingfornues_v33/uBNuMI_CC1eNp/selection_functions.py:300: RuntimeWarning: invalid value encountered in double_scalars\n",
      "  mc_percent_error = [y/z for y, z in zip(mc_total_error, n)]\n"
     ]
    },
    {
     "name": "stdout",
     "output_type": "stream",
     "text": [
      "total selected = 125.27833955130534\n"
     ]
    },
    {
     "data": {
      "image/png": "[encoded data removed]",
      "text/plain": [
       "<Figure size 576x360 with 1 Axes>"
      ]
     },
     "metadata": {
      "needs_background": "light"
     },
     "output_type": "display_data"
    },
    {
     "name": "stdout",
     "output_type": "stream",
     "text": [
      "total selected = 47.610909926331516\n"
     ]
    },
    {
     "data": {
      "image/png": "[encoded data removed]",
      "text/plain": [
       "<Figure size 576x360 with 1 Axes>"
      ]
     },
     "metadata": {
      "needs_background": "light"
     },
     "output_type": "display_data"
    }
   ],
   "source": [
    "# loose cuts bdt results split into infv, outfv, cosmic, and ext events\n",
    "# NOTE: this will be half of the full dataset\n",
    "datasets_bdt = split_events(lc_test_results)\n",
    "\n",
    "x = plot_mc('BDT_score', 30, 0, 1, '', datasets_bdt, ISRUN3, norm='data', x_label=\"BDT Score\")\n",
    "x  = plot_mc('nu_e', 20, 0, 5, 'BDT_score > 0.5', datasets_bdt, ISRUN3, norm='data', x_label=\"\")\n",
    "\n",
    "#plot_mc('nu_e', 20, 0, 5, 'BDT_score > 0.5', datasets_bdt, 'BDT', True, False, ISRUN3, 'totweight_overlay', ylim=60)\n",
    "#plot_mc('nu_e', 20, 0, 5, 'BDT_score > 0.5', datasets_bdt, 'BDT', False, False, ISRUN3, 'totweight_overlay', ylim=140)"
   ]
  },
  {
   "cell_type": "code",
   "execution_count": 45,
   "metadata": {},
   "outputs": [],
   "source": [
    "# note test sample is equivalent regardless of query \n",
    "# as query step happens after the initial split of testing and training data\n",
    "full_test_df = bdt_lc[3]"
   ]
  },
  {
   "cell_type": "code",
   "execution_count": 46,
   "metadata": {},
   "outputs": [
    {
     "name": "stdout",
     "output_type": "stream",
     "text": [
      "Double check! Overlay POT = 2.33652e+21\n",
      "Double check! Intrinsic POT = 2.37838e+22\n"
     ]
    },
    {
     "name": "stderr",
     "output_type": "stream",
     "text": [
      "/uboone/app/users/kmiller/searchingfornues_v33/uBNuMI_CC1eNp/selection_functions.py:1947: SettingWithCopyWarning: \n",
      "A value is trying to be set on a copy of a slice from a DataFrame.\n",
      "Try using .loc[row_indexer,col_indexer] = value instead\n",
      "\n",
      "See the caveats in the documentation: http://pandas.pydata.org/pandas-docs/stable/user_guide/indexing.html#returning-a-view-versus-a-copy\n",
      "  df_signal['pot_scale'] = pot_scale\n",
      "/uboone/app/users/kmiller/searchingfornues_v33/uBNuMI_CC1eNp/selection_functions.py:1948: SettingWithCopyWarning: \n",
      "A value is trying to be set on a copy of a slice from a DataFrame.\n",
      "Try using .loc[row_indexer,col_indexer] = value instead\n",
      "\n",
      "See the caveats in the documentation: http://pandas.pydata.org/pandas-docs/stable/user_guide/indexing.html#returning-a-view-versus-a-copy\n",
      "  df_signal['totweight_overlay'] = df_signal['ppfx_cv']*df_signal['weightSplineTimesTune']*df_signal['pot_scale']\n"
     ]
    },
    {
     "data": {
      "image/png": "[encoded data removed]",
      "text/plain": [
       "<Figure size 432x288 with 1 Axes>"
      ]
     },
     "metadata": {
      "needs_background": "light"
     },
     "output_type": "display_data"
    }
   ],
   "source": [
    "bdt_pe_plot(lc_test_results, np.arange(0, 0.7, 0.025), full_test_df, ISRUN3, split=split, ISDATA=ISDATA, save=False)\n",
    "#bdt_pe_plot(p_test_results, np.arange(0, 0.7, 0.025), full_test_df, ISDATA)"
   ]
  },
  {
   "cell_type": "code",
   "execution_count": 47,
   "metadata": {},
   "outputs": [
    {
     "name": "stdout",
     "output_type": "stream",
     "text": [
      "Double check! Overlay POT = 2.33652e+21\n",
      "Double check! Intrinsic POT = 2.37838e+22\n"
     ]
    }
   ],
   "source": [
    "xvals = np.arange(0, 0.8, 0.025)\n",
    "\n",
    "\n",
    "#gen_num = sum(test_df.query('is_signal==1 or is_cont_signal==1')['totweight_overlay'])\n",
    "gen_num = sum(generated_signal(ISRUN3, 'nu_e', 1, 0, 10))*split\n",
    "eff_box = sum(full_test_df.query(BOX_CUTS+' and is_signal==1')['totweight_overlay'])/gen_num * 100\n",
    "\n",
    "tot_sel = np.nansum(full_test_df.query(BOX_CUTS)['weight']) # EXT does not have totweight_overlay \n",
    "pur_box = sum(full_test_df.query(BOX_CUTS+' and is_signal==1')['totweight_overlay']) / tot_sel * 100\n",
    "\n",
    "results_box = [pur_box, eff_box]\n",
    "\n",
    "# with stat errors on the linear performance \n",
    "e = eff_box/100\n",
    "\n",
    "eff_err = math.sqrt( (e*(1-e)) / gen_num ) * 100\n",
    "pur_err = math.sqrt(sum(full_test_df.query(BOX_CUTS+' and is_signal==1')['totweight_overlay'])) / tot_sel * 100\n",
    "\n",
    "results_box_err = [pur_err, eff_err]"
   ]
  },
  {
   "cell_type": "code",
   "execution_count": 48,
   "metadata": {},
   "outputs": [
    {
     "name": "stdout",
     "output_type": "stream",
     "text": [
      "Double check! Overlay POT = 2.33652e+21\n",
      "Double check! Intrinsic POT = 2.37838e+22\n"
     ]
    }
   ],
   "source": [
    "lc_bdt_pe = bdt_pe(bdt_lc[0], xvals, generated_signal(ISRUN3, 'nu_e', 1, 0, 10), full_test_df, split=split)\n"
   ]
  },
  {
   "cell_type": "code",
   "execution_count": 49,
   "metadata": {},
   "outputs": [
    {
     "data": {
      "image/png": "[encoded data removed]",
      "text/plain": [
       "<Figure size 504x360 with 1 Axes>"
      ]
     },
     "metadata": {
      "needs_background": "light"
     },
     "output_type": "display_data"
    }
   ],
   "source": [
    "bdt_box_plot(lc_bdt_pe, xvals, ISRUN3, results_box=results_box, results_box_err=results_box_err, save=False, \n",
    "            save_label=\"FHC\")\n",
    "#bdt_box_plot(lc_bdt_pe, results_box, xvals, second_results_bdt=p_bdt_pe)\n"
   ]
  },
  {
   "cell_type": "markdown",
   "metadata": {},
   "source": [
    "## Cross-Validation"
   ]
  },
  {
   "cell_type": "code",
   "execution_count": 50,
   "metadata": {},
   "outputs": [],
   "source": [
    "from sklearn.model_selection import RepeatedStratifiedKFold"
   ]
  },
  {
   "cell_type": "code",
   "execution_count": 51,
   "metadata": {},
   "outputs": [],
   "source": [
    "ISNUEBAR = False\n",
    "ISDATA = False"
   ]
  },
  {
   "cell_type": "code",
   "execution_count": 52,
   "metadata": {},
   "outputs": [],
   "source": [
    "#if ISDATA:\n",
    "#    mc_weight = 'totweight_data'\n",
    "#else:\n",
    "\n",
    "mc_weight = 'totweight_overlay'"
   ]
  },
  {
   "cell_type": "code",
   "execution_count": 53,
   "metadata": {},
   "outputs": [],
   "source": [
    "splits = 2\n",
    "repeats = 20\n",
    "cv = RepeatedStratifiedKFold(n_splits=splits, n_repeats=repeats, random_state=36851234)\n",
    "\n",
    "bdt_score_arr = np.arange(0, 0.8, 0.025)"
   ]
  },
  {
   "cell_type": "code",
   "execution_count": 54,
   "metadata": {},
   "outputs": [],
   "source": [
    "mc['weight'] = mc['totweight_overlay']\n",
    "ext['weight'] = ext['pot_scale_overlay']"
   ]
  },
  {
   "cell_type": "code",
   "execution_count": 55,
   "metadata": {},
   "outputs": [
    {
     "name": "stderr",
     "output_type": "stream",
     "text": [
      "/uboone/app/users/kmiller/miniconda/lib/python3.7/site-packages/ipykernel_launcher.py:1: FutureWarning: Sorting because non-concatenation axis is not aligned. A future version\n",
      "of pandas will change to not sort by default.\n",
      "\n",
      "To accept the future behavior, pass 'sort=False'.\n",
      "\n",
      "To retain the current behavior and silence the warning, pass 'sort=True'.\n",
      "\n",
      "  \"\"\"Entry point for launching an IPython kernel.\n"
     ]
    }
   ],
   "source": [
    "df_cv = pd.concat([mc, ext], ignore_index=True)"
   ]
  },
  {
   "cell_type": "code",
   "execution_count": 56,
   "metadata": {},
   "outputs": [],
   "source": [
    "#cosmic cont. in FV signal definition for convenience in efficiency calculations later\n",
    "# updated for modified signal\n",
    "df_cv['is_cont_signal'] = np.where(((df_cv.nu_pdg == 12) & (df_cv.ccnc == 0) & (df_cv.nproton > 0) & (df_cv.npion == 0) & (df_cv.npi0 == 0)\n",
    "                               & (df_cv.nu_purity_from_pfp <= 0.5)\n",
    "                               & (10 <= df_cv.true_nu_vtx_x) & (df_cv.true_nu_vtx_x <= 246)\n",
    "                                & (-106 <= df_cv.true_nu_vtx_y) & (df_cv.true_nu_vtx_y <= 106)\n",
    "                               & (10 <= df_cv.true_nu_vtx_z) & (df_cv.true_nu_vtx_z <= 1026)\n",
    "                                    & (df_cv.opening_angle > -0.9) & (df_cv.opening_angle < 0.9)), 1, 0)\n",
    "\n",
    "#true signal definition\n",
    "df_cv['is_signal'] = np.where(((df_cv.nu_pdg == 12) & (df_cv.ccnc == 0) & (df_cv.nproton > 0) & (df_cv.npion == 0) & (df_cv.npi0 == 0)\n",
    "                               & (df_cv.nu_purity_from_pfp > 0.5)\n",
    "                               & (10 <= df_cv.true_nu_vtx_x) & (df_cv.true_nu_vtx_x <= 246)\n",
    "                                & (-106 <= df_cv.true_nu_vtx_y) & (df_cv.true_nu_vtx_y <= 106)\n",
    "                               & (10 <= df_cv.true_nu_vtx_z) & (df_cv.true_nu_vtx_z <= 1026)\n",
    "                                & (df_cv.opening_angle > -0.9) & (df_cv.opening_angle < 0.9)), 1, 0)\n",
    "\n",
    "if ISNUEBAR:\n",
    "    #bdt signal definition (doesn't distinguish between nue and nuebar)\n",
    "    df_cv['is_nuebar_signal'] = np.where((((df_cv.nu_pdg == 12) | (df_cv.nu_pdg == -12)) & (df_cv.ccnc == 0) & (df_cv.nproton > 0) & (df_cv.npion == 0) & (df_cv.npi0 == 0)\n",
    "                                   & (df_cv.nu_purity_from_pfp > 0.5)\n",
    "                                   & (10 <= df_cv.true_nu_vtx_x) & (df_cv.true_nu_vtx_x <= 246)\n",
    "                                    & (-106 <= df_cv.true_nu_vtx_y) & (df_cv.true_nu_vtx_y <= 106)\n",
    "                                   & (10 <= df_cv.true_nu_vtx_z) & (df_cv.true_nu_vtx_z <= 1026)\n",
    "                                          & (df_cv.opening_angle > -0.9) & (df_cv.opening_angle < 0.9)), 1, 0)"
   ]
  },
  {
   "cell_type": "code",
   "execution_count": 57,
   "metadata": {},
   "outputs": [],
   "source": [
    "# change query depending on pre-BDT cuts\n",
    "q = BDT_LOOSE_CUTS\n",
    "\n",
    "scale_weight = len(df_cv.query(q + ' and is_signal == 0')) / len(df_cv.query(q + ' and is_signal == 1'))"
   ]
  },
  {
   "cell_type": "code",
   "execution_count": 58,
   "metadata": {},
   "outputs": [
    {
     "data": {
      "text/plain": [
       "0.406163894274926"
      ]
     },
     "execution_count": 58,
     "metadata": {},
     "output_type": "execute_result"
    }
   ],
   "source": [
    "scale_weight"
   ]
  },
  {
   "cell_type": "code",
   "execution_count": 59,
   "metadata": {},
   "outputs": [],
   "source": [
    "# updated for modified signal\n",
    "varlist = [\n",
    "    \"shr_score\", \"shrmoliereavg\", \"trkpid\",\n",
    "    \"n_showers_contained\", \"shr_tkfit_dedx_Y\", \"tksh_distance\", #\"tksh_angle\", \n",
    "    \"subcluster\", \"trkshrhitdist2\"]\n",
    "    \n",
    "#model params\n",
    "params = {\n",
    "    'eta': 0.02,\n",
    "    'tree_method': 'exact',\n",
    "    'max_depth': 3,\n",
    "    'subsample': 0.8,\n",
    "    'colsample_bytree': 1,\n",
    "    'silent': 1,\n",
    "    'min_child_weight': 1,\n",
    "    'seed': 2002,\n",
    "    'gamma': 1,\n",
    "    'max_delta_step': 0,\n",
    "    'scale_pos_weight': scale_weight,\n",
    "    'eval_metric': ['error', 'auc', 'aucpr']\n",
    "}"
   ]
  },
  {
   "cell_type": "code",
   "execution_count": 60,
   "metadata": {},
   "outputs": [
    {
     "name": "stderr",
     "output_type": "stream",
     "text": [
      "/uboone/app/users/kmiller/miniconda/lib/python3.7/site-packages/xgboost/core.py:587: FutureWarning: Series.base is deprecated and will be removed in a future version\n",
      "  if getattr(data, 'base', None) is not None and \\\n",
      "/uboone/app/users/kmiller/miniconda/lib/python3.7/site-packages/xgboost/core.py:588: FutureWarning: Series.base is deprecated and will be removed in a future version\n",
      "  data.base is not None and isinstance(data, np.ndarray) \\\n"
     ]
    },
    {
     "name": "stdout",
     "output_type": "stream",
     "text": [
      "Double check! Overlay POT = 2.33652e+21\n",
      "Double check! Intrinsic POT = 2.37838e+22\n"
     ]
    },
    {
     "name": "stderr",
     "output_type": "stream",
     "text": [
      "/uboone/app/users/kmiller/searchingfornues_v33/uBNuMI_CC1eNp/selection_functions.py:1947: SettingWithCopyWarning: \n",
      "A value is trying to be set on a copy of a slice from a DataFrame.\n",
      "Try using .loc[row_indexer,col_indexer] = value instead\n",
      "\n",
      "See the caveats in the documentation: http://pandas.pydata.org/pandas-docs/stable/user_guide/indexing.html#returning-a-view-versus-a-copy\n",
      "  df_signal['pot_scale'] = pot_scale\n",
      "/uboone/app/users/kmiller/searchingfornues_v33/uBNuMI_CC1eNp/selection_functions.py:1948: SettingWithCopyWarning: \n",
      "A value is trying to be set on a copy of a slice from a DataFrame.\n",
      "Try using .loc[row_indexer,col_indexer] = value instead\n",
      "\n",
      "See the caveats in the documentation: http://pandas.pydata.org/pandas-docs/stable/user_guide/indexing.html#returning-a-view-versus-a-copy\n",
      "  df_signal['totweight_overlay'] = df_signal['ppfx_cv']*df_signal['weightSplineTimesTune']*df_signal['pot_scale']\n"
     ]
    },
    {
     "name": "stdout",
     "output_type": "stream",
     "text": [
      "Double check! Overlay POT = 2.33652e+21\n",
      "Double check! Intrinsic POT = 2.37838e+22\n",
      "Double check! Overlay POT = 2.33652e+21\n",
      "Double check! Intrinsic POT = 2.37838e+22\n",
      "Double check! Overlay POT = 2.33652e+21\n",
      "Double check! Intrinsic POT = 2.37838e+22\n"
     ]
    },
    {
     "name": "stderr",
     "output_type": "stream",
     "text": [
      "/uboone/app/users/kmiller/miniconda/lib/python3.7/site-packages/xgboost/core.py:587: FutureWarning: Series.base is deprecated and will be removed in a future version\n",
      "  if getattr(data, 'base', None) is not None and \\\n",
      "/uboone/app/users/kmiller/miniconda/lib/python3.7/site-packages/xgboost/core.py:588: FutureWarning: Series.base is deprecated and will be removed in a future version\n",
      "  data.base is not None and isinstance(data, np.ndarray) \\\n"
     ]
    },
    {
     "name": "stdout",
     "output_type": "stream",
     "text": [
      "Double check! Overlay POT = 2.33652e+21\n",
      "Double check! Intrinsic POT = 2.37838e+22\n"
     ]
    },
    {
     "name": "stderr",
     "output_type": "stream",
     "text": [
      "/uboone/app/users/kmiller/searchingfornues_v33/uBNuMI_CC1eNp/selection_functions.py:1947: SettingWithCopyWarning: \n",
      "A value is trying to be set on a copy of a slice from a DataFrame.\n",
      "Try using .loc[row_indexer,col_indexer] = value instead\n",
      "\n",
      "See the caveats in the documentation: http://pandas.pydata.org/pandas-docs/stable/user_guide/indexing.html#returning-a-view-versus-a-copy\n",
      "  df_signal['pot_scale'] = pot_scale\n",
      "/uboone/app/users/kmiller/searchingfornues_v33/uBNuMI_CC1eNp/selection_functions.py:1948: SettingWithCopyWarning: \n",
      "A value is trying to be set on a copy of a slice from a DataFrame.\n",
      "Try using .loc[row_indexer,col_indexer] = value instead\n",
      "\n",
      "See the caveats in the documentation: http://pandas.pydata.org/pandas-docs/stable/user_guide/indexing.html#returning-a-view-versus-a-copy\n",
      "  df_signal['totweight_overlay'] = df_signal['ppfx_cv']*df_signal['weightSplineTimesTune']*df_signal['pot_scale']\n"
     ]
    },
    {
     "name": "stdout",
     "output_type": "stream",
     "text": [
      "Double check! Overlay POT = 2.33652e+21\n",
      "Double check! Intrinsic POT = 2.37838e+22\n",
      "Double check! Overlay POT = 2.33652e+21\n",
      "Double check! Intrinsic POT = 2.37838e+22\n",
      "Double check! Overlay POT = 2.33652e+21\n",
      "Double check! Intrinsic POT = 2.37838e+22\n"
     ]
    },
    {
     "name": "stderr",
     "output_type": "stream",
     "text": [
      "/uboone/app/users/kmiller/miniconda/lib/python3.7/site-packages/xgboost/core.py:587: FutureWarning: Series.base is deprecated and will be removed in a future version\n",
      "  if getattr(data, 'base', None) is not None and \\\n",
      "/uboone/app/users/kmiller/miniconda/lib/python3.7/site-packages/xgboost/core.py:588: FutureWarning: Series.base is deprecated and will be removed in a future version\n",
      "  data.base is not None and isinstance(data, np.ndarray) \\\n"
     ]
    },
    {
     "name": "stdout",
     "output_type": "stream",
     "text": [
      "Double check! Overlay POT = 2.33652e+21\n",
      "Double check! Intrinsic POT = 2.37838e+22\n"
     ]
    },
    {
     "name": "stderr",
     "output_type": "stream",
     "text": [
      "/uboone/app/users/kmiller/searchingfornues_v33/uBNuMI_CC1eNp/selection_functions.py:1947: SettingWithCopyWarning: \n",
      "A value is trying to be set on a copy of a slice from a DataFrame.\n",
      "Try using .loc[row_indexer,col_indexer] = value instead\n",
      "\n",
      "See the caveats in the documentation: http://pandas.pydata.org/pandas-docs/stable/user_guide/indexing.html#returning-a-view-versus-a-copy\n",
      "  df_signal['pot_scale'] = pot_scale\n",
      "/uboone/app/users/kmiller/searchingfornues_v33/uBNuMI_CC1eNp/selection_functions.py:1948: SettingWithCopyWarning: \n",
      "A value is trying to be set on a copy of a slice from a DataFrame.\n",
      "Try using .loc[row_indexer,col_indexer] = value instead\n",
      "\n",
      "See the caveats in the documentation: http://pandas.pydata.org/pandas-docs/stable/user_guide/indexing.html#returning-a-view-versus-a-copy\n",
      "  df_signal['totweight_overlay'] = df_signal['ppfx_cv']*df_signal['weightSplineTimesTune']*df_signal['pot_scale']\n"
     ]
    },
    {
     "name": "stdout",
     "output_type": "stream",
     "text": [
      "Double check! Overlay POT = 2.33652e+21\n",
      "Double check! Intrinsic POT = 2.37838e+22\n",
      "Double check! Overlay POT = 2.33652e+21\n",
      "Double check! Intrinsic POT = 2.37838e+22\n",
      "Double check! Overlay POT = 2.33652e+21\n",
      "Double check! Intrinsic POT = 2.37838e+22\n"
     ]
    },
    {
     "name": "stderr",
     "output_type": "stream",
     "text": [
      "/uboone/app/users/kmiller/miniconda/lib/python3.7/site-packages/xgboost/core.py:587: FutureWarning: Series.base is deprecated and will be removed in a future version\n",
      "  if getattr(data, 'base', None) is not None and \\\n",
      "/uboone/app/users/kmiller/miniconda/lib/python3.7/site-packages/xgboost/core.py:588: FutureWarning: Series.base is deprecated and will be removed in a future version\n",
      "  data.base is not None and isinstance(data, np.ndarray) \\\n"
     ]
    },
    {
     "name": "stdout",
     "output_type": "stream",
     "text": [
      "Double check! Overlay POT = 2.33652e+21\n",
      "Double check! Intrinsic POT = 2.37838e+22\n"
     ]
    },
    {
     "name": "stderr",
     "output_type": "stream",
     "text": [
      "/uboone/app/users/kmiller/searchingfornues_v33/uBNuMI_CC1eNp/selection_functions.py:1947: SettingWithCopyWarning: \n",
      "A value is trying to be set on a copy of a slice from a DataFrame.\n",
      "Try using .loc[row_indexer,col_indexer] = value instead\n",
      "\n",
      "See the caveats in the documentation: http://pandas.pydata.org/pandas-docs/stable/user_guide/indexing.html#returning-a-view-versus-a-copy\n",
      "  df_signal['pot_scale'] = pot_scale\n",
      "/uboone/app/users/kmiller/searchingfornues_v33/uBNuMI_CC1eNp/selection_functions.py:1948: SettingWithCopyWarning: \n",
      "A value is trying to be set on a copy of a slice from a DataFrame.\n",
      "Try using .loc[row_indexer,col_indexer] = value instead\n",
      "\n",
      "See the caveats in the documentation: http://pandas.pydata.org/pandas-docs/stable/user_guide/indexing.html#returning-a-view-versus-a-copy\n",
      "  df_signal['totweight_overlay'] = df_signal['ppfx_cv']*df_signal['weightSplineTimesTune']*df_signal['pot_scale']\n"
     ]
    },
    {
     "name": "stdout",
     "output_type": "stream",
     "text": [
      "Double check! Overlay POT = 2.33652e+21\n",
      "Double check! Intrinsic POT = 2.37838e+22\n",
      "Double check! Overlay POT = 2.33652e+21\n",
      "Double check! Intrinsic POT = 2.37838e+22\n",
      "Double check! Overlay POT = 2.33652e+21\n",
      "Double check! Intrinsic POT = 2.37838e+22\n"
     ]
    },
    {
     "name": "stderr",
     "output_type": "stream",
     "text": [
      "/uboone/app/users/kmiller/miniconda/lib/python3.7/site-packages/xgboost/core.py:587: FutureWarning: Series.base is deprecated and will be removed in a future version\n",
      "  if getattr(data, 'base', None) is not None and \\\n",
      "/uboone/app/users/kmiller/miniconda/lib/python3.7/site-packages/xgboost/core.py:588: FutureWarning: Series.base is deprecated and will be removed in a future version\n",
      "  data.base is not None and isinstance(data, np.ndarray) \\\n"
     ]
    },
    {
     "name": "stdout",
     "output_type": "stream",
     "text": [
      "Double check! Overlay POT = 2.33652e+21\n",
      "Double check! Intrinsic POT = 2.37838e+22\n"
     ]
    },
    {
     "name": "stderr",
     "output_type": "stream",
     "text": [
      "/uboone/app/users/kmiller/searchingfornues_v33/uBNuMI_CC1eNp/selection_functions.py:1947: SettingWithCopyWarning: \n",
      "A value is trying to be set on a copy of a slice from a DataFrame.\n",
      "Try using .loc[row_indexer,col_indexer] = value instead\n",
      "\n",
      "See the caveats in the documentation: http://pandas.pydata.org/pandas-docs/stable/user_guide/indexing.html#returning-a-view-versus-a-copy\n",
      "  df_signal['pot_scale'] = pot_scale\n",
      "/uboone/app/users/kmiller/searchingfornues_v33/uBNuMI_CC1eNp/selection_functions.py:1948: SettingWithCopyWarning: \n",
      "A value is trying to be set on a copy of a slice from a DataFrame.\n",
      "Try using .loc[row_indexer,col_indexer] = value instead\n",
      "\n",
      "See the caveats in the documentation: http://pandas.pydata.org/pandas-docs/stable/user_guide/indexing.html#returning-a-view-versus-a-copy\n",
      "  df_signal['totweight_overlay'] = df_signal['ppfx_cv']*df_signal['weightSplineTimesTune']*df_signal['pot_scale']\n"
     ]
    },
    {
     "name": "stdout",
     "output_type": "stream",
     "text": [
      "Double check! Overlay POT = 2.33652e+21\n",
      "Double check! Intrinsic POT = 2.37838e+22\n",
      "Double check! Overlay POT = 2.33652e+21\n",
      "Double check! Intrinsic POT = 2.37838e+22\n",
      "Double check! Overlay POT = 2.33652e+21\n",
      "Double check! Intrinsic POT = 2.37838e+22\n"
     ]
    },
    {
     "name": "stderr",
     "output_type": "stream",
     "text": [
      "/uboone/app/users/kmiller/miniconda/lib/python3.7/site-packages/xgboost/core.py:587: FutureWarning: Series.base is deprecated and will be removed in a future version\n",
      "  if getattr(data, 'base', None) is not None and \\\n",
      "/uboone/app/users/kmiller/miniconda/lib/python3.7/site-packages/xgboost/core.py:588: FutureWarning: Series.base is deprecated and will be removed in a future version\n",
      "  data.base is not None and isinstance(data, np.ndarray) \\\n"
     ]
    },
    {
     "name": "stdout",
     "output_type": "stream",
     "text": [
      "Double check! Overlay POT = 2.33652e+21\n",
      "Double check! Intrinsic POT = 2.37838e+22\n"
     ]
    },
    {
     "name": "stderr",
     "output_type": "stream",
     "text": [
      "/uboone/app/users/kmiller/searchingfornues_v33/uBNuMI_CC1eNp/selection_functions.py:1947: SettingWithCopyWarning: \n",
      "A value is trying to be set on a copy of a slice from a DataFrame.\n",
      "Try using .loc[row_indexer,col_indexer] = value instead\n",
      "\n",
      "See the caveats in the documentation: http://pandas.pydata.org/pandas-docs/stable/user_guide/indexing.html#returning-a-view-versus-a-copy\n",
      "  df_signal['pot_scale'] = pot_scale\n",
      "/uboone/app/users/kmiller/searchingfornues_v33/uBNuMI_CC1eNp/selection_functions.py:1948: SettingWithCopyWarning: \n",
      "A value is trying to be set on a copy of a slice from a DataFrame.\n",
      "Try using .loc[row_indexer,col_indexer] = value instead\n",
      "\n",
      "See the caveats in the documentation: http://pandas.pydata.org/pandas-docs/stable/user_guide/indexing.html#returning-a-view-versus-a-copy\n",
      "  df_signal['totweight_overlay'] = df_signal['ppfx_cv']*df_signal['weightSplineTimesTune']*df_signal['pot_scale']\n"
     ]
    },
    {
     "name": "stdout",
     "output_type": "stream",
     "text": [
      "Double check! Overlay POT = 2.33652e+21\n",
      "Double check! Intrinsic POT = 2.37838e+22\n",
      "Double check! Overlay POT = 2.33652e+21\n",
      "Double check! Intrinsic POT = 2.37838e+22\n",
      "Double check! Overlay POT = 2.33652e+21\n",
      "Double check! Intrinsic POT = 2.37838e+22\n"
     ]
    },
    {
     "name": "stderr",
     "output_type": "stream",
     "text": [
      "/uboone/app/users/kmiller/miniconda/lib/python3.7/site-packages/xgboost/core.py:587: FutureWarning: Series.base is deprecated and will be removed in a future version\n",
      "  if getattr(data, 'base', None) is not None and \\\n",
      "/uboone/app/users/kmiller/miniconda/lib/python3.7/site-packages/xgboost/core.py:588: FutureWarning: Series.base is deprecated and will be removed in a future version\n",
      "  data.base is not None and isinstance(data, np.ndarray) \\\n"
     ]
    },
    {
     "name": "stdout",
     "output_type": "stream",
     "text": [
      "Double check! Overlay POT = 2.33652e+21\n",
      "Double check! Intrinsic POT = 2.37838e+22\n"
     ]
    },
    {
     "name": "stderr",
     "output_type": "stream",
     "text": [
      "/uboone/app/users/kmiller/searchingfornues_v33/uBNuMI_CC1eNp/selection_functions.py:1947: SettingWithCopyWarning: \n",
      "A value is trying to be set on a copy of a slice from a DataFrame.\n",
      "Try using .loc[row_indexer,col_indexer] = value instead\n",
      "\n",
      "See the caveats in the documentation: http://pandas.pydata.org/pandas-docs/stable/user_guide/indexing.html#returning-a-view-versus-a-copy\n",
      "  df_signal['pot_scale'] = pot_scale\n",
      "/uboone/app/users/kmiller/searchingfornues_v33/uBNuMI_CC1eNp/selection_functions.py:1948: SettingWithCopyWarning: \n",
      "A value is trying to be set on a copy of a slice from a DataFrame.\n",
      "Try using .loc[row_indexer,col_indexer] = value instead\n",
      "\n",
      "See the caveats in the documentation: http://pandas.pydata.org/pandas-docs/stable/user_guide/indexing.html#returning-a-view-versus-a-copy\n",
      "  df_signal['totweight_overlay'] = df_signal['ppfx_cv']*df_signal['weightSplineTimesTune']*df_signal['pot_scale']\n"
     ]
    },
    {
     "name": "stdout",
     "output_type": "stream",
     "text": [
      "Double check! Overlay POT = 2.33652e+21\n",
      "Double check! Intrinsic POT = 2.37838e+22\n",
      "Double check! Overlay POT = 2.33652e+21\n",
      "Double check! Intrinsic POT = 2.37838e+22\n",
      "Double check! Overlay POT = 2.33652e+21\n",
      "Double check! Intrinsic POT = 2.37838e+22\n"
     ]
    },
    {
     "name": "stderr",
     "output_type": "stream",
     "text": [
      "/uboone/app/users/kmiller/miniconda/lib/python3.7/site-packages/xgboost/core.py:587: FutureWarning: Series.base is deprecated and will be removed in a future version\n",
      "  if getattr(data, 'base', None) is not None and \\\n",
      "/uboone/app/users/kmiller/miniconda/lib/python3.7/site-packages/xgboost/core.py:588: FutureWarning: Series.base is deprecated and will be removed in a future version\n",
      "  data.base is not None and isinstance(data, np.ndarray) \\\n"
     ]
    },
    {
     "name": "stdout",
     "output_type": "stream",
     "text": [
      "Double check! Overlay POT = 2.33652e+21\n",
      "Double check! Intrinsic POT = 2.37838e+22\n"
     ]
    },
    {
     "name": "stderr",
     "output_type": "stream",
     "text": [
      "/uboone/app/users/kmiller/searchingfornues_v33/uBNuMI_CC1eNp/selection_functions.py:1947: SettingWithCopyWarning: \n",
      "A value is trying to be set on a copy of a slice from a DataFrame.\n",
      "Try using .loc[row_indexer,col_indexer] = value instead\n",
      "\n",
      "See the caveats in the documentation: http://pandas.pydata.org/pandas-docs/stable/user_guide/indexing.html#returning-a-view-versus-a-copy\n",
      "  df_signal['pot_scale'] = pot_scale\n",
      "/uboone/app/users/kmiller/searchingfornues_v33/uBNuMI_CC1eNp/selection_functions.py:1948: SettingWithCopyWarning: \n",
      "A value is trying to be set on a copy of a slice from a DataFrame.\n",
      "Try using .loc[row_indexer,col_indexer] = value instead\n",
      "\n",
      "See the caveats in the documentation: http://pandas.pydata.org/pandas-docs/stable/user_guide/indexing.html#returning-a-view-versus-a-copy\n",
      "  df_signal['totweight_overlay'] = df_signal['ppfx_cv']*df_signal['weightSplineTimesTune']*df_signal['pot_scale']\n"
     ]
    },
    {
     "name": "stdout",
     "output_type": "stream",
     "text": [
      "Double check! Overlay POT = 2.33652e+21\n",
      "Double check! Intrinsic POT = 2.37838e+22\n",
      "Double check! Overlay POT = 2.33652e+21\n",
      "Double check! Intrinsic POT = 2.37838e+22\n",
      "Double check! Overlay POT = 2.33652e+21\n",
      "Double check! Intrinsic POT = 2.37838e+22\n"
     ]
    },
    {
     "name": "stderr",
     "output_type": "stream",
     "text": [
      "/uboone/app/users/kmiller/miniconda/lib/python3.7/site-packages/xgboost/core.py:587: FutureWarning: Series.base is deprecated and will be removed in a future version\n",
      "  if getattr(data, 'base', None) is not None and \\\n",
      "/uboone/app/users/kmiller/miniconda/lib/python3.7/site-packages/xgboost/core.py:588: FutureWarning: Series.base is deprecated and will be removed in a future version\n",
      "  data.base is not None and isinstance(data, np.ndarray) \\\n"
     ]
    },
    {
     "name": "stdout",
     "output_type": "stream",
     "text": [
      "Double check! Overlay POT = 2.33652e+21\n",
      "Double check! Intrinsic POT = 2.37838e+22\n"
     ]
    },
    {
     "name": "stderr",
     "output_type": "stream",
     "text": [
      "/uboone/app/users/kmiller/searchingfornues_v33/uBNuMI_CC1eNp/selection_functions.py:1947: SettingWithCopyWarning: \n",
      "A value is trying to be set on a copy of a slice from a DataFrame.\n",
      "Try using .loc[row_indexer,col_indexer] = value instead\n",
      "\n",
      "See the caveats in the documentation: http://pandas.pydata.org/pandas-docs/stable/user_guide/indexing.html#returning-a-view-versus-a-copy\n",
      "  df_signal['pot_scale'] = pot_scale\n",
      "/uboone/app/users/kmiller/searchingfornues_v33/uBNuMI_CC1eNp/selection_functions.py:1948: SettingWithCopyWarning: \n",
      "A value is trying to be set on a copy of a slice from a DataFrame.\n",
      "Try using .loc[row_indexer,col_indexer] = value instead\n",
      "\n",
      "See the caveats in the documentation: http://pandas.pydata.org/pandas-docs/stable/user_guide/indexing.html#returning-a-view-versus-a-copy\n",
      "  df_signal['totweight_overlay'] = df_signal['ppfx_cv']*df_signal['weightSplineTimesTune']*df_signal['pot_scale']\n"
     ]
    },
    {
     "name": "stdout",
     "output_type": "stream",
     "text": [
      "Double check! Overlay POT = 2.33652e+21\n",
      "Double check! Intrinsic POT = 2.37838e+22\n",
      "Double check! Overlay POT = 2.33652e+21\n",
      "Double check! Intrinsic POT = 2.37838e+22\n",
      "Double check! Overlay POT = 2.33652e+21\n",
      "Double check! Intrinsic POT = 2.37838e+22\n"
     ]
    },
    {
     "name": "stderr",
     "output_type": "stream",
     "text": [
      "/uboone/app/users/kmiller/miniconda/lib/python3.7/site-packages/xgboost/core.py:587: FutureWarning: Series.base is deprecated and will be removed in a future version\n",
      "  if getattr(data, 'base', None) is not None and \\\n",
      "/uboone/app/users/kmiller/miniconda/lib/python3.7/site-packages/xgboost/core.py:588: FutureWarning: Series.base is deprecated and will be removed in a future version\n",
      "  data.base is not None and isinstance(data, np.ndarray) \\\n"
     ]
    },
    {
     "name": "stdout",
     "output_type": "stream",
     "text": [
      "Double check! Overlay POT = 2.33652e+21\n",
      "Double check! Intrinsic POT = 2.37838e+22\n"
     ]
    },
    {
     "name": "stderr",
     "output_type": "stream",
     "text": [
      "/uboone/app/users/kmiller/searchingfornues_v33/uBNuMI_CC1eNp/selection_functions.py:1947: SettingWithCopyWarning: \n",
      "A value is trying to be set on a copy of a slice from a DataFrame.\n",
      "Try using .loc[row_indexer,col_indexer] = value instead\n",
      "\n",
      "See the caveats in the documentation: http://pandas.pydata.org/pandas-docs/stable/user_guide/indexing.html#returning-a-view-versus-a-copy\n",
      "  df_signal['pot_scale'] = pot_scale\n",
      "/uboone/app/users/kmiller/searchingfornues_v33/uBNuMI_CC1eNp/selection_functions.py:1948: SettingWithCopyWarning: \n",
      "A value is trying to be set on a copy of a slice from a DataFrame.\n",
      "Try using .loc[row_indexer,col_indexer] = value instead\n",
      "\n",
      "See the caveats in the documentation: http://pandas.pydata.org/pandas-docs/stable/user_guide/indexing.html#returning-a-view-versus-a-copy\n",
      "  df_signal['totweight_overlay'] = df_signal['ppfx_cv']*df_signal['weightSplineTimesTune']*df_signal['pot_scale']\n"
     ]
    },
    {
     "name": "stdout",
     "output_type": "stream",
     "text": [
      "Double check! Overlay POT = 2.33652e+21\n",
      "Double check! Intrinsic POT = 2.37838e+22\n",
      "Double check! Overlay POT = 2.33652e+21\n",
      "Double check! Intrinsic POT = 2.37838e+22\n",
      "Double check! Overlay POT = 2.33652e+21\n",
      "Double check! Intrinsic POT = 2.37838e+22\n"
     ]
    },
    {
     "name": "stderr",
     "output_type": "stream",
     "text": [
      "/uboone/app/users/kmiller/miniconda/lib/python3.7/site-packages/xgboost/core.py:587: FutureWarning: Series.base is deprecated and will be removed in a future version\n",
      "  if getattr(data, 'base', None) is not None and \\\n",
      "/uboone/app/users/kmiller/miniconda/lib/python3.7/site-packages/xgboost/core.py:588: FutureWarning: Series.base is deprecated and will be removed in a future version\n",
      "  data.base is not None and isinstance(data, np.ndarray) \\\n"
     ]
    },
    {
     "name": "stdout",
     "output_type": "stream",
     "text": [
      "Double check! Overlay POT = 2.33652e+21\n",
      "Double check! Intrinsic POT = 2.37838e+22\n"
     ]
    },
    {
     "name": "stderr",
     "output_type": "stream",
     "text": [
      "/uboone/app/users/kmiller/searchingfornues_v33/uBNuMI_CC1eNp/selection_functions.py:1947: SettingWithCopyWarning: \n",
      "A value is trying to be set on a copy of a slice from a DataFrame.\n",
      "Try using .loc[row_indexer,col_indexer] = value instead\n",
      "\n",
      "See the caveats in the documentation: http://pandas.pydata.org/pandas-docs/stable/user_guide/indexing.html#returning-a-view-versus-a-copy\n",
      "  df_signal['pot_scale'] = pot_scale\n",
      "/uboone/app/users/kmiller/searchingfornues_v33/uBNuMI_CC1eNp/selection_functions.py:1948: SettingWithCopyWarning: \n",
      "A value is trying to be set on a copy of a slice from a DataFrame.\n",
      "Try using .loc[row_indexer,col_indexer] = value instead\n",
      "\n",
      "See the caveats in the documentation: http://pandas.pydata.org/pandas-docs/stable/user_guide/indexing.html#returning-a-view-versus-a-copy\n",
      "  df_signal['totweight_overlay'] = df_signal['ppfx_cv']*df_signal['weightSplineTimesTune']*df_signal['pot_scale']\n"
     ]
    },
    {
     "name": "stdout",
     "output_type": "stream",
     "text": [
      "Double check! Overlay POT = 2.33652e+21\n",
      "Double check! Intrinsic POT = 2.37838e+22\n",
      "Double check! Overlay POT = 2.33652e+21\n",
      "Double check! Intrinsic POT = 2.37838e+22\n",
      "Double check! Overlay POT = 2.33652e+21\n",
      "Double check! Intrinsic POT = 2.37838e+22\n"
     ]
    },
    {
     "name": "stderr",
     "output_type": "stream",
     "text": [
      "/uboone/app/users/kmiller/miniconda/lib/python3.7/site-packages/xgboost/core.py:587: FutureWarning: Series.base is deprecated and will be removed in a future version\n",
      "  if getattr(data, 'base', None) is not None and \\\n",
      "/uboone/app/users/kmiller/miniconda/lib/python3.7/site-packages/xgboost/core.py:588: FutureWarning: Series.base is deprecated and will be removed in a future version\n",
      "  data.base is not None and isinstance(data, np.ndarray) \\\n"
     ]
    },
    {
     "name": "stdout",
     "output_type": "stream",
     "text": [
      "Double check! Overlay POT = 2.33652e+21\n",
      "Double check! Intrinsic POT = 2.37838e+22\n"
     ]
    },
    {
     "name": "stderr",
     "output_type": "stream",
     "text": [
      "/uboone/app/users/kmiller/searchingfornues_v33/uBNuMI_CC1eNp/selection_functions.py:1947: SettingWithCopyWarning: \n",
      "A value is trying to be set on a copy of a slice from a DataFrame.\n",
      "Try using .loc[row_indexer,col_indexer] = value instead\n",
      "\n",
      "See the caveats in the documentation: http://pandas.pydata.org/pandas-docs/stable/user_guide/indexing.html#returning-a-view-versus-a-copy\n",
      "  df_signal['pot_scale'] = pot_scale\n",
      "/uboone/app/users/kmiller/searchingfornues_v33/uBNuMI_CC1eNp/selection_functions.py:1948: SettingWithCopyWarning: \n",
      "A value is trying to be set on a copy of a slice from a DataFrame.\n",
      "Try using .loc[row_indexer,col_indexer] = value instead\n",
      "\n",
      "See the caveats in the documentation: http://pandas.pydata.org/pandas-docs/stable/user_guide/indexing.html#returning-a-view-versus-a-copy\n",
      "  df_signal['totweight_overlay'] = df_signal['ppfx_cv']*df_signal['weightSplineTimesTune']*df_signal['pot_scale']\n"
     ]
    },
    {
     "name": "stdout",
     "output_type": "stream",
     "text": [
      "Double check! Overlay POT = 2.33652e+21\n",
      "Double check! Intrinsic POT = 2.37838e+22\n",
      "Double check! Overlay POT = 2.33652e+21\n",
      "Double check! Intrinsic POT = 2.37838e+22\n",
      "Double check! Overlay POT = 2.33652e+21\n",
      "Double check! Intrinsic POT = 2.37838e+22\n"
     ]
    },
    {
     "name": "stderr",
     "output_type": "stream",
     "text": [
      "/uboone/app/users/kmiller/miniconda/lib/python3.7/site-packages/xgboost/core.py:587: FutureWarning: Series.base is deprecated and will be removed in a future version\n",
      "  if getattr(data, 'base', None) is not None and \\\n",
      "/uboone/app/users/kmiller/miniconda/lib/python3.7/site-packages/xgboost/core.py:588: FutureWarning: Series.base is deprecated and will be removed in a future version\n",
      "  data.base is not None and isinstance(data, np.ndarray) \\\n"
     ]
    },
    {
     "name": "stdout",
     "output_type": "stream",
     "text": [
      "Double check! Overlay POT = 2.33652e+21\n",
      "Double check! Intrinsic POT = 2.37838e+22\n"
     ]
    },
    {
     "name": "stderr",
     "output_type": "stream",
     "text": [
      "/uboone/app/users/kmiller/searchingfornues_v33/uBNuMI_CC1eNp/selection_functions.py:1947: SettingWithCopyWarning: \n",
      "A value is trying to be set on a copy of a slice from a DataFrame.\n",
      "Try using .loc[row_indexer,col_indexer] = value instead\n",
      "\n",
      "See the caveats in the documentation: http://pandas.pydata.org/pandas-docs/stable/user_guide/indexing.html#returning-a-view-versus-a-copy\n",
      "  df_signal['pot_scale'] = pot_scale\n",
      "/uboone/app/users/kmiller/searchingfornues_v33/uBNuMI_CC1eNp/selection_functions.py:1948: SettingWithCopyWarning: \n",
      "A value is trying to be set on a copy of a slice from a DataFrame.\n",
      "Try using .loc[row_indexer,col_indexer] = value instead\n",
      "\n",
      "See the caveats in the documentation: http://pandas.pydata.org/pandas-docs/stable/user_guide/indexing.html#returning-a-view-versus-a-copy\n",
      "  df_signal['totweight_overlay'] = df_signal['ppfx_cv']*df_signal['weightSplineTimesTune']*df_signal['pot_scale']\n"
     ]
    },
    {
     "name": "stdout",
     "output_type": "stream",
     "text": [
      "Double check! Overlay POT = 2.33652e+21\n",
      "Double check! Intrinsic POT = 2.37838e+22\n",
      "Double check! Overlay POT = 2.33652e+21\n",
      "Double check! Intrinsic POT = 2.37838e+22\n",
      "Double check! Overlay POT = 2.33652e+21\n",
      "Double check! Intrinsic POT = 2.37838e+22\n"
     ]
    },
    {
     "name": "stderr",
     "output_type": "stream",
     "text": [
      "/uboone/app/users/kmiller/miniconda/lib/python3.7/site-packages/xgboost/core.py:587: FutureWarning: Series.base is deprecated and will be removed in a future version\n",
      "  if getattr(data, 'base', None) is not None and \\\n",
      "/uboone/app/users/kmiller/miniconda/lib/python3.7/site-packages/xgboost/core.py:588: FutureWarning: Series.base is deprecated and will be removed in a future version\n",
      "  data.base is not None and isinstance(data, np.ndarray) \\\n"
     ]
    },
    {
     "name": "stdout",
     "output_type": "stream",
     "text": [
      "Double check! Overlay POT = 2.33652e+21\n",
      "Double check! Intrinsic POT = 2.37838e+22\n"
     ]
    },
    {
     "name": "stderr",
     "output_type": "stream",
     "text": [
      "/uboone/app/users/kmiller/searchingfornues_v33/uBNuMI_CC1eNp/selection_functions.py:1947: SettingWithCopyWarning: \n",
      "A value is trying to be set on a copy of a slice from a DataFrame.\n",
      "Try using .loc[row_indexer,col_indexer] = value instead\n",
      "\n",
      "See the caveats in the documentation: http://pandas.pydata.org/pandas-docs/stable/user_guide/indexing.html#returning-a-view-versus-a-copy\n",
      "  df_signal['pot_scale'] = pot_scale\n",
      "/uboone/app/users/kmiller/searchingfornues_v33/uBNuMI_CC1eNp/selection_functions.py:1948: SettingWithCopyWarning: \n",
      "A value is trying to be set on a copy of a slice from a DataFrame.\n",
      "Try using .loc[row_indexer,col_indexer] = value instead\n",
      "\n",
      "See the caveats in the documentation: http://pandas.pydata.org/pandas-docs/stable/user_guide/indexing.html#returning-a-view-versus-a-copy\n",
      "  df_signal['totweight_overlay'] = df_signal['ppfx_cv']*df_signal['weightSplineTimesTune']*df_signal['pot_scale']\n"
     ]
    },
    {
     "name": "stdout",
     "output_type": "stream",
     "text": [
      "Double check! Overlay POT = 2.33652e+21\n",
      "Double check! Intrinsic POT = 2.37838e+22\n",
      "Double check! Overlay POT = 2.33652e+21\n",
      "Double check! Intrinsic POT = 2.37838e+22\n",
      "Double check! Overlay POT = 2.33652e+21\n",
      "Double check! Intrinsic POT = 2.37838e+22\n"
     ]
    },
    {
     "name": "stderr",
     "output_type": "stream",
     "text": [
      "/uboone/app/users/kmiller/miniconda/lib/python3.7/site-packages/xgboost/core.py:587: FutureWarning: Series.base is deprecated and will be removed in a future version\n",
      "  if getattr(data, 'base', None) is not None and \\\n",
      "/uboone/app/users/kmiller/miniconda/lib/python3.7/site-packages/xgboost/core.py:588: FutureWarning: Series.base is deprecated and will be removed in a future version\n",
      "  data.base is not None and isinstance(data, np.ndarray) \\\n"
     ]
    },
    {
     "name": "stdout",
     "output_type": "stream",
     "text": [
      "Double check! Overlay POT = 2.33652e+21\n",
      "Double check! Intrinsic POT = 2.37838e+22\n"
     ]
    },
    {
     "name": "stderr",
     "output_type": "stream",
     "text": [
      "/uboone/app/users/kmiller/searchingfornues_v33/uBNuMI_CC1eNp/selection_functions.py:1947: SettingWithCopyWarning: \n",
      "A value is trying to be set on a copy of a slice from a DataFrame.\n",
      "Try using .loc[row_indexer,col_indexer] = value instead\n",
      "\n",
      "See the caveats in the documentation: http://pandas.pydata.org/pandas-docs/stable/user_guide/indexing.html#returning-a-view-versus-a-copy\n",
      "  df_signal['pot_scale'] = pot_scale\n",
      "/uboone/app/users/kmiller/searchingfornues_v33/uBNuMI_CC1eNp/selection_functions.py:1948: SettingWithCopyWarning: \n",
      "A value is trying to be set on a copy of a slice from a DataFrame.\n",
      "Try using .loc[row_indexer,col_indexer] = value instead\n",
      "\n",
      "See the caveats in the documentation: http://pandas.pydata.org/pandas-docs/stable/user_guide/indexing.html#returning-a-view-versus-a-copy\n",
      "  df_signal['totweight_overlay'] = df_signal['ppfx_cv']*df_signal['weightSplineTimesTune']*df_signal['pot_scale']\n"
     ]
    },
    {
     "name": "stdout",
     "output_type": "stream",
     "text": [
      "Double check! Overlay POT = 2.33652e+21\n",
      "Double check! Intrinsic POT = 2.37838e+22\n",
      "Double check! Overlay POT = 2.33652e+21\n",
      "Double check! Intrinsic POT = 2.37838e+22\n",
      "Double check! Overlay POT = 2.33652e+21\n",
      "Double check! Intrinsic POT = 2.37838e+22\n"
     ]
    },
    {
     "name": "stderr",
     "output_type": "stream",
     "text": [
      "/uboone/app/users/kmiller/miniconda/lib/python3.7/site-packages/xgboost/core.py:587: FutureWarning: Series.base is deprecated and will be removed in a future version\n",
      "  if getattr(data, 'base', None) is not None and \\\n",
      "/uboone/app/users/kmiller/miniconda/lib/python3.7/site-packages/xgboost/core.py:588: FutureWarning: Series.base is deprecated and will be removed in a future version\n",
      "  data.base is not None and isinstance(data, np.ndarray) \\\n"
     ]
    },
    {
     "name": "stdout",
     "output_type": "stream",
     "text": [
      "Double check! Overlay POT = 2.33652e+21\n",
      "Double check! Intrinsic POT = 2.37838e+22\n"
     ]
    },
    {
     "name": "stderr",
     "output_type": "stream",
     "text": [
      "/uboone/app/users/kmiller/searchingfornues_v33/uBNuMI_CC1eNp/selection_functions.py:1947: SettingWithCopyWarning: \n",
      "A value is trying to be set on a copy of a slice from a DataFrame.\n",
      "Try using .loc[row_indexer,col_indexer] = value instead\n",
      "\n",
      "See the caveats in the documentation: http://pandas.pydata.org/pandas-docs/stable/user_guide/indexing.html#returning-a-view-versus-a-copy\n",
      "  df_signal['pot_scale'] = pot_scale\n",
      "/uboone/app/users/kmiller/searchingfornues_v33/uBNuMI_CC1eNp/selection_functions.py:1948: SettingWithCopyWarning: \n",
      "A value is trying to be set on a copy of a slice from a DataFrame.\n",
      "Try using .loc[row_indexer,col_indexer] = value instead\n",
      "\n",
      "See the caveats in the documentation: http://pandas.pydata.org/pandas-docs/stable/user_guide/indexing.html#returning-a-view-versus-a-copy\n",
      "  df_signal['totweight_overlay'] = df_signal['ppfx_cv']*df_signal['weightSplineTimesTune']*df_signal['pot_scale']\n"
     ]
    },
    {
     "name": "stdout",
     "output_type": "stream",
     "text": [
      "Double check! Overlay POT = 2.33652e+21\n",
      "Double check! Intrinsic POT = 2.37838e+22\n",
      "Double check! Overlay POT = 2.33652e+21\n",
      "Double check! Intrinsic POT = 2.37838e+22\n",
      "Double check! Overlay POT = 2.33652e+21\n",
      "Double check! Intrinsic POT = 2.37838e+22\n"
     ]
    },
    {
     "name": "stderr",
     "output_type": "stream",
     "text": [
      "/uboone/app/users/kmiller/miniconda/lib/python3.7/site-packages/xgboost/core.py:587: FutureWarning: Series.base is deprecated and will be removed in a future version\n",
      "  if getattr(data, 'base', None) is not None and \\\n",
      "/uboone/app/users/kmiller/miniconda/lib/python3.7/site-packages/xgboost/core.py:588: FutureWarning: Series.base is deprecated and will be removed in a future version\n",
      "  data.base is not None and isinstance(data, np.ndarray) \\\n"
     ]
    },
    {
     "name": "stdout",
     "output_type": "stream",
     "text": [
      "Double check! Overlay POT = 2.33652e+21\n",
      "Double check! Intrinsic POT = 2.37838e+22\n"
     ]
    },
    {
     "name": "stderr",
     "output_type": "stream",
     "text": [
      "/uboone/app/users/kmiller/searchingfornues_v33/uBNuMI_CC1eNp/selection_functions.py:1947: SettingWithCopyWarning: \n",
      "A value is trying to be set on a copy of a slice from a DataFrame.\n",
      "Try using .loc[row_indexer,col_indexer] = value instead\n",
      "\n",
      "See the caveats in the documentation: http://pandas.pydata.org/pandas-docs/stable/user_guide/indexing.html#returning-a-view-versus-a-copy\n",
      "  df_signal['pot_scale'] = pot_scale\n",
      "/uboone/app/users/kmiller/searchingfornues_v33/uBNuMI_CC1eNp/selection_functions.py:1948: SettingWithCopyWarning: \n",
      "A value is trying to be set on a copy of a slice from a DataFrame.\n",
      "Try using .loc[row_indexer,col_indexer] = value instead\n",
      "\n",
      "See the caveats in the documentation: http://pandas.pydata.org/pandas-docs/stable/user_guide/indexing.html#returning-a-view-versus-a-copy\n",
      "  df_signal['totweight_overlay'] = df_signal['ppfx_cv']*df_signal['weightSplineTimesTune']*df_signal['pot_scale']\n"
     ]
    },
    {
     "name": "stdout",
     "output_type": "stream",
     "text": [
      "Double check! Overlay POT = 2.33652e+21\n",
      "Double check! Intrinsic POT = 2.37838e+22\n",
      "Double check! Overlay POT = 2.33652e+21\n",
      "Double check! Intrinsic POT = 2.37838e+22\n",
      "Double check! Overlay POT = 2.33652e+21\n",
      "Double check! Intrinsic POT = 2.37838e+22\n"
     ]
    },
    {
     "name": "stderr",
     "output_type": "stream",
     "text": [
      "/uboone/app/users/kmiller/miniconda/lib/python3.7/site-packages/xgboost/core.py:587: FutureWarning: Series.base is deprecated and will be removed in a future version\n",
      "  if getattr(data, 'base', None) is not None and \\\n",
      "/uboone/app/users/kmiller/miniconda/lib/python3.7/site-packages/xgboost/core.py:588: FutureWarning: Series.base is deprecated and will be removed in a future version\n",
      "  data.base is not None and isinstance(data, np.ndarray) \\\n"
     ]
    },
    {
     "name": "stdout",
     "output_type": "stream",
     "text": [
      "Double check! Overlay POT = 2.33652e+21\n",
      "Double check! Intrinsic POT = 2.37838e+22\n"
     ]
    },
    {
     "name": "stderr",
     "output_type": "stream",
     "text": [
      "/uboone/app/users/kmiller/searchingfornues_v33/uBNuMI_CC1eNp/selection_functions.py:1947: SettingWithCopyWarning: \n",
      "A value is trying to be set on a copy of a slice from a DataFrame.\n",
      "Try using .loc[row_indexer,col_indexer] = value instead\n",
      "\n",
      "See the caveats in the documentation: http://pandas.pydata.org/pandas-docs/stable/user_guide/indexing.html#returning-a-view-versus-a-copy\n",
      "  df_signal['pot_scale'] = pot_scale\n",
      "/uboone/app/users/kmiller/searchingfornues_v33/uBNuMI_CC1eNp/selection_functions.py:1948: SettingWithCopyWarning: \n",
      "A value is trying to be set on a copy of a slice from a DataFrame.\n",
      "Try using .loc[row_indexer,col_indexer] = value instead\n",
      "\n",
      "See the caveats in the documentation: http://pandas.pydata.org/pandas-docs/stable/user_guide/indexing.html#returning-a-view-versus-a-copy\n",
      "  df_signal['totweight_overlay'] = df_signal['ppfx_cv']*df_signal['weightSplineTimesTune']*df_signal['pot_scale']\n"
     ]
    },
    {
     "name": "stdout",
     "output_type": "stream",
     "text": [
      "Double check! Overlay POT = 2.33652e+21\n",
      "Double check! Intrinsic POT = 2.37838e+22\n",
      "Double check! Overlay POT = 2.33652e+21\n",
      "Double check! Intrinsic POT = 2.37838e+22\n",
      "Double check! Overlay POT = 2.33652e+21\n",
      "Double check! Intrinsic POT = 2.37838e+22\n"
     ]
    },
    {
     "name": "stderr",
     "output_type": "stream",
     "text": [
      "/uboone/app/users/kmiller/miniconda/lib/python3.7/site-packages/xgboost/core.py:587: FutureWarning: Series.base is deprecated and will be removed in a future version\n",
      "  if getattr(data, 'base', None) is not None and \\\n",
      "/uboone/app/users/kmiller/miniconda/lib/python3.7/site-packages/xgboost/core.py:588: FutureWarning: Series.base is deprecated and will be removed in a future version\n",
      "  data.base is not None and isinstance(data, np.ndarray) \\\n"
     ]
    },
    {
     "name": "stdout",
     "output_type": "stream",
     "text": [
      "Double check! Overlay POT = 2.33652e+21\n",
      "Double check! Intrinsic POT = 2.37838e+22\n"
     ]
    },
    {
     "name": "stderr",
     "output_type": "stream",
     "text": [
      "/uboone/app/users/kmiller/searchingfornues_v33/uBNuMI_CC1eNp/selection_functions.py:1947: SettingWithCopyWarning: \n",
      "A value is trying to be set on a copy of a slice from a DataFrame.\n",
      "Try using .loc[row_indexer,col_indexer] = value instead\n",
      "\n",
      "See the caveats in the documentation: http://pandas.pydata.org/pandas-docs/stable/user_guide/indexing.html#returning-a-view-versus-a-copy\n",
      "  df_signal['pot_scale'] = pot_scale\n",
      "/uboone/app/users/kmiller/searchingfornues_v33/uBNuMI_CC1eNp/selection_functions.py:1948: SettingWithCopyWarning: \n",
      "A value is trying to be set on a copy of a slice from a DataFrame.\n",
      "Try using .loc[row_indexer,col_indexer] = value instead\n",
      "\n",
      "See the caveats in the documentation: http://pandas.pydata.org/pandas-docs/stable/user_guide/indexing.html#returning-a-view-versus-a-copy\n",
      "  df_signal['totweight_overlay'] = df_signal['ppfx_cv']*df_signal['weightSplineTimesTune']*df_signal['pot_scale']\n"
     ]
    },
    {
     "name": "stdout",
     "output_type": "stream",
     "text": [
      "Double check! Overlay POT = 2.33652e+21\n",
      "Double check! Intrinsic POT = 2.37838e+22\n",
      "Double check! Overlay POT = 2.33652e+21\n",
      "Double check! Intrinsic POT = 2.37838e+22\n",
      "Double check! Overlay POT = 2.33652e+21\n",
      "Double check! Intrinsic POT = 2.37838e+22\n"
     ]
    },
    {
     "name": "stderr",
     "output_type": "stream",
     "text": [
      "/uboone/app/users/kmiller/miniconda/lib/python3.7/site-packages/xgboost/core.py:587: FutureWarning: Series.base is deprecated and will be removed in a future version\n",
      "  if getattr(data, 'base', None) is not None and \\\n",
      "/uboone/app/users/kmiller/miniconda/lib/python3.7/site-packages/xgboost/core.py:588: FutureWarning: Series.base is deprecated and will be removed in a future version\n",
      "  data.base is not None and isinstance(data, np.ndarray) \\\n"
     ]
    },
    {
     "name": "stdout",
     "output_type": "stream",
     "text": [
      "Double check! Overlay POT = 2.33652e+21\n",
      "Double check! Intrinsic POT = 2.37838e+22\n"
     ]
    },
    {
     "name": "stderr",
     "output_type": "stream",
     "text": [
      "/uboone/app/users/kmiller/searchingfornues_v33/uBNuMI_CC1eNp/selection_functions.py:1947: SettingWithCopyWarning: \n",
      "A value is trying to be set on a copy of a slice from a DataFrame.\n",
      "Try using .loc[row_indexer,col_indexer] = value instead\n",
      "\n",
      "See the caveats in the documentation: http://pandas.pydata.org/pandas-docs/stable/user_guide/indexing.html#returning-a-view-versus-a-copy\n",
      "  df_signal['pot_scale'] = pot_scale\n",
      "/uboone/app/users/kmiller/searchingfornues_v33/uBNuMI_CC1eNp/selection_functions.py:1948: SettingWithCopyWarning: \n",
      "A value is trying to be set on a copy of a slice from a DataFrame.\n",
      "Try using .loc[row_indexer,col_indexer] = value instead\n",
      "\n",
      "See the caveats in the documentation: http://pandas.pydata.org/pandas-docs/stable/user_guide/indexing.html#returning-a-view-versus-a-copy\n",
      "  df_signal['totweight_overlay'] = df_signal['ppfx_cv']*df_signal['weightSplineTimesTune']*df_signal['pot_scale']\n"
     ]
    },
    {
     "name": "stdout",
     "output_type": "stream",
     "text": [
      "Double check! Overlay POT = 2.33652e+21\n",
      "Double check! Intrinsic POT = 2.37838e+22\n",
      "Double check! Overlay POT = 2.33652e+21\n",
      "Double check! Intrinsic POT = 2.37838e+22\n",
      "Double check! Overlay POT = 2.33652e+21\n",
      "Double check! Intrinsic POT = 2.37838e+22\n"
     ]
    }
   ],
   "source": [
    "final_purity = []\n",
    "final_efficiency=[]\n",
    "fp_err = []\n",
    "fe_err = []\n",
    "fp_2=[]\n",
    "fe_2=[]\n",
    "fp_err2 = []\n",
    "fe_err2 = []\n",
    "\n",
    "box_pur = []\n",
    "box_eff = []\n",
    "boxp_err = []\n",
    "boxe_err = []\n",
    "\n",
    "for train_index, test_index in cv.split(df_cv, df_cv['is_signal']):\n",
    "    train, test = df_cv.iloc[train_index], df_cv.iloc[test_index]    \n",
    "    \n",
    "    if ISRUN3:\n",
    "        if ISNUEBAR:\n",
    "            p_rounds = 200\n",
    "            lc_rounds = 300\n",
    "        else:\n",
    "            p_rounds = 300\n",
    "            lc_rounds = 200\n",
    "    else:\n",
    "        p_rounds = 300\n",
    "        lc_rounds = 200\n",
    "        \n",
    "    #bdt_cv_p = bdt_raw_results(train, test, PRE_QUERY, varlist, params, p_rounds, ISNUEBAR)\n",
    "    bdt_cv_lc = bdt_raw_results(train, test, BDT_LOOSE_CUTS, varlist, params, lc_rounds, ISNUEBAR)\n",
    "    \n",
    "    # saves purity, efficiency and respective errors on current test sample for loose cuts BDT\n",
    "    pur, pur_err, eff, eff_err = bdt_pe(bdt_cv_lc[0], bdt_score_arr, \n",
    "                                        generated_signal(ISRUN3, 'nu_e', 1, 0, 10)*overlay_scale_to_data, \n",
    "                                        test, split=split)\n",
    "    \n",
    "    final_purity.append(pur)\n",
    "    final_efficiency.append(eff)\n",
    "    fp_err2.append(pur_err)\n",
    "    fe_err2.append(eff_err)\n",
    "\n",
    "    # saves purity, efficiency and respective errors on current test sample for preselection BDT\n",
    "    #pur2, pur_err2, eff2, eff_err2 = bdt_pe(bdt_cv_p[0], bdt_score_arr, test, ISRUN3, split=split)\n",
    "    #fp_2.append(pur2)\n",
    "    #fe_2.append(eff2)\n",
    "    #fp_err2.append(pur_err2)\n",
    "    #fe_err2.append(eff_err2)\n",
    "\n",
    "    # saves purity and efficiency and respective errors for linear box cut selection performance on current test sample\n",
    "    sig_sel = sum(test.query(BOX_CUTS+' and is_signal==1')[mc_weight])\n",
    "    tot_sel = sum(test.query(BOX_CUTS)['weight'])\n",
    "    tot_sig = sum(generated_signal(ISRUN3, 'nu_e', 1, 0, 10))*split\n",
    "    #tot_sig = sum(test.query('is_signal==1 or is_cont_signal==1')[mc_weight])\n",
    "    \n",
    "    p = sig_sel / tot_sel\n",
    "    e = sig_sel / tot_sig\n",
    "    \n",
    "    box_pur.append(p * 100)\n",
    "    box_eff.append(e * 100)\n",
    "    \n",
    "    boxp_err.append(math.sqrt(sig_sel) / tot_sel * 100)\n",
    "    boxe_err.append(math.sqrt((e * (1-e)) / tot_sig) * 100)"
   ]
  },
  {
   "cell_type": "code",
   "execution_count": 61,
   "metadata": {},
   "outputs": [
    {
     "name": "stderr",
     "output_type": "stream",
     "text": [
      "/uboone/app/users/kmiller/miniconda/lib/python3.7/site-packages/numpy/core/fromnumeric.py:3257: RuntimeWarning: Mean of empty slice.\n",
      "  out=out, **kwargs)\n",
      "/uboone/app/users/kmiller/miniconda/lib/python3.7/site-packages/numpy/core/_methods.py:161: RuntimeWarning: invalid value encountered in double_scalars\n",
      "  ret = ret.dtype.type(ret / rcount)\n"
     ]
    }
   ],
   "source": [
    "# averages results column-wise which is equivalent to averaging results over the same BDT_score cut\n",
    "results_bdt = [np.mean(final_purity, axis=0), np.full(len(bdt_score_arr), 0), \n",
    "               np.mean(final_efficiency, axis=0), np.full(len(bdt_score_arr), 0)]\n",
    "second_results_bdt = [np.mean(fp_2, axis=0), np.full(len(bdt_score_arr), 0), \n",
    "                      np.mean(fe_2, axis=0), np.full(len(bdt_score_arr), 0)]\n",
    "\n",
    "\n",
    "\n",
    "# linear box cut selection is a normal average over each distinct test sample\n",
    "results_box = [np.mean(box_pur), np.mean(box_eff)]\n",
    "results_box_err = [np.mean(boxp_err), np.mean(boxe_err)]"
   ]
  },
  {
   "cell_type": "code",
   "execution_count": 62,
   "metadata": {},
   "outputs": [
    {
     "name": "stdout",
     "output_type": "stream",
     "text": [
      "BDT score > 0.4\n",
      "efficiency = 20.1\n",
      "purity = 65.0\n",
      "BDT score > 0.425\n",
      "efficiency = 19.5\n",
      "purity = 67.0\n",
      "BDT score > 0.45\n",
      "efficiency = 18.8\n",
      "purity = 69.3\n",
      "BDT score > 0.475\n",
      "efficiency = 18.0\n",
      "purity = 71.4\n",
      "BDT score > 0.5\n",
      "efficiency = 17.0\n",
      "purity = 73.5\n",
      "BDT score > 0.525\n",
      "efficiency = 15.9\n",
      "purity = 75.3\n",
      "BDT score > 0.55\n",
      "efficiency = 14.7\n",
      "purity = 77.3\n",
      "BDT score > 0.575\n",
      "efficiency = 13.4\n",
      "purity = 79.1\n",
      "BDT score > 0.6\n",
      "efficiency = 12.0\n",
      "purity = 80.8\n",
      "BDT score > 0.625\n",
      "efficiency = 10.4\n",
      "purity = 82.5\n",
      "BDT score > 0.65\n",
      "efficiency = 8.9\n",
      "purity = 84.0\n",
      "BDT score > 0.675\n",
      "efficiency = 7.2\n",
      "purity = 85.5\n",
      "BDT score > 0.7\n",
      "efficiency = 5.6\n",
      "purity = 86.9\n",
      "BDT score > 0.725\n",
      "efficiency = 4.1\n",
      "purity = 88.6\n",
      "BDT score > 0.75\n",
      "efficiency = 2.7\n",
      "purity = 90.6\n",
      "BDT score > 0.775\n",
      "efficiency = 1.7\n",
      "purity = 91.9\n"
     ]
    }
   ],
   "source": [
    "for i in range(len(bdt_score_arr)): \n",
    "    if bdt_score_arr[i]>=0.4: \n",
    "        print(\"BDT score > \"+str(round(bdt_score_arr[i], 3)))\n",
    "        print(\"efficiency = \"+str(round(results_bdt[2][i], 1)))\n",
    "        print(\"purity = \"+str(round(results_bdt[0][i], 1)))"
   ]
  },
  {
   "cell_type": "code",
   "execution_count": 63,
   "metadata": {},
   "outputs": [
    {
     "data": {
      "image/png": "[encoded data removed]",
      "text/plain": [
       "<Figure size 504x360 with 1 Axes>"
      ]
     },
     "metadata": {
      "needs_background": "light"
     },
     "output_type": "display_data"
    }
   ],
   "source": [
    "bdt_box_plot(results_bdt, bdt_score_arr, ISRUN3, results_box=results_box, results_box_err=results_box_err, \n",
    "            save=False, save_label=\"FHC_crossval\") \n",
    "             #second_results_bdt=second_results_bdt)"
   ]
  },
  {
   "cell_type": "code",
   "execution_count": null,
   "metadata": {},
   "outputs": [],
   "source": []
  }
 ],
 "metadata": {
  "kernelspec": {
   "display_name": "Python 3",
   "language": "python",
   "name": "python3"
  },
  "language_info": {
   "codemirror_mode": {
    "name": "ipython",
    "version": 3
   },
   "file_extension": ".py",
   "mimetype": "text/x-python",
   "name": "python",
   "nbconvert_exporter": "python",
   "pygments_lexer": "ipython3",
   "version": "3.7.3"
  }
 },
 "nbformat": 4,
 "nbformat_minor": 4
}
